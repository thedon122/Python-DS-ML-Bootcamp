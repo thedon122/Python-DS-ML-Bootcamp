{
 "cells": [
  {
   "cell_type": "markdown",
   "metadata": {},
   "source": [
    "___\n",
    "\n",
    "<a href='http://www.pieriandata.com'> <img src='../Pierian_Data_Logo.png' /></a>\n",
    "___\n",
    "# Plotly and Cufflinks"
   ]
  },
  {
   "cell_type": "markdown",
   "metadata": {},
   "source": [
    "Plotly is a library that allows you to create interactive plots that you can use in dashboards or websites (you can save them as html files or static images).\n",
    "\n",
    "## Installation\n",
    "\n",
    "In order for this all to work, you'll need to install plotly and cufflinks to call plots directly off of a pandas dataframe. These libraries are not currently available through **conda** but are available through **pip**. Install the libraries at your command line/terminal using:\n",
    "\n",
    "    pip install plotly\n",
    "    pip install cufflinks\n",
    "\n",
    "** NOTE: Make sure you only have one installation of Python on your computer when you do this, otherwise the installation may not work. **\n",
    "\n",
    "## Imports and Set-up"
   ]
  },
  {
   "cell_type": "code",
   "execution_count": 1,
   "metadata": {},
   "outputs": [],
   "source": [
    "import pandas as pd\n",
    "import numpy as np\n",
    "%matplotlib inline"
   ]
  },
  {
   "cell_type": "code",
   "execution_count": 2,
   "metadata": {},
   "outputs": [
    {
     "name": "stdout",
     "output_type": "stream",
     "text": [
      "4.12.0\n"
     ]
    }
   ],
   "source": [
    "from plotly import __version__\n",
    "from plotly.offline import download_plotlyjs, init_notebook_mode, plot, iplot\n",
    "\n",
    "print(__version__) # requires version >= 1.9.0"
   ]
  },
  {
   "cell_type": "code",
   "execution_count": 3,
   "metadata": {},
   "outputs": [],
   "source": [
    "import cufflinks as cf"
   ]
  },
  {
   "cell_type": "code",
   "execution_count": 4,
   "metadata": {},
   "outputs": [
    {
     "data": {
      "text/html": [
       "        <script type=\"text/javascript\">\n",
       "        window.PlotlyConfig = {MathJaxConfig: 'local'};\n",
       "        if (window.MathJax) {MathJax.Hub.Config({SVG: {font: \"STIX-Web\"}});}\n",
       "        if (typeof require !== 'undefined') {\n",
       "        require.undef(\"plotly\");\n",
       "        requirejs.config({\n",
       "            paths: {\n",
       "                'plotly': ['https://cdn.plot.ly/plotly-latest.min']\n",
       "            }\n",
       "        });\n",
       "        require(['plotly'], function(Plotly) {\n",
       "            window._Plotly = Plotly;\n",
       "        });\n",
       "        }\n",
       "        </script>\n",
       "        "
      ]
     },
     "metadata": {},
     "output_type": "display_data"
    }
   ],
   "source": [
    "# For Notebooks\n",
    "init_notebook_mode(connected=True)"
   ]
  },
  {
   "cell_type": "code",
   "execution_count": 5,
   "metadata": {},
   "outputs": [
    {
     "data": {
      "text/html": [
       "        <script type=\"text/javascript\">\n",
       "        window.PlotlyConfig = {MathJaxConfig: 'local'};\n",
       "        if (window.MathJax) {MathJax.Hub.Config({SVG: {font: \"STIX-Web\"}});}\n",
       "        if (typeof require !== 'undefined') {\n",
       "        require.undef(\"plotly\");\n",
       "        requirejs.config({\n",
       "            paths: {\n",
       "                'plotly': ['https://cdn.plot.ly/plotly-latest.min']\n",
       "            }\n",
       "        });\n",
       "        require(['plotly'], function(Plotly) {\n",
       "            window._Plotly = Plotly;\n",
       "        });\n",
       "        }\n",
       "        </script>\n",
       "        "
      ]
     },
     "metadata": {},
     "output_type": "display_data"
    }
   ],
   "source": [
    "# For offline use\n",
    "cf.go_offline()"
   ]
  },
  {
   "cell_type": "markdown",
   "metadata": {},
   "source": [
    "### Fake Data"
   ]
  },
  {
   "cell_type": "code",
   "execution_count": 6,
   "metadata": {},
   "outputs": [],
   "source": [
    "df = pd.DataFrame(np.random.randn(100,4),columns='A B C D'.split())"
   ]
  },
  {
   "cell_type": "code",
   "execution_count": 7,
   "metadata": {},
   "outputs": [
    {
     "data": {
      "text/html": [
       "<div>\n",
       "<style scoped>\n",
       "    .dataframe tbody tr th:only-of-type {\n",
       "        vertical-align: middle;\n",
       "    }\n",
       "\n",
       "    .dataframe tbody tr th {\n",
       "        vertical-align: top;\n",
       "    }\n",
       "\n",
       "    .dataframe thead th {\n",
       "        text-align: right;\n",
       "    }\n",
       "</style>\n",
       "<table border=\"1\" class=\"dataframe\">\n",
       "  <thead>\n",
       "    <tr style=\"text-align: right;\">\n",
       "      <th></th>\n",
       "      <th>A</th>\n",
       "      <th>B</th>\n",
       "      <th>C</th>\n",
       "      <th>D</th>\n",
       "    </tr>\n",
       "  </thead>\n",
       "  <tbody>\n",
       "    <tr>\n",
       "      <th>0</th>\n",
       "      <td>0.245887</td>\n",
       "      <td>0.178909</td>\n",
       "      <td>-1.663766</td>\n",
       "      <td>0.366583</td>\n",
       "    </tr>\n",
       "    <tr>\n",
       "      <th>1</th>\n",
       "      <td>-1.544333</td>\n",
       "      <td>-0.033124</td>\n",
       "      <td>-0.657695</td>\n",
       "      <td>0.198451</td>\n",
       "    </tr>\n",
       "    <tr>\n",
       "      <th>2</th>\n",
       "      <td>-0.789294</td>\n",
       "      <td>-1.782206</td>\n",
       "      <td>1.305972</td>\n",
       "      <td>-0.565171</td>\n",
       "    </tr>\n",
       "    <tr>\n",
       "      <th>3</th>\n",
       "      <td>-0.752141</td>\n",
       "      <td>-0.537349</td>\n",
       "      <td>-0.314991</td>\n",
       "      <td>2.193578</td>\n",
       "    </tr>\n",
       "    <tr>\n",
       "      <th>4</th>\n",
       "      <td>-0.479678</td>\n",
       "      <td>-1.457119</td>\n",
       "      <td>-0.197401</td>\n",
       "      <td>1.514995</td>\n",
       "    </tr>\n",
       "  </tbody>\n",
       "</table>\n",
       "</div>"
      ],
      "text/plain": [
       "          A         B         C         D\n",
       "0  0.245887  0.178909 -1.663766  0.366583\n",
       "1 -1.544333 -0.033124 -0.657695  0.198451\n",
       "2 -0.789294 -1.782206  1.305972 -0.565171\n",
       "3 -0.752141 -0.537349 -0.314991  2.193578\n",
       "4 -0.479678 -1.457119 -0.197401  1.514995"
      ]
     },
     "execution_count": 7,
     "metadata": {},
     "output_type": "execute_result"
    }
   ],
   "source": [
    "df.head()"
   ]
  },
  {
   "cell_type": "code",
   "execution_count": 8,
   "metadata": {},
   "outputs": [],
   "source": [
    "df2 = pd.DataFrame({'Category':['A','B','C'],'Values':[32,43,50]})"
   ]
  },
  {
   "cell_type": "code",
   "execution_count": 9,
   "metadata": {},
   "outputs": [
    {
     "data": {
      "text/html": [
       "<div>\n",
       "<style scoped>\n",
       "    .dataframe tbody tr th:only-of-type {\n",
       "        vertical-align: middle;\n",
       "    }\n",
       "\n",
       "    .dataframe tbody tr th {\n",
       "        vertical-align: top;\n",
       "    }\n",
       "\n",
       "    .dataframe thead th {\n",
       "        text-align: right;\n",
       "    }\n",
       "</style>\n",
       "<table border=\"1\" class=\"dataframe\">\n",
       "  <thead>\n",
       "    <tr style=\"text-align: right;\">\n",
       "      <th></th>\n",
       "      <th>Category</th>\n",
       "      <th>Values</th>\n",
       "    </tr>\n",
       "  </thead>\n",
       "  <tbody>\n",
       "    <tr>\n",
       "      <th>0</th>\n",
       "      <td>A</td>\n",
       "      <td>32</td>\n",
       "    </tr>\n",
       "    <tr>\n",
       "      <th>1</th>\n",
       "      <td>B</td>\n",
       "      <td>43</td>\n",
       "    </tr>\n",
       "    <tr>\n",
       "      <th>2</th>\n",
       "      <td>C</td>\n",
       "      <td>50</td>\n",
       "    </tr>\n",
       "  </tbody>\n",
       "</table>\n",
       "</div>"
      ],
      "text/plain": [
       "  Category  Values\n",
       "0        A      32\n",
       "1        B      43\n",
       "2        C      50"
      ]
     },
     "execution_count": 9,
     "metadata": {},
     "output_type": "execute_result"
    }
   ],
   "source": [
    "df2.head()"
   ]
  },
  {
   "cell_type": "markdown",
   "metadata": {},
   "source": [
    "## Using Cufflinks and iplot()\n",
    "\n",
    "* scatter\n",
    "* bar\n",
    "* box\n",
    "* spread\n",
    "* ratio\n",
    "* heatmap\n",
    "* surface\n",
    "* histogram\n",
    "* bubble"
   ]
  },
  {
   "cell_type": "markdown",
   "metadata": {},
   "source": [
    "## Scatter"
   ]
  },
  {
   "cell_type": "code",
   "execution_count": 10,
   "metadata": {},
   "outputs": [
    {
     "data": {
      "application/vnd.plotly.v1+json": {
       "config": {
        "linkText": "Export to plot.ly",
        "plotlyServerURL": "https://plot.ly",
        "showLink": true
       },
       "data": [
        {
         "line": {
          "color": "rgba(255, 153, 51, 1.0)",
          "dash": "solid",
          "shape": "linear",
          "width": 1.3
         },
         "marker": {
          "size": 10,
          "symbol": "circle"
         },
         "mode": "markers",
         "name": "B",
         "text": "",
         "type": "scatter",
         "x": [
          0.24588717410753003,
          -1.5443326651682237,
          -0.7892940576313485,
          -0.7521408949768861,
          -0.4796778753536114,
          -0.038090741190589895,
          -1.2936477357446499,
          -2.723420833634864,
          1.9086517655499613,
          0.4087252992968224,
          -2.5161479197724548,
          0.5467932638969071,
          0.7522566966657753,
          -0.5375211691145616,
          -0.5575175182237166,
          0.6909421933307822,
          1.4178037665917353,
          -1.3189638698222304,
          0.38135037719477854,
          -0.8975045777020152,
          1.5990034926885215,
          0.7513798196549333,
          -2.7246607309103466,
          0.009181632602803554,
          -0.7199645224339926,
          1.0159431349247343,
          0.35555691751734403,
          0.5133793537990036,
          -0.7898146830454974,
          0.145975409251844,
          0.7290500746987666,
          -0.03207417260027835,
          0.5758332689076748,
          -0.7309258513953879,
          -1.3488321998603487,
          0.9348030875542376,
          -0.5530946341539287,
          0.708339786978607,
          1.3589273059294322,
          0.6042100092089738,
          -0.018519711780514307,
          -0.8497345423017969,
          0.25930721389934425,
          0.6570749338815411,
          0.12722479020271082,
          0.5981116642723051,
          1.1087139573109894,
          0.4335456958746609,
          -0.4986020130951775,
          0.16019426329620462,
          1.0956079098556886,
          2.1781844015324,
          0.38743513688648556,
          0.23232445913149288,
          -0.02225732068587582,
          1.240721487888421,
          0.8348794737172368,
          0.49131381569131605,
          -2.465460913038345,
          -1.4128691396273751,
          0.45471027773277545,
          0.2366496229800066,
          -0.8443631136799993,
          -1.5050581382231454,
          -0.3489519058130828,
          -0.09252638339915405,
          0.4622723828835006,
          -1.0832375330785835,
          -0.172975234005294,
          1.0525870174915173,
          -0.0605350567014285,
          0.7431366307343629,
          -0.32259824462116854,
          0.46655615372559767,
          -0.8766531102031185,
          -0.25067319773196817,
          1.9220011649797581,
          -0.8995754398187623,
          -0.09723736864284754,
          0.13632410802735093,
          -0.2645397703087663,
          0.5956787521414239,
          -0.16086207093244567,
          0.3919638756805205,
          1.6431864559841054,
          0.500292502469693,
          -2.2982921012198525,
          0.7040176660035111,
          0.5779821463206176,
          0.37819996172214365,
          0.2468873010137249,
          0.7112664646179129,
          -1.8315612256428866,
          -0.8926722024059833,
          -2.2000637729889774,
          -0.1347498116867438,
          0.418059595878196,
          -0.21752058196722435,
          0.25604934393242434,
          1.0349299221152255
         ],
         "y": [
          0.17890934769892103,
          -0.033123808583366866,
          -1.7822064108916256,
          -0.5373491252336633,
          -1.4571186682282393,
          -1.4078878238560042,
          -1.2674356310721624,
          2.019550830934474,
          -0.4888330588658283,
          0.13141884905230608,
          -0.9312556526036885,
          -0.007754038998178534,
          2.435535100927038,
          0.7079881733133355,
          0.31467573359242035,
          1.1926023566358455,
          -0.06993966578389549,
          1.3105124782278086,
          -1.791805838390315,
          0.786940457459193,
          1.392374807377714,
          0.18685037333581317,
          0.5159651139015339,
          -1.3788427841040845,
          0.4481570242827706,
          -0.23192149556047384,
          -1.793900944752704,
          -0.6503177928618666,
          -1.2523592184401433,
          0.9397745472901148,
          -1.2140853902232587,
          1.3536707221874327,
          -2.2065900699338212,
          -0.2597360149080525,
          -1.4231111759501243,
          1.3997148101941983,
          -0.8711159875276375,
          0.1535439165088105,
          0.6223667974799626,
          -0.5428449527751454,
          -0.40790956932452943,
          -0.74095035588002,
          1.180243228006508,
          -1.2246704095828187,
          0.5104837648637698,
          0.45166433234461617,
          0.021824417646521932,
          -0.1199772823884989,
          -0.6313062350478947,
          0.8962458311228109,
          0.8459257422214808,
          0.40390475120466934,
          -0.7075908392741708,
          1.6564340845542072,
          0.5361952772128227,
          -0.07758458280582371,
          1.2853799260053234,
          -0.7655843186082435,
          -0.47497301247656126,
          -1.1259800726037426,
          0.19101899430261973,
          -1.827357574298033,
          -2.2013084050446086,
          0.9194612052082188,
          0.13767551508349066,
          -1.474381924958377,
          -0.8835121299482696,
          0.15730940685310918,
          0.22846581412701608,
          0.7715085536815187,
          -1.1394219297866262,
          0.15117704785432218,
          -0.5729191210052296,
          0.8201939049808525,
          0.1915501286014221,
          -0.6403217290879047,
          0.6696931832935046,
          0.5515620084580015,
          -0.44800211781238813,
          0.5496148064169799,
          -0.33023177959341304,
          -0.3405279676130839,
          1.9117164440223209,
          0.27499941131265915,
          0.48223764210266046,
          0.6010465347356609,
          0.3359623795070407,
          0.8393356310861901,
          -1.1715806085723153,
          0.3231670247779722,
          0.23374619998387358,
          1.206861746979094,
          -0.6443967282087286,
          1.9062966496430345,
          2.189933048739878,
          -0.01675318476017029,
          -0.014711562140090341,
          0.7294260989680877,
          -1.4051167130267577,
          1.7692353305949258
         ]
        }
       ],
       "layout": {
        "legend": {
         "bgcolor": "#F5F6F9",
         "font": {
          "color": "#4D5663"
         }
        },
        "paper_bgcolor": "#F5F6F9",
        "plot_bgcolor": "#F5F6F9",
        "template": {
         "data": {
          "bar": [
           {
            "error_x": {
             "color": "#2a3f5f"
            },
            "error_y": {
             "color": "#2a3f5f"
            },
            "marker": {
             "line": {
              "color": "#E5ECF6",
              "width": 0.5
             }
            },
            "type": "bar"
           }
          ],
          "barpolar": [
           {
            "marker": {
             "line": {
              "color": "#E5ECF6",
              "width": 0.5
             }
            },
            "type": "barpolar"
           }
          ],
          "carpet": [
           {
            "aaxis": {
             "endlinecolor": "#2a3f5f",
             "gridcolor": "white",
             "linecolor": "white",
             "minorgridcolor": "white",
             "startlinecolor": "#2a3f5f"
            },
            "baxis": {
             "endlinecolor": "#2a3f5f",
             "gridcolor": "white",
             "linecolor": "white",
             "minorgridcolor": "white",
             "startlinecolor": "#2a3f5f"
            },
            "type": "carpet"
           }
          ],
          "choropleth": [
           {
            "colorbar": {
             "outlinewidth": 0,
             "ticks": ""
            },
            "type": "choropleth"
           }
          ],
          "contour": [
           {
            "colorbar": {
             "outlinewidth": 0,
             "ticks": ""
            },
            "colorscale": [
             [
              0,
              "#0d0887"
             ],
             [
              0.1111111111111111,
              "#46039f"
             ],
             [
              0.2222222222222222,
              "#7201a8"
             ],
             [
              0.3333333333333333,
              "#9c179e"
             ],
             [
              0.4444444444444444,
              "#bd3786"
             ],
             [
              0.5555555555555556,
              "#d8576b"
             ],
             [
              0.6666666666666666,
              "#ed7953"
             ],
             [
              0.7777777777777778,
              "#fb9f3a"
             ],
             [
              0.8888888888888888,
              "#fdca26"
             ],
             [
              1,
              "#f0f921"
             ]
            ],
            "type": "contour"
           }
          ],
          "contourcarpet": [
           {
            "colorbar": {
             "outlinewidth": 0,
             "ticks": ""
            },
            "type": "contourcarpet"
           }
          ],
          "heatmap": [
           {
            "colorbar": {
             "outlinewidth": 0,
             "ticks": ""
            },
            "colorscale": [
             [
              0,
              "#0d0887"
             ],
             [
              0.1111111111111111,
              "#46039f"
             ],
             [
              0.2222222222222222,
              "#7201a8"
             ],
             [
              0.3333333333333333,
              "#9c179e"
             ],
             [
              0.4444444444444444,
              "#bd3786"
             ],
             [
              0.5555555555555556,
              "#d8576b"
             ],
             [
              0.6666666666666666,
              "#ed7953"
             ],
             [
              0.7777777777777778,
              "#fb9f3a"
             ],
             [
              0.8888888888888888,
              "#fdca26"
             ],
             [
              1,
              "#f0f921"
             ]
            ],
            "type": "heatmap"
           }
          ],
          "heatmapgl": [
           {
            "colorbar": {
             "outlinewidth": 0,
             "ticks": ""
            },
            "colorscale": [
             [
              0,
              "#0d0887"
             ],
             [
              0.1111111111111111,
              "#46039f"
             ],
             [
              0.2222222222222222,
              "#7201a8"
             ],
             [
              0.3333333333333333,
              "#9c179e"
             ],
             [
              0.4444444444444444,
              "#bd3786"
             ],
             [
              0.5555555555555556,
              "#d8576b"
             ],
             [
              0.6666666666666666,
              "#ed7953"
             ],
             [
              0.7777777777777778,
              "#fb9f3a"
             ],
             [
              0.8888888888888888,
              "#fdca26"
             ],
             [
              1,
              "#f0f921"
             ]
            ],
            "type": "heatmapgl"
           }
          ],
          "histogram": [
           {
            "marker": {
             "colorbar": {
              "outlinewidth": 0,
              "ticks": ""
             }
            },
            "type": "histogram"
           }
          ],
          "histogram2d": [
           {
            "colorbar": {
             "outlinewidth": 0,
             "ticks": ""
            },
            "colorscale": [
             [
              0,
              "#0d0887"
             ],
             [
              0.1111111111111111,
              "#46039f"
             ],
             [
              0.2222222222222222,
              "#7201a8"
             ],
             [
              0.3333333333333333,
              "#9c179e"
             ],
             [
              0.4444444444444444,
              "#bd3786"
             ],
             [
              0.5555555555555556,
              "#d8576b"
             ],
             [
              0.6666666666666666,
              "#ed7953"
             ],
             [
              0.7777777777777778,
              "#fb9f3a"
             ],
             [
              0.8888888888888888,
              "#fdca26"
             ],
             [
              1,
              "#f0f921"
             ]
            ],
            "type": "histogram2d"
           }
          ],
          "histogram2dcontour": [
           {
            "colorbar": {
             "outlinewidth": 0,
             "ticks": ""
            },
            "colorscale": [
             [
              0,
              "#0d0887"
             ],
             [
              0.1111111111111111,
              "#46039f"
             ],
             [
              0.2222222222222222,
              "#7201a8"
             ],
             [
              0.3333333333333333,
              "#9c179e"
             ],
             [
              0.4444444444444444,
              "#bd3786"
             ],
             [
              0.5555555555555556,
              "#d8576b"
             ],
             [
              0.6666666666666666,
              "#ed7953"
             ],
             [
              0.7777777777777778,
              "#fb9f3a"
             ],
             [
              0.8888888888888888,
              "#fdca26"
             ],
             [
              1,
              "#f0f921"
             ]
            ],
            "type": "histogram2dcontour"
           }
          ],
          "mesh3d": [
           {
            "colorbar": {
             "outlinewidth": 0,
             "ticks": ""
            },
            "type": "mesh3d"
           }
          ],
          "parcoords": [
           {
            "line": {
             "colorbar": {
              "outlinewidth": 0,
              "ticks": ""
             }
            },
            "type": "parcoords"
           }
          ],
          "pie": [
           {
            "automargin": true,
            "type": "pie"
           }
          ],
          "scatter": [
           {
            "marker": {
             "colorbar": {
              "outlinewidth": 0,
              "ticks": ""
             }
            },
            "type": "scatter"
           }
          ],
          "scatter3d": [
           {
            "line": {
             "colorbar": {
              "outlinewidth": 0,
              "ticks": ""
             }
            },
            "marker": {
             "colorbar": {
              "outlinewidth": 0,
              "ticks": ""
             }
            },
            "type": "scatter3d"
           }
          ],
          "scattercarpet": [
           {
            "marker": {
             "colorbar": {
              "outlinewidth": 0,
              "ticks": ""
             }
            },
            "type": "scattercarpet"
           }
          ],
          "scattergeo": [
           {
            "marker": {
             "colorbar": {
              "outlinewidth": 0,
              "ticks": ""
             }
            },
            "type": "scattergeo"
           }
          ],
          "scattergl": [
           {
            "marker": {
             "colorbar": {
              "outlinewidth": 0,
              "ticks": ""
             }
            },
            "type": "scattergl"
           }
          ],
          "scattermapbox": [
           {
            "marker": {
             "colorbar": {
              "outlinewidth": 0,
              "ticks": ""
             }
            },
            "type": "scattermapbox"
           }
          ],
          "scatterpolar": [
           {
            "marker": {
             "colorbar": {
              "outlinewidth": 0,
              "ticks": ""
             }
            },
            "type": "scatterpolar"
           }
          ],
          "scatterpolargl": [
           {
            "marker": {
             "colorbar": {
              "outlinewidth": 0,
              "ticks": ""
             }
            },
            "type": "scatterpolargl"
           }
          ],
          "scatterternary": [
           {
            "marker": {
             "colorbar": {
              "outlinewidth": 0,
              "ticks": ""
             }
            },
            "type": "scatterternary"
           }
          ],
          "surface": [
           {
            "colorbar": {
             "outlinewidth": 0,
             "ticks": ""
            },
            "colorscale": [
             [
              0,
              "#0d0887"
             ],
             [
              0.1111111111111111,
              "#46039f"
             ],
             [
              0.2222222222222222,
              "#7201a8"
             ],
             [
              0.3333333333333333,
              "#9c179e"
             ],
             [
              0.4444444444444444,
              "#bd3786"
             ],
             [
              0.5555555555555556,
              "#d8576b"
             ],
             [
              0.6666666666666666,
              "#ed7953"
             ],
             [
              0.7777777777777778,
              "#fb9f3a"
             ],
             [
              0.8888888888888888,
              "#fdca26"
             ],
             [
              1,
              "#f0f921"
             ]
            ],
            "type": "surface"
           }
          ],
          "table": [
           {
            "cells": {
             "fill": {
              "color": "#EBF0F8"
             },
             "line": {
              "color": "white"
             }
            },
            "header": {
             "fill": {
              "color": "#C8D4E3"
             },
             "line": {
              "color": "white"
             }
            },
            "type": "table"
           }
          ]
         },
         "layout": {
          "annotationdefaults": {
           "arrowcolor": "#2a3f5f",
           "arrowhead": 0,
           "arrowwidth": 1
          },
          "coloraxis": {
           "colorbar": {
            "outlinewidth": 0,
            "ticks": ""
           }
          },
          "colorscale": {
           "diverging": [
            [
             0,
             "#8e0152"
            ],
            [
             0.1,
             "#c51b7d"
            ],
            [
             0.2,
             "#de77ae"
            ],
            [
             0.3,
             "#f1b6da"
            ],
            [
             0.4,
             "#fde0ef"
            ],
            [
             0.5,
             "#f7f7f7"
            ],
            [
             0.6,
             "#e6f5d0"
            ],
            [
             0.7,
             "#b8e186"
            ],
            [
             0.8,
             "#7fbc41"
            ],
            [
             0.9,
             "#4d9221"
            ],
            [
             1,
             "#276419"
            ]
           ],
           "sequential": [
            [
             0,
             "#0d0887"
            ],
            [
             0.1111111111111111,
             "#46039f"
            ],
            [
             0.2222222222222222,
             "#7201a8"
            ],
            [
             0.3333333333333333,
             "#9c179e"
            ],
            [
             0.4444444444444444,
             "#bd3786"
            ],
            [
             0.5555555555555556,
             "#d8576b"
            ],
            [
             0.6666666666666666,
             "#ed7953"
            ],
            [
             0.7777777777777778,
             "#fb9f3a"
            ],
            [
             0.8888888888888888,
             "#fdca26"
            ],
            [
             1,
             "#f0f921"
            ]
           ],
           "sequentialminus": [
            [
             0,
             "#0d0887"
            ],
            [
             0.1111111111111111,
             "#46039f"
            ],
            [
             0.2222222222222222,
             "#7201a8"
            ],
            [
             0.3333333333333333,
             "#9c179e"
            ],
            [
             0.4444444444444444,
             "#bd3786"
            ],
            [
             0.5555555555555556,
             "#d8576b"
            ],
            [
             0.6666666666666666,
             "#ed7953"
            ],
            [
             0.7777777777777778,
             "#fb9f3a"
            ],
            [
             0.8888888888888888,
             "#fdca26"
            ],
            [
             1,
             "#f0f921"
            ]
           ]
          },
          "colorway": [
           "#636efa",
           "#EF553B",
           "#00cc96",
           "#ab63fa",
           "#FFA15A",
           "#19d3f3",
           "#FF6692",
           "#B6E880",
           "#FF97FF",
           "#FECB52"
          ],
          "font": {
           "color": "#2a3f5f"
          },
          "geo": {
           "bgcolor": "white",
           "lakecolor": "white",
           "landcolor": "#E5ECF6",
           "showlakes": true,
           "showland": true,
           "subunitcolor": "white"
          },
          "hoverlabel": {
           "align": "left"
          },
          "hovermode": "closest",
          "mapbox": {
           "style": "light"
          },
          "paper_bgcolor": "white",
          "plot_bgcolor": "#E5ECF6",
          "polar": {
           "angularaxis": {
            "gridcolor": "white",
            "linecolor": "white",
            "ticks": ""
           },
           "bgcolor": "#E5ECF6",
           "radialaxis": {
            "gridcolor": "white",
            "linecolor": "white",
            "ticks": ""
           }
          },
          "scene": {
           "xaxis": {
            "backgroundcolor": "#E5ECF6",
            "gridcolor": "white",
            "gridwidth": 2,
            "linecolor": "white",
            "showbackground": true,
            "ticks": "",
            "zerolinecolor": "white"
           },
           "yaxis": {
            "backgroundcolor": "#E5ECF6",
            "gridcolor": "white",
            "gridwidth": 2,
            "linecolor": "white",
            "showbackground": true,
            "ticks": "",
            "zerolinecolor": "white"
           },
           "zaxis": {
            "backgroundcolor": "#E5ECF6",
            "gridcolor": "white",
            "gridwidth": 2,
            "linecolor": "white",
            "showbackground": true,
            "ticks": "",
            "zerolinecolor": "white"
           }
          },
          "shapedefaults": {
           "line": {
            "color": "#2a3f5f"
           }
          },
          "ternary": {
           "aaxis": {
            "gridcolor": "white",
            "linecolor": "white",
            "ticks": ""
           },
           "baxis": {
            "gridcolor": "white",
            "linecolor": "white",
            "ticks": ""
           },
           "bgcolor": "#E5ECF6",
           "caxis": {
            "gridcolor": "white",
            "linecolor": "white",
            "ticks": ""
           }
          },
          "title": {
           "x": 0.05
          },
          "xaxis": {
           "automargin": true,
           "gridcolor": "white",
           "linecolor": "white",
           "ticks": "",
           "title": {
            "standoff": 15
           },
           "zerolinecolor": "white",
           "zerolinewidth": 2
          },
          "yaxis": {
           "automargin": true,
           "gridcolor": "white",
           "linecolor": "white",
           "ticks": "",
           "title": {
            "standoff": 15
           },
           "zerolinecolor": "white",
           "zerolinewidth": 2
          }
         }
        },
        "title": {
         "font": {
          "color": "#4D5663"
         }
        },
        "xaxis": {
         "gridcolor": "#E1E5ED",
         "showgrid": true,
         "tickfont": {
          "color": "#4D5663"
         },
         "title": {
          "font": {
           "color": "#4D5663"
          },
          "text": ""
         },
         "zerolinecolor": "#E1E5ED"
        },
        "yaxis": {
         "gridcolor": "#E1E5ED",
         "showgrid": true,
         "tickfont": {
          "color": "#4D5663"
         },
         "title": {
          "font": {
           "color": "#4D5663"
          },
          "text": ""
         },
         "zerolinecolor": "#E1E5ED"
        }
       }
      },
      "text/html": [
       "<div>                            <div id=\"c47d06e8-2d45-4075-a7a6-4cab1c320af1\" class=\"plotly-graph-div\" style=\"height:525px; width:100%;\"></div>            <script type=\"text/javascript\">                require([\"plotly\"], function(Plotly) {                    window.PLOTLYENV=window.PLOTLYENV || {};\n",
       "                    window.PLOTLYENV.BASE_URL='https://plot.ly';                                    if (document.getElementById(\"c47d06e8-2d45-4075-a7a6-4cab1c320af1\")) {                    Plotly.newPlot(                        \"c47d06e8-2d45-4075-a7a6-4cab1c320af1\",                        [{\"line\": {\"color\": \"rgba(255, 153, 51, 1.0)\", \"dash\": \"solid\", \"shape\": \"linear\", \"width\": 1.3}, \"marker\": {\"size\": 10, \"symbol\": \"circle\"}, \"mode\": \"markers\", \"name\": \"B\", \"text\": \"\", \"type\": \"scatter\", \"x\": [0.24588717410753003, -1.5443326651682237, -0.7892940576313485, -0.7521408949768861, -0.4796778753536114, -0.038090741190589895, -1.2936477357446499, -2.723420833634864, 1.9086517655499613, 0.4087252992968224, -2.5161479197724548, 0.5467932638969071, 0.7522566966657753, -0.5375211691145616, -0.5575175182237166, 0.6909421933307822, 1.4178037665917353, -1.3189638698222304, 0.38135037719477854, -0.8975045777020152, 1.5990034926885215, 0.7513798196549333, -2.7246607309103466, 0.009181632602803554, -0.7199645224339926, 1.0159431349247343, 0.35555691751734403, 0.5133793537990036, -0.7898146830454974, 0.145975409251844, 0.7290500746987666, -0.03207417260027835, 0.5758332689076748, -0.7309258513953879, -1.3488321998603487, 0.9348030875542376, -0.5530946341539287, 0.708339786978607, 1.3589273059294322, 0.6042100092089738, -0.018519711780514307, -0.8497345423017969, 0.25930721389934425, 0.6570749338815411, 0.12722479020271082, 0.5981116642723051, 1.1087139573109894, 0.4335456958746609, -0.4986020130951775, 0.16019426329620462, 1.0956079098556886, 2.1781844015324, 0.38743513688648556, 0.23232445913149288, -0.02225732068587582, 1.240721487888421, 0.8348794737172368, 0.49131381569131605, -2.465460913038345, -1.4128691396273751, 0.45471027773277545, 0.2366496229800066, -0.8443631136799993, -1.5050581382231454, -0.3489519058130828, -0.09252638339915405, 0.4622723828835006, -1.0832375330785835, -0.172975234005294, 1.0525870174915173, -0.0605350567014285, 0.7431366307343629, -0.32259824462116854, 0.46655615372559767, -0.8766531102031185, -0.25067319773196817, 1.9220011649797581, -0.8995754398187623, -0.09723736864284754, 0.13632410802735093, -0.2645397703087663, 0.5956787521414239, -0.16086207093244567, 0.3919638756805205, 1.6431864559841054, 0.500292502469693, -2.2982921012198525, 0.7040176660035111, 0.5779821463206176, 0.37819996172214365, 0.2468873010137249, 0.7112664646179129, -1.8315612256428866, -0.8926722024059833, -2.2000637729889774, -0.1347498116867438, 0.418059595878196, -0.21752058196722435, 0.25604934393242434, 1.0349299221152255], \"y\": [0.17890934769892103, -0.033123808583366866, -1.7822064108916256, -0.5373491252336633, -1.4571186682282393, -1.4078878238560042, -1.2674356310721624, 2.019550830934474, -0.4888330588658283, 0.13141884905230608, -0.9312556526036885, -0.007754038998178534, 2.435535100927038, 0.7079881733133355, 0.31467573359242035, 1.1926023566358455, -0.06993966578389549, 1.3105124782278086, -1.791805838390315, 0.786940457459193, 1.392374807377714, 0.18685037333581317, 0.5159651139015339, -1.3788427841040845, 0.4481570242827706, -0.23192149556047384, -1.793900944752704, -0.6503177928618666, -1.2523592184401433, 0.9397745472901148, -1.2140853902232587, 1.3536707221874327, -2.2065900699338212, -0.2597360149080525, -1.4231111759501243, 1.3997148101941983, -0.8711159875276375, 0.1535439165088105, 0.6223667974799626, -0.5428449527751454, -0.40790956932452943, -0.74095035588002, 1.180243228006508, -1.2246704095828187, 0.5104837648637698, 0.45166433234461617, 0.021824417646521932, -0.1199772823884989, -0.6313062350478947, 0.8962458311228109, 0.8459257422214808, 0.40390475120466934, -0.7075908392741708, 1.6564340845542072, 0.5361952772128227, -0.07758458280582371, 1.2853799260053234, -0.7655843186082435, -0.47497301247656126, -1.1259800726037426, 0.19101899430261973, -1.827357574298033, -2.2013084050446086, 0.9194612052082188, 0.13767551508349066, -1.474381924958377, -0.8835121299482696, 0.15730940685310918, 0.22846581412701608, 0.7715085536815187, -1.1394219297866262, 0.15117704785432218, -0.5729191210052296, 0.8201939049808525, 0.1915501286014221, -0.6403217290879047, 0.6696931832935046, 0.5515620084580015, -0.44800211781238813, 0.5496148064169799, -0.33023177959341304, -0.3405279676130839, 1.9117164440223209, 0.27499941131265915, 0.48223764210266046, 0.6010465347356609, 0.3359623795070407, 0.8393356310861901, -1.1715806085723153, 0.3231670247779722, 0.23374619998387358, 1.206861746979094, -0.6443967282087286, 1.9062966496430345, 2.189933048739878, -0.01675318476017029, -0.014711562140090341, 0.7294260989680877, -1.4051167130267577, 1.7692353305949258]}],                        {\"legend\": {\"bgcolor\": \"#F5F6F9\", \"font\": {\"color\": \"#4D5663\"}}, \"paper_bgcolor\": \"#F5F6F9\", \"plot_bgcolor\": \"#F5F6F9\", \"template\": {\"data\": {\"bar\": [{\"error_x\": {\"color\": \"#2a3f5f\"}, \"error_y\": {\"color\": \"#2a3f5f\"}, \"marker\": {\"line\": {\"color\": \"#E5ECF6\", \"width\": 0.5}}, \"type\": \"bar\"}], \"barpolar\": [{\"marker\": {\"line\": {\"color\": \"#E5ECF6\", \"width\": 0.5}}, \"type\": \"barpolar\"}], \"carpet\": [{\"aaxis\": {\"endlinecolor\": \"#2a3f5f\", \"gridcolor\": \"white\", \"linecolor\": \"white\", \"minorgridcolor\": \"white\", \"startlinecolor\": \"#2a3f5f\"}, \"baxis\": {\"endlinecolor\": \"#2a3f5f\", \"gridcolor\": \"white\", \"linecolor\": \"white\", \"minorgridcolor\": \"white\", \"startlinecolor\": \"#2a3f5f\"}, \"type\": \"carpet\"}], \"choropleth\": [{\"colorbar\": {\"outlinewidth\": 0, \"ticks\": \"\"}, \"type\": \"choropleth\"}], \"contour\": [{\"colorbar\": {\"outlinewidth\": 0, \"ticks\": \"\"}, \"colorscale\": [[0.0, \"#0d0887\"], [0.1111111111111111, \"#46039f\"], [0.2222222222222222, \"#7201a8\"], [0.3333333333333333, \"#9c179e\"], [0.4444444444444444, \"#bd3786\"], [0.5555555555555556, \"#d8576b\"], [0.6666666666666666, \"#ed7953\"], [0.7777777777777778, \"#fb9f3a\"], [0.8888888888888888, \"#fdca26\"], [1.0, \"#f0f921\"]], \"type\": \"contour\"}], \"contourcarpet\": [{\"colorbar\": {\"outlinewidth\": 0, \"ticks\": \"\"}, \"type\": \"contourcarpet\"}], \"heatmap\": [{\"colorbar\": {\"outlinewidth\": 0, \"ticks\": \"\"}, \"colorscale\": [[0.0, \"#0d0887\"], [0.1111111111111111, \"#46039f\"], [0.2222222222222222, \"#7201a8\"], [0.3333333333333333, \"#9c179e\"], [0.4444444444444444, \"#bd3786\"], [0.5555555555555556, \"#d8576b\"], [0.6666666666666666, \"#ed7953\"], [0.7777777777777778, \"#fb9f3a\"], [0.8888888888888888, \"#fdca26\"], [1.0, \"#f0f921\"]], \"type\": \"heatmap\"}], \"heatmapgl\": [{\"colorbar\": {\"outlinewidth\": 0, \"ticks\": \"\"}, \"colorscale\": [[0.0, \"#0d0887\"], [0.1111111111111111, \"#46039f\"], [0.2222222222222222, \"#7201a8\"], [0.3333333333333333, \"#9c179e\"], [0.4444444444444444, \"#bd3786\"], [0.5555555555555556, \"#d8576b\"], [0.6666666666666666, \"#ed7953\"], [0.7777777777777778, \"#fb9f3a\"], [0.8888888888888888, \"#fdca26\"], [1.0, \"#f0f921\"]], \"type\": \"heatmapgl\"}], \"histogram\": [{\"marker\": {\"colorbar\": {\"outlinewidth\": 0, \"ticks\": \"\"}}, \"type\": \"histogram\"}], \"histogram2d\": [{\"colorbar\": {\"outlinewidth\": 0, \"ticks\": \"\"}, \"colorscale\": [[0.0, \"#0d0887\"], [0.1111111111111111, \"#46039f\"], [0.2222222222222222, \"#7201a8\"], [0.3333333333333333, \"#9c179e\"], [0.4444444444444444, \"#bd3786\"], [0.5555555555555556, \"#d8576b\"], [0.6666666666666666, \"#ed7953\"], [0.7777777777777778, \"#fb9f3a\"], [0.8888888888888888, \"#fdca26\"], [1.0, \"#f0f921\"]], \"type\": \"histogram2d\"}], \"histogram2dcontour\": [{\"colorbar\": {\"outlinewidth\": 0, \"ticks\": \"\"}, \"colorscale\": [[0.0, \"#0d0887\"], [0.1111111111111111, \"#46039f\"], [0.2222222222222222, \"#7201a8\"], [0.3333333333333333, \"#9c179e\"], [0.4444444444444444, \"#bd3786\"], [0.5555555555555556, \"#d8576b\"], [0.6666666666666666, \"#ed7953\"], [0.7777777777777778, \"#fb9f3a\"], [0.8888888888888888, \"#fdca26\"], [1.0, \"#f0f921\"]], \"type\": \"histogram2dcontour\"}], \"mesh3d\": [{\"colorbar\": {\"outlinewidth\": 0, \"ticks\": \"\"}, \"type\": \"mesh3d\"}], \"parcoords\": [{\"line\": {\"colorbar\": {\"outlinewidth\": 0, \"ticks\": \"\"}}, \"type\": \"parcoords\"}], \"pie\": [{\"automargin\": true, \"type\": \"pie\"}], \"scatter\": [{\"marker\": {\"colorbar\": {\"outlinewidth\": 0, \"ticks\": \"\"}}, \"type\": \"scatter\"}], \"scatter3d\": [{\"line\": {\"colorbar\": {\"outlinewidth\": 0, \"ticks\": \"\"}}, \"marker\": {\"colorbar\": {\"outlinewidth\": 0, \"ticks\": \"\"}}, \"type\": \"scatter3d\"}], \"scattercarpet\": [{\"marker\": {\"colorbar\": {\"outlinewidth\": 0, \"ticks\": \"\"}}, \"type\": \"scattercarpet\"}], \"scattergeo\": [{\"marker\": {\"colorbar\": {\"outlinewidth\": 0, \"ticks\": \"\"}}, \"type\": \"scattergeo\"}], \"scattergl\": [{\"marker\": {\"colorbar\": {\"outlinewidth\": 0, \"ticks\": \"\"}}, \"type\": \"scattergl\"}], \"scattermapbox\": [{\"marker\": {\"colorbar\": {\"outlinewidth\": 0, \"ticks\": \"\"}}, \"type\": \"scattermapbox\"}], \"scatterpolar\": [{\"marker\": {\"colorbar\": {\"outlinewidth\": 0, \"ticks\": \"\"}}, \"type\": \"scatterpolar\"}], \"scatterpolargl\": [{\"marker\": {\"colorbar\": {\"outlinewidth\": 0, \"ticks\": \"\"}}, \"type\": \"scatterpolargl\"}], \"scatterternary\": [{\"marker\": {\"colorbar\": {\"outlinewidth\": 0, \"ticks\": \"\"}}, \"type\": \"scatterternary\"}], \"surface\": [{\"colorbar\": {\"outlinewidth\": 0, \"ticks\": \"\"}, \"colorscale\": [[0.0, \"#0d0887\"], [0.1111111111111111, \"#46039f\"], [0.2222222222222222, \"#7201a8\"], [0.3333333333333333, \"#9c179e\"], [0.4444444444444444, \"#bd3786\"], [0.5555555555555556, \"#d8576b\"], [0.6666666666666666, \"#ed7953\"], [0.7777777777777778, \"#fb9f3a\"], [0.8888888888888888, \"#fdca26\"], [1.0, \"#f0f921\"]], \"type\": \"surface\"}], \"table\": [{\"cells\": {\"fill\": {\"color\": \"#EBF0F8\"}, \"line\": {\"color\": \"white\"}}, \"header\": {\"fill\": {\"color\": \"#C8D4E3\"}, \"line\": {\"color\": \"white\"}}, \"type\": \"table\"}]}, \"layout\": {\"annotationdefaults\": {\"arrowcolor\": \"#2a3f5f\", \"arrowhead\": 0, \"arrowwidth\": 1}, \"coloraxis\": {\"colorbar\": {\"outlinewidth\": 0, \"ticks\": \"\"}}, \"colorscale\": {\"diverging\": [[0, \"#8e0152\"], [0.1, \"#c51b7d\"], [0.2, \"#de77ae\"], [0.3, \"#f1b6da\"], [0.4, \"#fde0ef\"], [0.5, \"#f7f7f7\"], [0.6, \"#e6f5d0\"], [0.7, \"#b8e186\"], [0.8, \"#7fbc41\"], [0.9, \"#4d9221\"], [1, \"#276419\"]], \"sequential\": [[0.0, \"#0d0887\"], [0.1111111111111111, \"#46039f\"], [0.2222222222222222, \"#7201a8\"], [0.3333333333333333, \"#9c179e\"], [0.4444444444444444, \"#bd3786\"], [0.5555555555555556, \"#d8576b\"], [0.6666666666666666, \"#ed7953\"], [0.7777777777777778, \"#fb9f3a\"], [0.8888888888888888, \"#fdca26\"], [1.0, \"#f0f921\"]], \"sequentialminus\": [[0.0, \"#0d0887\"], [0.1111111111111111, \"#46039f\"], [0.2222222222222222, \"#7201a8\"], [0.3333333333333333, \"#9c179e\"], [0.4444444444444444, \"#bd3786\"], [0.5555555555555556, \"#d8576b\"], [0.6666666666666666, \"#ed7953\"], [0.7777777777777778, \"#fb9f3a\"], [0.8888888888888888, \"#fdca26\"], [1.0, \"#f0f921\"]]}, \"colorway\": [\"#636efa\", \"#EF553B\", \"#00cc96\", \"#ab63fa\", \"#FFA15A\", \"#19d3f3\", \"#FF6692\", \"#B6E880\", \"#FF97FF\", \"#FECB52\"], \"font\": {\"color\": \"#2a3f5f\"}, \"geo\": {\"bgcolor\": \"white\", \"lakecolor\": \"white\", \"landcolor\": \"#E5ECF6\", \"showlakes\": true, \"showland\": true, \"subunitcolor\": \"white\"}, \"hoverlabel\": {\"align\": \"left\"}, \"hovermode\": \"closest\", \"mapbox\": {\"style\": \"light\"}, \"paper_bgcolor\": \"white\", \"plot_bgcolor\": \"#E5ECF6\", \"polar\": {\"angularaxis\": {\"gridcolor\": \"white\", \"linecolor\": \"white\", \"ticks\": \"\"}, \"bgcolor\": \"#E5ECF6\", \"radialaxis\": {\"gridcolor\": \"white\", \"linecolor\": \"white\", \"ticks\": \"\"}}, \"scene\": {\"xaxis\": {\"backgroundcolor\": \"#E5ECF6\", \"gridcolor\": \"white\", \"gridwidth\": 2, \"linecolor\": \"white\", \"showbackground\": true, \"ticks\": \"\", \"zerolinecolor\": \"white\"}, \"yaxis\": {\"backgroundcolor\": \"#E5ECF6\", \"gridcolor\": \"white\", \"gridwidth\": 2, \"linecolor\": \"white\", \"showbackground\": true, \"ticks\": \"\", \"zerolinecolor\": \"white\"}, \"zaxis\": {\"backgroundcolor\": \"#E5ECF6\", \"gridcolor\": \"white\", \"gridwidth\": 2, \"linecolor\": \"white\", \"showbackground\": true, \"ticks\": \"\", \"zerolinecolor\": \"white\"}}, \"shapedefaults\": {\"line\": {\"color\": \"#2a3f5f\"}}, \"ternary\": {\"aaxis\": {\"gridcolor\": \"white\", \"linecolor\": \"white\", \"ticks\": \"\"}, \"baxis\": {\"gridcolor\": \"white\", \"linecolor\": \"white\", \"ticks\": \"\"}, \"bgcolor\": \"#E5ECF6\", \"caxis\": {\"gridcolor\": \"white\", \"linecolor\": \"white\", \"ticks\": \"\"}}, \"title\": {\"x\": 0.05}, \"xaxis\": {\"automargin\": true, \"gridcolor\": \"white\", \"linecolor\": \"white\", \"ticks\": \"\", \"title\": {\"standoff\": 15}, \"zerolinecolor\": \"white\", \"zerolinewidth\": 2}, \"yaxis\": {\"automargin\": true, \"gridcolor\": \"white\", \"linecolor\": \"white\", \"ticks\": \"\", \"title\": {\"standoff\": 15}, \"zerolinecolor\": \"white\", \"zerolinewidth\": 2}}}, \"title\": {\"font\": {\"color\": \"#4D5663\"}}, \"xaxis\": {\"gridcolor\": \"#E1E5ED\", \"showgrid\": true, \"tickfont\": {\"color\": \"#4D5663\"}, \"title\": {\"font\": {\"color\": \"#4D5663\"}, \"text\": \"\"}, \"zerolinecolor\": \"#E1E5ED\"}, \"yaxis\": {\"gridcolor\": \"#E1E5ED\", \"showgrid\": true, \"tickfont\": {\"color\": \"#4D5663\"}, \"title\": {\"font\": {\"color\": \"#4D5663\"}, \"text\": \"\"}, \"zerolinecolor\": \"#E1E5ED\"}},                        {\"showLink\": true, \"linkText\": \"Export to plot.ly\", \"plotlyServerURL\": \"https://plot.ly\", \"responsive\": true}                    ).then(function(){\n",
       "                            \n",
       "var gd = document.getElementById('c47d06e8-2d45-4075-a7a6-4cab1c320af1');\n",
       "var x = new MutationObserver(function (mutations, observer) {{\n",
       "        var display = window.getComputedStyle(gd).display;\n",
       "        if (!display || display === 'none') {{\n",
       "            console.log([gd, 'removed!']);\n",
       "            Plotly.purge(gd);\n",
       "            observer.disconnect();\n",
       "        }}\n",
       "}});\n",
       "\n",
       "// Listen for the removal of the full notebook cells\n",
       "var notebookContainer = gd.closest('#notebook-container');\n",
       "if (notebookContainer) {{\n",
       "    x.observe(notebookContainer, {childList: true});\n",
       "}}\n",
       "\n",
       "// Listen for the clearing of the current output cell\n",
       "var outputEl = gd.closest('.output');\n",
       "if (outputEl) {{\n",
       "    x.observe(outputEl, {childList: true});\n",
       "}}\n",
       "\n",
       "                        })                };                });            </script>        </div>"
      ]
     },
     "metadata": {},
     "output_type": "display_data"
    }
   ],
   "source": [
    "df.iplot(kind='scatter',x='A',y='B',mode='markers',size=10)"
   ]
  },
  {
   "cell_type": "markdown",
   "metadata": {},
   "source": [
    "## Bar Plots"
   ]
  },
  {
   "cell_type": "code",
   "execution_count": 11,
   "metadata": {},
   "outputs": [
    {
     "data": {
      "application/vnd.plotly.v1+json": {
       "config": {
        "linkText": "Export to plot.ly",
        "plotlyServerURL": "https://plot.ly",
        "showLink": true
       },
       "data": [
        {
         "marker": {
          "color": "rgba(255, 153, 51, 0.6)",
          "line": {
           "color": "rgba(255, 153, 51, 1.0)",
           "width": 1
          }
         },
         "name": "Values",
         "orientation": "v",
         "text": "",
         "type": "bar",
         "x": [
          "A",
          "B",
          "C"
         ],
         "y": [
          32,
          43,
          50
         ]
        }
       ],
       "layout": {
        "legend": {
         "bgcolor": "#F5F6F9",
         "font": {
          "color": "#4D5663"
         }
        },
        "paper_bgcolor": "#F5F6F9",
        "plot_bgcolor": "#F5F6F9",
        "template": {
         "data": {
          "bar": [
           {
            "error_x": {
             "color": "#2a3f5f"
            },
            "error_y": {
             "color": "#2a3f5f"
            },
            "marker": {
             "line": {
              "color": "#E5ECF6",
              "width": 0.5
             }
            },
            "type": "bar"
           }
          ],
          "barpolar": [
           {
            "marker": {
             "line": {
              "color": "#E5ECF6",
              "width": 0.5
             }
            },
            "type": "barpolar"
           }
          ],
          "carpet": [
           {
            "aaxis": {
             "endlinecolor": "#2a3f5f",
             "gridcolor": "white",
             "linecolor": "white",
             "minorgridcolor": "white",
             "startlinecolor": "#2a3f5f"
            },
            "baxis": {
             "endlinecolor": "#2a3f5f",
             "gridcolor": "white",
             "linecolor": "white",
             "minorgridcolor": "white",
             "startlinecolor": "#2a3f5f"
            },
            "type": "carpet"
           }
          ],
          "choropleth": [
           {
            "colorbar": {
             "outlinewidth": 0,
             "ticks": ""
            },
            "type": "choropleth"
           }
          ],
          "contour": [
           {
            "colorbar": {
             "outlinewidth": 0,
             "ticks": ""
            },
            "colorscale": [
             [
              0,
              "#0d0887"
             ],
             [
              0.1111111111111111,
              "#46039f"
             ],
             [
              0.2222222222222222,
              "#7201a8"
             ],
             [
              0.3333333333333333,
              "#9c179e"
             ],
             [
              0.4444444444444444,
              "#bd3786"
             ],
             [
              0.5555555555555556,
              "#d8576b"
             ],
             [
              0.6666666666666666,
              "#ed7953"
             ],
             [
              0.7777777777777778,
              "#fb9f3a"
             ],
             [
              0.8888888888888888,
              "#fdca26"
             ],
             [
              1,
              "#f0f921"
             ]
            ],
            "type": "contour"
           }
          ],
          "contourcarpet": [
           {
            "colorbar": {
             "outlinewidth": 0,
             "ticks": ""
            },
            "type": "contourcarpet"
           }
          ],
          "heatmap": [
           {
            "colorbar": {
             "outlinewidth": 0,
             "ticks": ""
            },
            "colorscale": [
             [
              0,
              "#0d0887"
             ],
             [
              0.1111111111111111,
              "#46039f"
             ],
             [
              0.2222222222222222,
              "#7201a8"
             ],
             [
              0.3333333333333333,
              "#9c179e"
             ],
             [
              0.4444444444444444,
              "#bd3786"
             ],
             [
              0.5555555555555556,
              "#d8576b"
             ],
             [
              0.6666666666666666,
              "#ed7953"
             ],
             [
              0.7777777777777778,
              "#fb9f3a"
             ],
             [
              0.8888888888888888,
              "#fdca26"
             ],
             [
              1,
              "#f0f921"
             ]
            ],
            "type": "heatmap"
           }
          ],
          "heatmapgl": [
           {
            "colorbar": {
             "outlinewidth": 0,
             "ticks": ""
            },
            "colorscale": [
             [
              0,
              "#0d0887"
             ],
             [
              0.1111111111111111,
              "#46039f"
             ],
             [
              0.2222222222222222,
              "#7201a8"
             ],
             [
              0.3333333333333333,
              "#9c179e"
             ],
             [
              0.4444444444444444,
              "#bd3786"
             ],
             [
              0.5555555555555556,
              "#d8576b"
             ],
             [
              0.6666666666666666,
              "#ed7953"
             ],
             [
              0.7777777777777778,
              "#fb9f3a"
             ],
             [
              0.8888888888888888,
              "#fdca26"
             ],
             [
              1,
              "#f0f921"
             ]
            ],
            "type": "heatmapgl"
           }
          ],
          "histogram": [
           {
            "marker": {
             "colorbar": {
              "outlinewidth": 0,
              "ticks": ""
             }
            },
            "type": "histogram"
           }
          ],
          "histogram2d": [
           {
            "colorbar": {
             "outlinewidth": 0,
             "ticks": ""
            },
            "colorscale": [
             [
              0,
              "#0d0887"
             ],
             [
              0.1111111111111111,
              "#46039f"
             ],
             [
              0.2222222222222222,
              "#7201a8"
             ],
             [
              0.3333333333333333,
              "#9c179e"
             ],
             [
              0.4444444444444444,
              "#bd3786"
             ],
             [
              0.5555555555555556,
              "#d8576b"
             ],
             [
              0.6666666666666666,
              "#ed7953"
             ],
             [
              0.7777777777777778,
              "#fb9f3a"
             ],
             [
              0.8888888888888888,
              "#fdca26"
             ],
             [
              1,
              "#f0f921"
             ]
            ],
            "type": "histogram2d"
           }
          ],
          "histogram2dcontour": [
           {
            "colorbar": {
             "outlinewidth": 0,
             "ticks": ""
            },
            "colorscale": [
             [
              0,
              "#0d0887"
             ],
             [
              0.1111111111111111,
              "#46039f"
             ],
             [
              0.2222222222222222,
              "#7201a8"
             ],
             [
              0.3333333333333333,
              "#9c179e"
             ],
             [
              0.4444444444444444,
              "#bd3786"
             ],
             [
              0.5555555555555556,
              "#d8576b"
             ],
             [
              0.6666666666666666,
              "#ed7953"
             ],
             [
              0.7777777777777778,
              "#fb9f3a"
             ],
             [
              0.8888888888888888,
              "#fdca26"
             ],
             [
              1,
              "#f0f921"
             ]
            ],
            "type": "histogram2dcontour"
           }
          ],
          "mesh3d": [
           {
            "colorbar": {
             "outlinewidth": 0,
             "ticks": ""
            },
            "type": "mesh3d"
           }
          ],
          "parcoords": [
           {
            "line": {
             "colorbar": {
              "outlinewidth": 0,
              "ticks": ""
             }
            },
            "type": "parcoords"
           }
          ],
          "pie": [
           {
            "automargin": true,
            "type": "pie"
           }
          ],
          "scatter": [
           {
            "marker": {
             "colorbar": {
              "outlinewidth": 0,
              "ticks": ""
             }
            },
            "type": "scatter"
           }
          ],
          "scatter3d": [
           {
            "line": {
             "colorbar": {
              "outlinewidth": 0,
              "ticks": ""
             }
            },
            "marker": {
             "colorbar": {
              "outlinewidth": 0,
              "ticks": ""
             }
            },
            "type": "scatter3d"
           }
          ],
          "scattercarpet": [
           {
            "marker": {
             "colorbar": {
              "outlinewidth": 0,
              "ticks": ""
             }
            },
            "type": "scattercarpet"
           }
          ],
          "scattergeo": [
           {
            "marker": {
             "colorbar": {
              "outlinewidth": 0,
              "ticks": ""
             }
            },
            "type": "scattergeo"
           }
          ],
          "scattergl": [
           {
            "marker": {
             "colorbar": {
              "outlinewidth": 0,
              "ticks": ""
             }
            },
            "type": "scattergl"
           }
          ],
          "scattermapbox": [
           {
            "marker": {
             "colorbar": {
              "outlinewidth": 0,
              "ticks": ""
             }
            },
            "type": "scattermapbox"
           }
          ],
          "scatterpolar": [
           {
            "marker": {
             "colorbar": {
              "outlinewidth": 0,
              "ticks": ""
             }
            },
            "type": "scatterpolar"
           }
          ],
          "scatterpolargl": [
           {
            "marker": {
             "colorbar": {
              "outlinewidth": 0,
              "ticks": ""
             }
            },
            "type": "scatterpolargl"
           }
          ],
          "scatterternary": [
           {
            "marker": {
             "colorbar": {
              "outlinewidth": 0,
              "ticks": ""
             }
            },
            "type": "scatterternary"
           }
          ],
          "surface": [
           {
            "colorbar": {
             "outlinewidth": 0,
             "ticks": ""
            },
            "colorscale": [
             [
              0,
              "#0d0887"
             ],
             [
              0.1111111111111111,
              "#46039f"
             ],
             [
              0.2222222222222222,
              "#7201a8"
             ],
             [
              0.3333333333333333,
              "#9c179e"
             ],
             [
              0.4444444444444444,
              "#bd3786"
             ],
             [
              0.5555555555555556,
              "#d8576b"
             ],
             [
              0.6666666666666666,
              "#ed7953"
             ],
             [
              0.7777777777777778,
              "#fb9f3a"
             ],
             [
              0.8888888888888888,
              "#fdca26"
             ],
             [
              1,
              "#f0f921"
             ]
            ],
            "type": "surface"
           }
          ],
          "table": [
           {
            "cells": {
             "fill": {
              "color": "#EBF0F8"
             },
             "line": {
              "color": "white"
             }
            },
            "header": {
             "fill": {
              "color": "#C8D4E3"
             },
             "line": {
              "color": "white"
             }
            },
            "type": "table"
           }
          ]
         },
         "layout": {
          "annotationdefaults": {
           "arrowcolor": "#2a3f5f",
           "arrowhead": 0,
           "arrowwidth": 1
          },
          "coloraxis": {
           "colorbar": {
            "outlinewidth": 0,
            "ticks": ""
           }
          },
          "colorscale": {
           "diverging": [
            [
             0,
             "#8e0152"
            ],
            [
             0.1,
             "#c51b7d"
            ],
            [
             0.2,
             "#de77ae"
            ],
            [
             0.3,
             "#f1b6da"
            ],
            [
             0.4,
             "#fde0ef"
            ],
            [
             0.5,
             "#f7f7f7"
            ],
            [
             0.6,
             "#e6f5d0"
            ],
            [
             0.7,
             "#b8e186"
            ],
            [
             0.8,
             "#7fbc41"
            ],
            [
             0.9,
             "#4d9221"
            ],
            [
             1,
             "#276419"
            ]
           ],
           "sequential": [
            [
             0,
             "#0d0887"
            ],
            [
             0.1111111111111111,
             "#46039f"
            ],
            [
             0.2222222222222222,
             "#7201a8"
            ],
            [
             0.3333333333333333,
             "#9c179e"
            ],
            [
             0.4444444444444444,
             "#bd3786"
            ],
            [
             0.5555555555555556,
             "#d8576b"
            ],
            [
             0.6666666666666666,
             "#ed7953"
            ],
            [
             0.7777777777777778,
             "#fb9f3a"
            ],
            [
             0.8888888888888888,
             "#fdca26"
            ],
            [
             1,
             "#f0f921"
            ]
           ],
           "sequentialminus": [
            [
             0,
             "#0d0887"
            ],
            [
             0.1111111111111111,
             "#46039f"
            ],
            [
             0.2222222222222222,
             "#7201a8"
            ],
            [
             0.3333333333333333,
             "#9c179e"
            ],
            [
             0.4444444444444444,
             "#bd3786"
            ],
            [
             0.5555555555555556,
             "#d8576b"
            ],
            [
             0.6666666666666666,
             "#ed7953"
            ],
            [
             0.7777777777777778,
             "#fb9f3a"
            ],
            [
             0.8888888888888888,
             "#fdca26"
            ],
            [
             1,
             "#f0f921"
            ]
           ]
          },
          "colorway": [
           "#636efa",
           "#EF553B",
           "#00cc96",
           "#ab63fa",
           "#FFA15A",
           "#19d3f3",
           "#FF6692",
           "#B6E880",
           "#FF97FF",
           "#FECB52"
          ],
          "font": {
           "color": "#2a3f5f"
          },
          "geo": {
           "bgcolor": "white",
           "lakecolor": "white",
           "landcolor": "#E5ECF6",
           "showlakes": true,
           "showland": true,
           "subunitcolor": "white"
          },
          "hoverlabel": {
           "align": "left"
          },
          "hovermode": "closest",
          "mapbox": {
           "style": "light"
          },
          "paper_bgcolor": "white",
          "plot_bgcolor": "#E5ECF6",
          "polar": {
           "angularaxis": {
            "gridcolor": "white",
            "linecolor": "white",
            "ticks": ""
           },
           "bgcolor": "#E5ECF6",
           "radialaxis": {
            "gridcolor": "white",
            "linecolor": "white",
            "ticks": ""
           }
          },
          "scene": {
           "xaxis": {
            "backgroundcolor": "#E5ECF6",
            "gridcolor": "white",
            "gridwidth": 2,
            "linecolor": "white",
            "showbackground": true,
            "ticks": "",
            "zerolinecolor": "white"
           },
           "yaxis": {
            "backgroundcolor": "#E5ECF6",
            "gridcolor": "white",
            "gridwidth": 2,
            "linecolor": "white",
            "showbackground": true,
            "ticks": "",
            "zerolinecolor": "white"
           },
           "zaxis": {
            "backgroundcolor": "#E5ECF6",
            "gridcolor": "white",
            "gridwidth": 2,
            "linecolor": "white",
            "showbackground": true,
            "ticks": "",
            "zerolinecolor": "white"
           }
          },
          "shapedefaults": {
           "line": {
            "color": "#2a3f5f"
           }
          },
          "ternary": {
           "aaxis": {
            "gridcolor": "white",
            "linecolor": "white",
            "ticks": ""
           },
           "baxis": {
            "gridcolor": "white",
            "linecolor": "white",
            "ticks": ""
           },
           "bgcolor": "#E5ECF6",
           "caxis": {
            "gridcolor": "white",
            "linecolor": "white",
            "ticks": ""
           }
          },
          "title": {
           "x": 0.05
          },
          "xaxis": {
           "automargin": true,
           "gridcolor": "white",
           "linecolor": "white",
           "ticks": "",
           "title": {
            "standoff": 15
           },
           "zerolinecolor": "white",
           "zerolinewidth": 2
          },
          "yaxis": {
           "automargin": true,
           "gridcolor": "white",
           "linecolor": "white",
           "ticks": "",
           "title": {
            "standoff": 15
           },
           "zerolinecolor": "white",
           "zerolinewidth": 2
          }
         }
        },
        "title": {
         "font": {
          "color": "#4D5663"
         }
        },
        "xaxis": {
         "gridcolor": "#E1E5ED",
         "showgrid": true,
         "tickfont": {
          "color": "#4D5663"
         },
         "title": {
          "font": {
           "color": "#4D5663"
          },
          "text": ""
         },
         "zerolinecolor": "#E1E5ED"
        },
        "yaxis": {
         "gridcolor": "#E1E5ED",
         "showgrid": true,
         "tickfont": {
          "color": "#4D5663"
         },
         "title": {
          "font": {
           "color": "#4D5663"
          },
          "text": ""
         },
         "zerolinecolor": "#E1E5ED"
        }
       }
      },
      "text/html": [
       "<div>                            <div id=\"996232c2-4fe8-4bb6-9c03-2fd053d18e82\" class=\"plotly-graph-div\" style=\"height:525px; width:100%;\"></div>            <script type=\"text/javascript\">                require([\"plotly\"], function(Plotly) {                    window.PLOTLYENV=window.PLOTLYENV || {};\n",
       "                    window.PLOTLYENV.BASE_URL='https://plot.ly';                                    if (document.getElementById(\"996232c2-4fe8-4bb6-9c03-2fd053d18e82\")) {                    Plotly.newPlot(                        \"996232c2-4fe8-4bb6-9c03-2fd053d18e82\",                        [{\"marker\": {\"color\": \"rgba(255, 153, 51, 0.6)\", \"line\": {\"color\": \"rgba(255, 153, 51, 1.0)\", \"width\": 1}}, \"name\": \"Values\", \"orientation\": \"v\", \"text\": \"\", \"type\": \"bar\", \"x\": [\"A\", \"B\", \"C\"], \"y\": [32, 43, 50]}],                        {\"legend\": {\"bgcolor\": \"#F5F6F9\", \"font\": {\"color\": \"#4D5663\"}}, \"paper_bgcolor\": \"#F5F6F9\", \"plot_bgcolor\": \"#F5F6F9\", \"template\": {\"data\": {\"bar\": [{\"error_x\": {\"color\": \"#2a3f5f\"}, \"error_y\": {\"color\": \"#2a3f5f\"}, \"marker\": {\"line\": {\"color\": \"#E5ECF6\", \"width\": 0.5}}, \"type\": \"bar\"}], \"barpolar\": [{\"marker\": {\"line\": {\"color\": \"#E5ECF6\", \"width\": 0.5}}, \"type\": \"barpolar\"}], \"carpet\": [{\"aaxis\": {\"endlinecolor\": \"#2a3f5f\", \"gridcolor\": \"white\", \"linecolor\": \"white\", \"minorgridcolor\": \"white\", \"startlinecolor\": \"#2a3f5f\"}, \"baxis\": {\"endlinecolor\": \"#2a3f5f\", \"gridcolor\": \"white\", \"linecolor\": \"white\", \"minorgridcolor\": \"white\", \"startlinecolor\": \"#2a3f5f\"}, \"type\": \"carpet\"}], \"choropleth\": [{\"colorbar\": {\"outlinewidth\": 0, \"ticks\": \"\"}, \"type\": \"choropleth\"}], \"contour\": [{\"colorbar\": {\"outlinewidth\": 0, \"ticks\": \"\"}, \"colorscale\": [[0.0, \"#0d0887\"], [0.1111111111111111, \"#46039f\"], [0.2222222222222222, \"#7201a8\"], [0.3333333333333333, \"#9c179e\"], [0.4444444444444444, \"#bd3786\"], [0.5555555555555556, \"#d8576b\"], [0.6666666666666666, \"#ed7953\"], [0.7777777777777778, \"#fb9f3a\"], [0.8888888888888888, \"#fdca26\"], [1.0, \"#f0f921\"]], \"type\": \"contour\"}], \"contourcarpet\": [{\"colorbar\": {\"outlinewidth\": 0, \"ticks\": \"\"}, \"type\": \"contourcarpet\"}], \"heatmap\": [{\"colorbar\": {\"outlinewidth\": 0, \"ticks\": \"\"}, \"colorscale\": [[0.0, \"#0d0887\"], [0.1111111111111111, \"#46039f\"], [0.2222222222222222, \"#7201a8\"], [0.3333333333333333, \"#9c179e\"], [0.4444444444444444, \"#bd3786\"], [0.5555555555555556, \"#d8576b\"], [0.6666666666666666, \"#ed7953\"], [0.7777777777777778, \"#fb9f3a\"], [0.8888888888888888, \"#fdca26\"], [1.0, \"#f0f921\"]], \"type\": \"heatmap\"}], \"heatmapgl\": [{\"colorbar\": {\"outlinewidth\": 0, \"ticks\": \"\"}, \"colorscale\": [[0.0, \"#0d0887\"], [0.1111111111111111, \"#46039f\"], [0.2222222222222222, \"#7201a8\"], [0.3333333333333333, \"#9c179e\"], [0.4444444444444444, \"#bd3786\"], [0.5555555555555556, \"#d8576b\"], [0.6666666666666666, \"#ed7953\"], [0.7777777777777778, \"#fb9f3a\"], [0.8888888888888888, \"#fdca26\"], [1.0, \"#f0f921\"]], \"type\": \"heatmapgl\"}], \"histogram\": [{\"marker\": {\"colorbar\": {\"outlinewidth\": 0, \"ticks\": \"\"}}, \"type\": \"histogram\"}], \"histogram2d\": [{\"colorbar\": {\"outlinewidth\": 0, \"ticks\": \"\"}, \"colorscale\": [[0.0, \"#0d0887\"], [0.1111111111111111, \"#46039f\"], [0.2222222222222222, \"#7201a8\"], [0.3333333333333333, \"#9c179e\"], [0.4444444444444444, \"#bd3786\"], [0.5555555555555556, \"#d8576b\"], [0.6666666666666666, \"#ed7953\"], [0.7777777777777778, \"#fb9f3a\"], [0.8888888888888888, \"#fdca26\"], [1.0, \"#f0f921\"]], \"type\": \"histogram2d\"}], \"histogram2dcontour\": [{\"colorbar\": {\"outlinewidth\": 0, \"ticks\": \"\"}, \"colorscale\": [[0.0, \"#0d0887\"], [0.1111111111111111, \"#46039f\"], [0.2222222222222222, \"#7201a8\"], [0.3333333333333333, \"#9c179e\"], [0.4444444444444444, \"#bd3786\"], [0.5555555555555556, \"#d8576b\"], [0.6666666666666666, \"#ed7953\"], [0.7777777777777778, \"#fb9f3a\"], [0.8888888888888888, \"#fdca26\"], [1.0, \"#f0f921\"]], \"type\": \"histogram2dcontour\"}], \"mesh3d\": [{\"colorbar\": {\"outlinewidth\": 0, \"ticks\": \"\"}, \"type\": \"mesh3d\"}], \"parcoords\": [{\"line\": {\"colorbar\": {\"outlinewidth\": 0, \"ticks\": \"\"}}, \"type\": \"parcoords\"}], \"pie\": [{\"automargin\": true, \"type\": \"pie\"}], \"scatter\": [{\"marker\": {\"colorbar\": {\"outlinewidth\": 0, \"ticks\": \"\"}}, \"type\": \"scatter\"}], \"scatter3d\": [{\"line\": {\"colorbar\": {\"outlinewidth\": 0, \"ticks\": \"\"}}, \"marker\": {\"colorbar\": {\"outlinewidth\": 0, \"ticks\": \"\"}}, \"type\": \"scatter3d\"}], \"scattercarpet\": [{\"marker\": {\"colorbar\": {\"outlinewidth\": 0, \"ticks\": \"\"}}, \"type\": \"scattercarpet\"}], \"scattergeo\": [{\"marker\": {\"colorbar\": {\"outlinewidth\": 0, \"ticks\": \"\"}}, \"type\": \"scattergeo\"}], \"scattergl\": [{\"marker\": {\"colorbar\": {\"outlinewidth\": 0, \"ticks\": \"\"}}, \"type\": \"scattergl\"}], \"scattermapbox\": [{\"marker\": {\"colorbar\": {\"outlinewidth\": 0, \"ticks\": \"\"}}, \"type\": \"scattermapbox\"}], \"scatterpolar\": [{\"marker\": {\"colorbar\": {\"outlinewidth\": 0, \"ticks\": \"\"}}, \"type\": \"scatterpolar\"}], \"scatterpolargl\": [{\"marker\": {\"colorbar\": {\"outlinewidth\": 0, \"ticks\": \"\"}}, \"type\": \"scatterpolargl\"}], \"scatterternary\": [{\"marker\": {\"colorbar\": {\"outlinewidth\": 0, \"ticks\": \"\"}}, \"type\": \"scatterternary\"}], \"surface\": [{\"colorbar\": {\"outlinewidth\": 0, \"ticks\": \"\"}, \"colorscale\": [[0.0, \"#0d0887\"], [0.1111111111111111, \"#46039f\"], [0.2222222222222222, \"#7201a8\"], [0.3333333333333333, \"#9c179e\"], [0.4444444444444444, \"#bd3786\"], [0.5555555555555556, \"#d8576b\"], [0.6666666666666666, \"#ed7953\"], [0.7777777777777778, \"#fb9f3a\"], [0.8888888888888888, \"#fdca26\"], [1.0, \"#f0f921\"]], \"type\": \"surface\"}], \"table\": [{\"cells\": {\"fill\": {\"color\": \"#EBF0F8\"}, \"line\": {\"color\": \"white\"}}, \"header\": {\"fill\": {\"color\": \"#C8D4E3\"}, \"line\": {\"color\": \"white\"}}, \"type\": \"table\"}]}, \"layout\": {\"annotationdefaults\": {\"arrowcolor\": \"#2a3f5f\", \"arrowhead\": 0, \"arrowwidth\": 1}, \"coloraxis\": {\"colorbar\": {\"outlinewidth\": 0, \"ticks\": \"\"}}, \"colorscale\": {\"diverging\": [[0, \"#8e0152\"], [0.1, \"#c51b7d\"], [0.2, \"#de77ae\"], [0.3, \"#f1b6da\"], [0.4, \"#fde0ef\"], [0.5, \"#f7f7f7\"], [0.6, \"#e6f5d0\"], [0.7, \"#b8e186\"], [0.8, \"#7fbc41\"], [0.9, \"#4d9221\"], [1, \"#276419\"]], \"sequential\": [[0.0, \"#0d0887\"], [0.1111111111111111, \"#46039f\"], [0.2222222222222222, \"#7201a8\"], [0.3333333333333333, \"#9c179e\"], [0.4444444444444444, \"#bd3786\"], [0.5555555555555556, \"#d8576b\"], [0.6666666666666666, \"#ed7953\"], [0.7777777777777778, \"#fb9f3a\"], [0.8888888888888888, \"#fdca26\"], [1.0, \"#f0f921\"]], \"sequentialminus\": [[0.0, \"#0d0887\"], [0.1111111111111111, \"#46039f\"], [0.2222222222222222, \"#7201a8\"], [0.3333333333333333, \"#9c179e\"], [0.4444444444444444, \"#bd3786\"], [0.5555555555555556, \"#d8576b\"], [0.6666666666666666, \"#ed7953\"], [0.7777777777777778, \"#fb9f3a\"], [0.8888888888888888, \"#fdca26\"], [1.0, \"#f0f921\"]]}, \"colorway\": [\"#636efa\", \"#EF553B\", \"#00cc96\", \"#ab63fa\", \"#FFA15A\", \"#19d3f3\", \"#FF6692\", \"#B6E880\", \"#FF97FF\", \"#FECB52\"], \"font\": {\"color\": \"#2a3f5f\"}, \"geo\": {\"bgcolor\": \"white\", \"lakecolor\": \"white\", \"landcolor\": \"#E5ECF6\", \"showlakes\": true, \"showland\": true, \"subunitcolor\": \"white\"}, \"hoverlabel\": {\"align\": \"left\"}, \"hovermode\": \"closest\", \"mapbox\": {\"style\": \"light\"}, \"paper_bgcolor\": \"white\", \"plot_bgcolor\": \"#E5ECF6\", \"polar\": {\"angularaxis\": {\"gridcolor\": \"white\", \"linecolor\": \"white\", \"ticks\": \"\"}, \"bgcolor\": \"#E5ECF6\", \"radialaxis\": {\"gridcolor\": \"white\", \"linecolor\": \"white\", \"ticks\": \"\"}}, \"scene\": {\"xaxis\": {\"backgroundcolor\": \"#E5ECF6\", \"gridcolor\": \"white\", \"gridwidth\": 2, \"linecolor\": \"white\", \"showbackground\": true, \"ticks\": \"\", \"zerolinecolor\": \"white\"}, \"yaxis\": {\"backgroundcolor\": \"#E5ECF6\", \"gridcolor\": \"white\", \"gridwidth\": 2, \"linecolor\": \"white\", \"showbackground\": true, \"ticks\": \"\", \"zerolinecolor\": \"white\"}, \"zaxis\": {\"backgroundcolor\": \"#E5ECF6\", \"gridcolor\": \"white\", \"gridwidth\": 2, \"linecolor\": \"white\", \"showbackground\": true, \"ticks\": \"\", \"zerolinecolor\": \"white\"}}, \"shapedefaults\": {\"line\": {\"color\": \"#2a3f5f\"}}, \"ternary\": {\"aaxis\": {\"gridcolor\": \"white\", \"linecolor\": \"white\", \"ticks\": \"\"}, \"baxis\": {\"gridcolor\": \"white\", \"linecolor\": \"white\", \"ticks\": \"\"}, \"bgcolor\": \"#E5ECF6\", \"caxis\": {\"gridcolor\": \"white\", \"linecolor\": \"white\", \"ticks\": \"\"}}, \"title\": {\"x\": 0.05}, \"xaxis\": {\"automargin\": true, \"gridcolor\": \"white\", \"linecolor\": \"white\", \"ticks\": \"\", \"title\": {\"standoff\": 15}, \"zerolinecolor\": \"white\", \"zerolinewidth\": 2}, \"yaxis\": {\"automargin\": true, \"gridcolor\": \"white\", \"linecolor\": \"white\", \"ticks\": \"\", \"title\": {\"standoff\": 15}, \"zerolinecolor\": \"white\", \"zerolinewidth\": 2}}}, \"title\": {\"font\": {\"color\": \"#4D5663\"}}, \"xaxis\": {\"gridcolor\": \"#E1E5ED\", \"showgrid\": true, \"tickfont\": {\"color\": \"#4D5663\"}, \"title\": {\"font\": {\"color\": \"#4D5663\"}, \"text\": \"\"}, \"zerolinecolor\": \"#E1E5ED\"}, \"yaxis\": {\"gridcolor\": \"#E1E5ED\", \"showgrid\": true, \"tickfont\": {\"color\": \"#4D5663\"}, \"title\": {\"font\": {\"color\": \"#4D5663\"}, \"text\": \"\"}, \"zerolinecolor\": \"#E1E5ED\"}},                        {\"showLink\": true, \"linkText\": \"Export to plot.ly\", \"plotlyServerURL\": \"https://plot.ly\", \"responsive\": true}                    ).then(function(){\n",
       "                            \n",
       "var gd = document.getElementById('996232c2-4fe8-4bb6-9c03-2fd053d18e82');\n",
       "var x = new MutationObserver(function (mutations, observer) {{\n",
       "        var display = window.getComputedStyle(gd).display;\n",
       "        if (!display || display === 'none') {{\n",
       "            console.log([gd, 'removed!']);\n",
       "            Plotly.purge(gd);\n",
       "            observer.disconnect();\n",
       "        }}\n",
       "}});\n",
       "\n",
       "// Listen for the removal of the full notebook cells\n",
       "var notebookContainer = gd.closest('#notebook-container');\n",
       "if (notebookContainer) {{\n",
       "    x.observe(notebookContainer, {childList: true});\n",
       "}}\n",
       "\n",
       "// Listen for the clearing of the current output cell\n",
       "var outputEl = gd.closest('.output');\n",
       "if (outputEl) {{\n",
       "    x.observe(outputEl, {childList: true});\n",
       "}}\n",
       "\n",
       "                        })                };                });            </script>        </div>"
      ]
     },
     "metadata": {},
     "output_type": "display_data"
    }
   ],
   "source": [
    "df2.iplot(kind='bar',x='Category',y='Values')"
   ]
  },
  {
   "cell_type": "code",
   "execution_count": 12,
   "metadata": {},
   "outputs": [
    {
     "data": {
      "application/vnd.plotly.v1+json": {
       "config": {
        "linkText": "Export to plot.ly",
        "plotlyServerURL": "https://plot.ly",
        "showLink": true
       },
       "data": [
        {
         "marker": {
          "color": "rgba(255, 153, 51, 0.6)",
          "line": {
           "color": "rgba(255, 153, 51, 1.0)",
           "width": 1
          }
         },
         "name": "None",
         "orientation": "v",
         "text": "",
         "type": "bar",
         "x": [
          "A",
          "B",
          "C",
          "D"
         ],
         "y": [
          100,
          100,
          100,
          100
         ]
        }
       ],
       "layout": {
        "legend": {
         "bgcolor": "#F5F6F9",
         "font": {
          "color": "#4D5663"
         }
        },
        "paper_bgcolor": "#F5F6F9",
        "plot_bgcolor": "#F5F6F9",
        "template": {
         "data": {
          "bar": [
           {
            "error_x": {
             "color": "#2a3f5f"
            },
            "error_y": {
             "color": "#2a3f5f"
            },
            "marker": {
             "line": {
              "color": "#E5ECF6",
              "width": 0.5
             }
            },
            "type": "bar"
           }
          ],
          "barpolar": [
           {
            "marker": {
             "line": {
              "color": "#E5ECF6",
              "width": 0.5
             }
            },
            "type": "barpolar"
           }
          ],
          "carpet": [
           {
            "aaxis": {
             "endlinecolor": "#2a3f5f",
             "gridcolor": "white",
             "linecolor": "white",
             "minorgridcolor": "white",
             "startlinecolor": "#2a3f5f"
            },
            "baxis": {
             "endlinecolor": "#2a3f5f",
             "gridcolor": "white",
             "linecolor": "white",
             "minorgridcolor": "white",
             "startlinecolor": "#2a3f5f"
            },
            "type": "carpet"
           }
          ],
          "choropleth": [
           {
            "colorbar": {
             "outlinewidth": 0,
             "ticks": ""
            },
            "type": "choropleth"
           }
          ],
          "contour": [
           {
            "colorbar": {
             "outlinewidth": 0,
             "ticks": ""
            },
            "colorscale": [
             [
              0,
              "#0d0887"
             ],
             [
              0.1111111111111111,
              "#46039f"
             ],
             [
              0.2222222222222222,
              "#7201a8"
             ],
             [
              0.3333333333333333,
              "#9c179e"
             ],
             [
              0.4444444444444444,
              "#bd3786"
             ],
             [
              0.5555555555555556,
              "#d8576b"
             ],
             [
              0.6666666666666666,
              "#ed7953"
             ],
             [
              0.7777777777777778,
              "#fb9f3a"
             ],
             [
              0.8888888888888888,
              "#fdca26"
             ],
             [
              1,
              "#f0f921"
             ]
            ],
            "type": "contour"
           }
          ],
          "contourcarpet": [
           {
            "colorbar": {
             "outlinewidth": 0,
             "ticks": ""
            },
            "type": "contourcarpet"
           }
          ],
          "heatmap": [
           {
            "colorbar": {
             "outlinewidth": 0,
             "ticks": ""
            },
            "colorscale": [
             [
              0,
              "#0d0887"
             ],
             [
              0.1111111111111111,
              "#46039f"
             ],
             [
              0.2222222222222222,
              "#7201a8"
             ],
             [
              0.3333333333333333,
              "#9c179e"
             ],
             [
              0.4444444444444444,
              "#bd3786"
             ],
             [
              0.5555555555555556,
              "#d8576b"
             ],
             [
              0.6666666666666666,
              "#ed7953"
             ],
             [
              0.7777777777777778,
              "#fb9f3a"
             ],
             [
              0.8888888888888888,
              "#fdca26"
             ],
             [
              1,
              "#f0f921"
             ]
            ],
            "type": "heatmap"
           }
          ],
          "heatmapgl": [
           {
            "colorbar": {
             "outlinewidth": 0,
             "ticks": ""
            },
            "colorscale": [
             [
              0,
              "#0d0887"
             ],
             [
              0.1111111111111111,
              "#46039f"
             ],
             [
              0.2222222222222222,
              "#7201a8"
             ],
             [
              0.3333333333333333,
              "#9c179e"
             ],
             [
              0.4444444444444444,
              "#bd3786"
             ],
             [
              0.5555555555555556,
              "#d8576b"
             ],
             [
              0.6666666666666666,
              "#ed7953"
             ],
             [
              0.7777777777777778,
              "#fb9f3a"
             ],
             [
              0.8888888888888888,
              "#fdca26"
             ],
             [
              1,
              "#f0f921"
             ]
            ],
            "type": "heatmapgl"
           }
          ],
          "histogram": [
           {
            "marker": {
             "colorbar": {
              "outlinewidth": 0,
              "ticks": ""
             }
            },
            "type": "histogram"
           }
          ],
          "histogram2d": [
           {
            "colorbar": {
             "outlinewidth": 0,
             "ticks": ""
            },
            "colorscale": [
             [
              0,
              "#0d0887"
             ],
             [
              0.1111111111111111,
              "#46039f"
             ],
             [
              0.2222222222222222,
              "#7201a8"
             ],
             [
              0.3333333333333333,
              "#9c179e"
             ],
             [
              0.4444444444444444,
              "#bd3786"
             ],
             [
              0.5555555555555556,
              "#d8576b"
             ],
             [
              0.6666666666666666,
              "#ed7953"
             ],
             [
              0.7777777777777778,
              "#fb9f3a"
             ],
             [
              0.8888888888888888,
              "#fdca26"
             ],
             [
              1,
              "#f0f921"
             ]
            ],
            "type": "histogram2d"
           }
          ],
          "histogram2dcontour": [
           {
            "colorbar": {
             "outlinewidth": 0,
             "ticks": ""
            },
            "colorscale": [
             [
              0,
              "#0d0887"
             ],
             [
              0.1111111111111111,
              "#46039f"
             ],
             [
              0.2222222222222222,
              "#7201a8"
             ],
             [
              0.3333333333333333,
              "#9c179e"
             ],
             [
              0.4444444444444444,
              "#bd3786"
             ],
             [
              0.5555555555555556,
              "#d8576b"
             ],
             [
              0.6666666666666666,
              "#ed7953"
             ],
             [
              0.7777777777777778,
              "#fb9f3a"
             ],
             [
              0.8888888888888888,
              "#fdca26"
             ],
             [
              1,
              "#f0f921"
             ]
            ],
            "type": "histogram2dcontour"
           }
          ],
          "mesh3d": [
           {
            "colorbar": {
             "outlinewidth": 0,
             "ticks": ""
            },
            "type": "mesh3d"
           }
          ],
          "parcoords": [
           {
            "line": {
             "colorbar": {
              "outlinewidth": 0,
              "ticks": ""
             }
            },
            "type": "parcoords"
           }
          ],
          "pie": [
           {
            "automargin": true,
            "type": "pie"
           }
          ],
          "scatter": [
           {
            "marker": {
             "colorbar": {
              "outlinewidth": 0,
              "ticks": ""
             }
            },
            "type": "scatter"
           }
          ],
          "scatter3d": [
           {
            "line": {
             "colorbar": {
              "outlinewidth": 0,
              "ticks": ""
             }
            },
            "marker": {
             "colorbar": {
              "outlinewidth": 0,
              "ticks": ""
             }
            },
            "type": "scatter3d"
           }
          ],
          "scattercarpet": [
           {
            "marker": {
             "colorbar": {
              "outlinewidth": 0,
              "ticks": ""
             }
            },
            "type": "scattercarpet"
           }
          ],
          "scattergeo": [
           {
            "marker": {
             "colorbar": {
              "outlinewidth": 0,
              "ticks": ""
             }
            },
            "type": "scattergeo"
           }
          ],
          "scattergl": [
           {
            "marker": {
             "colorbar": {
              "outlinewidth": 0,
              "ticks": ""
             }
            },
            "type": "scattergl"
           }
          ],
          "scattermapbox": [
           {
            "marker": {
             "colorbar": {
              "outlinewidth": 0,
              "ticks": ""
             }
            },
            "type": "scattermapbox"
           }
          ],
          "scatterpolar": [
           {
            "marker": {
             "colorbar": {
              "outlinewidth": 0,
              "ticks": ""
             }
            },
            "type": "scatterpolar"
           }
          ],
          "scatterpolargl": [
           {
            "marker": {
             "colorbar": {
              "outlinewidth": 0,
              "ticks": ""
             }
            },
            "type": "scatterpolargl"
           }
          ],
          "scatterternary": [
           {
            "marker": {
             "colorbar": {
              "outlinewidth": 0,
              "ticks": ""
             }
            },
            "type": "scatterternary"
           }
          ],
          "surface": [
           {
            "colorbar": {
             "outlinewidth": 0,
             "ticks": ""
            },
            "colorscale": [
             [
              0,
              "#0d0887"
             ],
             [
              0.1111111111111111,
              "#46039f"
             ],
             [
              0.2222222222222222,
              "#7201a8"
             ],
             [
              0.3333333333333333,
              "#9c179e"
             ],
             [
              0.4444444444444444,
              "#bd3786"
             ],
             [
              0.5555555555555556,
              "#d8576b"
             ],
             [
              0.6666666666666666,
              "#ed7953"
             ],
             [
              0.7777777777777778,
              "#fb9f3a"
             ],
             [
              0.8888888888888888,
              "#fdca26"
             ],
             [
              1,
              "#f0f921"
             ]
            ],
            "type": "surface"
           }
          ],
          "table": [
           {
            "cells": {
             "fill": {
              "color": "#EBF0F8"
             },
             "line": {
              "color": "white"
             }
            },
            "header": {
             "fill": {
              "color": "#C8D4E3"
             },
             "line": {
              "color": "white"
             }
            },
            "type": "table"
           }
          ]
         },
         "layout": {
          "annotationdefaults": {
           "arrowcolor": "#2a3f5f",
           "arrowhead": 0,
           "arrowwidth": 1
          },
          "coloraxis": {
           "colorbar": {
            "outlinewidth": 0,
            "ticks": ""
           }
          },
          "colorscale": {
           "diverging": [
            [
             0,
             "#8e0152"
            ],
            [
             0.1,
             "#c51b7d"
            ],
            [
             0.2,
             "#de77ae"
            ],
            [
             0.3,
             "#f1b6da"
            ],
            [
             0.4,
             "#fde0ef"
            ],
            [
             0.5,
             "#f7f7f7"
            ],
            [
             0.6,
             "#e6f5d0"
            ],
            [
             0.7,
             "#b8e186"
            ],
            [
             0.8,
             "#7fbc41"
            ],
            [
             0.9,
             "#4d9221"
            ],
            [
             1,
             "#276419"
            ]
           ],
           "sequential": [
            [
             0,
             "#0d0887"
            ],
            [
             0.1111111111111111,
             "#46039f"
            ],
            [
             0.2222222222222222,
             "#7201a8"
            ],
            [
             0.3333333333333333,
             "#9c179e"
            ],
            [
             0.4444444444444444,
             "#bd3786"
            ],
            [
             0.5555555555555556,
             "#d8576b"
            ],
            [
             0.6666666666666666,
             "#ed7953"
            ],
            [
             0.7777777777777778,
             "#fb9f3a"
            ],
            [
             0.8888888888888888,
             "#fdca26"
            ],
            [
             1,
             "#f0f921"
            ]
           ],
           "sequentialminus": [
            [
             0,
             "#0d0887"
            ],
            [
             0.1111111111111111,
             "#46039f"
            ],
            [
             0.2222222222222222,
             "#7201a8"
            ],
            [
             0.3333333333333333,
             "#9c179e"
            ],
            [
             0.4444444444444444,
             "#bd3786"
            ],
            [
             0.5555555555555556,
             "#d8576b"
            ],
            [
             0.6666666666666666,
             "#ed7953"
            ],
            [
             0.7777777777777778,
             "#fb9f3a"
            ],
            [
             0.8888888888888888,
             "#fdca26"
            ],
            [
             1,
             "#f0f921"
            ]
           ]
          },
          "colorway": [
           "#636efa",
           "#EF553B",
           "#00cc96",
           "#ab63fa",
           "#FFA15A",
           "#19d3f3",
           "#FF6692",
           "#B6E880",
           "#FF97FF",
           "#FECB52"
          ],
          "font": {
           "color": "#2a3f5f"
          },
          "geo": {
           "bgcolor": "white",
           "lakecolor": "white",
           "landcolor": "#E5ECF6",
           "showlakes": true,
           "showland": true,
           "subunitcolor": "white"
          },
          "hoverlabel": {
           "align": "left"
          },
          "hovermode": "closest",
          "mapbox": {
           "style": "light"
          },
          "paper_bgcolor": "white",
          "plot_bgcolor": "#E5ECF6",
          "polar": {
           "angularaxis": {
            "gridcolor": "white",
            "linecolor": "white",
            "ticks": ""
           },
           "bgcolor": "#E5ECF6",
           "radialaxis": {
            "gridcolor": "white",
            "linecolor": "white",
            "ticks": ""
           }
          },
          "scene": {
           "xaxis": {
            "backgroundcolor": "#E5ECF6",
            "gridcolor": "white",
            "gridwidth": 2,
            "linecolor": "white",
            "showbackground": true,
            "ticks": "",
            "zerolinecolor": "white"
           },
           "yaxis": {
            "backgroundcolor": "#E5ECF6",
            "gridcolor": "white",
            "gridwidth": 2,
            "linecolor": "white",
            "showbackground": true,
            "ticks": "",
            "zerolinecolor": "white"
           },
           "zaxis": {
            "backgroundcolor": "#E5ECF6",
            "gridcolor": "white",
            "gridwidth": 2,
            "linecolor": "white",
            "showbackground": true,
            "ticks": "",
            "zerolinecolor": "white"
           }
          },
          "shapedefaults": {
           "line": {
            "color": "#2a3f5f"
           }
          },
          "ternary": {
           "aaxis": {
            "gridcolor": "white",
            "linecolor": "white",
            "ticks": ""
           },
           "baxis": {
            "gridcolor": "white",
            "linecolor": "white",
            "ticks": ""
           },
           "bgcolor": "#E5ECF6",
           "caxis": {
            "gridcolor": "white",
            "linecolor": "white",
            "ticks": ""
           }
          },
          "title": {
           "x": 0.05
          },
          "xaxis": {
           "automargin": true,
           "gridcolor": "white",
           "linecolor": "white",
           "ticks": "",
           "title": {
            "standoff": 15
           },
           "zerolinecolor": "white",
           "zerolinewidth": 2
          },
          "yaxis": {
           "automargin": true,
           "gridcolor": "white",
           "linecolor": "white",
           "ticks": "",
           "title": {
            "standoff": 15
           },
           "zerolinecolor": "white",
           "zerolinewidth": 2
          }
         }
        },
        "title": {
         "font": {
          "color": "#4D5663"
         }
        },
        "xaxis": {
         "gridcolor": "#E1E5ED",
         "showgrid": true,
         "tickfont": {
          "color": "#4D5663"
         },
         "title": {
          "font": {
           "color": "#4D5663"
          },
          "text": ""
         },
         "zerolinecolor": "#E1E5ED"
        },
        "yaxis": {
         "gridcolor": "#E1E5ED",
         "showgrid": true,
         "tickfont": {
          "color": "#4D5663"
         },
         "title": {
          "font": {
           "color": "#4D5663"
          },
          "text": ""
         },
         "zerolinecolor": "#E1E5ED"
        }
       }
      },
      "text/html": [
       "<div>                            <div id=\"4827eb16-2766-49bb-8470-138f75e50293\" class=\"plotly-graph-div\" style=\"height:525px; width:100%;\"></div>            <script type=\"text/javascript\">                require([\"plotly\"], function(Plotly) {                    window.PLOTLYENV=window.PLOTLYENV || {};\n",
       "                    window.PLOTLYENV.BASE_URL='https://plot.ly';                                    if (document.getElementById(\"4827eb16-2766-49bb-8470-138f75e50293\")) {                    Plotly.newPlot(                        \"4827eb16-2766-49bb-8470-138f75e50293\",                        [{\"marker\": {\"color\": \"rgba(255, 153, 51, 0.6)\", \"line\": {\"color\": \"rgba(255, 153, 51, 1.0)\", \"width\": 1}}, \"name\": \"None\", \"orientation\": \"v\", \"text\": \"\", \"type\": \"bar\", \"x\": [\"A\", \"B\", \"C\", \"D\"], \"y\": [100, 100, 100, 100]}],                        {\"legend\": {\"bgcolor\": \"#F5F6F9\", \"font\": {\"color\": \"#4D5663\"}}, \"paper_bgcolor\": \"#F5F6F9\", \"plot_bgcolor\": \"#F5F6F9\", \"template\": {\"data\": {\"bar\": [{\"error_x\": {\"color\": \"#2a3f5f\"}, \"error_y\": {\"color\": \"#2a3f5f\"}, \"marker\": {\"line\": {\"color\": \"#E5ECF6\", \"width\": 0.5}}, \"type\": \"bar\"}], \"barpolar\": [{\"marker\": {\"line\": {\"color\": \"#E5ECF6\", \"width\": 0.5}}, \"type\": \"barpolar\"}], \"carpet\": [{\"aaxis\": {\"endlinecolor\": \"#2a3f5f\", \"gridcolor\": \"white\", \"linecolor\": \"white\", \"minorgridcolor\": \"white\", \"startlinecolor\": \"#2a3f5f\"}, \"baxis\": {\"endlinecolor\": \"#2a3f5f\", \"gridcolor\": \"white\", \"linecolor\": \"white\", \"minorgridcolor\": \"white\", \"startlinecolor\": \"#2a3f5f\"}, \"type\": \"carpet\"}], \"choropleth\": [{\"colorbar\": {\"outlinewidth\": 0, \"ticks\": \"\"}, \"type\": \"choropleth\"}], \"contour\": [{\"colorbar\": {\"outlinewidth\": 0, \"ticks\": \"\"}, \"colorscale\": [[0.0, \"#0d0887\"], [0.1111111111111111, \"#46039f\"], [0.2222222222222222, \"#7201a8\"], [0.3333333333333333, \"#9c179e\"], [0.4444444444444444, \"#bd3786\"], [0.5555555555555556, \"#d8576b\"], [0.6666666666666666, \"#ed7953\"], [0.7777777777777778, \"#fb9f3a\"], [0.8888888888888888, \"#fdca26\"], [1.0, \"#f0f921\"]], \"type\": \"contour\"}], \"contourcarpet\": [{\"colorbar\": {\"outlinewidth\": 0, \"ticks\": \"\"}, \"type\": \"contourcarpet\"}], \"heatmap\": [{\"colorbar\": {\"outlinewidth\": 0, \"ticks\": \"\"}, \"colorscale\": [[0.0, \"#0d0887\"], [0.1111111111111111, \"#46039f\"], [0.2222222222222222, \"#7201a8\"], [0.3333333333333333, \"#9c179e\"], [0.4444444444444444, \"#bd3786\"], [0.5555555555555556, \"#d8576b\"], [0.6666666666666666, \"#ed7953\"], [0.7777777777777778, \"#fb9f3a\"], [0.8888888888888888, \"#fdca26\"], [1.0, \"#f0f921\"]], \"type\": \"heatmap\"}], \"heatmapgl\": [{\"colorbar\": {\"outlinewidth\": 0, \"ticks\": \"\"}, \"colorscale\": [[0.0, \"#0d0887\"], [0.1111111111111111, \"#46039f\"], [0.2222222222222222, \"#7201a8\"], [0.3333333333333333, \"#9c179e\"], [0.4444444444444444, \"#bd3786\"], [0.5555555555555556, \"#d8576b\"], [0.6666666666666666, \"#ed7953\"], [0.7777777777777778, \"#fb9f3a\"], [0.8888888888888888, \"#fdca26\"], [1.0, \"#f0f921\"]], \"type\": \"heatmapgl\"}], \"histogram\": [{\"marker\": {\"colorbar\": {\"outlinewidth\": 0, \"ticks\": \"\"}}, \"type\": \"histogram\"}], \"histogram2d\": [{\"colorbar\": {\"outlinewidth\": 0, \"ticks\": \"\"}, \"colorscale\": [[0.0, \"#0d0887\"], [0.1111111111111111, \"#46039f\"], [0.2222222222222222, \"#7201a8\"], [0.3333333333333333, \"#9c179e\"], [0.4444444444444444, \"#bd3786\"], [0.5555555555555556, \"#d8576b\"], [0.6666666666666666, \"#ed7953\"], [0.7777777777777778, \"#fb9f3a\"], [0.8888888888888888, \"#fdca26\"], [1.0, \"#f0f921\"]], \"type\": \"histogram2d\"}], \"histogram2dcontour\": [{\"colorbar\": {\"outlinewidth\": 0, \"ticks\": \"\"}, \"colorscale\": [[0.0, \"#0d0887\"], [0.1111111111111111, \"#46039f\"], [0.2222222222222222, \"#7201a8\"], [0.3333333333333333, \"#9c179e\"], [0.4444444444444444, \"#bd3786\"], [0.5555555555555556, \"#d8576b\"], [0.6666666666666666, \"#ed7953\"], [0.7777777777777778, \"#fb9f3a\"], [0.8888888888888888, \"#fdca26\"], [1.0, \"#f0f921\"]], \"type\": \"histogram2dcontour\"}], \"mesh3d\": [{\"colorbar\": {\"outlinewidth\": 0, \"ticks\": \"\"}, \"type\": \"mesh3d\"}], \"parcoords\": [{\"line\": {\"colorbar\": {\"outlinewidth\": 0, \"ticks\": \"\"}}, \"type\": \"parcoords\"}], \"pie\": [{\"automargin\": true, \"type\": \"pie\"}], \"scatter\": [{\"marker\": {\"colorbar\": {\"outlinewidth\": 0, \"ticks\": \"\"}}, \"type\": \"scatter\"}], \"scatter3d\": [{\"line\": {\"colorbar\": {\"outlinewidth\": 0, \"ticks\": \"\"}}, \"marker\": {\"colorbar\": {\"outlinewidth\": 0, \"ticks\": \"\"}}, \"type\": \"scatter3d\"}], \"scattercarpet\": [{\"marker\": {\"colorbar\": {\"outlinewidth\": 0, \"ticks\": \"\"}}, \"type\": \"scattercarpet\"}], \"scattergeo\": [{\"marker\": {\"colorbar\": {\"outlinewidth\": 0, \"ticks\": \"\"}}, \"type\": \"scattergeo\"}], \"scattergl\": [{\"marker\": {\"colorbar\": {\"outlinewidth\": 0, \"ticks\": \"\"}}, \"type\": \"scattergl\"}], \"scattermapbox\": [{\"marker\": {\"colorbar\": {\"outlinewidth\": 0, \"ticks\": \"\"}}, \"type\": \"scattermapbox\"}], \"scatterpolar\": [{\"marker\": {\"colorbar\": {\"outlinewidth\": 0, \"ticks\": \"\"}}, \"type\": \"scatterpolar\"}], \"scatterpolargl\": [{\"marker\": {\"colorbar\": {\"outlinewidth\": 0, \"ticks\": \"\"}}, \"type\": \"scatterpolargl\"}], \"scatterternary\": [{\"marker\": {\"colorbar\": {\"outlinewidth\": 0, \"ticks\": \"\"}}, \"type\": \"scatterternary\"}], \"surface\": [{\"colorbar\": {\"outlinewidth\": 0, \"ticks\": \"\"}, \"colorscale\": [[0.0, \"#0d0887\"], [0.1111111111111111, \"#46039f\"], [0.2222222222222222, \"#7201a8\"], [0.3333333333333333, \"#9c179e\"], [0.4444444444444444, \"#bd3786\"], [0.5555555555555556, \"#d8576b\"], [0.6666666666666666, \"#ed7953\"], [0.7777777777777778, \"#fb9f3a\"], [0.8888888888888888, \"#fdca26\"], [1.0, \"#f0f921\"]], \"type\": \"surface\"}], \"table\": [{\"cells\": {\"fill\": {\"color\": \"#EBF0F8\"}, \"line\": {\"color\": \"white\"}}, \"header\": {\"fill\": {\"color\": \"#C8D4E3\"}, \"line\": {\"color\": \"white\"}}, \"type\": \"table\"}]}, \"layout\": {\"annotationdefaults\": {\"arrowcolor\": \"#2a3f5f\", \"arrowhead\": 0, \"arrowwidth\": 1}, \"coloraxis\": {\"colorbar\": {\"outlinewidth\": 0, \"ticks\": \"\"}}, \"colorscale\": {\"diverging\": [[0, \"#8e0152\"], [0.1, \"#c51b7d\"], [0.2, \"#de77ae\"], [0.3, \"#f1b6da\"], [0.4, \"#fde0ef\"], [0.5, \"#f7f7f7\"], [0.6, \"#e6f5d0\"], [0.7, \"#b8e186\"], [0.8, \"#7fbc41\"], [0.9, \"#4d9221\"], [1, \"#276419\"]], \"sequential\": [[0.0, \"#0d0887\"], [0.1111111111111111, \"#46039f\"], [0.2222222222222222, \"#7201a8\"], [0.3333333333333333, \"#9c179e\"], [0.4444444444444444, \"#bd3786\"], [0.5555555555555556, \"#d8576b\"], [0.6666666666666666, \"#ed7953\"], [0.7777777777777778, \"#fb9f3a\"], [0.8888888888888888, \"#fdca26\"], [1.0, \"#f0f921\"]], \"sequentialminus\": [[0.0, \"#0d0887\"], [0.1111111111111111, \"#46039f\"], [0.2222222222222222, \"#7201a8\"], [0.3333333333333333, \"#9c179e\"], [0.4444444444444444, \"#bd3786\"], [0.5555555555555556, \"#d8576b\"], [0.6666666666666666, \"#ed7953\"], [0.7777777777777778, \"#fb9f3a\"], [0.8888888888888888, \"#fdca26\"], [1.0, \"#f0f921\"]]}, \"colorway\": [\"#636efa\", \"#EF553B\", \"#00cc96\", \"#ab63fa\", \"#FFA15A\", \"#19d3f3\", \"#FF6692\", \"#B6E880\", \"#FF97FF\", \"#FECB52\"], \"font\": {\"color\": \"#2a3f5f\"}, \"geo\": {\"bgcolor\": \"white\", \"lakecolor\": \"white\", \"landcolor\": \"#E5ECF6\", \"showlakes\": true, \"showland\": true, \"subunitcolor\": \"white\"}, \"hoverlabel\": {\"align\": \"left\"}, \"hovermode\": \"closest\", \"mapbox\": {\"style\": \"light\"}, \"paper_bgcolor\": \"white\", \"plot_bgcolor\": \"#E5ECF6\", \"polar\": {\"angularaxis\": {\"gridcolor\": \"white\", \"linecolor\": \"white\", \"ticks\": \"\"}, \"bgcolor\": \"#E5ECF6\", \"radialaxis\": {\"gridcolor\": \"white\", \"linecolor\": \"white\", \"ticks\": \"\"}}, \"scene\": {\"xaxis\": {\"backgroundcolor\": \"#E5ECF6\", \"gridcolor\": \"white\", \"gridwidth\": 2, \"linecolor\": \"white\", \"showbackground\": true, \"ticks\": \"\", \"zerolinecolor\": \"white\"}, \"yaxis\": {\"backgroundcolor\": \"#E5ECF6\", \"gridcolor\": \"white\", \"gridwidth\": 2, \"linecolor\": \"white\", \"showbackground\": true, \"ticks\": \"\", \"zerolinecolor\": \"white\"}, \"zaxis\": {\"backgroundcolor\": \"#E5ECF6\", \"gridcolor\": \"white\", \"gridwidth\": 2, \"linecolor\": \"white\", \"showbackground\": true, \"ticks\": \"\", \"zerolinecolor\": \"white\"}}, \"shapedefaults\": {\"line\": {\"color\": \"#2a3f5f\"}}, \"ternary\": {\"aaxis\": {\"gridcolor\": \"white\", \"linecolor\": \"white\", \"ticks\": \"\"}, \"baxis\": {\"gridcolor\": \"white\", \"linecolor\": \"white\", \"ticks\": \"\"}, \"bgcolor\": \"#E5ECF6\", \"caxis\": {\"gridcolor\": \"white\", \"linecolor\": \"white\", \"ticks\": \"\"}}, \"title\": {\"x\": 0.05}, \"xaxis\": {\"automargin\": true, \"gridcolor\": \"white\", \"linecolor\": \"white\", \"ticks\": \"\", \"title\": {\"standoff\": 15}, \"zerolinecolor\": \"white\", \"zerolinewidth\": 2}, \"yaxis\": {\"automargin\": true, \"gridcolor\": \"white\", \"linecolor\": \"white\", \"ticks\": \"\", \"title\": {\"standoff\": 15}, \"zerolinecolor\": \"white\", \"zerolinewidth\": 2}}}, \"title\": {\"font\": {\"color\": \"#4D5663\"}}, \"xaxis\": {\"gridcolor\": \"#E1E5ED\", \"showgrid\": true, \"tickfont\": {\"color\": \"#4D5663\"}, \"title\": {\"font\": {\"color\": \"#4D5663\"}, \"text\": \"\"}, \"zerolinecolor\": \"#E1E5ED\"}, \"yaxis\": {\"gridcolor\": \"#E1E5ED\", \"showgrid\": true, \"tickfont\": {\"color\": \"#4D5663\"}, \"title\": {\"font\": {\"color\": \"#4D5663\"}, \"text\": \"\"}, \"zerolinecolor\": \"#E1E5ED\"}},                        {\"showLink\": true, \"linkText\": \"Export to plot.ly\", \"plotlyServerURL\": \"https://plot.ly\", \"responsive\": true}                    ).then(function(){\n",
       "                            \n",
       "var gd = document.getElementById('4827eb16-2766-49bb-8470-138f75e50293');\n",
       "var x = new MutationObserver(function (mutations, observer) {{\n",
       "        var display = window.getComputedStyle(gd).display;\n",
       "        if (!display || display === 'none') {{\n",
       "            console.log([gd, 'removed!']);\n",
       "            Plotly.purge(gd);\n",
       "            observer.disconnect();\n",
       "        }}\n",
       "}});\n",
       "\n",
       "// Listen for the removal of the full notebook cells\n",
       "var notebookContainer = gd.closest('#notebook-container');\n",
       "if (notebookContainer) {{\n",
       "    x.observe(notebookContainer, {childList: true});\n",
       "}}\n",
       "\n",
       "// Listen for the clearing of the current output cell\n",
       "var outputEl = gd.closest('.output');\n",
       "if (outputEl) {{\n",
       "    x.observe(outputEl, {childList: true});\n",
       "}}\n",
       "\n",
       "                        })                };                });            </script>        </div>"
      ]
     },
     "metadata": {},
     "output_type": "display_data"
    }
   ],
   "source": [
    "df.count().iplot(kind='bar')"
   ]
  },
  {
   "cell_type": "markdown",
   "metadata": {},
   "source": [
    "## Boxplots"
   ]
  },
  {
   "cell_type": "code",
   "execution_count": 13,
   "metadata": {},
   "outputs": [
    {
     "data": {
      "application/vnd.plotly.v1+json": {
       "config": {
        "linkText": "Export to plot.ly",
        "plotlyServerURL": "https://plot.ly",
        "showLink": true
       },
       "data": [
        {
         "boxpoints": false,
         "line": {
          "width": 1.3
         },
         "marker": {
          "color": "rgba(255, 153, 51, 1.0)"
         },
         "name": "A",
         "orientation": "v",
         "type": "box",
         "y": [
          0.24588717410753003,
          -1.5443326651682237,
          -0.7892940576313485,
          -0.7521408949768861,
          -0.4796778753536114,
          -0.038090741190589895,
          -1.2936477357446499,
          -2.723420833634864,
          1.9086517655499613,
          0.4087252992968224,
          -2.5161479197724548,
          0.5467932638969071,
          0.7522566966657753,
          -0.5375211691145616,
          -0.5575175182237166,
          0.6909421933307822,
          1.4178037665917353,
          -1.3189638698222304,
          0.38135037719477854,
          -0.8975045777020152,
          1.5990034926885215,
          0.7513798196549333,
          -2.7246607309103466,
          0.009181632602803554,
          -0.7199645224339926,
          1.0159431349247343,
          0.35555691751734403,
          0.5133793537990036,
          -0.7898146830454974,
          0.145975409251844,
          0.7290500746987666,
          -0.03207417260027835,
          0.5758332689076748,
          -0.7309258513953879,
          -1.3488321998603487,
          0.9348030875542376,
          -0.5530946341539287,
          0.708339786978607,
          1.3589273059294322,
          0.6042100092089738,
          -0.018519711780514307,
          -0.8497345423017969,
          0.25930721389934425,
          0.6570749338815411,
          0.12722479020271082,
          0.5981116642723051,
          1.1087139573109894,
          0.4335456958746609,
          -0.4986020130951775,
          0.16019426329620462,
          1.0956079098556886,
          2.1781844015324,
          0.38743513688648556,
          0.23232445913149288,
          -0.02225732068587582,
          1.240721487888421,
          0.8348794737172368,
          0.49131381569131605,
          -2.465460913038345,
          -1.4128691396273751,
          0.45471027773277545,
          0.2366496229800066,
          -0.8443631136799993,
          -1.5050581382231454,
          -0.3489519058130828,
          -0.09252638339915405,
          0.4622723828835006,
          -1.0832375330785835,
          -0.172975234005294,
          1.0525870174915173,
          -0.0605350567014285,
          0.7431366307343629,
          -0.32259824462116854,
          0.46655615372559767,
          -0.8766531102031185,
          -0.25067319773196817,
          1.9220011649797581,
          -0.8995754398187623,
          -0.09723736864284754,
          0.13632410802735093,
          -0.2645397703087663,
          0.5956787521414239,
          -0.16086207093244567,
          0.3919638756805205,
          1.6431864559841054,
          0.500292502469693,
          -2.2982921012198525,
          0.7040176660035111,
          0.5779821463206176,
          0.37819996172214365,
          0.2468873010137249,
          0.7112664646179129,
          -1.8315612256428866,
          -0.8926722024059833,
          -2.2000637729889774,
          -0.1347498116867438,
          0.418059595878196,
          -0.21752058196722435,
          0.25604934393242434,
          1.0349299221152255
         ]
        },
        {
         "boxpoints": false,
         "line": {
          "width": 1.3
         },
         "marker": {
          "color": "rgba(55, 128, 191, 1.0)"
         },
         "name": "B",
         "orientation": "v",
         "type": "box",
         "y": [
          0.17890934769892103,
          -0.033123808583366866,
          -1.7822064108916256,
          -0.5373491252336633,
          -1.4571186682282393,
          -1.4078878238560042,
          -1.2674356310721624,
          2.019550830934474,
          -0.4888330588658283,
          0.13141884905230608,
          -0.9312556526036885,
          -0.007754038998178534,
          2.435535100927038,
          0.7079881733133355,
          0.31467573359242035,
          1.1926023566358455,
          -0.06993966578389549,
          1.3105124782278086,
          -1.791805838390315,
          0.786940457459193,
          1.392374807377714,
          0.18685037333581317,
          0.5159651139015339,
          -1.3788427841040845,
          0.4481570242827706,
          -0.23192149556047384,
          -1.793900944752704,
          -0.6503177928618666,
          -1.2523592184401433,
          0.9397745472901148,
          -1.2140853902232587,
          1.3536707221874327,
          -2.2065900699338212,
          -0.2597360149080525,
          -1.4231111759501243,
          1.3997148101941983,
          -0.8711159875276375,
          0.1535439165088105,
          0.6223667974799626,
          -0.5428449527751454,
          -0.40790956932452943,
          -0.74095035588002,
          1.180243228006508,
          -1.2246704095828187,
          0.5104837648637698,
          0.45166433234461617,
          0.021824417646521932,
          -0.1199772823884989,
          -0.6313062350478947,
          0.8962458311228109,
          0.8459257422214808,
          0.40390475120466934,
          -0.7075908392741708,
          1.6564340845542072,
          0.5361952772128227,
          -0.07758458280582371,
          1.2853799260053234,
          -0.7655843186082435,
          -0.47497301247656126,
          -1.1259800726037426,
          0.19101899430261973,
          -1.827357574298033,
          -2.2013084050446086,
          0.9194612052082188,
          0.13767551508349066,
          -1.474381924958377,
          -0.8835121299482696,
          0.15730940685310918,
          0.22846581412701608,
          0.7715085536815187,
          -1.1394219297866262,
          0.15117704785432218,
          -0.5729191210052296,
          0.8201939049808525,
          0.1915501286014221,
          -0.6403217290879047,
          0.6696931832935046,
          0.5515620084580015,
          -0.44800211781238813,
          0.5496148064169799,
          -0.33023177959341304,
          -0.3405279676130839,
          1.9117164440223209,
          0.27499941131265915,
          0.48223764210266046,
          0.6010465347356609,
          0.3359623795070407,
          0.8393356310861901,
          -1.1715806085723153,
          0.3231670247779722,
          0.23374619998387358,
          1.206861746979094,
          -0.6443967282087286,
          1.9062966496430345,
          2.189933048739878,
          -0.01675318476017029,
          -0.014711562140090341,
          0.7294260989680877,
          -1.4051167130267577,
          1.7692353305949258
         ]
        },
        {
         "boxpoints": false,
         "line": {
          "width": 1.3
         },
         "marker": {
          "color": "rgba(50, 171, 96, 1.0)"
         },
         "name": "C",
         "orientation": "v",
         "type": "box",
         "y": [
          -1.6637658403871858,
          -0.657694686649294,
          1.3059715178359503,
          -0.3149914691862647,
          -0.19740147661311008,
          -0.7262569294732033,
          -0.3723489729197542,
          -0.6218029304938382,
          1.2635332476692993,
          0.33355540120598637,
          0.8648963919743383,
          0.3866360975707411,
          0.3155953078310076,
          0.18153871384542808,
          0.38243747455230664,
          1.3018507017779704,
          -1.6493392399381743,
          0.1435498441794928,
          -0.33487382215636274,
          0.5974699883650271,
          -1.121250409459856,
          -0.3299784112379456,
          0.6300607469165224,
          -0.021874398113414493,
          -1.140421242973153,
          -0.8342853458804352,
          -0.46687658894650796,
          -0.12006718098128669,
          0.001794795971967873,
          2.2334745742355744,
          -0.45532941432740776,
          0.45369589492365353,
          0.5715742551648502,
          0.12999205451536372,
          0.9798427403913135,
          -1.1013854499947524,
          0.7451227517265764,
          -0.16558731642780355,
          -0.7578513959831613,
          0.23148677932941697,
          0.05291433736418039,
          0.14120620024153313,
          -0.890361671499394,
          -0.5828256100210454,
          -0.26662291596413,
          0.12680816802050154,
          -0.7996736330653782,
          0.2829032455605437,
          0.38365787558487613,
          0.722823574532583,
          0.9864283730373686,
          0.7167756493371129,
          0.7986176751538434,
          -0.26357220490136485,
          0.5832744365822795,
          -0.39725346676339407,
          -0.2848428532723495,
          -1.062948231189015,
          0.10343690022589565,
          -0.5260241153573986,
          -0.04513586070032704,
          0.1568763359759615,
          -2.4793109380293026,
          -1.7262919520054156,
          -0.28309215653608133,
          -1.4292441498466897,
          -0.49299508967169486,
          1.4690306914515092,
          -0.3720244126792224,
          0.8530079426187204,
          0.23232697689398335,
          0.2232915630510586,
          1.333059407449093,
          0.4204088652819113,
          0.2728601828302727,
          -1.5002908429312536,
          -0.03679699218171279,
          1.03150319088492,
          -0.5333704521533563,
          -0.2241921679973938,
          -0.1348245531798344,
          1.4790065301549309,
          -0.21286254648898834,
          -1.1138480435184028,
          -0.2871485553416153,
          -0.38214607242128873,
          0.03953002115077242,
          -0.8995192117977602,
          0.5898544614973151,
          -1.1280270782243411,
          -1.0017202034219947,
          1.334528050829268,
          0.2302117795420704,
          2.2917553919395877,
          0.38535825261604134,
          0.4409141875158465,
          -0.8982601958634147,
          1.456441925363782,
          -0.7066633678271631,
          0.491245841413864
         ]
        },
        {
         "boxpoints": false,
         "line": {
          "width": 1.3
         },
         "marker": {
          "color": "rgba(128, 0, 128, 1.0)"
         },
         "name": "D",
         "orientation": "v",
         "type": "box",
         "y": [
          0.36658334448611524,
          0.19845076220323576,
          -0.5651712027994558,
          2.193577866173761,
          1.5149948785886453,
          1.6733520741671735,
          -1.1725004239501247,
          -1.1707014405700813,
          1.2359990662291649,
          0.19842120481922254,
          0.7330485339994786,
          -0.8693083595099061,
          -0.5270413468799706,
          -1.354218913431506,
          -1.7685244077435833,
          -0.260314589462929,
          0.30282326692474354,
          -0.2717067829910568,
          -1.2150409383619503,
          -0.2555709607571646,
          -0.05124075636918029,
          1.8852519764268754,
          -1.601286850490827,
          1.54072258436688,
          0.3571339450518127,
          0.10175361194820905,
          1.7010011270831262,
          -0.8075249021394392,
          0.9985264405480407,
          2.3909015128456126,
          -1.818944665442849,
          1.0942605179660203,
          0.5607010732335282,
          1.3624184981034404,
          1.780995774836401,
          1.7423040886955967,
          0.39364260342716445,
          -1.2904760393544574,
          0.45070832653871207,
          -0.10771508015659297,
          -0.2943301168013902,
          0.3932242030301506,
          1.0848668371554122,
          0.1368611776492048,
          0.8202827429670868,
          -0.2923089363193607,
          -1.4450748380215312,
          -1.4431674879988077,
          0.9415490019443867,
          -0.48920417409841094,
          -0.6914636868574582,
          -0.3481772958397043,
          1.0403129130513384,
          1.5073119731677258,
          -0.04448455581151121,
          -1.4162702853379443,
          1.6775212313123686,
          0.9680065391411762,
          -1.059446987989666,
          -0.3633843198121292,
          0.10456297098003199,
          1.0742443032168776,
          0.14146271989491305,
          0.29668491474159064,
          0.16422150420802972,
          -0.7101348857676307,
          -0.33599711095820306,
          -1.1118327374975754,
          -1.5426044057465307,
          -1.0698524813724384,
          -1.6008550676497943,
          0.4258535835859018,
          -0.8565382307789904,
          -0.3344250668125585,
          -0.3245812261322852,
          0.869651399432386,
          1.5324236508167144,
          -1.0979129972793518,
          0.8837655330739056,
          -1.4834538691705255,
          0.2984133034622976,
          0.9226592844372362,
          0.4472688467531478,
          -0.19016849747466189,
          -0.40828103650485137,
          2.521920124778835,
          -0.5723942629924068,
          0.36807494520995543,
          -0.9663822982751383,
          -0.5784278949305642,
          -0.9298529129033023,
          -2.1240941747407684,
          0.23853420572339354,
          1.0258151572359666,
          0.9330593686088765,
          0.09828079449549484,
          0.19886478752367762,
          -0.5353917624257729,
          0.47265665142232643,
          -1.3887969384841345
         ]
        }
       ],
       "layout": {
        "legend": {
         "bgcolor": "#F5F6F9",
         "font": {
          "color": "#4D5663"
         }
        },
        "paper_bgcolor": "#F5F6F9",
        "plot_bgcolor": "#F5F6F9",
        "template": {
         "data": {
          "bar": [
           {
            "error_x": {
             "color": "#2a3f5f"
            },
            "error_y": {
             "color": "#2a3f5f"
            },
            "marker": {
             "line": {
              "color": "#E5ECF6",
              "width": 0.5
             }
            },
            "type": "bar"
           }
          ],
          "barpolar": [
           {
            "marker": {
             "line": {
              "color": "#E5ECF6",
              "width": 0.5
             }
            },
            "type": "barpolar"
           }
          ],
          "carpet": [
           {
            "aaxis": {
             "endlinecolor": "#2a3f5f",
             "gridcolor": "white",
             "linecolor": "white",
             "minorgridcolor": "white",
             "startlinecolor": "#2a3f5f"
            },
            "baxis": {
             "endlinecolor": "#2a3f5f",
             "gridcolor": "white",
             "linecolor": "white",
             "minorgridcolor": "white",
             "startlinecolor": "#2a3f5f"
            },
            "type": "carpet"
           }
          ],
          "choropleth": [
           {
            "colorbar": {
             "outlinewidth": 0,
             "ticks": ""
            },
            "type": "choropleth"
           }
          ],
          "contour": [
           {
            "colorbar": {
             "outlinewidth": 0,
             "ticks": ""
            },
            "colorscale": [
             [
              0,
              "#0d0887"
             ],
             [
              0.1111111111111111,
              "#46039f"
             ],
             [
              0.2222222222222222,
              "#7201a8"
             ],
             [
              0.3333333333333333,
              "#9c179e"
             ],
             [
              0.4444444444444444,
              "#bd3786"
             ],
             [
              0.5555555555555556,
              "#d8576b"
             ],
             [
              0.6666666666666666,
              "#ed7953"
             ],
             [
              0.7777777777777778,
              "#fb9f3a"
             ],
             [
              0.8888888888888888,
              "#fdca26"
             ],
             [
              1,
              "#f0f921"
             ]
            ],
            "type": "contour"
           }
          ],
          "contourcarpet": [
           {
            "colorbar": {
             "outlinewidth": 0,
             "ticks": ""
            },
            "type": "contourcarpet"
           }
          ],
          "heatmap": [
           {
            "colorbar": {
             "outlinewidth": 0,
             "ticks": ""
            },
            "colorscale": [
             [
              0,
              "#0d0887"
             ],
             [
              0.1111111111111111,
              "#46039f"
             ],
             [
              0.2222222222222222,
              "#7201a8"
             ],
             [
              0.3333333333333333,
              "#9c179e"
             ],
             [
              0.4444444444444444,
              "#bd3786"
             ],
             [
              0.5555555555555556,
              "#d8576b"
             ],
             [
              0.6666666666666666,
              "#ed7953"
             ],
             [
              0.7777777777777778,
              "#fb9f3a"
             ],
             [
              0.8888888888888888,
              "#fdca26"
             ],
             [
              1,
              "#f0f921"
             ]
            ],
            "type": "heatmap"
           }
          ],
          "heatmapgl": [
           {
            "colorbar": {
             "outlinewidth": 0,
             "ticks": ""
            },
            "colorscale": [
             [
              0,
              "#0d0887"
             ],
             [
              0.1111111111111111,
              "#46039f"
             ],
             [
              0.2222222222222222,
              "#7201a8"
             ],
             [
              0.3333333333333333,
              "#9c179e"
             ],
             [
              0.4444444444444444,
              "#bd3786"
             ],
             [
              0.5555555555555556,
              "#d8576b"
             ],
             [
              0.6666666666666666,
              "#ed7953"
             ],
             [
              0.7777777777777778,
              "#fb9f3a"
             ],
             [
              0.8888888888888888,
              "#fdca26"
             ],
             [
              1,
              "#f0f921"
             ]
            ],
            "type": "heatmapgl"
           }
          ],
          "histogram": [
           {
            "marker": {
             "colorbar": {
              "outlinewidth": 0,
              "ticks": ""
             }
            },
            "type": "histogram"
           }
          ],
          "histogram2d": [
           {
            "colorbar": {
             "outlinewidth": 0,
             "ticks": ""
            },
            "colorscale": [
             [
              0,
              "#0d0887"
             ],
             [
              0.1111111111111111,
              "#46039f"
             ],
             [
              0.2222222222222222,
              "#7201a8"
             ],
             [
              0.3333333333333333,
              "#9c179e"
             ],
             [
              0.4444444444444444,
              "#bd3786"
             ],
             [
              0.5555555555555556,
              "#d8576b"
             ],
             [
              0.6666666666666666,
              "#ed7953"
             ],
             [
              0.7777777777777778,
              "#fb9f3a"
             ],
             [
              0.8888888888888888,
              "#fdca26"
             ],
             [
              1,
              "#f0f921"
             ]
            ],
            "type": "histogram2d"
           }
          ],
          "histogram2dcontour": [
           {
            "colorbar": {
             "outlinewidth": 0,
             "ticks": ""
            },
            "colorscale": [
             [
              0,
              "#0d0887"
             ],
             [
              0.1111111111111111,
              "#46039f"
             ],
             [
              0.2222222222222222,
              "#7201a8"
             ],
             [
              0.3333333333333333,
              "#9c179e"
             ],
             [
              0.4444444444444444,
              "#bd3786"
             ],
             [
              0.5555555555555556,
              "#d8576b"
             ],
             [
              0.6666666666666666,
              "#ed7953"
             ],
             [
              0.7777777777777778,
              "#fb9f3a"
             ],
             [
              0.8888888888888888,
              "#fdca26"
             ],
             [
              1,
              "#f0f921"
             ]
            ],
            "type": "histogram2dcontour"
           }
          ],
          "mesh3d": [
           {
            "colorbar": {
             "outlinewidth": 0,
             "ticks": ""
            },
            "type": "mesh3d"
           }
          ],
          "parcoords": [
           {
            "line": {
             "colorbar": {
              "outlinewidth": 0,
              "ticks": ""
             }
            },
            "type": "parcoords"
           }
          ],
          "pie": [
           {
            "automargin": true,
            "type": "pie"
           }
          ],
          "scatter": [
           {
            "marker": {
             "colorbar": {
              "outlinewidth": 0,
              "ticks": ""
             }
            },
            "type": "scatter"
           }
          ],
          "scatter3d": [
           {
            "line": {
             "colorbar": {
              "outlinewidth": 0,
              "ticks": ""
             }
            },
            "marker": {
             "colorbar": {
              "outlinewidth": 0,
              "ticks": ""
             }
            },
            "type": "scatter3d"
           }
          ],
          "scattercarpet": [
           {
            "marker": {
             "colorbar": {
              "outlinewidth": 0,
              "ticks": ""
             }
            },
            "type": "scattercarpet"
           }
          ],
          "scattergeo": [
           {
            "marker": {
             "colorbar": {
              "outlinewidth": 0,
              "ticks": ""
             }
            },
            "type": "scattergeo"
           }
          ],
          "scattergl": [
           {
            "marker": {
             "colorbar": {
              "outlinewidth": 0,
              "ticks": ""
             }
            },
            "type": "scattergl"
           }
          ],
          "scattermapbox": [
           {
            "marker": {
             "colorbar": {
              "outlinewidth": 0,
              "ticks": ""
             }
            },
            "type": "scattermapbox"
           }
          ],
          "scatterpolar": [
           {
            "marker": {
             "colorbar": {
              "outlinewidth": 0,
              "ticks": ""
             }
            },
            "type": "scatterpolar"
           }
          ],
          "scatterpolargl": [
           {
            "marker": {
             "colorbar": {
              "outlinewidth": 0,
              "ticks": ""
             }
            },
            "type": "scatterpolargl"
           }
          ],
          "scatterternary": [
           {
            "marker": {
             "colorbar": {
              "outlinewidth": 0,
              "ticks": ""
             }
            },
            "type": "scatterternary"
           }
          ],
          "surface": [
           {
            "colorbar": {
             "outlinewidth": 0,
             "ticks": ""
            },
            "colorscale": [
             [
              0,
              "#0d0887"
             ],
             [
              0.1111111111111111,
              "#46039f"
             ],
             [
              0.2222222222222222,
              "#7201a8"
             ],
             [
              0.3333333333333333,
              "#9c179e"
             ],
             [
              0.4444444444444444,
              "#bd3786"
             ],
             [
              0.5555555555555556,
              "#d8576b"
             ],
             [
              0.6666666666666666,
              "#ed7953"
             ],
             [
              0.7777777777777778,
              "#fb9f3a"
             ],
             [
              0.8888888888888888,
              "#fdca26"
             ],
             [
              1,
              "#f0f921"
             ]
            ],
            "type": "surface"
           }
          ],
          "table": [
           {
            "cells": {
             "fill": {
              "color": "#EBF0F8"
             },
             "line": {
              "color": "white"
             }
            },
            "header": {
             "fill": {
              "color": "#C8D4E3"
             },
             "line": {
              "color": "white"
             }
            },
            "type": "table"
           }
          ]
         },
         "layout": {
          "annotationdefaults": {
           "arrowcolor": "#2a3f5f",
           "arrowhead": 0,
           "arrowwidth": 1
          },
          "coloraxis": {
           "colorbar": {
            "outlinewidth": 0,
            "ticks": ""
           }
          },
          "colorscale": {
           "diverging": [
            [
             0,
             "#8e0152"
            ],
            [
             0.1,
             "#c51b7d"
            ],
            [
             0.2,
             "#de77ae"
            ],
            [
             0.3,
             "#f1b6da"
            ],
            [
             0.4,
             "#fde0ef"
            ],
            [
             0.5,
             "#f7f7f7"
            ],
            [
             0.6,
             "#e6f5d0"
            ],
            [
             0.7,
             "#b8e186"
            ],
            [
             0.8,
             "#7fbc41"
            ],
            [
             0.9,
             "#4d9221"
            ],
            [
             1,
             "#276419"
            ]
           ],
           "sequential": [
            [
             0,
             "#0d0887"
            ],
            [
             0.1111111111111111,
             "#46039f"
            ],
            [
             0.2222222222222222,
             "#7201a8"
            ],
            [
             0.3333333333333333,
             "#9c179e"
            ],
            [
             0.4444444444444444,
             "#bd3786"
            ],
            [
             0.5555555555555556,
             "#d8576b"
            ],
            [
             0.6666666666666666,
             "#ed7953"
            ],
            [
             0.7777777777777778,
             "#fb9f3a"
            ],
            [
             0.8888888888888888,
             "#fdca26"
            ],
            [
             1,
             "#f0f921"
            ]
           ],
           "sequentialminus": [
            [
             0,
             "#0d0887"
            ],
            [
             0.1111111111111111,
             "#46039f"
            ],
            [
             0.2222222222222222,
             "#7201a8"
            ],
            [
             0.3333333333333333,
             "#9c179e"
            ],
            [
             0.4444444444444444,
             "#bd3786"
            ],
            [
             0.5555555555555556,
             "#d8576b"
            ],
            [
             0.6666666666666666,
             "#ed7953"
            ],
            [
             0.7777777777777778,
             "#fb9f3a"
            ],
            [
             0.8888888888888888,
             "#fdca26"
            ],
            [
             1,
             "#f0f921"
            ]
           ]
          },
          "colorway": [
           "#636efa",
           "#EF553B",
           "#00cc96",
           "#ab63fa",
           "#FFA15A",
           "#19d3f3",
           "#FF6692",
           "#B6E880",
           "#FF97FF",
           "#FECB52"
          ],
          "font": {
           "color": "#2a3f5f"
          },
          "geo": {
           "bgcolor": "white",
           "lakecolor": "white",
           "landcolor": "#E5ECF6",
           "showlakes": true,
           "showland": true,
           "subunitcolor": "white"
          },
          "hoverlabel": {
           "align": "left"
          },
          "hovermode": "closest",
          "mapbox": {
           "style": "light"
          },
          "paper_bgcolor": "white",
          "plot_bgcolor": "#E5ECF6",
          "polar": {
           "angularaxis": {
            "gridcolor": "white",
            "linecolor": "white",
            "ticks": ""
           },
           "bgcolor": "#E5ECF6",
           "radialaxis": {
            "gridcolor": "white",
            "linecolor": "white",
            "ticks": ""
           }
          },
          "scene": {
           "xaxis": {
            "backgroundcolor": "#E5ECF6",
            "gridcolor": "white",
            "gridwidth": 2,
            "linecolor": "white",
            "showbackground": true,
            "ticks": "",
            "zerolinecolor": "white"
           },
           "yaxis": {
            "backgroundcolor": "#E5ECF6",
            "gridcolor": "white",
            "gridwidth": 2,
            "linecolor": "white",
            "showbackground": true,
            "ticks": "",
            "zerolinecolor": "white"
           },
           "zaxis": {
            "backgroundcolor": "#E5ECF6",
            "gridcolor": "white",
            "gridwidth": 2,
            "linecolor": "white",
            "showbackground": true,
            "ticks": "",
            "zerolinecolor": "white"
           }
          },
          "shapedefaults": {
           "line": {
            "color": "#2a3f5f"
           }
          },
          "ternary": {
           "aaxis": {
            "gridcolor": "white",
            "linecolor": "white",
            "ticks": ""
           },
           "baxis": {
            "gridcolor": "white",
            "linecolor": "white",
            "ticks": ""
           },
           "bgcolor": "#E5ECF6",
           "caxis": {
            "gridcolor": "white",
            "linecolor": "white",
            "ticks": ""
           }
          },
          "title": {
           "x": 0.05
          },
          "xaxis": {
           "automargin": true,
           "gridcolor": "white",
           "linecolor": "white",
           "ticks": "",
           "title": {
            "standoff": 15
           },
           "zerolinecolor": "white",
           "zerolinewidth": 2
          },
          "yaxis": {
           "automargin": true,
           "gridcolor": "white",
           "linecolor": "white",
           "ticks": "",
           "title": {
            "standoff": 15
           },
           "zerolinecolor": "white",
           "zerolinewidth": 2
          }
         }
        },
        "title": {
         "font": {
          "color": "#4D5663"
         }
        },
        "xaxis": {
         "gridcolor": "#E1E5ED",
         "showgrid": true,
         "tickfont": {
          "color": "#4D5663"
         },
         "title": {
          "font": {
           "color": "#4D5663"
          },
          "text": ""
         },
         "zerolinecolor": "#E1E5ED"
        },
        "yaxis": {
         "gridcolor": "#E1E5ED",
         "showgrid": true,
         "tickfont": {
          "color": "#4D5663"
         },
         "title": {
          "font": {
           "color": "#4D5663"
          },
          "text": ""
         },
         "zerolinecolor": "#E1E5ED"
        }
       }
      },
      "text/html": [
       "<div>                            <div id=\"9e5b9911-0da7-4b49-b982-caa7ab633e77\" class=\"plotly-graph-div\" style=\"height:525px; width:100%;\"></div>            <script type=\"text/javascript\">                require([\"plotly\"], function(Plotly) {                    window.PLOTLYENV=window.PLOTLYENV || {};\n",
       "                    window.PLOTLYENV.BASE_URL='https://plot.ly';                                    if (document.getElementById(\"9e5b9911-0da7-4b49-b982-caa7ab633e77\")) {                    Plotly.newPlot(                        \"9e5b9911-0da7-4b49-b982-caa7ab633e77\",                        [{\"boxpoints\": false, \"line\": {\"width\": 1.3}, \"marker\": {\"color\": \"rgba(255, 153, 51, 1.0)\"}, \"name\": \"A\", \"orientation\": \"v\", \"type\": \"box\", \"y\": [0.24588717410753003, -1.5443326651682237, -0.7892940576313485, -0.7521408949768861, -0.4796778753536114, -0.038090741190589895, -1.2936477357446499, -2.723420833634864, 1.9086517655499613, 0.4087252992968224, -2.5161479197724548, 0.5467932638969071, 0.7522566966657753, -0.5375211691145616, -0.5575175182237166, 0.6909421933307822, 1.4178037665917353, -1.3189638698222304, 0.38135037719477854, -0.8975045777020152, 1.5990034926885215, 0.7513798196549333, -2.7246607309103466, 0.009181632602803554, -0.7199645224339926, 1.0159431349247343, 0.35555691751734403, 0.5133793537990036, -0.7898146830454974, 0.145975409251844, 0.7290500746987666, -0.03207417260027835, 0.5758332689076748, -0.7309258513953879, -1.3488321998603487, 0.9348030875542376, -0.5530946341539287, 0.708339786978607, 1.3589273059294322, 0.6042100092089738, -0.018519711780514307, -0.8497345423017969, 0.25930721389934425, 0.6570749338815411, 0.12722479020271082, 0.5981116642723051, 1.1087139573109894, 0.4335456958746609, -0.4986020130951775, 0.16019426329620462, 1.0956079098556886, 2.1781844015324, 0.38743513688648556, 0.23232445913149288, -0.02225732068587582, 1.240721487888421, 0.8348794737172368, 0.49131381569131605, -2.465460913038345, -1.4128691396273751, 0.45471027773277545, 0.2366496229800066, -0.8443631136799993, -1.5050581382231454, -0.3489519058130828, -0.09252638339915405, 0.4622723828835006, -1.0832375330785835, -0.172975234005294, 1.0525870174915173, -0.0605350567014285, 0.7431366307343629, -0.32259824462116854, 0.46655615372559767, -0.8766531102031185, -0.25067319773196817, 1.9220011649797581, -0.8995754398187623, -0.09723736864284754, 0.13632410802735093, -0.2645397703087663, 0.5956787521414239, -0.16086207093244567, 0.3919638756805205, 1.6431864559841054, 0.500292502469693, -2.2982921012198525, 0.7040176660035111, 0.5779821463206176, 0.37819996172214365, 0.2468873010137249, 0.7112664646179129, -1.8315612256428866, -0.8926722024059833, -2.2000637729889774, -0.1347498116867438, 0.418059595878196, -0.21752058196722435, 0.25604934393242434, 1.0349299221152255]}, {\"boxpoints\": false, \"line\": {\"width\": 1.3}, \"marker\": {\"color\": \"rgba(55, 128, 191, 1.0)\"}, \"name\": \"B\", \"orientation\": \"v\", \"type\": \"box\", \"y\": [0.17890934769892103, -0.033123808583366866, -1.7822064108916256, -0.5373491252336633, -1.4571186682282393, -1.4078878238560042, -1.2674356310721624, 2.019550830934474, -0.4888330588658283, 0.13141884905230608, -0.9312556526036885, -0.007754038998178534, 2.435535100927038, 0.7079881733133355, 0.31467573359242035, 1.1926023566358455, -0.06993966578389549, 1.3105124782278086, -1.791805838390315, 0.786940457459193, 1.392374807377714, 0.18685037333581317, 0.5159651139015339, -1.3788427841040845, 0.4481570242827706, -0.23192149556047384, -1.793900944752704, -0.6503177928618666, -1.2523592184401433, 0.9397745472901148, -1.2140853902232587, 1.3536707221874327, -2.2065900699338212, -0.2597360149080525, -1.4231111759501243, 1.3997148101941983, -0.8711159875276375, 0.1535439165088105, 0.6223667974799626, -0.5428449527751454, -0.40790956932452943, -0.74095035588002, 1.180243228006508, -1.2246704095828187, 0.5104837648637698, 0.45166433234461617, 0.021824417646521932, -0.1199772823884989, -0.6313062350478947, 0.8962458311228109, 0.8459257422214808, 0.40390475120466934, -0.7075908392741708, 1.6564340845542072, 0.5361952772128227, -0.07758458280582371, 1.2853799260053234, -0.7655843186082435, -0.47497301247656126, -1.1259800726037426, 0.19101899430261973, -1.827357574298033, -2.2013084050446086, 0.9194612052082188, 0.13767551508349066, -1.474381924958377, -0.8835121299482696, 0.15730940685310918, 0.22846581412701608, 0.7715085536815187, -1.1394219297866262, 0.15117704785432218, -0.5729191210052296, 0.8201939049808525, 0.1915501286014221, -0.6403217290879047, 0.6696931832935046, 0.5515620084580015, -0.44800211781238813, 0.5496148064169799, -0.33023177959341304, -0.3405279676130839, 1.9117164440223209, 0.27499941131265915, 0.48223764210266046, 0.6010465347356609, 0.3359623795070407, 0.8393356310861901, -1.1715806085723153, 0.3231670247779722, 0.23374619998387358, 1.206861746979094, -0.6443967282087286, 1.9062966496430345, 2.189933048739878, -0.01675318476017029, -0.014711562140090341, 0.7294260989680877, -1.4051167130267577, 1.7692353305949258]}, {\"boxpoints\": false, \"line\": {\"width\": 1.3}, \"marker\": {\"color\": \"rgba(50, 171, 96, 1.0)\"}, \"name\": \"C\", \"orientation\": \"v\", \"type\": \"box\", \"y\": [-1.6637658403871858, -0.657694686649294, 1.3059715178359503, -0.3149914691862647, -0.19740147661311008, -0.7262569294732033, -0.3723489729197542, -0.6218029304938382, 1.2635332476692993, 0.33355540120598637, 0.8648963919743383, 0.3866360975707411, 0.3155953078310076, 0.18153871384542808, 0.38243747455230664, 1.3018507017779704, -1.6493392399381743, 0.1435498441794928, -0.33487382215636274, 0.5974699883650271, -1.121250409459856, -0.3299784112379456, 0.6300607469165224, -0.021874398113414493, -1.140421242973153, -0.8342853458804352, -0.46687658894650796, -0.12006718098128669, 0.001794795971967873, 2.2334745742355744, -0.45532941432740776, 0.45369589492365353, 0.5715742551648502, 0.12999205451536372, 0.9798427403913135, -1.1013854499947524, 0.7451227517265764, -0.16558731642780355, -0.7578513959831613, 0.23148677932941697, 0.05291433736418039, 0.14120620024153313, -0.890361671499394, -0.5828256100210454, -0.26662291596413, 0.12680816802050154, -0.7996736330653782, 0.2829032455605437, 0.38365787558487613, 0.722823574532583, 0.9864283730373686, 0.7167756493371129, 0.7986176751538434, -0.26357220490136485, 0.5832744365822795, -0.39725346676339407, -0.2848428532723495, -1.062948231189015, 0.10343690022589565, -0.5260241153573986, -0.04513586070032704, 0.1568763359759615, -2.4793109380293026, -1.7262919520054156, -0.28309215653608133, -1.4292441498466897, -0.49299508967169486, 1.4690306914515092, -0.3720244126792224, 0.8530079426187204, 0.23232697689398335, 0.2232915630510586, 1.333059407449093, 0.4204088652819113, 0.2728601828302727, -1.5002908429312536, -0.03679699218171279, 1.03150319088492, -0.5333704521533563, -0.2241921679973938, -0.1348245531798344, 1.4790065301549309, -0.21286254648898834, -1.1138480435184028, -0.2871485553416153, -0.38214607242128873, 0.03953002115077242, -0.8995192117977602, 0.5898544614973151, -1.1280270782243411, -1.0017202034219947, 1.334528050829268, 0.2302117795420704, 2.2917553919395877, 0.38535825261604134, 0.4409141875158465, -0.8982601958634147, 1.456441925363782, -0.7066633678271631, 0.491245841413864]}, {\"boxpoints\": false, \"line\": {\"width\": 1.3}, \"marker\": {\"color\": \"rgba(128, 0, 128, 1.0)\"}, \"name\": \"D\", \"orientation\": \"v\", \"type\": \"box\", \"y\": [0.36658334448611524, 0.19845076220323576, -0.5651712027994558, 2.193577866173761, 1.5149948785886453, 1.6733520741671735, -1.1725004239501247, -1.1707014405700813, 1.2359990662291649, 0.19842120481922254, 0.7330485339994786, -0.8693083595099061, -0.5270413468799706, -1.354218913431506, -1.7685244077435833, -0.260314589462929, 0.30282326692474354, -0.2717067829910568, -1.2150409383619503, -0.2555709607571646, -0.05124075636918029, 1.8852519764268754, -1.601286850490827, 1.54072258436688, 0.3571339450518127, 0.10175361194820905, 1.7010011270831262, -0.8075249021394392, 0.9985264405480407, 2.3909015128456126, -1.818944665442849, 1.0942605179660203, 0.5607010732335282, 1.3624184981034404, 1.780995774836401, 1.7423040886955967, 0.39364260342716445, -1.2904760393544574, 0.45070832653871207, -0.10771508015659297, -0.2943301168013902, 0.3932242030301506, 1.0848668371554122, 0.1368611776492048, 0.8202827429670868, -0.2923089363193607, -1.4450748380215312, -1.4431674879988077, 0.9415490019443867, -0.48920417409841094, -0.6914636868574582, -0.3481772958397043, 1.0403129130513384, 1.5073119731677258, -0.04448455581151121, -1.4162702853379443, 1.6775212313123686, 0.9680065391411762, -1.059446987989666, -0.3633843198121292, 0.10456297098003199, 1.0742443032168776, 0.14146271989491305, 0.29668491474159064, 0.16422150420802972, -0.7101348857676307, -0.33599711095820306, -1.1118327374975754, -1.5426044057465307, -1.0698524813724384, -1.6008550676497943, 0.4258535835859018, -0.8565382307789904, -0.3344250668125585, -0.3245812261322852, 0.869651399432386, 1.5324236508167144, -1.0979129972793518, 0.8837655330739056, -1.4834538691705255, 0.2984133034622976, 0.9226592844372362, 0.4472688467531478, -0.19016849747466189, -0.40828103650485137, 2.521920124778835, -0.5723942629924068, 0.36807494520995543, -0.9663822982751383, -0.5784278949305642, -0.9298529129033023, -2.1240941747407684, 0.23853420572339354, 1.0258151572359666, 0.9330593686088765, 0.09828079449549484, 0.19886478752367762, -0.5353917624257729, 0.47265665142232643, -1.3887969384841345]}],                        {\"legend\": {\"bgcolor\": \"#F5F6F9\", \"font\": {\"color\": \"#4D5663\"}}, \"paper_bgcolor\": \"#F5F6F9\", \"plot_bgcolor\": \"#F5F6F9\", \"template\": {\"data\": {\"bar\": [{\"error_x\": {\"color\": \"#2a3f5f\"}, \"error_y\": {\"color\": \"#2a3f5f\"}, \"marker\": {\"line\": {\"color\": \"#E5ECF6\", \"width\": 0.5}}, \"type\": \"bar\"}], \"barpolar\": [{\"marker\": {\"line\": {\"color\": \"#E5ECF6\", \"width\": 0.5}}, \"type\": \"barpolar\"}], \"carpet\": [{\"aaxis\": {\"endlinecolor\": \"#2a3f5f\", \"gridcolor\": \"white\", \"linecolor\": \"white\", \"minorgridcolor\": \"white\", \"startlinecolor\": \"#2a3f5f\"}, \"baxis\": {\"endlinecolor\": \"#2a3f5f\", \"gridcolor\": \"white\", \"linecolor\": \"white\", \"minorgridcolor\": \"white\", \"startlinecolor\": \"#2a3f5f\"}, \"type\": \"carpet\"}], \"choropleth\": [{\"colorbar\": {\"outlinewidth\": 0, \"ticks\": \"\"}, \"type\": \"choropleth\"}], \"contour\": [{\"colorbar\": {\"outlinewidth\": 0, \"ticks\": \"\"}, \"colorscale\": [[0.0, \"#0d0887\"], [0.1111111111111111, \"#46039f\"], [0.2222222222222222, \"#7201a8\"], [0.3333333333333333, \"#9c179e\"], [0.4444444444444444, \"#bd3786\"], [0.5555555555555556, \"#d8576b\"], [0.6666666666666666, \"#ed7953\"], [0.7777777777777778, \"#fb9f3a\"], [0.8888888888888888, \"#fdca26\"], [1.0, \"#f0f921\"]], \"type\": \"contour\"}], \"contourcarpet\": [{\"colorbar\": {\"outlinewidth\": 0, \"ticks\": \"\"}, \"type\": \"contourcarpet\"}], \"heatmap\": [{\"colorbar\": {\"outlinewidth\": 0, \"ticks\": \"\"}, \"colorscale\": [[0.0, \"#0d0887\"], [0.1111111111111111, \"#46039f\"], [0.2222222222222222, \"#7201a8\"], [0.3333333333333333, \"#9c179e\"], [0.4444444444444444, \"#bd3786\"], [0.5555555555555556, \"#d8576b\"], [0.6666666666666666, \"#ed7953\"], [0.7777777777777778, \"#fb9f3a\"], [0.8888888888888888, \"#fdca26\"], [1.0, \"#f0f921\"]], \"type\": \"heatmap\"}], \"heatmapgl\": [{\"colorbar\": {\"outlinewidth\": 0, \"ticks\": \"\"}, \"colorscale\": [[0.0, \"#0d0887\"], [0.1111111111111111, \"#46039f\"], [0.2222222222222222, \"#7201a8\"], [0.3333333333333333, \"#9c179e\"], [0.4444444444444444, \"#bd3786\"], [0.5555555555555556, \"#d8576b\"], [0.6666666666666666, \"#ed7953\"], [0.7777777777777778, \"#fb9f3a\"], [0.8888888888888888, \"#fdca26\"], [1.0, \"#f0f921\"]], \"type\": \"heatmapgl\"}], \"histogram\": [{\"marker\": {\"colorbar\": {\"outlinewidth\": 0, \"ticks\": \"\"}}, \"type\": \"histogram\"}], \"histogram2d\": [{\"colorbar\": {\"outlinewidth\": 0, \"ticks\": \"\"}, \"colorscale\": [[0.0, \"#0d0887\"], [0.1111111111111111, \"#46039f\"], [0.2222222222222222, \"#7201a8\"], [0.3333333333333333, \"#9c179e\"], [0.4444444444444444, \"#bd3786\"], [0.5555555555555556, \"#d8576b\"], [0.6666666666666666, \"#ed7953\"], [0.7777777777777778, \"#fb9f3a\"], [0.8888888888888888, \"#fdca26\"], [1.0, \"#f0f921\"]], \"type\": \"histogram2d\"}], \"histogram2dcontour\": [{\"colorbar\": {\"outlinewidth\": 0, \"ticks\": \"\"}, \"colorscale\": [[0.0, \"#0d0887\"], [0.1111111111111111, \"#46039f\"], [0.2222222222222222, \"#7201a8\"], [0.3333333333333333, \"#9c179e\"], [0.4444444444444444, \"#bd3786\"], [0.5555555555555556, \"#d8576b\"], [0.6666666666666666, \"#ed7953\"], [0.7777777777777778, \"#fb9f3a\"], [0.8888888888888888, \"#fdca26\"], [1.0, \"#f0f921\"]], \"type\": \"histogram2dcontour\"}], \"mesh3d\": [{\"colorbar\": {\"outlinewidth\": 0, \"ticks\": \"\"}, \"type\": \"mesh3d\"}], \"parcoords\": [{\"line\": {\"colorbar\": {\"outlinewidth\": 0, \"ticks\": \"\"}}, \"type\": \"parcoords\"}], \"pie\": [{\"automargin\": true, \"type\": \"pie\"}], \"scatter\": [{\"marker\": {\"colorbar\": {\"outlinewidth\": 0, \"ticks\": \"\"}}, \"type\": \"scatter\"}], \"scatter3d\": [{\"line\": {\"colorbar\": {\"outlinewidth\": 0, \"ticks\": \"\"}}, \"marker\": {\"colorbar\": {\"outlinewidth\": 0, \"ticks\": \"\"}}, \"type\": \"scatter3d\"}], \"scattercarpet\": [{\"marker\": {\"colorbar\": {\"outlinewidth\": 0, \"ticks\": \"\"}}, \"type\": \"scattercarpet\"}], \"scattergeo\": [{\"marker\": {\"colorbar\": {\"outlinewidth\": 0, \"ticks\": \"\"}}, \"type\": \"scattergeo\"}], \"scattergl\": [{\"marker\": {\"colorbar\": {\"outlinewidth\": 0, \"ticks\": \"\"}}, \"type\": \"scattergl\"}], \"scattermapbox\": [{\"marker\": {\"colorbar\": {\"outlinewidth\": 0, \"ticks\": \"\"}}, \"type\": \"scattermapbox\"}], \"scatterpolar\": [{\"marker\": {\"colorbar\": {\"outlinewidth\": 0, \"ticks\": \"\"}}, \"type\": \"scatterpolar\"}], \"scatterpolargl\": [{\"marker\": {\"colorbar\": {\"outlinewidth\": 0, \"ticks\": \"\"}}, \"type\": \"scatterpolargl\"}], \"scatterternary\": [{\"marker\": {\"colorbar\": {\"outlinewidth\": 0, \"ticks\": \"\"}}, \"type\": \"scatterternary\"}], \"surface\": [{\"colorbar\": {\"outlinewidth\": 0, \"ticks\": \"\"}, \"colorscale\": [[0.0, \"#0d0887\"], [0.1111111111111111, \"#46039f\"], [0.2222222222222222, \"#7201a8\"], [0.3333333333333333, \"#9c179e\"], [0.4444444444444444, \"#bd3786\"], [0.5555555555555556, \"#d8576b\"], [0.6666666666666666, \"#ed7953\"], [0.7777777777777778, \"#fb9f3a\"], [0.8888888888888888, \"#fdca26\"], [1.0, \"#f0f921\"]], \"type\": \"surface\"}], \"table\": [{\"cells\": {\"fill\": {\"color\": \"#EBF0F8\"}, \"line\": {\"color\": \"white\"}}, \"header\": {\"fill\": {\"color\": \"#C8D4E3\"}, \"line\": {\"color\": \"white\"}}, \"type\": \"table\"}]}, \"layout\": {\"annotationdefaults\": {\"arrowcolor\": \"#2a3f5f\", \"arrowhead\": 0, \"arrowwidth\": 1}, \"coloraxis\": {\"colorbar\": {\"outlinewidth\": 0, \"ticks\": \"\"}}, \"colorscale\": {\"diverging\": [[0, \"#8e0152\"], [0.1, \"#c51b7d\"], [0.2, \"#de77ae\"], [0.3, \"#f1b6da\"], [0.4, \"#fde0ef\"], [0.5, \"#f7f7f7\"], [0.6, \"#e6f5d0\"], [0.7, \"#b8e186\"], [0.8, \"#7fbc41\"], [0.9, \"#4d9221\"], [1, \"#276419\"]], \"sequential\": [[0.0, \"#0d0887\"], [0.1111111111111111, \"#46039f\"], [0.2222222222222222, \"#7201a8\"], [0.3333333333333333, \"#9c179e\"], [0.4444444444444444, \"#bd3786\"], [0.5555555555555556, \"#d8576b\"], [0.6666666666666666, \"#ed7953\"], [0.7777777777777778, \"#fb9f3a\"], [0.8888888888888888, \"#fdca26\"], [1.0, \"#f0f921\"]], \"sequentialminus\": [[0.0, \"#0d0887\"], [0.1111111111111111, \"#46039f\"], [0.2222222222222222, \"#7201a8\"], [0.3333333333333333, \"#9c179e\"], [0.4444444444444444, \"#bd3786\"], [0.5555555555555556, \"#d8576b\"], [0.6666666666666666, \"#ed7953\"], [0.7777777777777778, \"#fb9f3a\"], [0.8888888888888888, \"#fdca26\"], [1.0, \"#f0f921\"]]}, \"colorway\": [\"#636efa\", \"#EF553B\", \"#00cc96\", \"#ab63fa\", \"#FFA15A\", \"#19d3f3\", \"#FF6692\", \"#B6E880\", \"#FF97FF\", \"#FECB52\"], \"font\": {\"color\": \"#2a3f5f\"}, \"geo\": {\"bgcolor\": \"white\", \"lakecolor\": \"white\", \"landcolor\": \"#E5ECF6\", \"showlakes\": true, \"showland\": true, \"subunitcolor\": \"white\"}, \"hoverlabel\": {\"align\": \"left\"}, \"hovermode\": \"closest\", \"mapbox\": {\"style\": \"light\"}, \"paper_bgcolor\": \"white\", \"plot_bgcolor\": \"#E5ECF6\", \"polar\": {\"angularaxis\": {\"gridcolor\": \"white\", \"linecolor\": \"white\", \"ticks\": \"\"}, \"bgcolor\": \"#E5ECF6\", \"radialaxis\": {\"gridcolor\": \"white\", \"linecolor\": \"white\", \"ticks\": \"\"}}, \"scene\": {\"xaxis\": {\"backgroundcolor\": \"#E5ECF6\", \"gridcolor\": \"white\", \"gridwidth\": 2, \"linecolor\": \"white\", \"showbackground\": true, \"ticks\": \"\", \"zerolinecolor\": \"white\"}, \"yaxis\": {\"backgroundcolor\": \"#E5ECF6\", \"gridcolor\": \"white\", \"gridwidth\": 2, \"linecolor\": \"white\", \"showbackground\": true, \"ticks\": \"\", \"zerolinecolor\": \"white\"}, \"zaxis\": {\"backgroundcolor\": \"#E5ECF6\", \"gridcolor\": \"white\", \"gridwidth\": 2, \"linecolor\": \"white\", \"showbackground\": true, \"ticks\": \"\", \"zerolinecolor\": \"white\"}}, \"shapedefaults\": {\"line\": {\"color\": \"#2a3f5f\"}}, \"ternary\": {\"aaxis\": {\"gridcolor\": \"white\", \"linecolor\": \"white\", \"ticks\": \"\"}, \"baxis\": {\"gridcolor\": \"white\", \"linecolor\": \"white\", \"ticks\": \"\"}, \"bgcolor\": \"#E5ECF6\", \"caxis\": {\"gridcolor\": \"white\", \"linecolor\": \"white\", \"ticks\": \"\"}}, \"title\": {\"x\": 0.05}, \"xaxis\": {\"automargin\": true, \"gridcolor\": \"white\", \"linecolor\": \"white\", \"ticks\": \"\", \"title\": {\"standoff\": 15}, \"zerolinecolor\": \"white\", \"zerolinewidth\": 2}, \"yaxis\": {\"automargin\": true, \"gridcolor\": \"white\", \"linecolor\": \"white\", \"ticks\": \"\", \"title\": {\"standoff\": 15}, \"zerolinecolor\": \"white\", \"zerolinewidth\": 2}}}, \"title\": {\"font\": {\"color\": \"#4D5663\"}}, \"xaxis\": {\"gridcolor\": \"#E1E5ED\", \"showgrid\": true, \"tickfont\": {\"color\": \"#4D5663\"}, \"title\": {\"font\": {\"color\": \"#4D5663\"}, \"text\": \"\"}, \"zerolinecolor\": \"#E1E5ED\"}, \"yaxis\": {\"gridcolor\": \"#E1E5ED\", \"showgrid\": true, \"tickfont\": {\"color\": \"#4D5663\"}, \"title\": {\"font\": {\"color\": \"#4D5663\"}, \"text\": \"\"}, \"zerolinecolor\": \"#E1E5ED\"}},                        {\"showLink\": true, \"linkText\": \"Export to plot.ly\", \"plotlyServerURL\": \"https://plot.ly\", \"responsive\": true}                    ).then(function(){\n",
       "                            \n",
       "var gd = document.getElementById('9e5b9911-0da7-4b49-b982-caa7ab633e77');\n",
       "var x = new MutationObserver(function (mutations, observer) {{\n",
       "        var display = window.getComputedStyle(gd).display;\n",
       "        if (!display || display === 'none') {{\n",
       "            console.log([gd, 'removed!']);\n",
       "            Plotly.purge(gd);\n",
       "            observer.disconnect();\n",
       "        }}\n",
       "}});\n",
       "\n",
       "// Listen for the removal of the full notebook cells\n",
       "var notebookContainer = gd.closest('#notebook-container');\n",
       "if (notebookContainer) {{\n",
       "    x.observe(notebookContainer, {childList: true});\n",
       "}}\n",
       "\n",
       "// Listen for the clearing of the current output cell\n",
       "var outputEl = gd.closest('.output');\n",
       "if (outputEl) {{\n",
       "    x.observe(outputEl, {childList: true});\n",
       "}}\n",
       "\n",
       "                        })                };                });            </script>        </div>"
      ]
     },
     "metadata": {},
     "output_type": "display_data"
    }
   ],
   "source": [
    "df.iplot(kind='box')"
   ]
  },
  {
   "cell_type": "markdown",
   "metadata": {},
   "source": [
    "## 3d Surface"
   ]
  },
  {
   "cell_type": "code",
   "execution_count": 15,
   "metadata": {},
   "outputs": [
    {
     "data": {
      "application/vnd.plotly.v1+json": {
       "config": {
        "linkText": "Export to plot.ly",
        "plotlyServerURL": "https://plot.ly",
        "showLink": true
       },
       "data": [
        {
         "colorscale": [
          [
           0,
           "rgb(165,0,38)"
          ],
          [
           0.1,
           "rgb(215,48,39)"
          ],
          [
           0.2,
           "rgb(244,109,67)"
          ],
          [
           0.3,
           "rgb(253,174,97)"
          ],
          [
           0.4,
           "rgb(254,224,144)"
          ],
          [
           0.5,
           "rgb(255,255,191)"
          ],
          [
           0.6,
           "rgb(224,243,248)"
          ],
          [
           0.7,
           "rgb(171,217,233)"
          ],
          [
           0.8,
           "rgb(116,173,209)"
          ],
          [
           0.9,
           "rgb(69,117,180)"
          ],
          [
           1,
           "rgb(49,54,149)"
          ]
         ],
         "type": "surface",
         "x": [
          0,
          1,
          2,
          3,
          4
         ],
         "y": [
          "x",
          "y",
          "z"
         ],
         "z": [
          [
           1,
           2,
           3,
           4,
           5
          ],
          [
           10,
           20,
           30,
           20,
           10
          ],
          [
           5,
           4,
           3,
           2,
           1
          ]
         ]
        }
       ],
       "layout": {
        "legend": {
         "bgcolor": "#F5F6F9",
         "font": {
          "color": "#4D5663"
         }
        },
        "paper_bgcolor": "#F5F6F9",
        "plot_bgcolor": "#F5F6F9",
        "template": {
         "data": {
          "bar": [
           {
            "error_x": {
             "color": "#2a3f5f"
            },
            "error_y": {
             "color": "#2a3f5f"
            },
            "marker": {
             "line": {
              "color": "#E5ECF6",
              "width": 0.5
             }
            },
            "type": "bar"
           }
          ],
          "barpolar": [
           {
            "marker": {
             "line": {
              "color": "#E5ECF6",
              "width": 0.5
             }
            },
            "type": "barpolar"
           }
          ],
          "carpet": [
           {
            "aaxis": {
             "endlinecolor": "#2a3f5f",
             "gridcolor": "white",
             "linecolor": "white",
             "minorgridcolor": "white",
             "startlinecolor": "#2a3f5f"
            },
            "baxis": {
             "endlinecolor": "#2a3f5f",
             "gridcolor": "white",
             "linecolor": "white",
             "minorgridcolor": "white",
             "startlinecolor": "#2a3f5f"
            },
            "type": "carpet"
           }
          ],
          "choropleth": [
           {
            "colorbar": {
             "outlinewidth": 0,
             "ticks": ""
            },
            "type": "choropleth"
           }
          ],
          "contour": [
           {
            "colorbar": {
             "outlinewidth": 0,
             "ticks": ""
            },
            "colorscale": [
             [
              0,
              "#0d0887"
             ],
             [
              0.1111111111111111,
              "#46039f"
             ],
             [
              0.2222222222222222,
              "#7201a8"
             ],
             [
              0.3333333333333333,
              "#9c179e"
             ],
             [
              0.4444444444444444,
              "#bd3786"
             ],
             [
              0.5555555555555556,
              "#d8576b"
             ],
             [
              0.6666666666666666,
              "#ed7953"
             ],
             [
              0.7777777777777778,
              "#fb9f3a"
             ],
             [
              0.8888888888888888,
              "#fdca26"
             ],
             [
              1,
              "#f0f921"
             ]
            ],
            "type": "contour"
           }
          ],
          "contourcarpet": [
           {
            "colorbar": {
             "outlinewidth": 0,
             "ticks": ""
            },
            "type": "contourcarpet"
           }
          ],
          "heatmap": [
           {
            "colorbar": {
             "outlinewidth": 0,
             "ticks": ""
            },
            "colorscale": [
             [
              0,
              "#0d0887"
             ],
             [
              0.1111111111111111,
              "#46039f"
             ],
             [
              0.2222222222222222,
              "#7201a8"
             ],
             [
              0.3333333333333333,
              "#9c179e"
             ],
             [
              0.4444444444444444,
              "#bd3786"
             ],
             [
              0.5555555555555556,
              "#d8576b"
             ],
             [
              0.6666666666666666,
              "#ed7953"
             ],
             [
              0.7777777777777778,
              "#fb9f3a"
             ],
             [
              0.8888888888888888,
              "#fdca26"
             ],
             [
              1,
              "#f0f921"
             ]
            ],
            "type": "heatmap"
           }
          ],
          "heatmapgl": [
           {
            "colorbar": {
             "outlinewidth": 0,
             "ticks": ""
            },
            "colorscale": [
             [
              0,
              "#0d0887"
             ],
             [
              0.1111111111111111,
              "#46039f"
             ],
             [
              0.2222222222222222,
              "#7201a8"
             ],
             [
              0.3333333333333333,
              "#9c179e"
             ],
             [
              0.4444444444444444,
              "#bd3786"
             ],
             [
              0.5555555555555556,
              "#d8576b"
             ],
             [
              0.6666666666666666,
              "#ed7953"
             ],
             [
              0.7777777777777778,
              "#fb9f3a"
             ],
             [
              0.8888888888888888,
              "#fdca26"
             ],
             [
              1,
              "#f0f921"
             ]
            ],
            "type": "heatmapgl"
           }
          ],
          "histogram": [
           {
            "marker": {
             "colorbar": {
              "outlinewidth": 0,
              "ticks": ""
             }
            },
            "type": "histogram"
           }
          ],
          "histogram2d": [
           {
            "colorbar": {
             "outlinewidth": 0,
             "ticks": ""
            },
            "colorscale": [
             [
              0,
              "#0d0887"
             ],
             [
              0.1111111111111111,
              "#46039f"
             ],
             [
              0.2222222222222222,
              "#7201a8"
             ],
             [
              0.3333333333333333,
              "#9c179e"
             ],
             [
              0.4444444444444444,
              "#bd3786"
             ],
             [
              0.5555555555555556,
              "#d8576b"
             ],
             [
              0.6666666666666666,
              "#ed7953"
             ],
             [
              0.7777777777777778,
              "#fb9f3a"
             ],
             [
              0.8888888888888888,
              "#fdca26"
             ],
             [
              1,
              "#f0f921"
             ]
            ],
            "type": "histogram2d"
           }
          ],
          "histogram2dcontour": [
           {
            "colorbar": {
             "outlinewidth": 0,
             "ticks": ""
            },
            "colorscale": [
             [
              0,
              "#0d0887"
             ],
             [
              0.1111111111111111,
              "#46039f"
             ],
             [
              0.2222222222222222,
              "#7201a8"
             ],
             [
              0.3333333333333333,
              "#9c179e"
             ],
             [
              0.4444444444444444,
              "#bd3786"
             ],
             [
              0.5555555555555556,
              "#d8576b"
             ],
             [
              0.6666666666666666,
              "#ed7953"
             ],
             [
              0.7777777777777778,
              "#fb9f3a"
             ],
             [
              0.8888888888888888,
              "#fdca26"
             ],
             [
              1,
              "#f0f921"
             ]
            ],
            "type": "histogram2dcontour"
           }
          ],
          "mesh3d": [
           {
            "colorbar": {
             "outlinewidth": 0,
             "ticks": ""
            },
            "type": "mesh3d"
           }
          ],
          "parcoords": [
           {
            "line": {
             "colorbar": {
              "outlinewidth": 0,
              "ticks": ""
             }
            },
            "type": "parcoords"
           }
          ],
          "pie": [
           {
            "automargin": true,
            "type": "pie"
           }
          ],
          "scatter": [
           {
            "marker": {
             "colorbar": {
              "outlinewidth": 0,
              "ticks": ""
             }
            },
            "type": "scatter"
           }
          ],
          "scatter3d": [
           {
            "line": {
             "colorbar": {
              "outlinewidth": 0,
              "ticks": ""
             }
            },
            "marker": {
             "colorbar": {
              "outlinewidth": 0,
              "ticks": ""
             }
            },
            "type": "scatter3d"
           }
          ],
          "scattercarpet": [
           {
            "marker": {
             "colorbar": {
              "outlinewidth": 0,
              "ticks": ""
             }
            },
            "type": "scattercarpet"
           }
          ],
          "scattergeo": [
           {
            "marker": {
             "colorbar": {
              "outlinewidth": 0,
              "ticks": ""
             }
            },
            "type": "scattergeo"
           }
          ],
          "scattergl": [
           {
            "marker": {
             "colorbar": {
              "outlinewidth": 0,
              "ticks": ""
             }
            },
            "type": "scattergl"
           }
          ],
          "scattermapbox": [
           {
            "marker": {
             "colorbar": {
              "outlinewidth": 0,
              "ticks": ""
             }
            },
            "type": "scattermapbox"
           }
          ],
          "scatterpolar": [
           {
            "marker": {
             "colorbar": {
              "outlinewidth": 0,
              "ticks": ""
             }
            },
            "type": "scatterpolar"
           }
          ],
          "scatterpolargl": [
           {
            "marker": {
             "colorbar": {
              "outlinewidth": 0,
              "ticks": ""
             }
            },
            "type": "scatterpolargl"
           }
          ],
          "scatterternary": [
           {
            "marker": {
             "colorbar": {
              "outlinewidth": 0,
              "ticks": ""
             }
            },
            "type": "scatterternary"
           }
          ],
          "surface": [
           {
            "colorbar": {
             "outlinewidth": 0,
             "ticks": ""
            },
            "colorscale": [
             [
              0,
              "#0d0887"
             ],
             [
              0.1111111111111111,
              "#46039f"
             ],
             [
              0.2222222222222222,
              "#7201a8"
             ],
             [
              0.3333333333333333,
              "#9c179e"
             ],
             [
              0.4444444444444444,
              "#bd3786"
             ],
             [
              0.5555555555555556,
              "#d8576b"
             ],
             [
              0.6666666666666666,
              "#ed7953"
             ],
             [
              0.7777777777777778,
              "#fb9f3a"
             ],
             [
              0.8888888888888888,
              "#fdca26"
             ],
             [
              1,
              "#f0f921"
             ]
            ],
            "type": "surface"
           }
          ],
          "table": [
           {
            "cells": {
             "fill": {
              "color": "#EBF0F8"
             },
             "line": {
              "color": "white"
             }
            },
            "header": {
             "fill": {
              "color": "#C8D4E3"
             },
             "line": {
              "color": "white"
             }
            },
            "type": "table"
           }
          ]
         },
         "layout": {
          "annotationdefaults": {
           "arrowcolor": "#2a3f5f",
           "arrowhead": 0,
           "arrowwidth": 1
          },
          "coloraxis": {
           "colorbar": {
            "outlinewidth": 0,
            "ticks": ""
           }
          },
          "colorscale": {
           "diverging": [
            [
             0,
             "#8e0152"
            ],
            [
             0.1,
             "#c51b7d"
            ],
            [
             0.2,
             "#de77ae"
            ],
            [
             0.3,
             "#f1b6da"
            ],
            [
             0.4,
             "#fde0ef"
            ],
            [
             0.5,
             "#f7f7f7"
            ],
            [
             0.6,
             "#e6f5d0"
            ],
            [
             0.7,
             "#b8e186"
            ],
            [
             0.8,
             "#7fbc41"
            ],
            [
             0.9,
             "#4d9221"
            ],
            [
             1,
             "#276419"
            ]
           ],
           "sequential": [
            [
             0,
             "#0d0887"
            ],
            [
             0.1111111111111111,
             "#46039f"
            ],
            [
             0.2222222222222222,
             "#7201a8"
            ],
            [
             0.3333333333333333,
             "#9c179e"
            ],
            [
             0.4444444444444444,
             "#bd3786"
            ],
            [
             0.5555555555555556,
             "#d8576b"
            ],
            [
             0.6666666666666666,
             "#ed7953"
            ],
            [
             0.7777777777777778,
             "#fb9f3a"
            ],
            [
             0.8888888888888888,
             "#fdca26"
            ],
            [
             1,
             "#f0f921"
            ]
           ],
           "sequentialminus": [
            [
             0,
             "#0d0887"
            ],
            [
             0.1111111111111111,
             "#46039f"
            ],
            [
             0.2222222222222222,
             "#7201a8"
            ],
            [
             0.3333333333333333,
             "#9c179e"
            ],
            [
             0.4444444444444444,
             "#bd3786"
            ],
            [
             0.5555555555555556,
             "#d8576b"
            ],
            [
             0.6666666666666666,
             "#ed7953"
            ],
            [
             0.7777777777777778,
             "#fb9f3a"
            ],
            [
             0.8888888888888888,
             "#fdca26"
            ],
            [
             1,
             "#f0f921"
            ]
           ]
          },
          "colorway": [
           "#636efa",
           "#EF553B",
           "#00cc96",
           "#ab63fa",
           "#FFA15A",
           "#19d3f3",
           "#FF6692",
           "#B6E880",
           "#FF97FF",
           "#FECB52"
          ],
          "font": {
           "color": "#2a3f5f"
          },
          "geo": {
           "bgcolor": "white",
           "lakecolor": "white",
           "landcolor": "#E5ECF6",
           "showlakes": true,
           "showland": true,
           "subunitcolor": "white"
          },
          "hoverlabel": {
           "align": "left"
          },
          "hovermode": "closest",
          "mapbox": {
           "style": "light"
          },
          "paper_bgcolor": "white",
          "plot_bgcolor": "#E5ECF6",
          "polar": {
           "angularaxis": {
            "gridcolor": "white",
            "linecolor": "white",
            "ticks": ""
           },
           "bgcolor": "#E5ECF6",
           "radialaxis": {
            "gridcolor": "white",
            "linecolor": "white",
            "ticks": ""
           }
          },
          "scene": {
           "xaxis": {
            "backgroundcolor": "#E5ECF6",
            "gridcolor": "white",
            "gridwidth": 2,
            "linecolor": "white",
            "showbackground": true,
            "ticks": "",
            "zerolinecolor": "white"
           },
           "yaxis": {
            "backgroundcolor": "#E5ECF6",
            "gridcolor": "white",
            "gridwidth": 2,
            "linecolor": "white",
            "showbackground": true,
            "ticks": "",
            "zerolinecolor": "white"
           },
           "zaxis": {
            "backgroundcolor": "#E5ECF6",
            "gridcolor": "white",
            "gridwidth": 2,
            "linecolor": "white",
            "showbackground": true,
            "ticks": "",
            "zerolinecolor": "white"
           }
          },
          "shapedefaults": {
           "line": {
            "color": "#2a3f5f"
           }
          },
          "ternary": {
           "aaxis": {
            "gridcolor": "white",
            "linecolor": "white",
            "ticks": ""
           },
           "baxis": {
            "gridcolor": "white",
            "linecolor": "white",
            "ticks": ""
           },
           "bgcolor": "#E5ECF6",
           "caxis": {
            "gridcolor": "white",
            "linecolor": "white",
            "ticks": ""
           }
          },
          "title": {
           "x": 0.05
          },
          "xaxis": {
           "automargin": true,
           "gridcolor": "white",
           "linecolor": "white",
           "ticks": "",
           "title": {
            "standoff": 15
           },
           "zerolinecolor": "white",
           "zerolinewidth": 2
          },
          "yaxis": {
           "automargin": true,
           "gridcolor": "white",
           "linecolor": "white",
           "ticks": "",
           "title": {
            "standoff": 15
           },
           "zerolinecolor": "white",
           "zerolinewidth": 2
          }
         }
        },
        "title": {
         "font": {
          "color": "#4D5663"
         }
        },
        "xaxis": {
         "gridcolor": "#E1E5ED",
         "showgrid": true,
         "tickfont": {
          "color": "#4D5663"
         },
         "title": {
          "font": {
           "color": "#4D5663"
          },
          "text": ""
         },
         "zerolinecolor": "#E1E5ED"
        },
        "yaxis": {
         "gridcolor": "#E1E5ED",
         "showgrid": true,
         "tickfont": {
          "color": "#4D5663"
         },
         "title": {
          "font": {
           "color": "#4D5663"
          },
          "text": ""
         },
         "zerolinecolor": "#E1E5ED"
        }
       }
      },
      "text/html": [
       "<div>                            <div id=\"5f6d5d58-27d3-4559-ae6a-db026a30afab\" class=\"plotly-graph-div\" style=\"height:525px; width:100%;\"></div>            <script type=\"text/javascript\">                require([\"plotly\"], function(Plotly) {                    window.PLOTLYENV=window.PLOTLYENV || {};\n",
       "                    window.PLOTLYENV.BASE_URL='https://plot.ly';                                    if (document.getElementById(\"5f6d5d58-27d3-4559-ae6a-db026a30afab\")) {                    Plotly.newPlot(                        \"5f6d5d58-27d3-4559-ae6a-db026a30afab\",                        [{\"colorscale\": [[0.0, \"rgb(165,0,38)\"], [0.1, \"rgb(215,48,39)\"], [0.2, \"rgb(244,109,67)\"], [0.3, \"rgb(253,174,97)\"], [0.4, \"rgb(254,224,144)\"], [0.5, \"rgb(255,255,191)\"], [0.6, \"rgb(224,243,248)\"], [0.7, \"rgb(171,217,233)\"], [0.8, \"rgb(116,173,209)\"], [0.9, \"rgb(69,117,180)\"], [1.0, \"rgb(49,54,149)\"]], \"type\": \"surface\", \"x\": [0, 1, 2, 3, 4], \"y\": [\"x\", \"y\", \"z\"], \"z\": [[1, 2, 3, 4, 5], [10, 20, 30, 20, 10], [5, 4, 3, 2, 1]]}],                        {\"legend\": {\"bgcolor\": \"#F5F6F9\", \"font\": {\"color\": \"#4D5663\"}}, \"paper_bgcolor\": \"#F5F6F9\", \"plot_bgcolor\": \"#F5F6F9\", \"template\": {\"data\": {\"bar\": [{\"error_x\": {\"color\": \"#2a3f5f\"}, \"error_y\": {\"color\": \"#2a3f5f\"}, \"marker\": {\"line\": {\"color\": \"#E5ECF6\", \"width\": 0.5}}, \"type\": \"bar\"}], \"barpolar\": [{\"marker\": {\"line\": {\"color\": \"#E5ECF6\", \"width\": 0.5}}, \"type\": \"barpolar\"}], \"carpet\": [{\"aaxis\": {\"endlinecolor\": \"#2a3f5f\", \"gridcolor\": \"white\", \"linecolor\": \"white\", \"minorgridcolor\": \"white\", \"startlinecolor\": \"#2a3f5f\"}, \"baxis\": {\"endlinecolor\": \"#2a3f5f\", \"gridcolor\": \"white\", \"linecolor\": \"white\", \"minorgridcolor\": \"white\", \"startlinecolor\": \"#2a3f5f\"}, \"type\": \"carpet\"}], \"choropleth\": [{\"colorbar\": {\"outlinewidth\": 0, \"ticks\": \"\"}, \"type\": \"choropleth\"}], \"contour\": [{\"colorbar\": {\"outlinewidth\": 0, \"ticks\": \"\"}, \"colorscale\": [[0.0, \"#0d0887\"], [0.1111111111111111, \"#46039f\"], [0.2222222222222222, \"#7201a8\"], [0.3333333333333333, \"#9c179e\"], [0.4444444444444444, \"#bd3786\"], [0.5555555555555556, \"#d8576b\"], [0.6666666666666666, \"#ed7953\"], [0.7777777777777778, \"#fb9f3a\"], [0.8888888888888888, \"#fdca26\"], [1.0, \"#f0f921\"]], \"type\": \"contour\"}], \"contourcarpet\": [{\"colorbar\": {\"outlinewidth\": 0, \"ticks\": \"\"}, \"type\": \"contourcarpet\"}], \"heatmap\": [{\"colorbar\": {\"outlinewidth\": 0, \"ticks\": \"\"}, \"colorscale\": [[0.0, \"#0d0887\"], [0.1111111111111111, \"#46039f\"], [0.2222222222222222, \"#7201a8\"], [0.3333333333333333, \"#9c179e\"], [0.4444444444444444, \"#bd3786\"], [0.5555555555555556, \"#d8576b\"], [0.6666666666666666, \"#ed7953\"], [0.7777777777777778, \"#fb9f3a\"], [0.8888888888888888, \"#fdca26\"], [1.0, \"#f0f921\"]], \"type\": \"heatmap\"}], \"heatmapgl\": [{\"colorbar\": {\"outlinewidth\": 0, \"ticks\": \"\"}, \"colorscale\": [[0.0, \"#0d0887\"], [0.1111111111111111, \"#46039f\"], [0.2222222222222222, \"#7201a8\"], [0.3333333333333333, \"#9c179e\"], [0.4444444444444444, \"#bd3786\"], [0.5555555555555556, \"#d8576b\"], [0.6666666666666666, \"#ed7953\"], [0.7777777777777778, \"#fb9f3a\"], [0.8888888888888888, \"#fdca26\"], [1.0, \"#f0f921\"]], \"type\": \"heatmapgl\"}], \"histogram\": [{\"marker\": {\"colorbar\": {\"outlinewidth\": 0, \"ticks\": \"\"}}, \"type\": \"histogram\"}], \"histogram2d\": [{\"colorbar\": {\"outlinewidth\": 0, \"ticks\": \"\"}, \"colorscale\": [[0.0, \"#0d0887\"], [0.1111111111111111, \"#46039f\"], [0.2222222222222222, \"#7201a8\"], [0.3333333333333333, \"#9c179e\"], [0.4444444444444444, \"#bd3786\"], [0.5555555555555556, \"#d8576b\"], [0.6666666666666666, \"#ed7953\"], [0.7777777777777778, \"#fb9f3a\"], [0.8888888888888888, \"#fdca26\"], [1.0, \"#f0f921\"]], \"type\": \"histogram2d\"}], \"histogram2dcontour\": [{\"colorbar\": {\"outlinewidth\": 0, \"ticks\": \"\"}, \"colorscale\": [[0.0, \"#0d0887\"], [0.1111111111111111, \"#46039f\"], [0.2222222222222222, \"#7201a8\"], [0.3333333333333333, \"#9c179e\"], [0.4444444444444444, \"#bd3786\"], [0.5555555555555556, \"#d8576b\"], [0.6666666666666666, \"#ed7953\"], [0.7777777777777778, \"#fb9f3a\"], [0.8888888888888888, \"#fdca26\"], [1.0, \"#f0f921\"]], \"type\": \"histogram2dcontour\"}], \"mesh3d\": [{\"colorbar\": {\"outlinewidth\": 0, \"ticks\": \"\"}, \"type\": \"mesh3d\"}], \"parcoords\": [{\"line\": {\"colorbar\": {\"outlinewidth\": 0, \"ticks\": \"\"}}, \"type\": \"parcoords\"}], \"pie\": [{\"automargin\": true, \"type\": \"pie\"}], \"scatter\": [{\"marker\": {\"colorbar\": {\"outlinewidth\": 0, \"ticks\": \"\"}}, \"type\": \"scatter\"}], \"scatter3d\": [{\"line\": {\"colorbar\": {\"outlinewidth\": 0, \"ticks\": \"\"}}, \"marker\": {\"colorbar\": {\"outlinewidth\": 0, \"ticks\": \"\"}}, \"type\": \"scatter3d\"}], \"scattercarpet\": [{\"marker\": {\"colorbar\": {\"outlinewidth\": 0, \"ticks\": \"\"}}, \"type\": \"scattercarpet\"}], \"scattergeo\": [{\"marker\": {\"colorbar\": {\"outlinewidth\": 0, \"ticks\": \"\"}}, \"type\": \"scattergeo\"}], \"scattergl\": [{\"marker\": {\"colorbar\": {\"outlinewidth\": 0, \"ticks\": \"\"}}, \"type\": \"scattergl\"}], \"scattermapbox\": [{\"marker\": {\"colorbar\": {\"outlinewidth\": 0, \"ticks\": \"\"}}, \"type\": \"scattermapbox\"}], \"scatterpolar\": [{\"marker\": {\"colorbar\": {\"outlinewidth\": 0, \"ticks\": \"\"}}, \"type\": \"scatterpolar\"}], \"scatterpolargl\": [{\"marker\": {\"colorbar\": {\"outlinewidth\": 0, \"ticks\": \"\"}}, \"type\": \"scatterpolargl\"}], \"scatterternary\": [{\"marker\": {\"colorbar\": {\"outlinewidth\": 0, \"ticks\": \"\"}}, \"type\": \"scatterternary\"}], \"surface\": [{\"colorbar\": {\"outlinewidth\": 0, \"ticks\": \"\"}, \"colorscale\": [[0.0, \"#0d0887\"], [0.1111111111111111, \"#46039f\"], [0.2222222222222222, \"#7201a8\"], [0.3333333333333333, \"#9c179e\"], [0.4444444444444444, \"#bd3786\"], [0.5555555555555556, \"#d8576b\"], [0.6666666666666666, \"#ed7953\"], [0.7777777777777778, \"#fb9f3a\"], [0.8888888888888888, \"#fdca26\"], [1.0, \"#f0f921\"]], \"type\": \"surface\"}], \"table\": [{\"cells\": {\"fill\": {\"color\": \"#EBF0F8\"}, \"line\": {\"color\": \"white\"}}, \"header\": {\"fill\": {\"color\": \"#C8D4E3\"}, \"line\": {\"color\": \"white\"}}, \"type\": \"table\"}]}, \"layout\": {\"annotationdefaults\": {\"arrowcolor\": \"#2a3f5f\", \"arrowhead\": 0, \"arrowwidth\": 1}, \"coloraxis\": {\"colorbar\": {\"outlinewidth\": 0, \"ticks\": \"\"}}, \"colorscale\": {\"diverging\": [[0, \"#8e0152\"], [0.1, \"#c51b7d\"], [0.2, \"#de77ae\"], [0.3, \"#f1b6da\"], [0.4, \"#fde0ef\"], [0.5, \"#f7f7f7\"], [0.6, \"#e6f5d0\"], [0.7, \"#b8e186\"], [0.8, \"#7fbc41\"], [0.9, \"#4d9221\"], [1, \"#276419\"]], \"sequential\": [[0.0, \"#0d0887\"], [0.1111111111111111, \"#46039f\"], [0.2222222222222222, \"#7201a8\"], [0.3333333333333333, \"#9c179e\"], [0.4444444444444444, \"#bd3786\"], [0.5555555555555556, \"#d8576b\"], [0.6666666666666666, \"#ed7953\"], [0.7777777777777778, \"#fb9f3a\"], [0.8888888888888888, \"#fdca26\"], [1.0, \"#f0f921\"]], \"sequentialminus\": [[0.0, \"#0d0887\"], [0.1111111111111111, \"#46039f\"], [0.2222222222222222, \"#7201a8\"], [0.3333333333333333, \"#9c179e\"], [0.4444444444444444, \"#bd3786\"], [0.5555555555555556, \"#d8576b\"], [0.6666666666666666, \"#ed7953\"], [0.7777777777777778, \"#fb9f3a\"], [0.8888888888888888, \"#fdca26\"], [1.0, \"#f0f921\"]]}, \"colorway\": [\"#636efa\", \"#EF553B\", \"#00cc96\", \"#ab63fa\", \"#FFA15A\", \"#19d3f3\", \"#FF6692\", \"#B6E880\", \"#FF97FF\", \"#FECB52\"], \"font\": {\"color\": \"#2a3f5f\"}, \"geo\": {\"bgcolor\": \"white\", \"lakecolor\": \"white\", \"landcolor\": \"#E5ECF6\", \"showlakes\": true, \"showland\": true, \"subunitcolor\": \"white\"}, \"hoverlabel\": {\"align\": \"left\"}, \"hovermode\": \"closest\", \"mapbox\": {\"style\": \"light\"}, \"paper_bgcolor\": \"white\", \"plot_bgcolor\": \"#E5ECF6\", \"polar\": {\"angularaxis\": {\"gridcolor\": \"white\", \"linecolor\": \"white\", \"ticks\": \"\"}, \"bgcolor\": \"#E5ECF6\", \"radialaxis\": {\"gridcolor\": \"white\", \"linecolor\": \"white\", \"ticks\": \"\"}}, \"scene\": {\"xaxis\": {\"backgroundcolor\": \"#E5ECF6\", \"gridcolor\": \"white\", \"gridwidth\": 2, \"linecolor\": \"white\", \"showbackground\": true, \"ticks\": \"\", \"zerolinecolor\": \"white\"}, \"yaxis\": {\"backgroundcolor\": \"#E5ECF6\", \"gridcolor\": \"white\", \"gridwidth\": 2, \"linecolor\": \"white\", \"showbackground\": true, \"ticks\": \"\", \"zerolinecolor\": \"white\"}, \"zaxis\": {\"backgroundcolor\": \"#E5ECF6\", \"gridcolor\": \"white\", \"gridwidth\": 2, \"linecolor\": \"white\", \"showbackground\": true, \"ticks\": \"\", \"zerolinecolor\": \"white\"}}, \"shapedefaults\": {\"line\": {\"color\": \"#2a3f5f\"}}, \"ternary\": {\"aaxis\": {\"gridcolor\": \"white\", \"linecolor\": \"white\", \"ticks\": \"\"}, \"baxis\": {\"gridcolor\": \"white\", \"linecolor\": \"white\", \"ticks\": \"\"}, \"bgcolor\": \"#E5ECF6\", \"caxis\": {\"gridcolor\": \"white\", \"linecolor\": \"white\", \"ticks\": \"\"}}, \"title\": {\"x\": 0.05}, \"xaxis\": {\"automargin\": true, \"gridcolor\": \"white\", \"linecolor\": \"white\", \"ticks\": \"\", \"title\": {\"standoff\": 15}, \"zerolinecolor\": \"white\", \"zerolinewidth\": 2}, \"yaxis\": {\"automargin\": true, \"gridcolor\": \"white\", \"linecolor\": \"white\", \"ticks\": \"\", \"title\": {\"standoff\": 15}, \"zerolinecolor\": \"white\", \"zerolinewidth\": 2}}}, \"title\": {\"font\": {\"color\": \"#4D5663\"}}, \"xaxis\": {\"gridcolor\": \"#E1E5ED\", \"showgrid\": true, \"tickfont\": {\"color\": \"#4D5663\"}, \"title\": {\"font\": {\"color\": \"#4D5663\"}, \"text\": \"\"}, \"zerolinecolor\": \"#E1E5ED\"}, \"yaxis\": {\"gridcolor\": \"#E1E5ED\", \"showgrid\": true, \"tickfont\": {\"color\": \"#4D5663\"}, \"title\": {\"font\": {\"color\": \"#4D5663\"}, \"text\": \"\"}, \"zerolinecolor\": \"#E1E5ED\"}},                        {\"showLink\": true, \"linkText\": \"Export to plot.ly\", \"plotlyServerURL\": \"https://plot.ly\", \"responsive\": true}                    ).then(function(){\n",
       "                            \n",
       "var gd = document.getElementById('5f6d5d58-27d3-4559-ae6a-db026a30afab');\n",
       "var x = new MutationObserver(function (mutations, observer) {{\n",
       "        var display = window.getComputedStyle(gd).display;\n",
       "        if (!display || display === 'none') {{\n",
       "            console.log([gd, 'removed!']);\n",
       "            Plotly.purge(gd);\n",
       "            observer.disconnect();\n",
       "        }}\n",
       "}});\n",
       "\n",
       "// Listen for the removal of the full notebook cells\n",
       "var notebookContainer = gd.closest('#notebook-container');\n",
       "if (notebookContainer) {{\n",
       "    x.observe(notebookContainer, {childList: true});\n",
       "}}\n",
       "\n",
       "// Listen for the clearing of the current output cell\n",
       "var outputEl = gd.closest('.output');\n",
       "if (outputEl) {{\n",
       "    x.observe(outputEl, {childList: true});\n",
       "}}\n",
       "\n",
       "                        })                };                });            </script>        </div>"
      ]
     },
     "metadata": {},
     "output_type": "display_data"
    }
   ],
   "source": [
    "df3 = pd.DataFrame({'x':[1,2,3,4,5],'y':[10,20,30,20,10],'z':[5,4,3,2,1]})\n",
    "df3.iplot(kind='surface',colorscale='rdylbu')"
   ]
  },
  {
   "cell_type": "markdown",
   "metadata": {},
   "source": [
    "## Spread"
   ]
  },
  {
   "cell_type": "code",
   "execution_count": 16,
   "metadata": {},
   "outputs": [
    {
     "name": "stderr",
     "output_type": "stream",
     "text": [
      "/Users/donovan/opt/anaconda3/lib/python3.8/site-packages/cufflinks/plotlytools.py:849: FutureWarning:\n",
      "\n",
      "The pandas.np module is deprecated and will be removed from pandas in a future version. Import numpy directly instead\n",
      "\n",
      "/Users/donovan/opt/anaconda3/lib/python3.8/site-packages/cufflinks/plotlytools.py:850: FutureWarning:\n",
      "\n",
      "The pandas.np module is deprecated and will be removed from pandas in a future version. Import numpy directly instead\n",
      "\n"
     ]
    },
    {
     "data": {
      "application/vnd.plotly.v1+json": {
       "config": {
        "linkText": "Export to plot.ly",
        "plotlyServerURL": "https://plot.ly",
        "showLink": true
       },
       "data": [
        {
         "line": {
          "color": "rgba(255, 153, 51, 1.0)",
          "dash": "solid",
          "shape": "linear",
          "width": 1.3
         },
         "mode": "lines",
         "name": "A",
         "text": "",
         "type": "scatter",
         "x": [
          0,
          1,
          2,
          3,
          4,
          5,
          6,
          7,
          8,
          9,
          10,
          11,
          12,
          13,
          14,
          15,
          16,
          17,
          18,
          19,
          20,
          21,
          22,
          23,
          24,
          25,
          26,
          27,
          28,
          29,
          30,
          31,
          32,
          33,
          34,
          35,
          36,
          37,
          38,
          39,
          40,
          41,
          42,
          43,
          44,
          45,
          46,
          47,
          48,
          49,
          50,
          51,
          52,
          53,
          54,
          55,
          56,
          57,
          58,
          59,
          60,
          61,
          62,
          63,
          64,
          65,
          66,
          67,
          68,
          69,
          70,
          71,
          72,
          73,
          74,
          75,
          76,
          77,
          78,
          79,
          80,
          81,
          82,
          83,
          84,
          85,
          86,
          87,
          88,
          89,
          90,
          91,
          92,
          93,
          94,
          95,
          96,
          97,
          98,
          99
         ],
         "y": [
          0.24588717410753003,
          -1.5443326651682237,
          -0.7892940576313485,
          -0.7521408949768861,
          -0.4796778753536114,
          -0.038090741190589895,
          -1.2936477357446499,
          -2.723420833634864,
          1.9086517655499613,
          0.4087252992968224,
          -2.5161479197724548,
          0.5467932638969071,
          0.7522566966657753,
          -0.5375211691145616,
          -0.5575175182237166,
          0.6909421933307822,
          1.4178037665917353,
          -1.3189638698222304,
          0.38135037719477854,
          -0.8975045777020152,
          1.5990034926885215,
          0.7513798196549333,
          -2.7246607309103466,
          0.009181632602803554,
          -0.7199645224339926,
          1.0159431349247343,
          0.35555691751734403,
          0.5133793537990036,
          -0.7898146830454974,
          0.145975409251844,
          0.7290500746987666,
          -0.03207417260027835,
          0.5758332689076748,
          -0.7309258513953879,
          -1.3488321998603487,
          0.9348030875542376,
          -0.5530946341539287,
          0.708339786978607,
          1.3589273059294322,
          0.6042100092089738,
          -0.018519711780514307,
          -0.8497345423017969,
          0.25930721389934425,
          0.6570749338815411,
          0.12722479020271082,
          0.5981116642723051,
          1.1087139573109894,
          0.4335456958746609,
          -0.4986020130951775,
          0.16019426329620462,
          1.0956079098556886,
          2.1781844015324,
          0.38743513688648556,
          0.23232445913149288,
          -0.02225732068587582,
          1.240721487888421,
          0.8348794737172368,
          0.49131381569131605,
          -2.465460913038345,
          -1.4128691396273751,
          0.45471027773277545,
          0.2366496229800066,
          -0.8443631136799993,
          -1.5050581382231454,
          -0.3489519058130828,
          -0.09252638339915405,
          0.4622723828835006,
          -1.0832375330785835,
          -0.172975234005294,
          1.0525870174915173,
          -0.0605350567014285,
          0.7431366307343629,
          -0.32259824462116854,
          0.46655615372559767,
          -0.8766531102031185,
          -0.25067319773196817,
          1.9220011649797581,
          -0.8995754398187623,
          -0.09723736864284754,
          0.13632410802735093,
          -0.2645397703087663,
          0.5956787521414239,
          -0.16086207093244567,
          0.3919638756805205,
          1.6431864559841054,
          0.500292502469693,
          -2.2982921012198525,
          0.7040176660035111,
          0.5779821463206176,
          0.37819996172214365,
          0.2468873010137249,
          0.7112664646179129,
          -1.8315612256428866,
          -0.8926722024059833,
          -2.2000637729889774,
          -0.1347498116867438,
          0.418059595878196,
          -0.21752058196722435,
          0.25604934393242434,
          1.0349299221152255
         ]
        },
        {
         "line": {
          "color": "rgba(55, 128, 191, 1.0)",
          "dash": "solid",
          "shape": "linear",
          "width": 1.3
         },
         "mode": "lines",
         "name": "B",
         "text": "",
         "type": "scatter",
         "x": [
          0,
          1,
          2,
          3,
          4,
          5,
          6,
          7,
          8,
          9,
          10,
          11,
          12,
          13,
          14,
          15,
          16,
          17,
          18,
          19,
          20,
          21,
          22,
          23,
          24,
          25,
          26,
          27,
          28,
          29,
          30,
          31,
          32,
          33,
          34,
          35,
          36,
          37,
          38,
          39,
          40,
          41,
          42,
          43,
          44,
          45,
          46,
          47,
          48,
          49,
          50,
          51,
          52,
          53,
          54,
          55,
          56,
          57,
          58,
          59,
          60,
          61,
          62,
          63,
          64,
          65,
          66,
          67,
          68,
          69,
          70,
          71,
          72,
          73,
          74,
          75,
          76,
          77,
          78,
          79,
          80,
          81,
          82,
          83,
          84,
          85,
          86,
          87,
          88,
          89,
          90,
          91,
          92,
          93,
          94,
          95,
          96,
          97,
          98,
          99
         ],
         "y": [
          0.17890934769892103,
          -0.033123808583366866,
          -1.7822064108916256,
          -0.5373491252336633,
          -1.4571186682282393,
          -1.4078878238560042,
          -1.2674356310721624,
          2.019550830934474,
          -0.4888330588658283,
          0.13141884905230608,
          -0.9312556526036885,
          -0.007754038998178534,
          2.435535100927038,
          0.7079881733133355,
          0.31467573359242035,
          1.1926023566358455,
          -0.06993966578389549,
          1.3105124782278086,
          -1.791805838390315,
          0.786940457459193,
          1.392374807377714,
          0.18685037333581317,
          0.5159651139015339,
          -1.3788427841040845,
          0.4481570242827706,
          -0.23192149556047384,
          -1.793900944752704,
          -0.6503177928618666,
          -1.2523592184401433,
          0.9397745472901148,
          -1.2140853902232587,
          1.3536707221874327,
          -2.2065900699338212,
          -0.2597360149080525,
          -1.4231111759501243,
          1.3997148101941983,
          -0.8711159875276375,
          0.1535439165088105,
          0.6223667974799626,
          -0.5428449527751454,
          -0.40790956932452943,
          -0.74095035588002,
          1.180243228006508,
          -1.2246704095828187,
          0.5104837648637698,
          0.45166433234461617,
          0.021824417646521932,
          -0.1199772823884989,
          -0.6313062350478947,
          0.8962458311228109,
          0.8459257422214808,
          0.40390475120466934,
          -0.7075908392741708,
          1.6564340845542072,
          0.5361952772128227,
          -0.07758458280582371,
          1.2853799260053234,
          -0.7655843186082435,
          -0.47497301247656126,
          -1.1259800726037426,
          0.19101899430261973,
          -1.827357574298033,
          -2.2013084050446086,
          0.9194612052082188,
          0.13767551508349066,
          -1.474381924958377,
          -0.8835121299482696,
          0.15730940685310918,
          0.22846581412701608,
          0.7715085536815187,
          -1.1394219297866262,
          0.15117704785432218,
          -0.5729191210052296,
          0.8201939049808525,
          0.1915501286014221,
          -0.6403217290879047,
          0.6696931832935046,
          0.5515620084580015,
          -0.44800211781238813,
          0.5496148064169799,
          -0.33023177959341304,
          -0.3405279676130839,
          1.9117164440223209,
          0.27499941131265915,
          0.48223764210266046,
          0.6010465347356609,
          0.3359623795070407,
          0.8393356310861901,
          -1.1715806085723153,
          0.3231670247779722,
          0.23374619998387358,
          1.206861746979094,
          -0.6443967282087286,
          1.9062966496430345,
          2.189933048739878,
          -0.01675318476017029,
          -0.014711562140090341,
          0.7294260989680877,
          -1.4051167130267577,
          1.7692353305949258
         ]
        },
        {
         "connectgaps": false,
         "fill": "tozeroy",
         "line": {
          "color": "green",
          "dash": "solid",
          "shape": "linear",
          "width": 0.5
         },
         "mode": "lines",
         "name": "Spread",
         "showlegend": false,
         "type": "scatter",
         "x": [
          0,
          1,
          2,
          3,
          4,
          5,
          6,
          7,
          8,
          9,
          10,
          11,
          12,
          13,
          14,
          15,
          16,
          17,
          18,
          19,
          20,
          21,
          22,
          23,
          24,
          25,
          26,
          27,
          28,
          29,
          30,
          31,
          32,
          33,
          34,
          35,
          36,
          37,
          38,
          39,
          40,
          41,
          42,
          43,
          44,
          45,
          46,
          47,
          48,
          49,
          50,
          51,
          52,
          53,
          54,
          55,
          56,
          57,
          58,
          59,
          60,
          61,
          62,
          63,
          64,
          65,
          66,
          67,
          68,
          69,
          70,
          71,
          72,
          73,
          74,
          75,
          76,
          77,
          78,
          79,
          80,
          81,
          82,
          83,
          84,
          85,
          86,
          87,
          88,
          89,
          90,
          91,
          92,
          93,
          94,
          95,
          96,
          97,
          98,
          99
         ],
         "xaxis": "x2",
         "y": [
          0.066977826408609,
          "",
          0.992912353260277,
          "",
          0.9774407928746279,
          1.3697970826654142,
          "",
          "",
          2.3974848244157894,
          0.2773064502445163,
          "",
          0.5545473028950856,
          "",
          "",
          "",
          "",
          1.487743432375631,
          "",
          2.1731562155850934,
          "",
          0.20662868531080747,
          0.5645294463191202,
          "",
          1.388024416706888,
          "",
          1.2478646304852081,
          2.1494578622700478,
          1.16369714666087,
          0.4625445353946459,
          "",
          1.9431354649220252,
          "",
          2.782423338841496,
          "",
          0.07427897608977552,
          "",
          0.31802135337370885,
          0.5547958704697965,
          0.7365605084494696,
          1.1470549619841193,
          0.3893898575440151,
          "",
          "",
          1.8817453434643598,
          "",
          0.14644733192768894,
          1.0868895396644676,
          0.5535229782631598,
          0.13270422195271725,
          "",
          0.2496821676342078,
          1.7742796503277307,
          1.0950259761606564,
          "",
          "",
          1.3183060706942447,
          "",
          1.2568981342995595,
          "",
          "",
          0.2636912834301557,
          2.06400719727804,
          1.3569452913646094,
          "",
          "",
          1.3818555415592229,
          1.34578451283177,
          "",
          "",
          0.28107846380999857,
          1.0788868730851977,
          0.5919595828800407,
          0.25032087638406103,
          "",
          "",
          0.3896485313559366,
          1.2523079816862537,
          "",
          0.3507647491695406,
          "",
          0.06569200928464675,
          0.9362067197545078,
          "",
          0.11696446436786134,
          1.160948813881445,
          "",
          "",
          "",
          1.749562754892933,
          0.05503293694417144,
          0.013141101029851332,
          "",
          "",
          "",
          "",
          "",
          0.43277115801828636,
          "",
          1.661166056959182,
          ""
         ],
         "yaxis": "y2"
        },
        {
         "connectgaps": false,
         "fill": "tozeroy",
         "line": {
          "color": "red",
          "dash": "solid",
          "shape": "linear",
          "width": 0.5
         },
         "mode": "lines",
         "name": "Spread",
         "showlegend": false,
         "type": "scatter",
         "x": [
          0,
          1,
          2,
          3,
          4,
          5,
          6,
          7,
          8,
          9,
          10,
          11,
          12,
          13,
          14,
          15,
          16,
          17,
          18,
          19,
          20,
          21,
          22,
          23,
          24,
          25,
          26,
          27,
          28,
          29,
          30,
          31,
          32,
          33,
          34,
          35,
          36,
          37,
          38,
          39,
          40,
          41,
          42,
          43,
          44,
          45,
          46,
          47,
          48,
          49,
          50,
          51,
          52,
          53,
          54,
          55,
          56,
          57,
          58,
          59,
          60,
          61,
          62,
          63,
          64,
          65,
          66,
          67,
          68,
          69,
          70,
          71,
          72,
          73,
          74,
          75,
          76,
          77,
          78,
          79,
          80,
          81,
          82,
          83,
          84,
          85,
          86,
          87,
          88,
          89,
          90,
          91,
          92,
          93,
          94,
          95,
          96,
          97,
          98,
          99
         ],
         "xaxis": "x2",
         "y": [
          "",
          -1.5112088565848567,
          "",
          -0.21479176974322278,
          "",
          "",
          -0.02621210467248747,
          -4.742971664569338,
          "",
          "",
          -1.5848922671687662,
          "",
          -1.6832784042612627,
          -1.2455093424278971,
          -0.872193251816137,
          -0.5016601633050632,
          "",
          -2.629476348050039,
          "",
          -1.6844450351612084,
          "",
          "",
          -3.2406258448118805,
          "",
          -1.1681215467167632,
          "",
          "",
          "",
          "",
          -0.7937991380382707,
          "",
          -1.3857448947877111,
          "",
          -0.4711898364873354,
          "",
          -0.4649117226399607,
          "",
          "",
          "",
          "",
          "",
          -0.1087841864217769,
          -0.9209360141071639,
          "",
          -0.38325897466105896,
          "",
          "",
          "",
          "",
          -0.7360515678266062,
          "",
          "",
          "",
          -1.4241096254227144,
          -0.5584525978986985,
          "",
          -0.45050045228808655,
          "",
          -1.990487900561784,
          -0.2868890670236326,
          "",
          "",
          "",
          -2.4245193434313643,
          -0.4866274208965734,
          "",
          "",
          -1.2405469399316926,
          -0.4014410481323101,
          "",
          "",
          "",
          "",
          -0.3536377512552549,
          -1.0682032388045406,
          "",
          "",
          -1.4511374482767638,
          "",
          -0.41329069838962895,
          "",
          "",
          -2.0725785149547664,
          "",
          "",
          -0.10075403226596791,
          -2.6342544807268933,
          -0.13531796508267901,
          "",
          "",
          "",
          -0.4955952823611812,
          -1.187164497434158,
          -2.798968852049018,
          -4.389996821728856,
          -0.1179966269265735,
          "",
          -0.9469466809353121,
          "",
          -0.7343054084797003
         ],
         "yaxis": "y2"
        }
       ],
       "layout": {
        "hovermode": "x",
        "legend": {
         "bgcolor": "#F5F6F9",
         "font": {
          "color": "#4D5663"
         }
        },
        "paper_bgcolor": "#F5F6F9",
        "plot_bgcolor": "#F5F6F9",
        "template": {
         "data": {
          "bar": [
           {
            "error_x": {
             "color": "#2a3f5f"
            },
            "error_y": {
             "color": "#2a3f5f"
            },
            "marker": {
             "line": {
              "color": "#E5ECF6",
              "width": 0.5
             }
            },
            "type": "bar"
           }
          ],
          "barpolar": [
           {
            "marker": {
             "line": {
              "color": "#E5ECF6",
              "width": 0.5
             }
            },
            "type": "barpolar"
           }
          ],
          "carpet": [
           {
            "aaxis": {
             "endlinecolor": "#2a3f5f",
             "gridcolor": "white",
             "linecolor": "white",
             "minorgridcolor": "white",
             "startlinecolor": "#2a3f5f"
            },
            "baxis": {
             "endlinecolor": "#2a3f5f",
             "gridcolor": "white",
             "linecolor": "white",
             "minorgridcolor": "white",
             "startlinecolor": "#2a3f5f"
            },
            "type": "carpet"
           }
          ],
          "choropleth": [
           {
            "colorbar": {
             "outlinewidth": 0,
             "ticks": ""
            },
            "type": "choropleth"
           }
          ],
          "contour": [
           {
            "colorbar": {
             "outlinewidth": 0,
             "ticks": ""
            },
            "colorscale": [
             [
              0,
              "#0d0887"
             ],
             [
              0.1111111111111111,
              "#46039f"
             ],
             [
              0.2222222222222222,
              "#7201a8"
             ],
             [
              0.3333333333333333,
              "#9c179e"
             ],
             [
              0.4444444444444444,
              "#bd3786"
             ],
             [
              0.5555555555555556,
              "#d8576b"
             ],
             [
              0.6666666666666666,
              "#ed7953"
             ],
             [
              0.7777777777777778,
              "#fb9f3a"
             ],
             [
              0.8888888888888888,
              "#fdca26"
             ],
             [
              1,
              "#f0f921"
             ]
            ],
            "type": "contour"
           }
          ],
          "contourcarpet": [
           {
            "colorbar": {
             "outlinewidth": 0,
             "ticks": ""
            },
            "type": "contourcarpet"
           }
          ],
          "heatmap": [
           {
            "colorbar": {
             "outlinewidth": 0,
             "ticks": ""
            },
            "colorscale": [
             [
              0,
              "#0d0887"
             ],
             [
              0.1111111111111111,
              "#46039f"
             ],
             [
              0.2222222222222222,
              "#7201a8"
             ],
             [
              0.3333333333333333,
              "#9c179e"
             ],
             [
              0.4444444444444444,
              "#bd3786"
             ],
             [
              0.5555555555555556,
              "#d8576b"
             ],
             [
              0.6666666666666666,
              "#ed7953"
             ],
             [
              0.7777777777777778,
              "#fb9f3a"
             ],
             [
              0.8888888888888888,
              "#fdca26"
             ],
             [
              1,
              "#f0f921"
             ]
            ],
            "type": "heatmap"
           }
          ],
          "heatmapgl": [
           {
            "colorbar": {
             "outlinewidth": 0,
             "ticks": ""
            },
            "colorscale": [
             [
              0,
              "#0d0887"
             ],
             [
              0.1111111111111111,
              "#46039f"
             ],
             [
              0.2222222222222222,
              "#7201a8"
             ],
             [
              0.3333333333333333,
              "#9c179e"
             ],
             [
              0.4444444444444444,
              "#bd3786"
             ],
             [
              0.5555555555555556,
              "#d8576b"
             ],
             [
              0.6666666666666666,
              "#ed7953"
             ],
             [
              0.7777777777777778,
              "#fb9f3a"
             ],
             [
              0.8888888888888888,
              "#fdca26"
             ],
             [
              1,
              "#f0f921"
             ]
            ],
            "type": "heatmapgl"
           }
          ],
          "histogram": [
           {
            "marker": {
             "colorbar": {
              "outlinewidth": 0,
              "ticks": ""
             }
            },
            "type": "histogram"
           }
          ],
          "histogram2d": [
           {
            "colorbar": {
             "outlinewidth": 0,
             "ticks": ""
            },
            "colorscale": [
             [
              0,
              "#0d0887"
             ],
             [
              0.1111111111111111,
              "#46039f"
             ],
             [
              0.2222222222222222,
              "#7201a8"
             ],
             [
              0.3333333333333333,
              "#9c179e"
             ],
             [
              0.4444444444444444,
              "#bd3786"
             ],
             [
              0.5555555555555556,
              "#d8576b"
             ],
             [
              0.6666666666666666,
              "#ed7953"
             ],
             [
              0.7777777777777778,
              "#fb9f3a"
             ],
             [
              0.8888888888888888,
              "#fdca26"
             ],
             [
              1,
              "#f0f921"
             ]
            ],
            "type": "histogram2d"
           }
          ],
          "histogram2dcontour": [
           {
            "colorbar": {
             "outlinewidth": 0,
             "ticks": ""
            },
            "colorscale": [
             [
              0,
              "#0d0887"
             ],
             [
              0.1111111111111111,
              "#46039f"
             ],
             [
              0.2222222222222222,
              "#7201a8"
             ],
             [
              0.3333333333333333,
              "#9c179e"
             ],
             [
              0.4444444444444444,
              "#bd3786"
             ],
             [
              0.5555555555555556,
              "#d8576b"
             ],
             [
              0.6666666666666666,
              "#ed7953"
             ],
             [
              0.7777777777777778,
              "#fb9f3a"
             ],
             [
              0.8888888888888888,
              "#fdca26"
             ],
             [
              1,
              "#f0f921"
             ]
            ],
            "type": "histogram2dcontour"
           }
          ],
          "mesh3d": [
           {
            "colorbar": {
             "outlinewidth": 0,
             "ticks": ""
            },
            "type": "mesh3d"
           }
          ],
          "parcoords": [
           {
            "line": {
             "colorbar": {
              "outlinewidth": 0,
              "ticks": ""
             }
            },
            "type": "parcoords"
           }
          ],
          "pie": [
           {
            "automargin": true,
            "type": "pie"
           }
          ],
          "scatter": [
           {
            "marker": {
             "colorbar": {
              "outlinewidth": 0,
              "ticks": ""
             }
            },
            "type": "scatter"
           }
          ],
          "scatter3d": [
           {
            "line": {
             "colorbar": {
              "outlinewidth": 0,
              "ticks": ""
             }
            },
            "marker": {
             "colorbar": {
              "outlinewidth": 0,
              "ticks": ""
             }
            },
            "type": "scatter3d"
           }
          ],
          "scattercarpet": [
           {
            "marker": {
             "colorbar": {
              "outlinewidth": 0,
              "ticks": ""
             }
            },
            "type": "scattercarpet"
           }
          ],
          "scattergeo": [
           {
            "marker": {
             "colorbar": {
              "outlinewidth": 0,
              "ticks": ""
             }
            },
            "type": "scattergeo"
           }
          ],
          "scattergl": [
           {
            "marker": {
             "colorbar": {
              "outlinewidth": 0,
              "ticks": ""
             }
            },
            "type": "scattergl"
           }
          ],
          "scattermapbox": [
           {
            "marker": {
             "colorbar": {
              "outlinewidth": 0,
              "ticks": ""
             }
            },
            "type": "scattermapbox"
           }
          ],
          "scatterpolar": [
           {
            "marker": {
             "colorbar": {
              "outlinewidth": 0,
              "ticks": ""
             }
            },
            "type": "scatterpolar"
           }
          ],
          "scatterpolargl": [
           {
            "marker": {
             "colorbar": {
              "outlinewidth": 0,
              "ticks": ""
             }
            },
            "type": "scatterpolargl"
           }
          ],
          "scatterternary": [
           {
            "marker": {
             "colorbar": {
              "outlinewidth": 0,
              "ticks": ""
             }
            },
            "type": "scatterternary"
           }
          ],
          "surface": [
           {
            "colorbar": {
             "outlinewidth": 0,
             "ticks": ""
            },
            "colorscale": [
             [
              0,
              "#0d0887"
             ],
             [
              0.1111111111111111,
              "#46039f"
             ],
             [
              0.2222222222222222,
              "#7201a8"
             ],
             [
              0.3333333333333333,
              "#9c179e"
             ],
             [
              0.4444444444444444,
              "#bd3786"
             ],
             [
              0.5555555555555556,
              "#d8576b"
             ],
             [
              0.6666666666666666,
              "#ed7953"
             ],
             [
              0.7777777777777778,
              "#fb9f3a"
             ],
             [
              0.8888888888888888,
              "#fdca26"
             ],
             [
              1,
              "#f0f921"
             ]
            ],
            "type": "surface"
           }
          ],
          "table": [
           {
            "cells": {
             "fill": {
              "color": "#EBF0F8"
             },
             "line": {
              "color": "white"
             }
            },
            "header": {
             "fill": {
              "color": "#C8D4E3"
             },
             "line": {
              "color": "white"
             }
            },
            "type": "table"
           }
          ]
         },
         "layout": {
          "annotationdefaults": {
           "arrowcolor": "#2a3f5f",
           "arrowhead": 0,
           "arrowwidth": 1
          },
          "coloraxis": {
           "colorbar": {
            "outlinewidth": 0,
            "ticks": ""
           }
          },
          "colorscale": {
           "diverging": [
            [
             0,
             "#8e0152"
            ],
            [
             0.1,
             "#c51b7d"
            ],
            [
             0.2,
             "#de77ae"
            ],
            [
             0.3,
             "#f1b6da"
            ],
            [
             0.4,
             "#fde0ef"
            ],
            [
             0.5,
             "#f7f7f7"
            ],
            [
             0.6,
             "#e6f5d0"
            ],
            [
             0.7,
             "#b8e186"
            ],
            [
             0.8,
             "#7fbc41"
            ],
            [
             0.9,
             "#4d9221"
            ],
            [
             1,
             "#276419"
            ]
           ],
           "sequential": [
            [
             0,
             "#0d0887"
            ],
            [
             0.1111111111111111,
             "#46039f"
            ],
            [
             0.2222222222222222,
             "#7201a8"
            ],
            [
             0.3333333333333333,
             "#9c179e"
            ],
            [
             0.4444444444444444,
             "#bd3786"
            ],
            [
             0.5555555555555556,
             "#d8576b"
            ],
            [
             0.6666666666666666,
             "#ed7953"
            ],
            [
             0.7777777777777778,
             "#fb9f3a"
            ],
            [
             0.8888888888888888,
             "#fdca26"
            ],
            [
             1,
             "#f0f921"
            ]
           ],
           "sequentialminus": [
            [
             0,
             "#0d0887"
            ],
            [
             0.1111111111111111,
             "#46039f"
            ],
            [
             0.2222222222222222,
             "#7201a8"
            ],
            [
             0.3333333333333333,
             "#9c179e"
            ],
            [
             0.4444444444444444,
             "#bd3786"
            ],
            [
             0.5555555555555556,
             "#d8576b"
            ],
            [
             0.6666666666666666,
             "#ed7953"
            ],
            [
             0.7777777777777778,
             "#fb9f3a"
            ],
            [
             0.8888888888888888,
             "#fdca26"
            ],
            [
             1,
             "#f0f921"
            ]
           ]
          },
          "colorway": [
           "#636efa",
           "#EF553B",
           "#00cc96",
           "#ab63fa",
           "#FFA15A",
           "#19d3f3",
           "#FF6692",
           "#B6E880",
           "#FF97FF",
           "#FECB52"
          ],
          "font": {
           "color": "#2a3f5f"
          },
          "geo": {
           "bgcolor": "white",
           "lakecolor": "white",
           "landcolor": "#E5ECF6",
           "showlakes": true,
           "showland": true,
           "subunitcolor": "white"
          },
          "hoverlabel": {
           "align": "left"
          },
          "hovermode": "closest",
          "mapbox": {
           "style": "light"
          },
          "paper_bgcolor": "white",
          "plot_bgcolor": "#E5ECF6",
          "polar": {
           "angularaxis": {
            "gridcolor": "white",
            "linecolor": "white",
            "ticks": ""
           },
           "bgcolor": "#E5ECF6",
           "radialaxis": {
            "gridcolor": "white",
            "linecolor": "white",
            "ticks": ""
           }
          },
          "scene": {
           "xaxis": {
            "backgroundcolor": "#E5ECF6",
            "gridcolor": "white",
            "gridwidth": 2,
            "linecolor": "white",
            "showbackground": true,
            "ticks": "",
            "zerolinecolor": "white"
           },
           "yaxis": {
            "backgroundcolor": "#E5ECF6",
            "gridcolor": "white",
            "gridwidth": 2,
            "linecolor": "white",
            "showbackground": true,
            "ticks": "",
            "zerolinecolor": "white"
           },
           "zaxis": {
            "backgroundcolor": "#E5ECF6",
            "gridcolor": "white",
            "gridwidth": 2,
            "linecolor": "white",
            "showbackground": true,
            "ticks": "",
            "zerolinecolor": "white"
           }
          },
          "shapedefaults": {
           "line": {
            "color": "#2a3f5f"
           }
          },
          "ternary": {
           "aaxis": {
            "gridcolor": "white",
            "linecolor": "white",
            "ticks": ""
           },
           "baxis": {
            "gridcolor": "white",
            "linecolor": "white",
            "ticks": ""
           },
           "bgcolor": "#E5ECF6",
           "caxis": {
            "gridcolor": "white",
            "linecolor": "white",
            "ticks": ""
           }
          },
          "title": {
           "x": 0.05
          },
          "xaxis": {
           "automargin": true,
           "gridcolor": "white",
           "linecolor": "white",
           "ticks": "",
           "title": {
            "standoff": 15
           },
           "zerolinecolor": "white",
           "zerolinewidth": 2
          },
          "yaxis": {
           "automargin": true,
           "gridcolor": "white",
           "linecolor": "white",
           "ticks": "",
           "title": {
            "standoff": 15
           },
           "zerolinecolor": "white",
           "zerolinewidth": 2
          }
         }
        },
        "title": {
         "font": {
          "color": "#4D5663"
         }
        },
        "xaxis": {
         "gridcolor": "#E1E5ED",
         "showgrid": true,
         "tickfont": {
          "color": "#4D5663"
         },
         "title": {
          "font": {
           "color": "#4D5663"
          },
          "text": ""
         },
         "zerolinecolor": "#E1E5ED"
        },
        "xaxis2": {
         "anchor": "y2",
         "gridcolor": "#E1E5ED",
         "showgrid": true,
         "showticklabels": false,
         "tickfont": {
          "color": "#4D5663"
         },
         "title": {
          "font": {
           "color": "#4D5663"
          },
          "text": ""
         },
         "zerolinecolor": "#E1E5ED"
        },
        "yaxis": {
         "domain": [
          0.3,
          1
         ],
         "gridcolor": "#E1E5ED",
         "showgrid": true,
         "tickfont": {
          "color": "#4D5663"
         },
         "title": {
          "font": {
           "color": "#4D5663"
          },
          "text": ""
         },
         "zerolinecolor": "#E1E5ED"
        },
        "yaxis2": {
         "domain": [
          0,
          0.25
         ],
         "gridcolor": "#E1E5ED",
         "showgrid": true,
         "tickfont": {
          "color": "#4D5663"
         },
         "title": {
          "font": {
           "color": "#4D5663"
          },
          "text": "Spread"
         },
         "zerolinecolor": "#E1E5ED"
        }
       }
      },
      "text/html": [
       "<div>                            <div id=\"5f1727eb-c2f8-4dcb-a3de-9b351087e401\" class=\"plotly-graph-div\" style=\"height:525px; width:100%;\"></div>            <script type=\"text/javascript\">                require([\"plotly\"], function(Plotly) {                    window.PLOTLYENV=window.PLOTLYENV || {};\n",
       "                    window.PLOTLYENV.BASE_URL='https://plot.ly';                                    if (document.getElementById(\"5f1727eb-c2f8-4dcb-a3de-9b351087e401\")) {                    Plotly.newPlot(                        \"5f1727eb-c2f8-4dcb-a3de-9b351087e401\",                        [{\"line\": {\"color\": \"rgba(255, 153, 51, 1.0)\", \"dash\": \"solid\", \"shape\": \"linear\", \"width\": 1.3}, \"mode\": \"lines\", \"name\": \"A\", \"text\": \"\", \"type\": \"scatter\", \"x\": [0, 1, 2, 3, 4, 5, 6, 7, 8, 9, 10, 11, 12, 13, 14, 15, 16, 17, 18, 19, 20, 21, 22, 23, 24, 25, 26, 27, 28, 29, 30, 31, 32, 33, 34, 35, 36, 37, 38, 39, 40, 41, 42, 43, 44, 45, 46, 47, 48, 49, 50, 51, 52, 53, 54, 55, 56, 57, 58, 59, 60, 61, 62, 63, 64, 65, 66, 67, 68, 69, 70, 71, 72, 73, 74, 75, 76, 77, 78, 79, 80, 81, 82, 83, 84, 85, 86, 87, 88, 89, 90, 91, 92, 93, 94, 95, 96, 97, 98, 99], \"y\": [0.24588717410753003, -1.5443326651682237, -0.7892940576313485, -0.7521408949768861, -0.4796778753536114, -0.038090741190589895, -1.2936477357446499, -2.723420833634864, 1.9086517655499613, 0.4087252992968224, -2.5161479197724548, 0.5467932638969071, 0.7522566966657753, -0.5375211691145616, -0.5575175182237166, 0.6909421933307822, 1.4178037665917353, -1.3189638698222304, 0.38135037719477854, -0.8975045777020152, 1.5990034926885215, 0.7513798196549333, -2.7246607309103466, 0.009181632602803554, -0.7199645224339926, 1.0159431349247343, 0.35555691751734403, 0.5133793537990036, -0.7898146830454974, 0.145975409251844, 0.7290500746987666, -0.03207417260027835, 0.5758332689076748, -0.7309258513953879, -1.3488321998603487, 0.9348030875542376, -0.5530946341539287, 0.708339786978607, 1.3589273059294322, 0.6042100092089738, -0.018519711780514307, -0.8497345423017969, 0.25930721389934425, 0.6570749338815411, 0.12722479020271082, 0.5981116642723051, 1.1087139573109894, 0.4335456958746609, -0.4986020130951775, 0.16019426329620462, 1.0956079098556886, 2.1781844015324, 0.38743513688648556, 0.23232445913149288, -0.02225732068587582, 1.240721487888421, 0.8348794737172368, 0.49131381569131605, -2.465460913038345, -1.4128691396273751, 0.45471027773277545, 0.2366496229800066, -0.8443631136799993, -1.5050581382231454, -0.3489519058130828, -0.09252638339915405, 0.4622723828835006, -1.0832375330785835, -0.172975234005294, 1.0525870174915173, -0.0605350567014285, 0.7431366307343629, -0.32259824462116854, 0.46655615372559767, -0.8766531102031185, -0.25067319773196817, 1.9220011649797581, -0.8995754398187623, -0.09723736864284754, 0.13632410802735093, -0.2645397703087663, 0.5956787521414239, -0.16086207093244567, 0.3919638756805205, 1.6431864559841054, 0.500292502469693, -2.2982921012198525, 0.7040176660035111, 0.5779821463206176, 0.37819996172214365, 0.2468873010137249, 0.7112664646179129, -1.8315612256428866, -0.8926722024059833, -2.2000637729889774, -0.1347498116867438, 0.418059595878196, -0.21752058196722435, 0.25604934393242434, 1.0349299221152255]}, {\"line\": {\"color\": \"rgba(55, 128, 191, 1.0)\", \"dash\": \"solid\", \"shape\": \"linear\", \"width\": 1.3}, \"mode\": \"lines\", \"name\": \"B\", \"text\": \"\", \"type\": \"scatter\", \"x\": [0, 1, 2, 3, 4, 5, 6, 7, 8, 9, 10, 11, 12, 13, 14, 15, 16, 17, 18, 19, 20, 21, 22, 23, 24, 25, 26, 27, 28, 29, 30, 31, 32, 33, 34, 35, 36, 37, 38, 39, 40, 41, 42, 43, 44, 45, 46, 47, 48, 49, 50, 51, 52, 53, 54, 55, 56, 57, 58, 59, 60, 61, 62, 63, 64, 65, 66, 67, 68, 69, 70, 71, 72, 73, 74, 75, 76, 77, 78, 79, 80, 81, 82, 83, 84, 85, 86, 87, 88, 89, 90, 91, 92, 93, 94, 95, 96, 97, 98, 99], \"y\": [0.17890934769892103, -0.033123808583366866, -1.7822064108916256, -0.5373491252336633, -1.4571186682282393, -1.4078878238560042, -1.2674356310721624, 2.019550830934474, -0.4888330588658283, 0.13141884905230608, -0.9312556526036885, -0.007754038998178534, 2.435535100927038, 0.7079881733133355, 0.31467573359242035, 1.1926023566358455, -0.06993966578389549, 1.3105124782278086, -1.791805838390315, 0.786940457459193, 1.392374807377714, 0.18685037333581317, 0.5159651139015339, -1.3788427841040845, 0.4481570242827706, -0.23192149556047384, -1.793900944752704, -0.6503177928618666, -1.2523592184401433, 0.9397745472901148, -1.2140853902232587, 1.3536707221874327, -2.2065900699338212, -0.2597360149080525, -1.4231111759501243, 1.3997148101941983, -0.8711159875276375, 0.1535439165088105, 0.6223667974799626, -0.5428449527751454, -0.40790956932452943, -0.74095035588002, 1.180243228006508, -1.2246704095828187, 0.5104837648637698, 0.45166433234461617, 0.021824417646521932, -0.1199772823884989, -0.6313062350478947, 0.8962458311228109, 0.8459257422214808, 0.40390475120466934, -0.7075908392741708, 1.6564340845542072, 0.5361952772128227, -0.07758458280582371, 1.2853799260053234, -0.7655843186082435, -0.47497301247656126, -1.1259800726037426, 0.19101899430261973, -1.827357574298033, -2.2013084050446086, 0.9194612052082188, 0.13767551508349066, -1.474381924958377, -0.8835121299482696, 0.15730940685310918, 0.22846581412701608, 0.7715085536815187, -1.1394219297866262, 0.15117704785432218, -0.5729191210052296, 0.8201939049808525, 0.1915501286014221, -0.6403217290879047, 0.6696931832935046, 0.5515620084580015, -0.44800211781238813, 0.5496148064169799, -0.33023177959341304, -0.3405279676130839, 1.9117164440223209, 0.27499941131265915, 0.48223764210266046, 0.6010465347356609, 0.3359623795070407, 0.8393356310861901, -1.1715806085723153, 0.3231670247779722, 0.23374619998387358, 1.206861746979094, -0.6443967282087286, 1.9062966496430345, 2.189933048739878, -0.01675318476017029, -0.014711562140090341, 0.7294260989680877, -1.4051167130267577, 1.7692353305949258]}, {\"connectgaps\": false, \"fill\": \"tozeroy\", \"line\": {\"color\": \"green\", \"dash\": \"solid\", \"shape\": \"linear\", \"width\": 0.5}, \"mode\": \"lines\", \"name\": \"Spread\", \"showlegend\": false, \"type\": \"scatter\", \"x\": [0, 1, 2, 3, 4, 5, 6, 7, 8, 9, 10, 11, 12, 13, 14, 15, 16, 17, 18, 19, 20, 21, 22, 23, 24, 25, 26, 27, 28, 29, 30, 31, 32, 33, 34, 35, 36, 37, 38, 39, 40, 41, 42, 43, 44, 45, 46, 47, 48, 49, 50, 51, 52, 53, 54, 55, 56, 57, 58, 59, 60, 61, 62, 63, 64, 65, 66, 67, 68, 69, 70, 71, 72, 73, 74, 75, 76, 77, 78, 79, 80, 81, 82, 83, 84, 85, 86, 87, 88, 89, 90, 91, 92, 93, 94, 95, 96, 97, 98, 99], \"xaxis\": \"x2\", \"y\": [0.066977826408609, \"\", 0.992912353260277, \"\", 0.9774407928746279, 1.3697970826654142, \"\", \"\", 2.3974848244157894, 0.2773064502445163, \"\", 0.5545473028950856, \"\", \"\", \"\", \"\", 1.487743432375631, \"\", 2.1731562155850934, \"\", 0.20662868531080747, 0.5645294463191202, \"\", 1.388024416706888, \"\", 1.2478646304852081, 2.1494578622700478, 1.16369714666087, 0.4625445353946459, \"\", 1.9431354649220252, \"\", 2.782423338841496, \"\", 0.07427897608977552, \"\", 0.31802135337370885, 0.5547958704697965, 0.7365605084494696, 1.1470549619841193, 0.3893898575440151, \"\", \"\", 1.8817453434643598, \"\", 0.14644733192768894, 1.0868895396644676, 0.5535229782631598, 0.13270422195271725, \"\", 0.2496821676342078, 1.7742796503277307, 1.0950259761606564, \"\", \"\", 1.3183060706942447, \"\", 1.2568981342995595, \"\", \"\", 0.2636912834301557, 2.06400719727804, 1.3569452913646094, \"\", \"\", 1.3818555415592229, 1.34578451283177, \"\", \"\", 0.28107846380999857, 1.0788868730851977, 0.5919595828800407, 0.25032087638406103, \"\", \"\", 0.3896485313559366, 1.2523079816862537, \"\", 0.3507647491695406, \"\", 0.06569200928464675, 0.9362067197545078, \"\", 0.11696446436786134, 1.160948813881445, \"\", \"\", \"\", 1.749562754892933, 0.05503293694417144, 0.013141101029851332, \"\", \"\", \"\", \"\", \"\", 0.43277115801828636, \"\", 1.661166056959182, \"\"], \"yaxis\": \"y2\"}, {\"connectgaps\": false, \"fill\": \"tozeroy\", \"line\": {\"color\": \"red\", \"dash\": \"solid\", \"shape\": \"linear\", \"width\": 0.5}, \"mode\": \"lines\", \"name\": \"Spread\", \"showlegend\": false, \"type\": \"scatter\", \"x\": [0, 1, 2, 3, 4, 5, 6, 7, 8, 9, 10, 11, 12, 13, 14, 15, 16, 17, 18, 19, 20, 21, 22, 23, 24, 25, 26, 27, 28, 29, 30, 31, 32, 33, 34, 35, 36, 37, 38, 39, 40, 41, 42, 43, 44, 45, 46, 47, 48, 49, 50, 51, 52, 53, 54, 55, 56, 57, 58, 59, 60, 61, 62, 63, 64, 65, 66, 67, 68, 69, 70, 71, 72, 73, 74, 75, 76, 77, 78, 79, 80, 81, 82, 83, 84, 85, 86, 87, 88, 89, 90, 91, 92, 93, 94, 95, 96, 97, 98, 99], \"xaxis\": \"x2\", \"y\": [\"\", -1.5112088565848567, \"\", -0.21479176974322278, \"\", \"\", -0.02621210467248747, -4.742971664569338, \"\", \"\", -1.5848922671687662, \"\", -1.6832784042612627, -1.2455093424278971, -0.872193251816137, -0.5016601633050632, \"\", -2.629476348050039, \"\", -1.6844450351612084, \"\", \"\", -3.2406258448118805, \"\", -1.1681215467167632, \"\", \"\", \"\", \"\", -0.7937991380382707, \"\", -1.3857448947877111, \"\", -0.4711898364873354, \"\", -0.4649117226399607, \"\", \"\", \"\", \"\", \"\", -0.1087841864217769, -0.9209360141071639, \"\", -0.38325897466105896, \"\", \"\", \"\", \"\", -0.7360515678266062, \"\", \"\", \"\", -1.4241096254227144, -0.5584525978986985, \"\", -0.45050045228808655, \"\", -1.990487900561784, -0.2868890670236326, \"\", \"\", \"\", -2.4245193434313643, -0.4866274208965734, \"\", \"\", -1.2405469399316926, -0.4014410481323101, \"\", \"\", \"\", \"\", -0.3536377512552549, -1.0682032388045406, \"\", \"\", -1.4511374482767638, \"\", -0.41329069838962895, \"\", \"\", -2.0725785149547664, \"\", \"\", -0.10075403226596791, -2.6342544807268933, -0.13531796508267901, \"\", \"\", \"\", -0.4955952823611812, -1.187164497434158, -2.798968852049018, -4.389996821728856, -0.1179966269265735, \"\", -0.9469466809353121, \"\", -0.7343054084797003], \"yaxis\": \"y2\"}],                        {\"hovermode\": \"x\", \"legend\": {\"bgcolor\": \"#F5F6F9\", \"font\": {\"color\": \"#4D5663\"}}, \"paper_bgcolor\": \"#F5F6F9\", \"plot_bgcolor\": \"#F5F6F9\", \"template\": {\"data\": {\"bar\": [{\"error_x\": {\"color\": \"#2a3f5f\"}, \"error_y\": {\"color\": \"#2a3f5f\"}, \"marker\": {\"line\": {\"color\": \"#E5ECF6\", \"width\": 0.5}}, \"type\": \"bar\"}], \"barpolar\": [{\"marker\": {\"line\": {\"color\": \"#E5ECF6\", \"width\": 0.5}}, \"type\": \"barpolar\"}], \"carpet\": [{\"aaxis\": {\"endlinecolor\": \"#2a3f5f\", \"gridcolor\": \"white\", \"linecolor\": \"white\", \"minorgridcolor\": \"white\", \"startlinecolor\": \"#2a3f5f\"}, \"baxis\": {\"endlinecolor\": \"#2a3f5f\", \"gridcolor\": \"white\", \"linecolor\": \"white\", \"minorgridcolor\": \"white\", \"startlinecolor\": \"#2a3f5f\"}, \"type\": \"carpet\"}], \"choropleth\": [{\"colorbar\": {\"outlinewidth\": 0, \"ticks\": \"\"}, \"type\": \"choropleth\"}], \"contour\": [{\"colorbar\": {\"outlinewidth\": 0, \"ticks\": \"\"}, \"colorscale\": [[0.0, \"#0d0887\"], [0.1111111111111111, \"#46039f\"], [0.2222222222222222, \"#7201a8\"], [0.3333333333333333, \"#9c179e\"], [0.4444444444444444, \"#bd3786\"], [0.5555555555555556, \"#d8576b\"], [0.6666666666666666, \"#ed7953\"], [0.7777777777777778, \"#fb9f3a\"], [0.8888888888888888, \"#fdca26\"], [1.0, \"#f0f921\"]], \"type\": \"contour\"}], \"contourcarpet\": [{\"colorbar\": {\"outlinewidth\": 0, \"ticks\": \"\"}, \"type\": \"contourcarpet\"}], \"heatmap\": [{\"colorbar\": {\"outlinewidth\": 0, \"ticks\": \"\"}, \"colorscale\": [[0.0, \"#0d0887\"], [0.1111111111111111, \"#46039f\"], [0.2222222222222222, \"#7201a8\"], [0.3333333333333333, \"#9c179e\"], [0.4444444444444444, \"#bd3786\"], [0.5555555555555556, \"#d8576b\"], [0.6666666666666666, \"#ed7953\"], [0.7777777777777778, \"#fb9f3a\"], [0.8888888888888888, \"#fdca26\"], [1.0, \"#f0f921\"]], \"type\": \"heatmap\"}], \"heatmapgl\": [{\"colorbar\": {\"outlinewidth\": 0, \"ticks\": \"\"}, \"colorscale\": [[0.0, \"#0d0887\"], [0.1111111111111111, \"#46039f\"], [0.2222222222222222, \"#7201a8\"], [0.3333333333333333, \"#9c179e\"], [0.4444444444444444, \"#bd3786\"], [0.5555555555555556, \"#d8576b\"], [0.6666666666666666, \"#ed7953\"], [0.7777777777777778, \"#fb9f3a\"], [0.8888888888888888, \"#fdca26\"], [1.0, \"#f0f921\"]], \"type\": \"heatmapgl\"}], \"histogram\": [{\"marker\": {\"colorbar\": {\"outlinewidth\": 0, \"ticks\": \"\"}}, \"type\": \"histogram\"}], \"histogram2d\": [{\"colorbar\": {\"outlinewidth\": 0, \"ticks\": \"\"}, \"colorscale\": [[0.0, \"#0d0887\"], [0.1111111111111111, \"#46039f\"], [0.2222222222222222, \"#7201a8\"], [0.3333333333333333, \"#9c179e\"], [0.4444444444444444, \"#bd3786\"], [0.5555555555555556, \"#d8576b\"], [0.6666666666666666, \"#ed7953\"], [0.7777777777777778, \"#fb9f3a\"], [0.8888888888888888, \"#fdca26\"], [1.0, \"#f0f921\"]], \"type\": \"histogram2d\"}], \"histogram2dcontour\": [{\"colorbar\": {\"outlinewidth\": 0, \"ticks\": \"\"}, \"colorscale\": [[0.0, \"#0d0887\"], [0.1111111111111111, \"#46039f\"], [0.2222222222222222, \"#7201a8\"], [0.3333333333333333, \"#9c179e\"], [0.4444444444444444, \"#bd3786\"], [0.5555555555555556, \"#d8576b\"], [0.6666666666666666, \"#ed7953\"], [0.7777777777777778, \"#fb9f3a\"], [0.8888888888888888, \"#fdca26\"], [1.0, \"#f0f921\"]], \"type\": \"histogram2dcontour\"}], \"mesh3d\": [{\"colorbar\": {\"outlinewidth\": 0, \"ticks\": \"\"}, \"type\": \"mesh3d\"}], \"parcoords\": [{\"line\": {\"colorbar\": {\"outlinewidth\": 0, \"ticks\": \"\"}}, \"type\": \"parcoords\"}], \"pie\": [{\"automargin\": true, \"type\": \"pie\"}], \"scatter\": [{\"marker\": {\"colorbar\": {\"outlinewidth\": 0, \"ticks\": \"\"}}, \"type\": \"scatter\"}], \"scatter3d\": [{\"line\": {\"colorbar\": {\"outlinewidth\": 0, \"ticks\": \"\"}}, \"marker\": {\"colorbar\": {\"outlinewidth\": 0, \"ticks\": \"\"}}, \"type\": \"scatter3d\"}], \"scattercarpet\": [{\"marker\": {\"colorbar\": {\"outlinewidth\": 0, \"ticks\": \"\"}}, \"type\": \"scattercarpet\"}], \"scattergeo\": [{\"marker\": {\"colorbar\": {\"outlinewidth\": 0, \"ticks\": \"\"}}, \"type\": \"scattergeo\"}], \"scattergl\": [{\"marker\": {\"colorbar\": {\"outlinewidth\": 0, \"ticks\": \"\"}}, \"type\": \"scattergl\"}], \"scattermapbox\": [{\"marker\": {\"colorbar\": {\"outlinewidth\": 0, \"ticks\": \"\"}}, \"type\": \"scattermapbox\"}], \"scatterpolar\": [{\"marker\": {\"colorbar\": {\"outlinewidth\": 0, \"ticks\": \"\"}}, \"type\": \"scatterpolar\"}], \"scatterpolargl\": [{\"marker\": {\"colorbar\": {\"outlinewidth\": 0, \"ticks\": \"\"}}, \"type\": \"scatterpolargl\"}], \"scatterternary\": [{\"marker\": {\"colorbar\": {\"outlinewidth\": 0, \"ticks\": \"\"}}, \"type\": \"scatterternary\"}], \"surface\": [{\"colorbar\": {\"outlinewidth\": 0, \"ticks\": \"\"}, \"colorscale\": [[0.0, \"#0d0887\"], [0.1111111111111111, \"#46039f\"], [0.2222222222222222, \"#7201a8\"], [0.3333333333333333, \"#9c179e\"], [0.4444444444444444, \"#bd3786\"], [0.5555555555555556, \"#d8576b\"], [0.6666666666666666, \"#ed7953\"], [0.7777777777777778, \"#fb9f3a\"], [0.8888888888888888, \"#fdca26\"], [1.0, \"#f0f921\"]], \"type\": \"surface\"}], \"table\": [{\"cells\": {\"fill\": {\"color\": \"#EBF0F8\"}, \"line\": {\"color\": \"white\"}}, \"header\": {\"fill\": {\"color\": \"#C8D4E3\"}, \"line\": {\"color\": \"white\"}}, \"type\": \"table\"}]}, \"layout\": {\"annotationdefaults\": {\"arrowcolor\": \"#2a3f5f\", \"arrowhead\": 0, \"arrowwidth\": 1}, \"coloraxis\": {\"colorbar\": {\"outlinewidth\": 0, \"ticks\": \"\"}}, \"colorscale\": {\"diverging\": [[0, \"#8e0152\"], [0.1, \"#c51b7d\"], [0.2, \"#de77ae\"], [0.3, \"#f1b6da\"], [0.4, \"#fde0ef\"], [0.5, \"#f7f7f7\"], [0.6, \"#e6f5d0\"], [0.7, \"#b8e186\"], [0.8, \"#7fbc41\"], [0.9, \"#4d9221\"], [1, \"#276419\"]], \"sequential\": [[0.0, \"#0d0887\"], [0.1111111111111111, \"#46039f\"], [0.2222222222222222, \"#7201a8\"], [0.3333333333333333, \"#9c179e\"], [0.4444444444444444, \"#bd3786\"], [0.5555555555555556, \"#d8576b\"], [0.6666666666666666, \"#ed7953\"], [0.7777777777777778, \"#fb9f3a\"], [0.8888888888888888, \"#fdca26\"], [1.0, \"#f0f921\"]], \"sequentialminus\": [[0.0, \"#0d0887\"], [0.1111111111111111, \"#46039f\"], [0.2222222222222222, \"#7201a8\"], [0.3333333333333333, \"#9c179e\"], [0.4444444444444444, \"#bd3786\"], [0.5555555555555556, \"#d8576b\"], [0.6666666666666666, \"#ed7953\"], [0.7777777777777778, \"#fb9f3a\"], [0.8888888888888888, \"#fdca26\"], [1.0, \"#f0f921\"]]}, \"colorway\": [\"#636efa\", \"#EF553B\", \"#00cc96\", \"#ab63fa\", \"#FFA15A\", \"#19d3f3\", \"#FF6692\", \"#B6E880\", \"#FF97FF\", \"#FECB52\"], \"font\": {\"color\": \"#2a3f5f\"}, \"geo\": {\"bgcolor\": \"white\", \"lakecolor\": \"white\", \"landcolor\": \"#E5ECF6\", \"showlakes\": true, \"showland\": true, \"subunitcolor\": \"white\"}, \"hoverlabel\": {\"align\": \"left\"}, \"hovermode\": \"closest\", \"mapbox\": {\"style\": \"light\"}, \"paper_bgcolor\": \"white\", \"plot_bgcolor\": \"#E5ECF6\", \"polar\": {\"angularaxis\": {\"gridcolor\": \"white\", \"linecolor\": \"white\", \"ticks\": \"\"}, \"bgcolor\": \"#E5ECF6\", \"radialaxis\": {\"gridcolor\": \"white\", \"linecolor\": \"white\", \"ticks\": \"\"}}, \"scene\": {\"xaxis\": {\"backgroundcolor\": \"#E5ECF6\", \"gridcolor\": \"white\", \"gridwidth\": 2, \"linecolor\": \"white\", \"showbackground\": true, \"ticks\": \"\", \"zerolinecolor\": \"white\"}, \"yaxis\": {\"backgroundcolor\": \"#E5ECF6\", \"gridcolor\": \"white\", \"gridwidth\": 2, \"linecolor\": \"white\", \"showbackground\": true, \"ticks\": \"\", \"zerolinecolor\": \"white\"}, \"zaxis\": {\"backgroundcolor\": \"#E5ECF6\", \"gridcolor\": \"white\", \"gridwidth\": 2, \"linecolor\": \"white\", \"showbackground\": true, \"ticks\": \"\", \"zerolinecolor\": \"white\"}}, \"shapedefaults\": {\"line\": {\"color\": \"#2a3f5f\"}}, \"ternary\": {\"aaxis\": {\"gridcolor\": \"white\", \"linecolor\": \"white\", \"ticks\": \"\"}, \"baxis\": {\"gridcolor\": \"white\", \"linecolor\": \"white\", \"ticks\": \"\"}, \"bgcolor\": \"#E5ECF6\", \"caxis\": {\"gridcolor\": \"white\", \"linecolor\": \"white\", \"ticks\": \"\"}}, \"title\": {\"x\": 0.05}, \"xaxis\": {\"automargin\": true, \"gridcolor\": \"white\", \"linecolor\": \"white\", \"ticks\": \"\", \"title\": {\"standoff\": 15}, \"zerolinecolor\": \"white\", \"zerolinewidth\": 2}, \"yaxis\": {\"automargin\": true, \"gridcolor\": \"white\", \"linecolor\": \"white\", \"ticks\": \"\", \"title\": {\"standoff\": 15}, \"zerolinecolor\": \"white\", \"zerolinewidth\": 2}}}, \"title\": {\"font\": {\"color\": \"#4D5663\"}}, \"xaxis\": {\"gridcolor\": \"#E1E5ED\", \"showgrid\": true, \"tickfont\": {\"color\": \"#4D5663\"}, \"title\": {\"font\": {\"color\": \"#4D5663\"}, \"text\": \"\"}, \"zerolinecolor\": \"#E1E5ED\"}, \"xaxis2\": {\"anchor\": \"y2\", \"gridcolor\": \"#E1E5ED\", \"showgrid\": true, \"showticklabels\": false, \"tickfont\": {\"color\": \"#4D5663\"}, \"title\": {\"font\": {\"color\": \"#4D5663\"}, \"text\": \"\"}, \"zerolinecolor\": \"#E1E5ED\"}, \"yaxis\": {\"domain\": [0.3, 1], \"gridcolor\": \"#E1E5ED\", \"showgrid\": true, \"tickfont\": {\"color\": \"#4D5663\"}, \"title\": {\"font\": {\"color\": \"#4D5663\"}, \"text\": \"\"}, \"zerolinecolor\": \"#E1E5ED\"}, \"yaxis2\": {\"domain\": [0, 0.25], \"gridcolor\": \"#E1E5ED\", \"showgrid\": true, \"tickfont\": {\"color\": \"#4D5663\"}, \"title\": {\"font\": {\"color\": \"#4D5663\"}, \"text\": \"Spread\"}, \"zerolinecolor\": \"#E1E5ED\"}},                        {\"showLink\": true, \"linkText\": \"Export to plot.ly\", \"plotlyServerURL\": \"https://plot.ly\", \"responsive\": true}                    ).then(function(){\n",
       "                            \n",
       "var gd = document.getElementById('5f1727eb-c2f8-4dcb-a3de-9b351087e401');\n",
       "var x = new MutationObserver(function (mutations, observer) {{\n",
       "        var display = window.getComputedStyle(gd).display;\n",
       "        if (!display || display === 'none') {{\n",
       "            console.log([gd, 'removed!']);\n",
       "            Plotly.purge(gd);\n",
       "            observer.disconnect();\n",
       "        }}\n",
       "}});\n",
       "\n",
       "// Listen for the removal of the full notebook cells\n",
       "var notebookContainer = gd.closest('#notebook-container');\n",
       "if (notebookContainer) {{\n",
       "    x.observe(notebookContainer, {childList: true});\n",
       "}}\n",
       "\n",
       "// Listen for the clearing of the current output cell\n",
       "var outputEl = gd.closest('.output');\n",
       "if (outputEl) {{\n",
       "    x.observe(outputEl, {childList: true});\n",
       "}}\n",
       "\n",
       "                        })                };                });            </script>        </div>"
      ]
     },
     "metadata": {},
     "output_type": "display_data"
    }
   ],
   "source": [
    "df[['A','B']].iplot(kind='spread')"
   ]
  },
  {
   "cell_type": "markdown",
   "metadata": {},
   "source": [
    "## histogram"
   ]
  },
  {
   "cell_type": "code",
   "execution_count": 17,
   "metadata": {},
   "outputs": [
    {
     "data": {
      "application/vnd.plotly.v1+json": {
       "config": {
        "linkText": "Export to plot.ly",
        "plotlyServerURL": "https://plot.ly",
        "showLink": true
       },
       "data": [
        {
         "histfunc": "count",
         "histnorm": "",
         "marker": {
          "color": "rgba(255, 153, 51, 1.0)",
          "line": {
           "color": "#4D5663",
           "width": 1.3
          }
         },
         "name": "A",
         "nbinsx": 25,
         "opacity": 0.8,
         "orientation": "v",
         "type": "histogram",
         "x": [
          0.24588717410753003,
          -1.5443326651682237,
          -0.7892940576313485,
          -0.7521408949768861,
          -0.4796778753536114,
          -0.038090741190589895,
          -1.2936477357446499,
          -2.723420833634864,
          1.9086517655499613,
          0.4087252992968224,
          -2.5161479197724548,
          0.5467932638969071,
          0.7522566966657753,
          -0.5375211691145616,
          -0.5575175182237166,
          0.6909421933307822,
          1.4178037665917353,
          -1.3189638698222304,
          0.38135037719477854,
          -0.8975045777020152,
          1.5990034926885215,
          0.7513798196549333,
          -2.7246607309103466,
          0.009181632602803554,
          -0.7199645224339926,
          1.0159431349247343,
          0.35555691751734403,
          0.5133793537990036,
          -0.7898146830454974,
          0.145975409251844,
          0.7290500746987666,
          -0.03207417260027835,
          0.5758332689076748,
          -0.7309258513953879,
          -1.3488321998603487,
          0.9348030875542376,
          -0.5530946341539287,
          0.708339786978607,
          1.3589273059294322,
          0.6042100092089738,
          -0.018519711780514307,
          -0.8497345423017969,
          0.25930721389934425,
          0.6570749338815411,
          0.12722479020271082,
          0.5981116642723051,
          1.1087139573109894,
          0.4335456958746609,
          -0.4986020130951775,
          0.16019426329620462,
          1.0956079098556886,
          2.1781844015324,
          0.38743513688648556,
          0.23232445913149288,
          -0.02225732068587582,
          1.240721487888421,
          0.8348794737172368,
          0.49131381569131605,
          -2.465460913038345,
          -1.4128691396273751,
          0.45471027773277545,
          0.2366496229800066,
          -0.8443631136799993,
          -1.5050581382231454,
          -0.3489519058130828,
          -0.09252638339915405,
          0.4622723828835006,
          -1.0832375330785835,
          -0.172975234005294,
          1.0525870174915173,
          -0.0605350567014285,
          0.7431366307343629,
          -0.32259824462116854,
          0.46655615372559767,
          -0.8766531102031185,
          -0.25067319773196817,
          1.9220011649797581,
          -0.8995754398187623,
          -0.09723736864284754,
          0.13632410802735093,
          -0.2645397703087663,
          0.5956787521414239,
          -0.16086207093244567,
          0.3919638756805205,
          1.6431864559841054,
          0.500292502469693,
          -2.2982921012198525,
          0.7040176660035111,
          0.5779821463206176,
          0.37819996172214365,
          0.2468873010137249,
          0.7112664646179129,
          -1.8315612256428866,
          -0.8926722024059833,
          -2.2000637729889774,
          -0.1347498116867438,
          0.418059595878196,
          -0.21752058196722435,
          0.25604934393242434,
          1.0349299221152255
         ]
        }
       ],
       "layout": {
        "barmode": "overlay",
        "legend": {
         "bgcolor": "#F5F6F9",
         "font": {
          "color": "#4D5663"
         }
        },
        "paper_bgcolor": "#F5F6F9",
        "plot_bgcolor": "#F5F6F9",
        "template": {
         "data": {
          "bar": [
           {
            "error_x": {
             "color": "#2a3f5f"
            },
            "error_y": {
             "color": "#2a3f5f"
            },
            "marker": {
             "line": {
              "color": "#E5ECF6",
              "width": 0.5
             }
            },
            "type": "bar"
           }
          ],
          "barpolar": [
           {
            "marker": {
             "line": {
              "color": "#E5ECF6",
              "width": 0.5
             }
            },
            "type": "barpolar"
           }
          ],
          "carpet": [
           {
            "aaxis": {
             "endlinecolor": "#2a3f5f",
             "gridcolor": "white",
             "linecolor": "white",
             "minorgridcolor": "white",
             "startlinecolor": "#2a3f5f"
            },
            "baxis": {
             "endlinecolor": "#2a3f5f",
             "gridcolor": "white",
             "linecolor": "white",
             "minorgridcolor": "white",
             "startlinecolor": "#2a3f5f"
            },
            "type": "carpet"
           }
          ],
          "choropleth": [
           {
            "colorbar": {
             "outlinewidth": 0,
             "ticks": ""
            },
            "type": "choropleth"
           }
          ],
          "contour": [
           {
            "colorbar": {
             "outlinewidth": 0,
             "ticks": ""
            },
            "colorscale": [
             [
              0,
              "#0d0887"
             ],
             [
              0.1111111111111111,
              "#46039f"
             ],
             [
              0.2222222222222222,
              "#7201a8"
             ],
             [
              0.3333333333333333,
              "#9c179e"
             ],
             [
              0.4444444444444444,
              "#bd3786"
             ],
             [
              0.5555555555555556,
              "#d8576b"
             ],
             [
              0.6666666666666666,
              "#ed7953"
             ],
             [
              0.7777777777777778,
              "#fb9f3a"
             ],
             [
              0.8888888888888888,
              "#fdca26"
             ],
             [
              1,
              "#f0f921"
             ]
            ],
            "type": "contour"
           }
          ],
          "contourcarpet": [
           {
            "colorbar": {
             "outlinewidth": 0,
             "ticks": ""
            },
            "type": "contourcarpet"
           }
          ],
          "heatmap": [
           {
            "colorbar": {
             "outlinewidth": 0,
             "ticks": ""
            },
            "colorscale": [
             [
              0,
              "#0d0887"
             ],
             [
              0.1111111111111111,
              "#46039f"
             ],
             [
              0.2222222222222222,
              "#7201a8"
             ],
             [
              0.3333333333333333,
              "#9c179e"
             ],
             [
              0.4444444444444444,
              "#bd3786"
             ],
             [
              0.5555555555555556,
              "#d8576b"
             ],
             [
              0.6666666666666666,
              "#ed7953"
             ],
             [
              0.7777777777777778,
              "#fb9f3a"
             ],
             [
              0.8888888888888888,
              "#fdca26"
             ],
             [
              1,
              "#f0f921"
             ]
            ],
            "type": "heatmap"
           }
          ],
          "heatmapgl": [
           {
            "colorbar": {
             "outlinewidth": 0,
             "ticks": ""
            },
            "colorscale": [
             [
              0,
              "#0d0887"
             ],
             [
              0.1111111111111111,
              "#46039f"
             ],
             [
              0.2222222222222222,
              "#7201a8"
             ],
             [
              0.3333333333333333,
              "#9c179e"
             ],
             [
              0.4444444444444444,
              "#bd3786"
             ],
             [
              0.5555555555555556,
              "#d8576b"
             ],
             [
              0.6666666666666666,
              "#ed7953"
             ],
             [
              0.7777777777777778,
              "#fb9f3a"
             ],
             [
              0.8888888888888888,
              "#fdca26"
             ],
             [
              1,
              "#f0f921"
             ]
            ],
            "type": "heatmapgl"
           }
          ],
          "histogram": [
           {
            "marker": {
             "colorbar": {
              "outlinewidth": 0,
              "ticks": ""
             }
            },
            "type": "histogram"
           }
          ],
          "histogram2d": [
           {
            "colorbar": {
             "outlinewidth": 0,
             "ticks": ""
            },
            "colorscale": [
             [
              0,
              "#0d0887"
             ],
             [
              0.1111111111111111,
              "#46039f"
             ],
             [
              0.2222222222222222,
              "#7201a8"
             ],
             [
              0.3333333333333333,
              "#9c179e"
             ],
             [
              0.4444444444444444,
              "#bd3786"
             ],
             [
              0.5555555555555556,
              "#d8576b"
             ],
             [
              0.6666666666666666,
              "#ed7953"
             ],
             [
              0.7777777777777778,
              "#fb9f3a"
             ],
             [
              0.8888888888888888,
              "#fdca26"
             ],
             [
              1,
              "#f0f921"
             ]
            ],
            "type": "histogram2d"
           }
          ],
          "histogram2dcontour": [
           {
            "colorbar": {
             "outlinewidth": 0,
             "ticks": ""
            },
            "colorscale": [
             [
              0,
              "#0d0887"
             ],
             [
              0.1111111111111111,
              "#46039f"
             ],
             [
              0.2222222222222222,
              "#7201a8"
             ],
             [
              0.3333333333333333,
              "#9c179e"
             ],
             [
              0.4444444444444444,
              "#bd3786"
             ],
             [
              0.5555555555555556,
              "#d8576b"
             ],
             [
              0.6666666666666666,
              "#ed7953"
             ],
             [
              0.7777777777777778,
              "#fb9f3a"
             ],
             [
              0.8888888888888888,
              "#fdca26"
             ],
             [
              1,
              "#f0f921"
             ]
            ],
            "type": "histogram2dcontour"
           }
          ],
          "mesh3d": [
           {
            "colorbar": {
             "outlinewidth": 0,
             "ticks": ""
            },
            "type": "mesh3d"
           }
          ],
          "parcoords": [
           {
            "line": {
             "colorbar": {
              "outlinewidth": 0,
              "ticks": ""
             }
            },
            "type": "parcoords"
           }
          ],
          "pie": [
           {
            "automargin": true,
            "type": "pie"
           }
          ],
          "scatter": [
           {
            "marker": {
             "colorbar": {
              "outlinewidth": 0,
              "ticks": ""
             }
            },
            "type": "scatter"
           }
          ],
          "scatter3d": [
           {
            "line": {
             "colorbar": {
              "outlinewidth": 0,
              "ticks": ""
             }
            },
            "marker": {
             "colorbar": {
              "outlinewidth": 0,
              "ticks": ""
             }
            },
            "type": "scatter3d"
           }
          ],
          "scattercarpet": [
           {
            "marker": {
             "colorbar": {
              "outlinewidth": 0,
              "ticks": ""
             }
            },
            "type": "scattercarpet"
           }
          ],
          "scattergeo": [
           {
            "marker": {
             "colorbar": {
              "outlinewidth": 0,
              "ticks": ""
             }
            },
            "type": "scattergeo"
           }
          ],
          "scattergl": [
           {
            "marker": {
             "colorbar": {
              "outlinewidth": 0,
              "ticks": ""
             }
            },
            "type": "scattergl"
           }
          ],
          "scattermapbox": [
           {
            "marker": {
             "colorbar": {
              "outlinewidth": 0,
              "ticks": ""
             }
            },
            "type": "scattermapbox"
           }
          ],
          "scatterpolar": [
           {
            "marker": {
             "colorbar": {
              "outlinewidth": 0,
              "ticks": ""
             }
            },
            "type": "scatterpolar"
           }
          ],
          "scatterpolargl": [
           {
            "marker": {
             "colorbar": {
              "outlinewidth": 0,
              "ticks": ""
             }
            },
            "type": "scatterpolargl"
           }
          ],
          "scatterternary": [
           {
            "marker": {
             "colorbar": {
              "outlinewidth": 0,
              "ticks": ""
             }
            },
            "type": "scatterternary"
           }
          ],
          "surface": [
           {
            "colorbar": {
             "outlinewidth": 0,
             "ticks": ""
            },
            "colorscale": [
             [
              0,
              "#0d0887"
             ],
             [
              0.1111111111111111,
              "#46039f"
             ],
             [
              0.2222222222222222,
              "#7201a8"
             ],
             [
              0.3333333333333333,
              "#9c179e"
             ],
             [
              0.4444444444444444,
              "#bd3786"
             ],
             [
              0.5555555555555556,
              "#d8576b"
             ],
             [
              0.6666666666666666,
              "#ed7953"
             ],
             [
              0.7777777777777778,
              "#fb9f3a"
             ],
             [
              0.8888888888888888,
              "#fdca26"
             ],
             [
              1,
              "#f0f921"
             ]
            ],
            "type": "surface"
           }
          ],
          "table": [
           {
            "cells": {
             "fill": {
              "color": "#EBF0F8"
             },
             "line": {
              "color": "white"
             }
            },
            "header": {
             "fill": {
              "color": "#C8D4E3"
             },
             "line": {
              "color": "white"
             }
            },
            "type": "table"
           }
          ]
         },
         "layout": {
          "annotationdefaults": {
           "arrowcolor": "#2a3f5f",
           "arrowhead": 0,
           "arrowwidth": 1
          },
          "coloraxis": {
           "colorbar": {
            "outlinewidth": 0,
            "ticks": ""
           }
          },
          "colorscale": {
           "diverging": [
            [
             0,
             "#8e0152"
            ],
            [
             0.1,
             "#c51b7d"
            ],
            [
             0.2,
             "#de77ae"
            ],
            [
             0.3,
             "#f1b6da"
            ],
            [
             0.4,
             "#fde0ef"
            ],
            [
             0.5,
             "#f7f7f7"
            ],
            [
             0.6,
             "#e6f5d0"
            ],
            [
             0.7,
             "#b8e186"
            ],
            [
             0.8,
             "#7fbc41"
            ],
            [
             0.9,
             "#4d9221"
            ],
            [
             1,
             "#276419"
            ]
           ],
           "sequential": [
            [
             0,
             "#0d0887"
            ],
            [
             0.1111111111111111,
             "#46039f"
            ],
            [
             0.2222222222222222,
             "#7201a8"
            ],
            [
             0.3333333333333333,
             "#9c179e"
            ],
            [
             0.4444444444444444,
             "#bd3786"
            ],
            [
             0.5555555555555556,
             "#d8576b"
            ],
            [
             0.6666666666666666,
             "#ed7953"
            ],
            [
             0.7777777777777778,
             "#fb9f3a"
            ],
            [
             0.8888888888888888,
             "#fdca26"
            ],
            [
             1,
             "#f0f921"
            ]
           ],
           "sequentialminus": [
            [
             0,
             "#0d0887"
            ],
            [
             0.1111111111111111,
             "#46039f"
            ],
            [
             0.2222222222222222,
             "#7201a8"
            ],
            [
             0.3333333333333333,
             "#9c179e"
            ],
            [
             0.4444444444444444,
             "#bd3786"
            ],
            [
             0.5555555555555556,
             "#d8576b"
            ],
            [
             0.6666666666666666,
             "#ed7953"
            ],
            [
             0.7777777777777778,
             "#fb9f3a"
            ],
            [
             0.8888888888888888,
             "#fdca26"
            ],
            [
             1,
             "#f0f921"
            ]
           ]
          },
          "colorway": [
           "#636efa",
           "#EF553B",
           "#00cc96",
           "#ab63fa",
           "#FFA15A",
           "#19d3f3",
           "#FF6692",
           "#B6E880",
           "#FF97FF",
           "#FECB52"
          ],
          "font": {
           "color": "#2a3f5f"
          },
          "geo": {
           "bgcolor": "white",
           "lakecolor": "white",
           "landcolor": "#E5ECF6",
           "showlakes": true,
           "showland": true,
           "subunitcolor": "white"
          },
          "hoverlabel": {
           "align": "left"
          },
          "hovermode": "closest",
          "mapbox": {
           "style": "light"
          },
          "paper_bgcolor": "white",
          "plot_bgcolor": "#E5ECF6",
          "polar": {
           "angularaxis": {
            "gridcolor": "white",
            "linecolor": "white",
            "ticks": ""
           },
           "bgcolor": "#E5ECF6",
           "radialaxis": {
            "gridcolor": "white",
            "linecolor": "white",
            "ticks": ""
           }
          },
          "scene": {
           "xaxis": {
            "backgroundcolor": "#E5ECF6",
            "gridcolor": "white",
            "gridwidth": 2,
            "linecolor": "white",
            "showbackground": true,
            "ticks": "",
            "zerolinecolor": "white"
           },
           "yaxis": {
            "backgroundcolor": "#E5ECF6",
            "gridcolor": "white",
            "gridwidth": 2,
            "linecolor": "white",
            "showbackground": true,
            "ticks": "",
            "zerolinecolor": "white"
           },
           "zaxis": {
            "backgroundcolor": "#E5ECF6",
            "gridcolor": "white",
            "gridwidth": 2,
            "linecolor": "white",
            "showbackground": true,
            "ticks": "",
            "zerolinecolor": "white"
           }
          },
          "shapedefaults": {
           "line": {
            "color": "#2a3f5f"
           }
          },
          "ternary": {
           "aaxis": {
            "gridcolor": "white",
            "linecolor": "white",
            "ticks": ""
           },
           "baxis": {
            "gridcolor": "white",
            "linecolor": "white",
            "ticks": ""
           },
           "bgcolor": "#E5ECF6",
           "caxis": {
            "gridcolor": "white",
            "linecolor": "white",
            "ticks": ""
           }
          },
          "title": {
           "x": 0.05
          },
          "xaxis": {
           "automargin": true,
           "gridcolor": "white",
           "linecolor": "white",
           "ticks": "",
           "title": {
            "standoff": 15
           },
           "zerolinecolor": "white",
           "zerolinewidth": 2
          },
          "yaxis": {
           "automargin": true,
           "gridcolor": "white",
           "linecolor": "white",
           "ticks": "",
           "title": {
            "standoff": 15
           },
           "zerolinecolor": "white",
           "zerolinewidth": 2
          }
         }
        },
        "title": {
         "font": {
          "color": "#4D5663"
         }
        },
        "xaxis": {
         "gridcolor": "#E1E5ED",
         "showgrid": true,
         "tickfont": {
          "color": "#4D5663"
         },
         "title": {
          "font": {
           "color": "#4D5663"
          },
          "text": ""
         },
         "zerolinecolor": "#E1E5ED"
        },
        "yaxis": {
         "gridcolor": "#E1E5ED",
         "showgrid": true,
         "tickfont": {
          "color": "#4D5663"
         },
         "title": {
          "font": {
           "color": "#4D5663"
          },
          "text": ""
         },
         "zerolinecolor": "#E1E5ED"
        }
       }
      },
      "text/html": [
       "<div>                            <div id=\"67b0fc59-35b4-48d8-be58-9c5b3731dc5c\" class=\"plotly-graph-div\" style=\"height:525px; width:100%;\"></div>            <script type=\"text/javascript\">                require([\"plotly\"], function(Plotly) {                    window.PLOTLYENV=window.PLOTLYENV || {};\n",
       "                    window.PLOTLYENV.BASE_URL='https://plot.ly';                                    if (document.getElementById(\"67b0fc59-35b4-48d8-be58-9c5b3731dc5c\")) {                    Plotly.newPlot(                        \"67b0fc59-35b4-48d8-be58-9c5b3731dc5c\",                        [{\"histfunc\": \"count\", \"histnorm\": \"\", \"marker\": {\"color\": \"rgba(255, 153, 51, 1.0)\", \"line\": {\"color\": \"#4D5663\", \"width\": 1.3}}, \"name\": \"A\", \"nbinsx\": 25, \"opacity\": 0.8, \"orientation\": \"v\", \"type\": \"histogram\", \"x\": [0.24588717410753003, -1.5443326651682237, -0.7892940576313485, -0.7521408949768861, -0.4796778753536114, -0.038090741190589895, -1.2936477357446499, -2.723420833634864, 1.9086517655499613, 0.4087252992968224, -2.5161479197724548, 0.5467932638969071, 0.7522566966657753, -0.5375211691145616, -0.5575175182237166, 0.6909421933307822, 1.4178037665917353, -1.3189638698222304, 0.38135037719477854, -0.8975045777020152, 1.5990034926885215, 0.7513798196549333, -2.7246607309103466, 0.009181632602803554, -0.7199645224339926, 1.0159431349247343, 0.35555691751734403, 0.5133793537990036, -0.7898146830454974, 0.145975409251844, 0.7290500746987666, -0.03207417260027835, 0.5758332689076748, -0.7309258513953879, -1.3488321998603487, 0.9348030875542376, -0.5530946341539287, 0.708339786978607, 1.3589273059294322, 0.6042100092089738, -0.018519711780514307, -0.8497345423017969, 0.25930721389934425, 0.6570749338815411, 0.12722479020271082, 0.5981116642723051, 1.1087139573109894, 0.4335456958746609, -0.4986020130951775, 0.16019426329620462, 1.0956079098556886, 2.1781844015324, 0.38743513688648556, 0.23232445913149288, -0.02225732068587582, 1.240721487888421, 0.8348794737172368, 0.49131381569131605, -2.465460913038345, -1.4128691396273751, 0.45471027773277545, 0.2366496229800066, -0.8443631136799993, -1.5050581382231454, -0.3489519058130828, -0.09252638339915405, 0.4622723828835006, -1.0832375330785835, -0.172975234005294, 1.0525870174915173, -0.0605350567014285, 0.7431366307343629, -0.32259824462116854, 0.46655615372559767, -0.8766531102031185, -0.25067319773196817, 1.9220011649797581, -0.8995754398187623, -0.09723736864284754, 0.13632410802735093, -0.2645397703087663, 0.5956787521414239, -0.16086207093244567, 0.3919638756805205, 1.6431864559841054, 0.500292502469693, -2.2982921012198525, 0.7040176660035111, 0.5779821463206176, 0.37819996172214365, 0.2468873010137249, 0.7112664646179129, -1.8315612256428866, -0.8926722024059833, -2.2000637729889774, -0.1347498116867438, 0.418059595878196, -0.21752058196722435, 0.25604934393242434, 1.0349299221152255]}],                        {\"barmode\": \"overlay\", \"legend\": {\"bgcolor\": \"#F5F6F9\", \"font\": {\"color\": \"#4D5663\"}}, \"paper_bgcolor\": \"#F5F6F9\", \"plot_bgcolor\": \"#F5F6F9\", \"template\": {\"data\": {\"bar\": [{\"error_x\": {\"color\": \"#2a3f5f\"}, \"error_y\": {\"color\": \"#2a3f5f\"}, \"marker\": {\"line\": {\"color\": \"#E5ECF6\", \"width\": 0.5}}, \"type\": \"bar\"}], \"barpolar\": [{\"marker\": {\"line\": {\"color\": \"#E5ECF6\", \"width\": 0.5}}, \"type\": \"barpolar\"}], \"carpet\": [{\"aaxis\": {\"endlinecolor\": \"#2a3f5f\", \"gridcolor\": \"white\", \"linecolor\": \"white\", \"minorgridcolor\": \"white\", \"startlinecolor\": \"#2a3f5f\"}, \"baxis\": {\"endlinecolor\": \"#2a3f5f\", \"gridcolor\": \"white\", \"linecolor\": \"white\", \"minorgridcolor\": \"white\", \"startlinecolor\": \"#2a3f5f\"}, \"type\": \"carpet\"}], \"choropleth\": [{\"colorbar\": {\"outlinewidth\": 0, \"ticks\": \"\"}, \"type\": \"choropleth\"}], \"contour\": [{\"colorbar\": {\"outlinewidth\": 0, \"ticks\": \"\"}, \"colorscale\": [[0.0, \"#0d0887\"], [0.1111111111111111, \"#46039f\"], [0.2222222222222222, \"#7201a8\"], [0.3333333333333333, \"#9c179e\"], [0.4444444444444444, \"#bd3786\"], [0.5555555555555556, \"#d8576b\"], [0.6666666666666666, \"#ed7953\"], [0.7777777777777778, \"#fb9f3a\"], [0.8888888888888888, \"#fdca26\"], [1.0, \"#f0f921\"]], \"type\": \"contour\"}], \"contourcarpet\": [{\"colorbar\": {\"outlinewidth\": 0, \"ticks\": \"\"}, \"type\": \"contourcarpet\"}], \"heatmap\": [{\"colorbar\": {\"outlinewidth\": 0, \"ticks\": \"\"}, \"colorscale\": [[0.0, \"#0d0887\"], [0.1111111111111111, \"#46039f\"], [0.2222222222222222, \"#7201a8\"], [0.3333333333333333, \"#9c179e\"], [0.4444444444444444, \"#bd3786\"], [0.5555555555555556, \"#d8576b\"], [0.6666666666666666, \"#ed7953\"], [0.7777777777777778, \"#fb9f3a\"], [0.8888888888888888, \"#fdca26\"], [1.0, \"#f0f921\"]], \"type\": \"heatmap\"}], \"heatmapgl\": [{\"colorbar\": {\"outlinewidth\": 0, \"ticks\": \"\"}, \"colorscale\": [[0.0, \"#0d0887\"], [0.1111111111111111, \"#46039f\"], [0.2222222222222222, \"#7201a8\"], [0.3333333333333333, \"#9c179e\"], [0.4444444444444444, \"#bd3786\"], [0.5555555555555556, \"#d8576b\"], [0.6666666666666666, \"#ed7953\"], [0.7777777777777778, \"#fb9f3a\"], [0.8888888888888888, \"#fdca26\"], [1.0, \"#f0f921\"]], \"type\": \"heatmapgl\"}], \"histogram\": [{\"marker\": {\"colorbar\": {\"outlinewidth\": 0, \"ticks\": \"\"}}, \"type\": \"histogram\"}], \"histogram2d\": [{\"colorbar\": {\"outlinewidth\": 0, \"ticks\": \"\"}, \"colorscale\": [[0.0, \"#0d0887\"], [0.1111111111111111, \"#46039f\"], [0.2222222222222222, \"#7201a8\"], [0.3333333333333333, \"#9c179e\"], [0.4444444444444444, \"#bd3786\"], [0.5555555555555556, \"#d8576b\"], [0.6666666666666666, \"#ed7953\"], [0.7777777777777778, \"#fb9f3a\"], [0.8888888888888888, \"#fdca26\"], [1.0, \"#f0f921\"]], \"type\": \"histogram2d\"}], \"histogram2dcontour\": [{\"colorbar\": {\"outlinewidth\": 0, \"ticks\": \"\"}, \"colorscale\": [[0.0, \"#0d0887\"], [0.1111111111111111, \"#46039f\"], [0.2222222222222222, \"#7201a8\"], [0.3333333333333333, \"#9c179e\"], [0.4444444444444444, \"#bd3786\"], [0.5555555555555556, \"#d8576b\"], [0.6666666666666666, \"#ed7953\"], [0.7777777777777778, \"#fb9f3a\"], [0.8888888888888888, \"#fdca26\"], [1.0, \"#f0f921\"]], \"type\": \"histogram2dcontour\"}], \"mesh3d\": [{\"colorbar\": {\"outlinewidth\": 0, \"ticks\": \"\"}, \"type\": \"mesh3d\"}], \"parcoords\": [{\"line\": {\"colorbar\": {\"outlinewidth\": 0, \"ticks\": \"\"}}, \"type\": \"parcoords\"}], \"pie\": [{\"automargin\": true, \"type\": \"pie\"}], \"scatter\": [{\"marker\": {\"colorbar\": {\"outlinewidth\": 0, \"ticks\": \"\"}}, \"type\": \"scatter\"}], \"scatter3d\": [{\"line\": {\"colorbar\": {\"outlinewidth\": 0, \"ticks\": \"\"}}, \"marker\": {\"colorbar\": {\"outlinewidth\": 0, \"ticks\": \"\"}}, \"type\": \"scatter3d\"}], \"scattercarpet\": [{\"marker\": {\"colorbar\": {\"outlinewidth\": 0, \"ticks\": \"\"}}, \"type\": \"scattercarpet\"}], \"scattergeo\": [{\"marker\": {\"colorbar\": {\"outlinewidth\": 0, \"ticks\": \"\"}}, \"type\": \"scattergeo\"}], \"scattergl\": [{\"marker\": {\"colorbar\": {\"outlinewidth\": 0, \"ticks\": \"\"}}, \"type\": \"scattergl\"}], \"scattermapbox\": [{\"marker\": {\"colorbar\": {\"outlinewidth\": 0, \"ticks\": \"\"}}, \"type\": \"scattermapbox\"}], \"scatterpolar\": [{\"marker\": {\"colorbar\": {\"outlinewidth\": 0, \"ticks\": \"\"}}, \"type\": \"scatterpolar\"}], \"scatterpolargl\": [{\"marker\": {\"colorbar\": {\"outlinewidth\": 0, \"ticks\": \"\"}}, \"type\": \"scatterpolargl\"}], \"scatterternary\": [{\"marker\": {\"colorbar\": {\"outlinewidth\": 0, \"ticks\": \"\"}}, \"type\": \"scatterternary\"}], \"surface\": [{\"colorbar\": {\"outlinewidth\": 0, \"ticks\": \"\"}, \"colorscale\": [[0.0, \"#0d0887\"], [0.1111111111111111, \"#46039f\"], [0.2222222222222222, \"#7201a8\"], [0.3333333333333333, \"#9c179e\"], [0.4444444444444444, \"#bd3786\"], [0.5555555555555556, \"#d8576b\"], [0.6666666666666666, \"#ed7953\"], [0.7777777777777778, \"#fb9f3a\"], [0.8888888888888888, \"#fdca26\"], [1.0, \"#f0f921\"]], \"type\": \"surface\"}], \"table\": [{\"cells\": {\"fill\": {\"color\": \"#EBF0F8\"}, \"line\": {\"color\": \"white\"}}, \"header\": {\"fill\": {\"color\": \"#C8D4E3\"}, \"line\": {\"color\": \"white\"}}, \"type\": \"table\"}]}, \"layout\": {\"annotationdefaults\": {\"arrowcolor\": \"#2a3f5f\", \"arrowhead\": 0, \"arrowwidth\": 1}, \"coloraxis\": {\"colorbar\": {\"outlinewidth\": 0, \"ticks\": \"\"}}, \"colorscale\": {\"diverging\": [[0, \"#8e0152\"], [0.1, \"#c51b7d\"], [0.2, \"#de77ae\"], [0.3, \"#f1b6da\"], [0.4, \"#fde0ef\"], [0.5, \"#f7f7f7\"], [0.6, \"#e6f5d0\"], [0.7, \"#b8e186\"], [0.8, \"#7fbc41\"], [0.9, \"#4d9221\"], [1, \"#276419\"]], \"sequential\": [[0.0, \"#0d0887\"], [0.1111111111111111, \"#46039f\"], [0.2222222222222222, \"#7201a8\"], [0.3333333333333333, \"#9c179e\"], [0.4444444444444444, \"#bd3786\"], [0.5555555555555556, \"#d8576b\"], [0.6666666666666666, \"#ed7953\"], [0.7777777777777778, \"#fb9f3a\"], [0.8888888888888888, \"#fdca26\"], [1.0, \"#f0f921\"]], \"sequentialminus\": [[0.0, \"#0d0887\"], [0.1111111111111111, \"#46039f\"], [0.2222222222222222, \"#7201a8\"], [0.3333333333333333, \"#9c179e\"], [0.4444444444444444, \"#bd3786\"], [0.5555555555555556, \"#d8576b\"], [0.6666666666666666, \"#ed7953\"], [0.7777777777777778, \"#fb9f3a\"], [0.8888888888888888, \"#fdca26\"], [1.0, \"#f0f921\"]]}, \"colorway\": [\"#636efa\", \"#EF553B\", \"#00cc96\", \"#ab63fa\", \"#FFA15A\", \"#19d3f3\", \"#FF6692\", \"#B6E880\", \"#FF97FF\", \"#FECB52\"], \"font\": {\"color\": \"#2a3f5f\"}, \"geo\": {\"bgcolor\": \"white\", \"lakecolor\": \"white\", \"landcolor\": \"#E5ECF6\", \"showlakes\": true, \"showland\": true, \"subunitcolor\": \"white\"}, \"hoverlabel\": {\"align\": \"left\"}, \"hovermode\": \"closest\", \"mapbox\": {\"style\": \"light\"}, \"paper_bgcolor\": \"white\", \"plot_bgcolor\": \"#E5ECF6\", \"polar\": {\"angularaxis\": {\"gridcolor\": \"white\", \"linecolor\": \"white\", \"ticks\": \"\"}, \"bgcolor\": \"#E5ECF6\", \"radialaxis\": {\"gridcolor\": \"white\", \"linecolor\": \"white\", \"ticks\": \"\"}}, \"scene\": {\"xaxis\": {\"backgroundcolor\": \"#E5ECF6\", \"gridcolor\": \"white\", \"gridwidth\": 2, \"linecolor\": \"white\", \"showbackground\": true, \"ticks\": \"\", \"zerolinecolor\": \"white\"}, \"yaxis\": {\"backgroundcolor\": \"#E5ECF6\", \"gridcolor\": \"white\", \"gridwidth\": 2, \"linecolor\": \"white\", \"showbackground\": true, \"ticks\": \"\", \"zerolinecolor\": \"white\"}, \"zaxis\": {\"backgroundcolor\": \"#E5ECF6\", \"gridcolor\": \"white\", \"gridwidth\": 2, \"linecolor\": \"white\", \"showbackground\": true, \"ticks\": \"\", \"zerolinecolor\": \"white\"}}, \"shapedefaults\": {\"line\": {\"color\": \"#2a3f5f\"}}, \"ternary\": {\"aaxis\": {\"gridcolor\": \"white\", \"linecolor\": \"white\", \"ticks\": \"\"}, \"baxis\": {\"gridcolor\": \"white\", \"linecolor\": \"white\", \"ticks\": \"\"}, \"bgcolor\": \"#E5ECF6\", \"caxis\": {\"gridcolor\": \"white\", \"linecolor\": \"white\", \"ticks\": \"\"}}, \"title\": {\"x\": 0.05}, \"xaxis\": {\"automargin\": true, \"gridcolor\": \"white\", \"linecolor\": \"white\", \"ticks\": \"\", \"title\": {\"standoff\": 15}, \"zerolinecolor\": \"white\", \"zerolinewidth\": 2}, \"yaxis\": {\"automargin\": true, \"gridcolor\": \"white\", \"linecolor\": \"white\", \"ticks\": \"\", \"title\": {\"standoff\": 15}, \"zerolinecolor\": \"white\", \"zerolinewidth\": 2}}}, \"title\": {\"font\": {\"color\": \"#4D5663\"}}, \"xaxis\": {\"gridcolor\": \"#E1E5ED\", \"showgrid\": true, \"tickfont\": {\"color\": \"#4D5663\"}, \"title\": {\"font\": {\"color\": \"#4D5663\"}, \"text\": \"\"}, \"zerolinecolor\": \"#E1E5ED\"}, \"yaxis\": {\"gridcolor\": \"#E1E5ED\", \"showgrid\": true, \"tickfont\": {\"color\": \"#4D5663\"}, \"title\": {\"font\": {\"color\": \"#4D5663\"}, \"text\": \"\"}, \"zerolinecolor\": \"#E1E5ED\"}},                        {\"showLink\": true, \"linkText\": \"Export to plot.ly\", \"plotlyServerURL\": \"https://plot.ly\", \"responsive\": true}                    ).then(function(){\n",
       "                            \n",
       "var gd = document.getElementById('67b0fc59-35b4-48d8-be58-9c5b3731dc5c');\n",
       "var x = new MutationObserver(function (mutations, observer) {{\n",
       "        var display = window.getComputedStyle(gd).display;\n",
       "        if (!display || display === 'none') {{\n",
       "            console.log([gd, 'removed!']);\n",
       "            Plotly.purge(gd);\n",
       "            observer.disconnect();\n",
       "        }}\n",
       "}});\n",
       "\n",
       "// Listen for the removal of the full notebook cells\n",
       "var notebookContainer = gd.closest('#notebook-container');\n",
       "if (notebookContainer) {{\n",
       "    x.observe(notebookContainer, {childList: true});\n",
       "}}\n",
       "\n",
       "// Listen for the clearing of the current output cell\n",
       "var outputEl = gd.closest('.output');\n",
       "if (outputEl) {{\n",
       "    x.observe(outputEl, {childList: true});\n",
       "}}\n",
       "\n",
       "                        })                };                });            </script>        </div>"
      ]
     },
     "metadata": {},
     "output_type": "display_data"
    }
   ],
   "source": [
    "df['A'].iplot(kind='hist',bins=25)"
   ]
  },
  {
   "cell_type": "code",
   "execution_count": 18,
   "metadata": {},
   "outputs": [
    {
     "data": {
      "application/vnd.plotly.v1+json": {
       "config": {
        "linkText": "Export to plot.ly",
        "plotlyServerURL": "https://plot.ly",
        "showLink": true
       },
       "data": [
        {
         "marker": {
          "color": [
           "rgb(255, 153, 51)",
           "rgb(55, 128, 191)",
           "rgb(50, 171, 96)",
           "rgb(128, 0, 128)",
           "rgb(219, 64, 82)",
           "rgb(0, 128, 128)",
           "rgb(255, 255, 51)",
           "rgb(128, 128, 0)",
           "rgb(251, 128, 114)",
           "rgb(128, 177, 211)"
          ],
          "line": {
           "width": 1.3
          },
          "size": [
           29,
           50,
           91,
           57,
           59,
           48,
           56,
           50,
           90,
           70,
           82,
           72,
           70,
           67,
           71,
           91,
           29,
           66,
           56,
           76,
           40,
           57,
           77,
           63,
           40,
           46,
           54,
           61,
           64,
           110,
           54,
           73,
           75,
           66,
           84,
           40,
           79,
           60,
           48,
           68,
           65,
           66,
           45,
           51,
           58,
           66,
           47,
           69,
           72,
           79,
           84,
           78,
           80,
           58,
           76,
           55,
           57,
           41,
           66,
           52,
           63,
           67,
           12,
           27,
           58,
           34,
           53,
           94,
           56,
           81,
           68,
           68,
           91,
           72,
           69,
           32,
           63,
           85,
           52,
           59,
           61,
           94,
           59,
           40,
           57,
           55,
           64,
           45,
           76,
           40,
           42,
           91,
           68,
           112,
           72,
           73,
           45,
           94,
           49,
           74
          ],
          "symbol": "circle"
         },
         "mode": "markers",
         "text": "",
         "type": "scatter",
         "x": [
          0.24588717410753003,
          -1.5443326651682237,
          -0.7892940576313485,
          -0.7521408949768861,
          -0.4796778753536114,
          -0.038090741190589895,
          -1.2936477357446499,
          -2.723420833634864,
          1.9086517655499613,
          0.4087252992968224,
          -2.5161479197724548,
          0.5467932638969071,
          0.7522566966657753,
          -0.5375211691145616,
          -0.5575175182237166,
          0.6909421933307822,
          1.4178037665917353,
          -1.3189638698222304,
          0.38135037719477854,
          -0.8975045777020152,
          1.5990034926885215,
          0.7513798196549333,
          -2.7246607309103466,
          0.009181632602803554,
          -0.7199645224339926,
          1.0159431349247343,
          0.35555691751734403,
          0.5133793537990036,
          -0.7898146830454974,
          0.145975409251844,
          0.7290500746987666,
          -0.03207417260027835,
          0.5758332689076748,
          -0.7309258513953879,
          -1.3488321998603487,
          0.9348030875542376,
          -0.5530946341539287,
          0.708339786978607,
          1.3589273059294322,
          0.6042100092089738,
          -0.018519711780514307,
          -0.8497345423017969,
          0.25930721389934425,
          0.6570749338815411,
          0.12722479020271082,
          0.5981116642723051,
          1.1087139573109894,
          0.4335456958746609,
          -0.4986020130951775,
          0.16019426329620462,
          1.0956079098556886,
          2.1781844015324,
          0.38743513688648556,
          0.23232445913149288,
          -0.02225732068587582,
          1.240721487888421,
          0.8348794737172368,
          0.49131381569131605,
          -2.465460913038345,
          -1.4128691396273751,
          0.45471027773277545,
          0.2366496229800066,
          -0.8443631136799993,
          -1.5050581382231454,
          -0.3489519058130828,
          -0.09252638339915405,
          0.4622723828835006,
          -1.0832375330785835,
          -0.172975234005294,
          1.0525870174915173,
          -0.0605350567014285,
          0.7431366307343629,
          -0.32259824462116854,
          0.46655615372559767,
          -0.8766531102031185,
          -0.25067319773196817,
          1.9220011649797581,
          -0.8995754398187623,
          -0.09723736864284754,
          0.13632410802735093,
          -0.2645397703087663,
          0.5956787521414239,
          -0.16086207093244567,
          0.3919638756805205,
          1.6431864559841054,
          0.500292502469693,
          -2.2982921012198525,
          0.7040176660035111,
          0.5779821463206176,
          0.37819996172214365,
          0.2468873010137249,
          0.7112664646179129,
          -1.8315612256428866,
          -0.8926722024059833,
          -2.2000637729889774,
          -0.1347498116867438,
          0.418059595878196,
          -0.21752058196722435,
          0.25604934393242434,
          1.0349299221152255
         ],
         "y": [
          0.17890934769892103,
          -0.033123808583366866,
          -1.7822064108916256,
          -0.5373491252336633,
          -1.4571186682282393,
          -1.4078878238560042,
          -1.2674356310721624,
          2.019550830934474,
          -0.4888330588658283,
          0.13141884905230608,
          -0.9312556526036885,
          -0.007754038998178534,
          2.435535100927038,
          0.7079881733133355,
          0.31467573359242035,
          1.1926023566358455,
          -0.06993966578389549,
          1.3105124782278086,
          -1.791805838390315,
          0.786940457459193,
          1.392374807377714,
          0.18685037333581317,
          0.5159651139015339,
          -1.3788427841040845,
          0.4481570242827706,
          -0.23192149556047384,
          -1.793900944752704,
          -0.6503177928618666,
          -1.2523592184401433,
          0.9397745472901148,
          -1.2140853902232587,
          1.3536707221874327,
          -2.2065900699338212,
          -0.2597360149080525,
          -1.4231111759501243,
          1.3997148101941983,
          -0.8711159875276375,
          0.1535439165088105,
          0.6223667974799626,
          -0.5428449527751454,
          -0.40790956932452943,
          -0.74095035588002,
          1.180243228006508,
          -1.2246704095828187,
          0.5104837648637698,
          0.45166433234461617,
          0.021824417646521932,
          -0.1199772823884989,
          -0.6313062350478947,
          0.8962458311228109,
          0.8459257422214808,
          0.40390475120466934,
          -0.7075908392741708,
          1.6564340845542072,
          0.5361952772128227,
          -0.07758458280582371,
          1.2853799260053234,
          -0.7655843186082435,
          -0.47497301247656126,
          -1.1259800726037426,
          0.19101899430261973,
          -1.827357574298033,
          -2.2013084050446086,
          0.9194612052082188,
          0.13767551508349066,
          -1.474381924958377,
          -0.8835121299482696,
          0.15730940685310918,
          0.22846581412701608,
          0.7715085536815187,
          -1.1394219297866262,
          0.15117704785432218,
          -0.5729191210052296,
          0.8201939049808525,
          0.1915501286014221,
          -0.6403217290879047,
          0.6696931832935046,
          0.5515620084580015,
          -0.44800211781238813,
          0.5496148064169799,
          -0.33023177959341304,
          -0.3405279676130839,
          1.9117164440223209,
          0.27499941131265915,
          0.48223764210266046,
          0.6010465347356609,
          0.3359623795070407,
          0.8393356310861901,
          -1.1715806085723153,
          0.3231670247779722,
          0.23374619998387358,
          1.206861746979094,
          -0.6443967282087286,
          1.9062966496430345,
          2.189933048739878,
          -0.01675318476017029,
          -0.014711562140090341,
          0.7294260989680877,
          -1.4051167130267577,
          1.7692353305949258
         ]
        }
       ],
       "layout": {
        "legend": {
         "bgcolor": "#F5F6F9",
         "font": {
          "color": "#4D5663"
         }
        },
        "paper_bgcolor": "#F5F6F9",
        "plot_bgcolor": "#F5F6F9",
        "template": {
         "data": {
          "bar": [
           {
            "error_x": {
             "color": "#2a3f5f"
            },
            "error_y": {
             "color": "#2a3f5f"
            },
            "marker": {
             "line": {
              "color": "#E5ECF6",
              "width": 0.5
             }
            },
            "type": "bar"
           }
          ],
          "barpolar": [
           {
            "marker": {
             "line": {
              "color": "#E5ECF6",
              "width": 0.5
             }
            },
            "type": "barpolar"
           }
          ],
          "carpet": [
           {
            "aaxis": {
             "endlinecolor": "#2a3f5f",
             "gridcolor": "white",
             "linecolor": "white",
             "minorgridcolor": "white",
             "startlinecolor": "#2a3f5f"
            },
            "baxis": {
             "endlinecolor": "#2a3f5f",
             "gridcolor": "white",
             "linecolor": "white",
             "minorgridcolor": "white",
             "startlinecolor": "#2a3f5f"
            },
            "type": "carpet"
           }
          ],
          "choropleth": [
           {
            "colorbar": {
             "outlinewidth": 0,
             "ticks": ""
            },
            "type": "choropleth"
           }
          ],
          "contour": [
           {
            "colorbar": {
             "outlinewidth": 0,
             "ticks": ""
            },
            "colorscale": [
             [
              0,
              "#0d0887"
             ],
             [
              0.1111111111111111,
              "#46039f"
             ],
             [
              0.2222222222222222,
              "#7201a8"
             ],
             [
              0.3333333333333333,
              "#9c179e"
             ],
             [
              0.4444444444444444,
              "#bd3786"
             ],
             [
              0.5555555555555556,
              "#d8576b"
             ],
             [
              0.6666666666666666,
              "#ed7953"
             ],
             [
              0.7777777777777778,
              "#fb9f3a"
             ],
             [
              0.8888888888888888,
              "#fdca26"
             ],
             [
              1,
              "#f0f921"
             ]
            ],
            "type": "contour"
           }
          ],
          "contourcarpet": [
           {
            "colorbar": {
             "outlinewidth": 0,
             "ticks": ""
            },
            "type": "contourcarpet"
           }
          ],
          "heatmap": [
           {
            "colorbar": {
             "outlinewidth": 0,
             "ticks": ""
            },
            "colorscale": [
             [
              0,
              "#0d0887"
             ],
             [
              0.1111111111111111,
              "#46039f"
             ],
             [
              0.2222222222222222,
              "#7201a8"
             ],
             [
              0.3333333333333333,
              "#9c179e"
             ],
             [
              0.4444444444444444,
              "#bd3786"
             ],
             [
              0.5555555555555556,
              "#d8576b"
             ],
             [
              0.6666666666666666,
              "#ed7953"
             ],
             [
              0.7777777777777778,
              "#fb9f3a"
             ],
             [
              0.8888888888888888,
              "#fdca26"
             ],
             [
              1,
              "#f0f921"
             ]
            ],
            "type": "heatmap"
           }
          ],
          "heatmapgl": [
           {
            "colorbar": {
             "outlinewidth": 0,
             "ticks": ""
            },
            "colorscale": [
             [
              0,
              "#0d0887"
             ],
             [
              0.1111111111111111,
              "#46039f"
             ],
             [
              0.2222222222222222,
              "#7201a8"
             ],
             [
              0.3333333333333333,
              "#9c179e"
             ],
             [
              0.4444444444444444,
              "#bd3786"
             ],
             [
              0.5555555555555556,
              "#d8576b"
             ],
             [
              0.6666666666666666,
              "#ed7953"
             ],
             [
              0.7777777777777778,
              "#fb9f3a"
             ],
             [
              0.8888888888888888,
              "#fdca26"
             ],
             [
              1,
              "#f0f921"
             ]
            ],
            "type": "heatmapgl"
           }
          ],
          "histogram": [
           {
            "marker": {
             "colorbar": {
              "outlinewidth": 0,
              "ticks": ""
             }
            },
            "type": "histogram"
           }
          ],
          "histogram2d": [
           {
            "colorbar": {
             "outlinewidth": 0,
             "ticks": ""
            },
            "colorscale": [
             [
              0,
              "#0d0887"
             ],
             [
              0.1111111111111111,
              "#46039f"
             ],
             [
              0.2222222222222222,
              "#7201a8"
             ],
             [
              0.3333333333333333,
              "#9c179e"
             ],
             [
              0.4444444444444444,
              "#bd3786"
             ],
             [
              0.5555555555555556,
              "#d8576b"
             ],
             [
              0.6666666666666666,
              "#ed7953"
             ],
             [
              0.7777777777777778,
              "#fb9f3a"
             ],
             [
              0.8888888888888888,
              "#fdca26"
             ],
             [
              1,
              "#f0f921"
             ]
            ],
            "type": "histogram2d"
           }
          ],
          "histogram2dcontour": [
           {
            "colorbar": {
             "outlinewidth": 0,
             "ticks": ""
            },
            "colorscale": [
             [
              0,
              "#0d0887"
             ],
             [
              0.1111111111111111,
              "#46039f"
             ],
             [
              0.2222222222222222,
              "#7201a8"
             ],
             [
              0.3333333333333333,
              "#9c179e"
             ],
             [
              0.4444444444444444,
              "#bd3786"
             ],
             [
              0.5555555555555556,
              "#d8576b"
             ],
             [
              0.6666666666666666,
              "#ed7953"
             ],
             [
              0.7777777777777778,
              "#fb9f3a"
             ],
             [
              0.8888888888888888,
              "#fdca26"
             ],
             [
              1,
              "#f0f921"
             ]
            ],
            "type": "histogram2dcontour"
           }
          ],
          "mesh3d": [
           {
            "colorbar": {
             "outlinewidth": 0,
             "ticks": ""
            },
            "type": "mesh3d"
           }
          ],
          "parcoords": [
           {
            "line": {
             "colorbar": {
              "outlinewidth": 0,
              "ticks": ""
             }
            },
            "type": "parcoords"
           }
          ],
          "pie": [
           {
            "automargin": true,
            "type": "pie"
           }
          ],
          "scatter": [
           {
            "marker": {
             "colorbar": {
              "outlinewidth": 0,
              "ticks": ""
             }
            },
            "type": "scatter"
           }
          ],
          "scatter3d": [
           {
            "line": {
             "colorbar": {
              "outlinewidth": 0,
              "ticks": ""
             }
            },
            "marker": {
             "colorbar": {
              "outlinewidth": 0,
              "ticks": ""
             }
            },
            "type": "scatter3d"
           }
          ],
          "scattercarpet": [
           {
            "marker": {
             "colorbar": {
              "outlinewidth": 0,
              "ticks": ""
             }
            },
            "type": "scattercarpet"
           }
          ],
          "scattergeo": [
           {
            "marker": {
             "colorbar": {
              "outlinewidth": 0,
              "ticks": ""
             }
            },
            "type": "scattergeo"
           }
          ],
          "scattergl": [
           {
            "marker": {
             "colorbar": {
              "outlinewidth": 0,
              "ticks": ""
             }
            },
            "type": "scattergl"
           }
          ],
          "scattermapbox": [
           {
            "marker": {
             "colorbar": {
              "outlinewidth": 0,
              "ticks": ""
             }
            },
            "type": "scattermapbox"
           }
          ],
          "scatterpolar": [
           {
            "marker": {
             "colorbar": {
              "outlinewidth": 0,
              "ticks": ""
             }
            },
            "type": "scatterpolar"
           }
          ],
          "scatterpolargl": [
           {
            "marker": {
             "colorbar": {
              "outlinewidth": 0,
              "ticks": ""
             }
            },
            "type": "scatterpolargl"
           }
          ],
          "scatterternary": [
           {
            "marker": {
             "colorbar": {
              "outlinewidth": 0,
              "ticks": ""
             }
            },
            "type": "scatterternary"
           }
          ],
          "surface": [
           {
            "colorbar": {
             "outlinewidth": 0,
             "ticks": ""
            },
            "colorscale": [
             [
              0,
              "#0d0887"
             ],
             [
              0.1111111111111111,
              "#46039f"
             ],
             [
              0.2222222222222222,
              "#7201a8"
             ],
             [
              0.3333333333333333,
              "#9c179e"
             ],
             [
              0.4444444444444444,
              "#bd3786"
             ],
             [
              0.5555555555555556,
              "#d8576b"
             ],
             [
              0.6666666666666666,
              "#ed7953"
             ],
             [
              0.7777777777777778,
              "#fb9f3a"
             ],
             [
              0.8888888888888888,
              "#fdca26"
             ],
             [
              1,
              "#f0f921"
             ]
            ],
            "type": "surface"
           }
          ],
          "table": [
           {
            "cells": {
             "fill": {
              "color": "#EBF0F8"
             },
             "line": {
              "color": "white"
             }
            },
            "header": {
             "fill": {
              "color": "#C8D4E3"
             },
             "line": {
              "color": "white"
             }
            },
            "type": "table"
           }
          ]
         },
         "layout": {
          "annotationdefaults": {
           "arrowcolor": "#2a3f5f",
           "arrowhead": 0,
           "arrowwidth": 1
          },
          "coloraxis": {
           "colorbar": {
            "outlinewidth": 0,
            "ticks": ""
           }
          },
          "colorscale": {
           "diverging": [
            [
             0,
             "#8e0152"
            ],
            [
             0.1,
             "#c51b7d"
            ],
            [
             0.2,
             "#de77ae"
            ],
            [
             0.3,
             "#f1b6da"
            ],
            [
             0.4,
             "#fde0ef"
            ],
            [
             0.5,
             "#f7f7f7"
            ],
            [
             0.6,
             "#e6f5d0"
            ],
            [
             0.7,
             "#b8e186"
            ],
            [
             0.8,
             "#7fbc41"
            ],
            [
             0.9,
             "#4d9221"
            ],
            [
             1,
             "#276419"
            ]
           ],
           "sequential": [
            [
             0,
             "#0d0887"
            ],
            [
             0.1111111111111111,
             "#46039f"
            ],
            [
             0.2222222222222222,
             "#7201a8"
            ],
            [
             0.3333333333333333,
             "#9c179e"
            ],
            [
             0.4444444444444444,
             "#bd3786"
            ],
            [
             0.5555555555555556,
             "#d8576b"
            ],
            [
             0.6666666666666666,
             "#ed7953"
            ],
            [
             0.7777777777777778,
             "#fb9f3a"
            ],
            [
             0.8888888888888888,
             "#fdca26"
            ],
            [
             1,
             "#f0f921"
            ]
           ],
           "sequentialminus": [
            [
             0,
             "#0d0887"
            ],
            [
             0.1111111111111111,
             "#46039f"
            ],
            [
             0.2222222222222222,
             "#7201a8"
            ],
            [
             0.3333333333333333,
             "#9c179e"
            ],
            [
             0.4444444444444444,
             "#bd3786"
            ],
            [
             0.5555555555555556,
             "#d8576b"
            ],
            [
             0.6666666666666666,
             "#ed7953"
            ],
            [
             0.7777777777777778,
             "#fb9f3a"
            ],
            [
             0.8888888888888888,
             "#fdca26"
            ],
            [
             1,
             "#f0f921"
            ]
           ]
          },
          "colorway": [
           "#636efa",
           "#EF553B",
           "#00cc96",
           "#ab63fa",
           "#FFA15A",
           "#19d3f3",
           "#FF6692",
           "#B6E880",
           "#FF97FF",
           "#FECB52"
          ],
          "font": {
           "color": "#2a3f5f"
          },
          "geo": {
           "bgcolor": "white",
           "lakecolor": "white",
           "landcolor": "#E5ECF6",
           "showlakes": true,
           "showland": true,
           "subunitcolor": "white"
          },
          "hoverlabel": {
           "align": "left"
          },
          "hovermode": "closest",
          "mapbox": {
           "style": "light"
          },
          "paper_bgcolor": "white",
          "plot_bgcolor": "#E5ECF6",
          "polar": {
           "angularaxis": {
            "gridcolor": "white",
            "linecolor": "white",
            "ticks": ""
           },
           "bgcolor": "#E5ECF6",
           "radialaxis": {
            "gridcolor": "white",
            "linecolor": "white",
            "ticks": ""
           }
          },
          "scene": {
           "xaxis": {
            "backgroundcolor": "#E5ECF6",
            "gridcolor": "white",
            "gridwidth": 2,
            "linecolor": "white",
            "showbackground": true,
            "ticks": "",
            "zerolinecolor": "white"
           },
           "yaxis": {
            "backgroundcolor": "#E5ECF6",
            "gridcolor": "white",
            "gridwidth": 2,
            "linecolor": "white",
            "showbackground": true,
            "ticks": "",
            "zerolinecolor": "white"
           },
           "zaxis": {
            "backgroundcolor": "#E5ECF6",
            "gridcolor": "white",
            "gridwidth": 2,
            "linecolor": "white",
            "showbackground": true,
            "ticks": "",
            "zerolinecolor": "white"
           }
          },
          "shapedefaults": {
           "line": {
            "color": "#2a3f5f"
           }
          },
          "ternary": {
           "aaxis": {
            "gridcolor": "white",
            "linecolor": "white",
            "ticks": ""
           },
           "baxis": {
            "gridcolor": "white",
            "linecolor": "white",
            "ticks": ""
           },
           "bgcolor": "#E5ECF6",
           "caxis": {
            "gridcolor": "white",
            "linecolor": "white",
            "ticks": ""
           }
          },
          "title": {
           "x": 0.05
          },
          "xaxis": {
           "automargin": true,
           "gridcolor": "white",
           "linecolor": "white",
           "ticks": "",
           "title": {
            "standoff": 15
           },
           "zerolinecolor": "white",
           "zerolinewidth": 2
          },
          "yaxis": {
           "automargin": true,
           "gridcolor": "white",
           "linecolor": "white",
           "ticks": "",
           "title": {
            "standoff": 15
           },
           "zerolinecolor": "white",
           "zerolinewidth": 2
          }
         }
        },
        "title": {
         "font": {
          "color": "#4D5663"
         }
        },
        "xaxis": {
         "gridcolor": "#E1E5ED",
         "showgrid": true,
         "tickfont": {
          "color": "#4D5663"
         },
         "title": {
          "font": {
           "color": "#4D5663"
          },
          "text": ""
         },
         "zerolinecolor": "#E1E5ED"
        },
        "yaxis": {
         "gridcolor": "#E1E5ED",
         "showgrid": true,
         "tickfont": {
          "color": "#4D5663"
         },
         "title": {
          "font": {
           "color": "#4D5663"
          },
          "text": ""
         },
         "zerolinecolor": "#E1E5ED"
        }
       }
      },
      "text/html": [
       "<div>                            <div id=\"389af64e-461b-4ef6-bd9d-3ef71a9b7fd8\" class=\"plotly-graph-div\" style=\"height:525px; width:100%;\"></div>            <script type=\"text/javascript\">                require([\"plotly\"], function(Plotly) {                    window.PLOTLYENV=window.PLOTLYENV || {};\n",
       "                    window.PLOTLYENV.BASE_URL='https://plot.ly';                                    if (document.getElementById(\"389af64e-461b-4ef6-bd9d-3ef71a9b7fd8\")) {                    Plotly.newPlot(                        \"389af64e-461b-4ef6-bd9d-3ef71a9b7fd8\",                        [{\"marker\": {\"color\": [\"rgb(255, 153, 51)\", \"rgb(55, 128, 191)\", \"rgb(50, 171, 96)\", \"rgb(128, 0, 128)\", \"rgb(219, 64, 82)\", \"rgb(0, 128, 128)\", \"rgb(255, 255, 51)\", \"rgb(128, 128, 0)\", \"rgb(251, 128, 114)\", \"rgb(128, 177, 211)\"], \"line\": {\"width\": 1.3}, \"size\": [29, 50, 91, 57, 59, 48, 56, 50, 90, 70, 82, 72, 70, 67, 71, 91, 29, 66, 56, 76, 40, 57, 77, 63, 40, 46, 54, 61, 64, 110, 54, 73, 75, 66, 84, 40, 79, 60, 48, 68, 65, 66, 45, 51, 58, 66, 47, 69, 72, 79, 84, 78, 80, 58, 76, 55, 57, 41, 66, 52, 63, 67, 12, 27, 58, 34, 53, 94, 56, 81, 68, 68, 91, 72, 69, 32, 63, 85, 52, 59, 61, 94, 59, 40, 57, 55, 64, 45, 76, 40, 42, 91, 68, 112, 72, 73, 45, 94, 49, 74], \"symbol\": \"circle\"}, \"mode\": \"markers\", \"text\": \"\", \"type\": \"scatter\", \"x\": [0.24588717410753003, -1.5443326651682237, -0.7892940576313485, -0.7521408949768861, -0.4796778753536114, -0.038090741190589895, -1.2936477357446499, -2.723420833634864, 1.9086517655499613, 0.4087252992968224, -2.5161479197724548, 0.5467932638969071, 0.7522566966657753, -0.5375211691145616, -0.5575175182237166, 0.6909421933307822, 1.4178037665917353, -1.3189638698222304, 0.38135037719477854, -0.8975045777020152, 1.5990034926885215, 0.7513798196549333, -2.7246607309103466, 0.009181632602803554, -0.7199645224339926, 1.0159431349247343, 0.35555691751734403, 0.5133793537990036, -0.7898146830454974, 0.145975409251844, 0.7290500746987666, -0.03207417260027835, 0.5758332689076748, -0.7309258513953879, -1.3488321998603487, 0.9348030875542376, -0.5530946341539287, 0.708339786978607, 1.3589273059294322, 0.6042100092089738, -0.018519711780514307, -0.8497345423017969, 0.25930721389934425, 0.6570749338815411, 0.12722479020271082, 0.5981116642723051, 1.1087139573109894, 0.4335456958746609, -0.4986020130951775, 0.16019426329620462, 1.0956079098556886, 2.1781844015324, 0.38743513688648556, 0.23232445913149288, -0.02225732068587582, 1.240721487888421, 0.8348794737172368, 0.49131381569131605, -2.465460913038345, -1.4128691396273751, 0.45471027773277545, 0.2366496229800066, -0.8443631136799993, -1.5050581382231454, -0.3489519058130828, -0.09252638339915405, 0.4622723828835006, -1.0832375330785835, -0.172975234005294, 1.0525870174915173, -0.0605350567014285, 0.7431366307343629, -0.32259824462116854, 0.46655615372559767, -0.8766531102031185, -0.25067319773196817, 1.9220011649797581, -0.8995754398187623, -0.09723736864284754, 0.13632410802735093, -0.2645397703087663, 0.5956787521414239, -0.16086207093244567, 0.3919638756805205, 1.6431864559841054, 0.500292502469693, -2.2982921012198525, 0.7040176660035111, 0.5779821463206176, 0.37819996172214365, 0.2468873010137249, 0.7112664646179129, -1.8315612256428866, -0.8926722024059833, -2.2000637729889774, -0.1347498116867438, 0.418059595878196, -0.21752058196722435, 0.25604934393242434, 1.0349299221152255], \"y\": [0.17890934769892103, -0.033123808583366866, -1.7822064108916256, -0.5373491252336633, -1.4571186682282393, -1.4078878238560042, -1.2674356310721624, 2.019550830934474, -0.4888330588658283, 0.13141884905230608, -0.9312556526036885, -0.007754038998178534, 2.435535100927038, 0.7079881733133355, 0.31467573359242035, 1.1926023566358455, -0.06993966578389549, 1.3105124782278086, -1.791805838390315, 0.786940457459193, 1.392374807377714, 0.18685037333581317, 0.5159651139015339, -1.3788427841040845, 0.4481570242827706, -0.23192149556047384, -1.793900944752704, -0.6503177928618666, -1.2523592184401433, 0.9397745472901148, -1.2140853902232587, 1.3536707221874327, -2.2065900699338212, -0.2597360149080525, -1.4231111759501243, 1.3997148101941983, -0.8711159875276375, 0.1535439165088105, 0.6223667974799626, -0.5428449527751454, -0.40790956932452943, -0.74095035588002, 1.180243228006508, -1.2246704095828187, 0.5104837648637698, 0.45166433234461617, 0.021824417646521932, -0.1199772823884989, -0.6313062350478947, 0.8962458311228109, 0.8459257422214808, 0.40390475120466934, -0.7075908392741708, 1.6564340845542072, 0.5361952772128227, -0.07758458280582371, 1.2853799260053234, -0.7655843186082435, -0.47497301247656126, -1.1259800726037426, 0.19101899430261973, -1.827357574298033, -2.2013084050446086, 0.9194612052082188, 0.13767551508349066, -1.474381924958377, -0.8835121299482696, 0.15730940685310918, 0.22846581412701608, 0.7715085536815187, -1.1394219297866262, 0.15117704785432218, -0.5729191210052296, 0.8201939049808525, 0.1915501286014221, -0.6403217290879047, 0.6696931832935046, 0.5515620084580015, -0.44800211781238813, 0.5496148064169799, -0.33023177959341304, -0.3405279676130839, 1.9117164440223209, 0.27499941131265915, 0.48223764210266046, 0.6010465347356609, 0.3359623795070407, 0.8393356310861901, -1.1715806085723153, 0.3231670247779722, 0.23374619998387358, 1.206861746979094, -0.6443967282087286, 1.9062966496430345, 2.189933048739878, -0.01675318476017029, -0.014711562140090341, 0.7294260989680877, -1.4051167130267577, 1.7692353305949258]}],                        {\"legend\": {\"bgcolor\": \"#F5F6F9\", \"font\": {\"color\": \"#4D5663\"}}, \"paper_bgcolor\": \"#F5F6F9\", \"plot_bgcolor\": \"#F5F6F9\", \"template\": {\"data\": {\"bar\": [{\"error_x\": {\"color\": \"#2a3f5f\"}, \"error_y\": {\"color\": \"#2a3f5f\"}, \"marker\": {\"line\": {\"color\": \"#E5ECF6\", \"width\": 0.5}}, \"type\": \"bar\"}], \"barpolar\": [{\"marker\": {\"line\": {\"color\": \"#E5ECF6\", \"width\": 0.5}}, \"type\": \"barpolar\"}], \"carpet\": [{\"aaxis\": {\"endlinecolor\": \"#2a3f5f\", \"gridcolor\": \"white\", \"linecolor\": \"white\", \"minorgridcolor\": \"white\", \"startlinecolor\": \"#2a3f5f\"}, \"baxis\": {\"endlinecolor\": \"#2a3f5f\", \"gridcolor\": \"white\", \"linecolor\": \"white\", \"minorgridcolor\": \"white\", \"startlinecolor\": \"#2a3f5f\"}, \"type\": \"carpet\"}], \"choropleth\": [{\"colorbar\": {\"outlinewidth\": 0, \"ticks\": \"\"}, \"type\": \"choropleth\"}], \"contour\": [{\"colorbar\": {\"outlinewidth\": 0, \"ticks\": \"\"}, \"colorscale\": [[0.0, \"#0d0887\"], [0.1111111111111111, \"#46039f\"], [0.2222222222222222, \"#7201a8\"], [0.3333333333333333, \"#9c179e\"], [0.4444444444444444, \"#bd3786\"], [0.5555555555555556, \"#d8576b\"], [0.6666666666666666, \"#ed7953\"], [0.7777777777777778, \"#fb9f3a\"], [0.8888888888888888, \"#fdca26\"], [1.0, \"#f0f921\"]], \"type\": \"contour\"}], \"contourcarpet\": [{\"colorbar\": {\"outlinewidth\": 0, \"ticks\": \"\"}, \"type\": \"contourcarpet\"}], \"heatmap\": [{\"colorbar\": {\"outlinewidth\": 0, \"ticks\": \"\"}, \"colorscale\": [[0.0, \"#0d0887\"], [0.1111111111111111, \"#46039f\"], [0.2222222222222222, \"#7201a8\"], [0.3333333333333333, \"#9c179e\"], [0.4444444444444444, \"#bd3786\"], [0.5555555555555556, \"#d8576b\"], [0.6666666666666666, \"#ed7953\"], [0.7777777777777778, \"#fb9f3a\"], [0.8888888888888888, \"#fdca26\"], [1.0, \"#f0f921\"]], \"type\": \"heatmap\"}], \"heatmapgl\": [{\"colorbar\": {\"outlinewidth\": 0, \"ticks\": \"\"}, \"colorscale\": [[0.0, \"#0d0887\"], [0.1111111111111111, \"#46039f\"], [0.2222222222222222, \"#7201a8\"], [0.3333333333333333, \"#9c179e\"], [0.4444444444444444, \"#bd3786\"], [0.5555555555555556, \"#d8576b\"], [0.6666666666666666, \"#ed7953\"], [0.7777777777777778, \"#fb9f3a\"], [0.8888888888888888, \"#fdca26\"], [1.0, \"#f0f921\"]], \"type\": \"heatmapgl\"}], \"histogram\": [{\"marker\": {\"colorbar\": {\"outlinewidth\": 0, \"ticks\": \"\"}}, \"type\": \"histogram\"}], \"histogram2d\": [{\"colorbar\": {\"outlinewidth\": 0, \"ticks\": \"\"}, \"colorscale\": [[0.0, \"#0d0887\"], [0.1111111111111111, \"#46039f\"], [0.2222222222222222, \"#7201a8\"], [0.3333333333333333, \"#9c179e\"], [0.4444444444444444, \"#bd3786\"], [0.5555555555555556, \"#d8576b\"], [0.6666666666666666, \"#ed7953\"], [0.7777777777777778, \"#fb9f3a\"], [0.8888888888888888, \"#fdca26\"], [1.0, \"#f0f921\"]], \"type\": \"histogram2d\"}], \"histogram2dcontour\": [{\"colorbar\": {\"outlinewidth\": 0, \"ticks\": \"\"}, \"colorscale\": [[0.0, \"#0d0887\"], [0.1111111111111111, \"#46039f\"], [0.2222222222222222, \"#7201a8\"], [0.3333333333333333, \"#9c179e\"], [0.4444444444444444, \"#bd3786\"], [0.5555555555555556, \"#d8576b\"], [0.6666666666666666, \"#ed7953\"], [0.7777777777777778, \"#fb9f3a\"], [0.8888888888888888, \"#fdca26\"], [1.0, \"#f0f921\"]], \"type\": \"histogram2dcontour\"}], \"mesh3d\": [{\"colorbar\": {\"outlinewidth\": 0, \"ticks\": \"\"}, \"type\": \"mesh3d\"}], \"parcoords\": [{\"line\": {\"colorbar\": {\"outlinewidth\": 0, \"ticks\": \"\"}}, \"type\": \"parcoords\"}], \"pie\": [{\"automargin\": true, \"type\": \"pie\"}], \"scatter\": [{\"marker\": {\"colorbar\": {\"outlinewidth\": 0, \"ticks\": \"\"}}, \"type\": \"scatter\"}], \"scatter3d\": [{\"line\": {\"colorbar\": {\"outlinewidth\": 0, \"ticks\": \"\"}}, \"marker\": {\"colorbar\": {\"outlinewidth\": 0, \"ticks\": \"\"}}, \"type\": \"scatter3d\"}], \"scattercarpet\": [{\"marker\": {\"colorbar\": {\"outlinewidth\": 0, \"ticks\": \"\"}}, \"type\": \"scattercarpet\"}], \"scattergeo\": [{\"marker\": {\"colorbar\": {\"outlinewidth\": 0, \"ticks\": \"\"}}, \"type\": \"scattergeo\"}], \"scattergl\": [{\"marker\": {\"colorbar\": {\"outlinewidth\": 0, \"ticks\": \"\"}}, \"type\": \"scattergl\"}], \"scattermapbox\": [{\"marker\": {\"colorbar\": {\"outlinewidth\": 0, \"ticks\": \"\"}}, \"type\": \"scattermapbox\"}], \"scatterpolar\": [{\"marker\": {\"colorbar\": {\"outlinewidth\": 0, \"ticks\": \"\"}}, \"type\": \"scatterpolar\"}], \"scatterpolargl\": [{\"marker\": {\"colorbar\": {\"outlinewidth\": 0, \"ticks\": \"\"}}, \"type\": \"scatterpolargl\"}], \"scatterternary\": [{\"marker\": {\"colorbar\": {\"outlinewidth\": 0, \"ticks\": \"\"}}, \"type\": \"scatterternary\"}], \"surface\": [{\"colorbar\": {\"outlinewidth\": 0, \"ticks\": \"\"}, \"colorscale\": [[0.0, \"#0d0887\"], [0.1111111111111111, \"#46039f\"], [0.2222222222222222, \"#7201a8\"], [0.3333333333333333, \"#9c179e\"], [0.4444444444444444, \"#bd3786\"], [0.5555555555555556, \"#d8576b\"], [0.6666666666666666, \"#ed7953\"], [0.7777777777777778, \"#fb9f3a\"], [0.8888888888888888, \"#fdca26\"], [1.0, \"#f0f921\"]], \"type\": \"surface\"}], \"table\": [{\"cells\": {\"fill\": {\"color\": \"#EBF0F8\"}, \"line\": {\"color\": \"white\"}}, \"header\": {\"fill\": {\"color\": \"#C8D4E3\"}, \"line\": {\"color\": \"white\"}}, \"type\": \"table\"}]}, \"layout\": {\"annotationdefaults\": {\"arrowcolor\": \"#2a3f5f\", \"arrowhead\": 0, \"arrowwidth\": 1}, \"coloraxis\": {\"colorbar\": {\"outlinewidth\": 0, \"ticks\": \"\"}}, \"colorscale\": {\"diverging\": [[0, \"#8e0152\"], [0.1, \"#c51b7d\"], [0.2, \"#de77ae\"], [0.3, \"#f1b6da\"], [0.4, \"#fde0ef\"], [0.5, \"#f7f7f7\"], [0.6, \"#e6f5d0\"], [0.7, \"#b8e186\"], [0.8, \"#7fbc41\"], [0.9, \"#4d9221\"], [1, \"#276419\"]], \"sequential\": [[0.0, \"#0d0887\"], [0.1111111111111111, \"#46039f\"], [0.2222222222222222, \"#7201a8\"], [0.3333333333333333, \"#9c179e\"], [0.4444444444444444, \"#bd3786\"], [0.5555555555555556, \"#d8576b\"], [0.6666666666666666, \"#ed7953\"], [0.7777777777777778, \"#fb9f3a\"], [0.8888888888888888, \"#fdca26\"], [1.0, \"#f0f921\"]], \"sequentialminus\": [[0.0, \"#0d0887\"], [0.1111111111111111, \"#46039f\"], [0.2222222222222222, \"#7201a8\"], [0.3333333333333333, \"#9c179e\"], [0.4444444444444444, \"#bd3786\"], [0.5555555555555556, \"#d8576b\"], [0.6666666666666666, \"#ed7953\"], [0.7777777777777778, \"#fb9f3a\"], [0.8888888888888888, \"#fdca26\"], [1.0, \"#f0f921\"]]}, \"colorway\": [\"#636efa\", \"#EF553B\", \"#00cc96\", \"#ab63fa\", \"#FFA15A\", \"#19d3f3\", \"#FF6692\", \"#B6E880\", \"#FF97FF\", \"#FECB52\"], \"font\": {\"color\": \"#2a3f5f\"}, \"geo\": {\"bgcolor\": \"white\", \"lakecolor\": \"white\", \"landcolor\": \"#E5ECF6\", \"showlakes\": true, \"showland\": true, \"subunitcolor\": \"white\"}, \"hoverlabel\": {\"align\": \"left\"}, \"hovermode\": \"closest\", \"mapbox\": {\"style\": \"light\"}, \"paper_bgcolor\": \"white\", \"plot_bgcolor\": \"#E5ECF6\", \"polar\": {\"angularaxis\": {\"gridcolor\": \"white\", \"linecolor\": \"white\", \"ticks\": \"\"}, \"bgcolor\": \"#E5ECF6\", \"radialaxis\": {\"gridcolor\": \"white\", \"linecolor\": \"white\", \"ticks\": \"\"}}, \"scene\": {\"xaxis\": {\"backgroundcolor\": \"#E5ECF6\", \"gridcolor\": \"white\", \"gridwidth\": 2, \"linecolor\": \"white\", \"showbackground\": true, \"ticks\": \"\", \"zerolinecolor\": \"white\"}, \"yaxis\": {\"backgroundcolor\": \"#E5ECF6\", \"gridcolor\": \"white\", \"gridwidth\": 2, \"linecolor\": \"white\", \"showbackground\": true, \"ticks\": \"\", \"zerolinecolor\": \"white\"}, \"zaxis\": {\"backgroundcolor\": \"#E5ECF6\", \"gridcolor\": \"white\", \"gridwidth\": 2, \"linecolor\": \"white\", \"showbackground\": true, \"ticks\": \"\", \"zerolinecolor\": \"white\"}}, \"shapedefaults\": {\"line\": {\"color\": \"#2a3f5f\"}}, \"ternary\": {\"aaxis\": {\"gridcolor\": \"white\", \"linecolor\": \"white\", \"ticks\": \"\"}, \"baxis\": {\"gridcolor\": \"white\", \"linecolor\": \"white\", \"ticks\": \"\"}, \"bgcolor\": \"#E5ECF6\", \"caxis\": {\"gridcolor\": \"white\", \"linecolor\": \"white\", \"ticks\": \"\"}}, \"title\": {\"x\": 0.05}, \"xaxis\": {\"automargin\": true, \"gridcolor\": \"white\", \"linecolor\": \"white\", \"ticks\": \"\", \"title\": {\"standoff\": 15}, \"zerolinecolor\": \"white\", \"zerolinewidth\": 2}, \"yaxis\": {\"automargin\": true, \"gridcolor\": \"white\", \"linecolor\": \"white\", \"ticks\": \"\", \"title\": {\"standoff\": 15}, \"zerolinecolor\": \"white\", \"zerolinewidth\": 2}}}, \"title\": {\"font\": {\"color\": \"#4D5663\"}}, \"xaxis\": {\"gridcolor\": \"#E1E5ED\", \"showgrid\": true, \"tickfont\": {\"color\": \"#4D5663\"}, \"title\": {\"font\": {\"color\": \"#4D5663\"}, \"text\": \"\"}, \"zerolinecolor\": \"#E1E5ED\"}, \"yaxis\": {\"gridcolor\": \"#E1E5ED\", \"showgrid\": true, \"tickfont\": {\"color\": \"#4D5663\"}, \"title\": {\"font\": {\"color\": \"#4D5663\"}, \"text\": \"\"}, \"zerolinecolor\": \"#E1E5ED\"}},                        {\"showLink\": true, \"linkText\": \"Export to plot.ly\", \"plotlyServerURL\": \"https://plot.ly\", \"responsive\": true}                    ).then(function(){\n",
       "                            \n",
       "var gd = document.getElementById('389af64e-461b-4ef6-bd9d-3ef71a9b7fd8');\n",
       "var x = new MutationObserver(function (mutations, observer) {{\n",
       "        var display = window.getComputedStyle(gd).display;\n",
       "        if (!display || display === 'none') {{\n",
       "            console.log([gd, 'removed!']);\n",
       "            Plotly.purge(gd);\n",
       "            observer.disconnect();\n",
       "        }}\n",
       "}});\n",
       "\n",
       "// Listen for the removal of the full notebook cells\n",
       "var notebookContainer = gd.closest('#notebook-container');\n",
       "if (notebookContainer) {{\n",
       "    x.observe(notebookContainer, {childList: true});\n",
       "}}\n",
       "\n",
       "// Listen for the clearing of the current output cell\n",
       "var outputEl = gd.closest('.output');\n",
       "if (outputEl) {{\n",
       "    x.observe(outputEl, {childList: true});\n",
       "}}\n",
       "\n",
       "                        })                };                });            </script>        </div>"
      ]
     },
     "metadata": {},
     "output_type": "display_data"
    }
   ],
   "source": [
    "df.iplot(kind='bubble',x='A',y='B',size='C')"
   ]
  },
  {
   "cell_type": "markdown",
   "metadata": {},
   "source": [
    "## scatter_matrix()\n",
    "\n",
    "Similar to sns.pairplot()"
   ]
  },
  {
   "cell_type": "code",
   "execution_count": 19,
   "metadata": {},
   "outputs": [
    {
     "data": {
      "application/vnd.plotly.v1+json": {
       "config": {
        "linkText": "Export to plot.ly",
        "plotlyServerURL": "https://plot.ly",
        "showLink": true
       },
       "data": [
        {
         "histfunc": "count",
         "histnorm": "",
         "marker": {
          "color": "rgba(255, 153, 51, 1.0)",
          "line": {
           "color": "#4D5663",
           "width": 1.3
          }
         },
         "name": "A",
         "nbinsx": 10,
         "opacity": 0.8,
         "orientation": "v",
         "type": "histogram",
         "x": [
          0.24588717410753003,
          -1.5443326651682237,
          -0.7892940576313485,
          -0.7521408949768861,
          -0.4796778753536114,
          -0.038090741190589895,
          -1.2936477357446499,
          -2.723420833634864,
          1.9086517655499613,
          0.4087252992968224,
          -2.5161479197724548,
          0.5467932638969071,
          0.7522566966657753,
          -0.5375211691145616,
          -0.5575175182237166,
          0.6909421933307822,
          1.4178037665917353,
          -1.3189638698222304,
          0.38135037719477854,
          -0.8975045777020152,
          1.5990034926885215,
          0.7513798196549333,
          -2.7246607309103466,
          0.009181632602803554,
          -0.7199645224339926,
          1.0159431349247343,
          0.35555691751734403,
          0.5133793537990036,
          -0.7898146830454974,
          0.145975409251844,
          0.7290500746987666,
          -0.03207417260027835,
          0.5758332689076748,
          -0.7309258513953879,
          -1.3488321998603487,
          0.9348030875542376,
          -0.5530946341539287,
          0.708339786978607,
          1.3589273059294322,
          0.6042100092089738,
          -0.018519711780514307,
          -0.8497345423017969,
          0.25930721389934425,
          0.6570749338815411,
          0.12722479020271082,
          0.5981116642723051,
          1.1087139573109894,
          0.4335456958746609,
          -0.4986020130951775,
          0.16019426329620462,
          1.0956079098556886,
          2.1781844015324,
          0.38743513688648556,
          0.23232445913149288,
          -0.02225732068587582,
          1.240721487888421,
          0.8348794737172368,
          0.49131381569131605,
          -2.465460913038345,
          -1.4128691396273751,
          0.45471027773277545,
          0.2366496229800066,
          -0.8443631136799993,
          -1.5050581382231454,
          -0.3489519058130828,
          -0.09252638339915405,
          0.4622723828835006,
          -1.0832375330785835,
          -0.172975234005294,
          1.0525870174915173,
          -0.0605350567014285,
          0.7431366307343629,
          -0.32259824462116854,
          0.46655615372559767,
          -0.8766531102031185,
          -0.25067319773196817,
          1.9220011649797581,
          -0.8995754398187623,
          -0.09723736864284754,
          0.13632410802735093,
          -0.2645397703087663,
          0.5956787521414239,
          -0.16086207093244567,
          0.3919638756805205,
          1.6431864559841054,
          0.500292502469693,
          -2.2982921012198525,
          0.7040176660035111,
          0.5779821463206176,
          0.37819996172214365,
          0.2468873010137249,
          0.7112664646179129,
          -1.8315612256428866,
          -0.8926722024059833,
          -2.2000637729889774,
          -0.1347498116867438,
          0.418059595878196,
          -0.21752058196722435,
          0.25604934393242434,
          1.0349299221152255
         ],
         "xaxis": "x",
         "yaxis": "y"
        },
        {
         "line": {
          "color": "rgba(128, 128, 128, 1.0)",
          "dash": "solid",
          "shape": "linear",
          "width": 1.3
         },
         "marker": {
          "size": 2,
          "symbol": "circle"
         },
         "mode": "markers",
         "name": "A",
         "text": "",
         "type": "scatter",
         "x": [
          0.17890934769892103,
          -0.033123808583366866,
          -1.7822064108916256,
          -0.5373491252336633,
          -1.4571186682282393,
          -1.4078878238560042,
          -1.2674356310721624,
          2.019550830934474,
          -0.4888330588658283,
          0.13141884905230608,
          -0.9312556526036885,
          -0.007754038998178534,
          2.435535100927038,
          0.7079881733133355,
          0.31467573359242035,
          1.1926023566358455,
          -0.06993966578389549,
          1.3105124782278086,
          -1.791805838390315,
          0.786940457459193,
          1.392374807377714,
          0.18685037333581317,
          0.5159651139015339,
          -1.3788427841040845,
          0.4481570242827706,
          -0.23192149556047384,
          -1.793900944752704,
          -0.6503177928618666,
          -1.2523592184401433,
          0.9397745472901148,
          -1.2140853902232587,
          1.3536707221874327,
          -2.2065900699338212,
          -0.2597360149080525,
          -1.4231111759501243,
          1.3997148101941983,
          -0.8711159875276375,
          0.1535439165088105,
          0.6223667974799626,
          -0.5428449527751454,
          -0.40790956932452943,
          -0.74095035588002,
          1.180243228006508,
          -1.2246704095828187,
          0.5104837648637698,
          0.45166433234461617,
          0.021824417646521932,
          -0.1199772823884989,
          -0.6313062350478947,
          0.8962458311228109,
          0.8459257422214808,
          0.40390475120466934,
          -0.7075908392741708,
          1.6564340845542072,
          0.5361952772128227,
          -0.07758458280582371,
          1.2853799260053234,
          -0.7655843186082435,
          -0.47497301247656126,
          -1.1259800726037426,
          0.19101899430261973,
          -1.827357574298033,
          -2.2013084050446086,
          0.9194612052082188,
          0.13767551508349066,
          -1.474381924958377,
          -0.8835121299482696,
          0.15730940685310918,
          0.22846581412701608,
          0.7715085536815187,
          -1.1394219297866262,
          0.15117704785432218,
          -0.5729191210052296,
          0.8201939049808525,
          0.1915501286014221,
          -0.6403217290879047,
          0.6696931832935046,
          0.5515620084580015,
          -0.44800211781238813,
          0.5496148064169799,
          -0.33023177959341304,
          -0.3405279676130839,
          1.9117164440223209,
          0.27499941131265915,
          0.48223764210266046,
          0.6010465347356609,
          0.3359623795070407,
          0.8393356310861901,
          -1.1715806085723153,
          0.3231670247779722,
          0.23374619998387358,
          1.206861746979094,
          -0.6443967282087286,
          1.9062966496430345,
          2.189933048739878,
          -0.01675318476017029,
          -0.014711562140090341,
          0.7294260989680877,
          -1.4051167130267577,
          1.7692353305949258
         ],
         "xaxis": "x2",
         "y": [
          0.24588717410753003,
          -1.5443326651682237,
          -0.7892940576313485,
          -0.7521408949768861,
          -0.4796778753536114,
          -0.038090741190589895,
          -1.2936477357446499,
          -2.723420833634864,
          1.9086517655499613,
          0.4087252992968224,
          -2.5161479197724548,
          0.5467932638969071,
          0.7522566966657753,
          -0.5375211691145616,
          -0.5575175182237166,
          0.6909421933307822,
          1.4178037665917353,
          -1.3189638698222304,
          0.38135037719477854,
          -0.8975045777020152,
          1.5990034926885215,
          0.7513798196549333,
          -2.7246607309103466,
          0.009181632602803554,
          -0.7199645224339926,
          1.0159431349247343,
          0.35555691751734403,
          0.5133793537990036,
          -0.7898146830454974,
          0.145975409251844,
          0.7290500746987666,
          -0.03207417260027835,
          0.5758332689076748,
          -0.7309258513953879,
          -1.3488321998603487,
          0.9348030875542376,
          -0.5530946341539287,
          0.708339786978607,
          1.3589273059294322,
          0.6042100092089738,
          -0.018519711780514307,
          -0.8497345423017969,
          0.25930721389934425,
          0.6570749338815411,
          0.12722479020271082,
          0.5981116642723051,
          1.1087139573109894,
          0.4335456958746609,
          -0.4986020130951775,
          0.16019426329620462,
          1.0956079098556886,
          2.1781844015324,
          0.38743513688648556,
          0.23232445913149288,
          -0.02225732068587582,
          1.240721487888421,
          0.8348794737172368,
          0.49131381569131605,
          -2.465460913038345,
          -1.4128691396273751,
          0.45471027773277545,
          0.2366496229800066,
          -0.8443631136799993,
          -1.5050581382231454,
          -0.3489519058130828,
          -0.09252638339915405,
          0.4622723828835006,
          -1.0832375330785835,
          -0.172975234005294,
          1.0525870174915173,
          -0.0605350567014285,
          0.7431366307343629,
          -0.32259824462116854,
          0.46655615372559767,
          -0.8766531102031185,
          -0.25067319773196817,
          1.9220011649797581,
          -0.8995754398187623,
          -0.09723736864284754,
          0.13632410802735093,
          -0.2645397703087663,
          0.5956787521414239,
          -0.16086207093244567,
          0.3919638756805205,
          1.6431864559841054,
          0.500292502469693,
          -2.2982921012198525,
          0.7040176660035111,
          0.5779821463206176,
          0.37819996172214365,
          0.2468873010137249,
          0.7112664646179129,
          -1.8315612256428866,
          -0.8926722024059833,
          -2.2000637729889774,
          -0.1347498116867438,
          0.418059595878196,
          -0.21752058196722435,
          0.25604934393242434,
          1.0349299221152255
         ],
         "yaxis": "y2"
        },
        {
         "line": {
          "color": "rgba(128, 128, 128, 1.0)",
          "dash": "solid",
          "shape": "linear",
          "width": 1.3
         },
         "marker": {
          "size": 2,
          "symbol": "circle"
         },
         "mode": "markers",
         "name": "A",
         "text": "",
         "type": "scatter",
         "x": [
          -1.6637658403871858,
          -0.657694686649294,
          1.3059715178359503,
          -0.3149914691862647,
          -0.19740147661311008,
          -0.7262569294732033,
          -0.3723489729197542,
          -0.6218029304938382,
          1.2635332476692993,
          0.33355540120598637,
          0.8648963919743383,
          0.3866360975707411,
          0.3155953078310076,
          0.18153871384542808,
          0.38243747455230664,
          1.3018507017779704,
          -1.6493392399381743,
          0.1435498441794928,
          -0.33487382215636274,
          0.5974699883650271,
          -1.121250409459856,
          -0.3299784112379456,
          0.6300607469165224,
          -0.021874398113414493,
          -1.140421242973153,
          -0.8342853458804352,
          -0.46687658894650796,
          -0.12006718098128669,
          0.001794795971967873,
          2.2334745742355744,
          -0.45532941432740776,
          0.45369589492365353,
          0.5715742551648502,
          0.12999205451536372,
          0.9798427403913135,
          -1.1013854499947524,
          0.7451227517265764,
          -0.16558731642780355,
          -0.7578513959831613,
          0.23148677932941697,
          0.05291433736418039,
          0.14120620024153313,
          -0.890361671499394,
          -0.5828256100210454,
          -0.26662291596413,
          0.12680816802050154,
          -0.7996736330653782,
          0.2829032455605437,
          0.38365787558487613,
          0.722823574532583,
          0.9864283730373686,
          0.7167756493371129,
          0.7986176751538434,
          -0.26357220490136485,
          0.5832744365822795,
          -0.39725346676339407,
          -0.2848428532723495,
          -1.062948231189015,
          0.10343690022589565,
          -0.5260241153573986,
          -0.04513586070032704,
          0.1568763359759615,
          -2.4793109380293026,
          -1.7262919520054156,
          -0.28309215653608133,
          -1.4292441498466897,
          -0.49299508967169486,
          1.4690306914515092,
          -0.3720244126792224,
          0.8530079426187204,
          0.23232697689398335,
          0.2232915630510586,
          1.333059407449093,
          0.4204088652819113,
          0.2728601828302727,
          -1.5002908429312536,
          -0.03679699218171279,
          1.03150319088492,
          -0.5333704521533563,
          -0.2241921679973938,
          -0.1348245531798344,
          1.4790065301549309,
          -0.21286254648898834,
          -1.1138480435184028,
          -0.2871485553416153,
          -0.38214607242128873,
          0.03953002115077242,
          -0.8995192117977602,
          0.5898544614973151,
          -1.1280270782243411,
          -1.0017202034219947,
          1.334528050829268,
          0.2302117795420704,
          2.2917553919395877,
          0.38535825261604134,
          0.4409141875158465,
          -0.8982601958634147,
          1.456441925363782,
          -0.7066633678271631,
          0.491245841413864
         ],
         "xaxis": "x3",
         "y": [
          0.24588717410753003,
          -1.5443326651682237,
          -0.7892940576313485,
          -0.7521408949768861,
          -0.4796778753536114,
          -0.038090741190589895,
          -1.2936477357446499,
          -2.723420833634864,
          1.9086517655499613,
          0.4087252992968224,
          -2.5161479197724548,
          0.5467932638969071,
          0.7522566966657753,
          -0.5375211691145616,
          -0.5575175182237166,
          0.6909421933307822,
          1.4178037665917353,
          -1.3189638698222304,
          0.38135037719477854,
          -0.8975045777020152,
          1.5990034926885215,
          0.7513798196549333,
          -2.7246607309103466,
          0.009181632602803554,
          -0.7199645224339926,
          1.0159431349247343,
          0.35555691751734403,
          0.5133793537990036,
          -0.7898146830454974,
          0.145975409251844,
          0.7290500746987666,
          -0.03207417260027835,
          0.5758332689076748,
          -0.7309258513953879,
          -1.3488321998603487,
          0.9348030875542376,
          -0.5530946341539287,
          0.708339786978607,
          1.3589273059294322,
          0.6042100092089738,
          -0.018519711780514307,
          -0.8497345423017969,
          0.25930721389934425,
          0.6570749338815411,
          0.12722479020271082,
          0.5981116642723051,
          1.1087139573109894,
          0.4335456958746609,
          -0.4986020130951775,
          0.16019426329620462,
          1.0956079098556886,
          2.1781844015324,
          0.38743513688648556,
          0.23232445913149288,
          -0.02225732068587582,
          1.240721487888421,
          0.8348794737172368,
          0.49131381569131605,
          -2.465460913038345,
          -1.4128691396273751,
          0.45471027773277545,
          0.2366496229800066,
          -0.8443631136799993,
          -1.5050581382231454,
          -0.3489519058130828,
          -0.09252638339915405,
          0.4622723828835006,
          -1.0832375330785835,
          -0.172975234005294,
          1.0525870174915173,
          -0.0605350567014285,
          0.7431366307343629,
          -0.32259824462116854,
          0.46655615372559767,
          -0.8766531102031185,
          -0.25067319773196817,
          1.9220011649797581,
          -0.8995754398187623,
          -0.09723736864284754,
          0.13632410802735093,
          -0.2645397703087663,
          0.5956787521414239,
          -0.16086207093244567,
          0.3919638756805205,
          1.6431864559841054,
          0.500292502469693,
          -2.2982921012198525,
          0.7040176660035111,
          0.5779821463206176,
          0.37819996172214365,
          0.2468873010137249,
          0.7112664646179129,
          -1.8315612256428866,
          -0.8926722024059833,
          -2.2000637729889774,
          -0.1347498116867438,
          0.418059595878196,
          -0.21752058196722435,
          0.25604934393242434,
          1.0349299221152255
         ],
         "yaxis": "y3"
        },
        {
         "line": {
          "color": "rgba(128, 128, 128, 1.0)",
          "dash": "solid",
          "shape": "linear",
          "width": 1.3
         },
         "marker": {
          "size": 2,
          "symbol": "circle"
         },
         "mode": "markers",
         "name": "A",
         "text": "",
         "type": "scatter",
         "x": [
          0.36658334448611524,
          0.19845076220323576,
          -0.5651712027994558,
          2.193577866173761,
          1.5149948785886453,
          1.6733520741671735,
          -1.1725004239501247,
          -1.1707014405700813,
          1.2359990662291649,
          0.19842120481922254,
          0.7330485339994786,
          -0.8693083595099061,
          -0.5270413468799706,
          -1.354218913431506,
          -1.7685244077435833,
          -0.260314589462929,
          0.30282326692474354,
          -0.2717067829910568,
          -1.2150409383619503,
          -0.2555709607571646,
          -0.05124075636918029,
          1.8852519764268754,
          -1.601286850490827,
          1.54072258436688,
          0.3571339450518127,
          0.10175361194820905,
          1.7010011270831262,
          -0.8075249021394392,
          0.9985264405480407,
          2.3909015128456126,
          -1.818944665442849,
          1.0942605179660203,
          0.5607010732335282,
          1.3624184981034404,
          1.780995774836401,
          1.7423040886955967,
          0.39364260342716445,
          -1.2904760393544574,
          0.45070832653871207,
          -0.10771508015659297,
          -0.2943301168013902,
          0.3932242030301506,
          1.0848668371554122,
          0.1368611776492048,
          0.8202827429670868,
          -0.2923089363193607,
          -1.4450748380215312,
          -1.4431674879988077,
          0.9415490019443867,
          -0.48920417409841094,
          -0.6914636868574582,
          -0.3481772958397043,
          1.0403129130513384,
          1.5073119731677258,
          -0.04448455581151121,
          -1.4162702853379443,
          1.6775212313123686,
          0.9680065391411762,
          -1.059446987989666,
          -0.3633843198121292,
          0.10456297098003199,
          1.0742443032168776,
          0.14146271989491305,
          0.29668491474159064,
          0.16422150420802972,
          -0.7101348857676307,
          -0.33599711095820306,
          -1.1118327374975754,
          -1.5426044057465307,
          -1.0698524813724384,
          -1.6008550676497943,
          0.4258535835859018,
          -0.8565382307789904,
          -0.3344250668125585,
          -0.3245812261322852,
          0.869651399432386,
          1.5324236508167144,
          -1.0979129972793518,
          0.8837655330739056,
          -1.4834538691705255,
          0.2984133034622976,
          0.9226592844372362,
          0.4472688467531478,
          -0.19016849747466189,
          -0.40828103650485137,
          2.521920124778835,
          -0.5723942629924068,
          0.36807494520995543,
          -0.9663822982751383,
          -0.5784278949305642,
          -0.9298529129033023,
          -2.1240941747407684,
          0.23853420572339354,
          1.0258151572359666,
          0.9330593686088765,
          0.09828079449549484,
          0.19886478752367762,
          -0.5353917624257729,
          0.47265665142232643,
          -1.3887969384841345
         ],
         "xaxis": "x4",
         "y": [
          0.24588717410753003,
          -1.5443326651682237,
          -0.7892940576313485,
          -0.7521408949768861,
          -0.4796778753536114,
          -0.038090741190589895,
          -1.2936477357446499,
          -2.723420833634864,
          1.9086517655499613,
          0.4087252992968224,
          -2.5161479197724548,
          0.5467932638969071,
          0.7522566966657753,
          -0.5375211691145616,
          -0.5575175182237166,
          0.6909421933307822,
          1.4178037665917353,
          -1.3189638698222304,
          0.38135037719477854,
          -0.8975045777020152,
          1.5990034926885215,
          0.7513798196549333,
          -2.7246607309103466,
          0.009181632602803554,
          -0.7199645224339926,
          1.0159431349247343,
          0.35555691751734403,
          0.5133793537990036,
          -0.7898146830454974,
          0.145975409251844,
          0.7290500746987666,
          -0.03207417260027835,
          0.5758332689076748,
          -0.7309258513953879,
          -1.3488321998603487,
          0.9348030875542376,
          -0.5530946341539287,
          0.708339786978607,
          1.3589273059294322,
          0.6042100092089738,
          -0.018519711780514307,
          -0.8497345423017969,
          0.25930721389934425,
          0.6570749338815411,
          0.12722479020271082,
          0.5981116642723051,
          1.1087139573109894,
          0.4335456958746609,
          -0.4986020130951775,
          0.16019426329620462,
          1.0956079098556886,
          2.1781844015324,
          0.38743513688648556,
          0.23232445913149288,
          -0.02225732068587582,
          1.240721487888421,
          0.8348794737172368,
          0.49131381569131605,
          -2.465460913038345,
          -1.4128691396273751,
          0.45471027773277545,
          0.2366496229800066,
          -0.8443631136799993,
          -1.5050581382231454,
          -0.3489519058130828,
          -0.09252638339915405,
          0.4622723828835006,
          -1.0832375330785835,
          -0.172975234005294,
          1.0525870174915173,
          -0.0605350567014285,
          0.7431366307343629,
          -0.32259824462116854,
          0.46655615372559767,
          -0.8766531102031185,
          -0.25067319773196817,
          1.9220011649797581,
          -0.8995754398187623,
          -0.09723736864284754,
          0.13632410802735093,
          -0.2645397703087663,
          0.5956787521414239,
          -0.16086207093244567,
          0.3919638756805205,
          1.6431864559841054,
          0.500292502469693,
          -2.2982921012198525,
          0.7040176660035111,
          0.5779821463206176,
          0.37819996172214365,
          0.2468873010137249,
          0.7112664646179129,
          -1.8315612256428866,
          -0.8926722024059833,
          -2.2000637729889774,
          -0.1347498116867438,
          0.418059595878196,
          -0.21752058196722435,
          0.25604934393242434,
          1.0349299221152255
         ],
         "yaxis": "y4"
        },
        {
         "line": {
          "color": "rgba(128, 128, 128, 1.0)",
          "dash": "solid",
          "shape": "linear",
          "width": 1.3
         },
         "marker": {
          "size": 2,
          "symbol": "circle"
         },
         "mode": "markers",
         "name": "B",
         "text": "",
         "type": "scatter",
         "x": [
          0.24588717410753003,
          -1.5443326651682237,
          -0.7892940576313485,
          -0.7521408949768861,
          -0.4796778753536114,
          -0.038090741190589895,
          -1.2936477357446499,
          -2.723420833634864,
          1.9086517655499613,
          0.4087252992968224,
          -2.5161479197724548,
          0.5467932638969071,
          0.7522566966657753,
          -0.5375211691145616,
          -0.5575175182237166,
          0.6909421933307822,
          1.4178037665917353,
          -1.3189638698222304,
          0.38135037719477854,
          -0.8975045777020152,
          1.5990034926885215,
          0.7513798196549333,
          -2.7246607309103466,
          0.009181632602803554,
          -0.7199645224339926,
          1.0159431349247343,
          0.35555691751734403,
          0.5133793537990036,
          -0.7898146830454974,
          0.145975409251844,
          0.7290500746987666,
          -0.03207417260027835,
          0.5758332689076748,
          -0.7309258513953879,
          -1.3488321998603487,
          0.9348030875542376,
          -0.5530946341539287,
          0.708339786978607,
          1.3589273059294322,
          0.6042100092089738,
          -0.018519711780514307,
          -0.8497345423017969,
          0.25930721389934425,
          0.6570749338815411,
          0.12722479020271082,
          0.5981116642723051,
          1.1087139573109894,
          0.4335456958746609,
          -0.4986020130951775,
          0.16019426329620462,
          1.0956079098556886,
          2.1781844015324,
          0.38743513688648556,
          0.23232445913149288,
          -0.02225732068587582,
          1.240721487888421,
          0.8348794737172368,
          0.49131381569131605,
          -2.465460913038345,
          -1.4128691396273751,
          0.45471027773277545,
          0.2366496229800066,
          -0.8443631136799993,
          -1.5050581382231454,
          -0.3489519058130828,
          -0.09252638339915405,
          0.4622723828835006,
          -1.0832375330785835,
          -0.172975234005294,
          1.0525870174915173,
          -0.0605350567014285,
          0.7431366307343629,
          -0.32259824462116854,
          0.46655615372559767,
          -0.8766531102031185,
          -0.25067319773196817,
          1.9220011649797581,
          -0.8995754398187623,
          -0.09723736864284754,
          0.13632410802735093,
          -0.2645397703087663,
          0.5956787521414239,
          -0.16086207093244567,
          0.3919638756805205,
          1.6431864559841054,
          0.500292502469693,
          -2.2982921012198525,
          0.7040176660035111,
          0.5779821463206176,
          0.37819996172214365,
          0.2468873010137249,
          0.7112664646179129,
          -1.8315612256428866,
          -0.8926722024059833,
          -2.2000637729889774,
          -0.1347498116867438,
          0.418059595878196,
          -0.21752058196722435,
          0.25604934393242434,
          1.0349299221152255
         ],
         "xaxis": "x5",
         "y": [
          0.17890934769892103,
          -0.033123808583366866,
          -1.7822064108916256,
          -0.5373491252336633,
          -1.4571186682282393,
          -1.4078878238560042,
          -1.2674356310721624,
          2.019550830934474,
          -0.4888330588658283,
          0.13141884905230608,
          -0.9312556526036885,
          -0.007754038998178534,
          2.435535100927038,
          0.7079881733133355,
          0.31467573359242035,
          1.1926023566358455,
          -0.06993966578389549,
          1.3105124782278086,
          -1.791805838390315,
          0.786940457459193,
          1.392374807377714,
          0.18685037333581317,
          0.5159651139015339,
          -1.3788427841040845,
          0.4481570242827706,
          -0.23192149556047384,
          -1.793900944752704,
          -0.6503177928618666,
          -1.2523592184401433,
          0.9397745472901148,
          -1.2140853902232587,
          1.3536707221874327,
          -2.2065900699338212,
          -0.2597360149080525,
          -1.4231111759501243,
          1.3997148101941983,
          -0.8711159875276375,
          0.1535439165088105,
          0.6223667974799626,
          -0.5428449527751454,
          -0.40790956932452943,
          -0.74095035588002,
          1.180243228006508,
          -1.2246704095828187,
          0.5104837648637698,
          0.45166433234461617,
          0.021824417646521932,
          -0.1199772823884989,
          -0.6313062350478947,
          0.8962458311228109,
          0.8459257422214808,
          0.40390475120466934,
          -0.7075908392741708,
          1.6564340845542072,
          0.5361952772128227,
          -0.07758458280582371,
          1.2853799260053234,
          -0.7655843186082435,
          -0.47497301247656126,
          -1.1259800726037426,
          0.19101899430261973,
          -1.827357574298033,
          -2.2013084050446086,
          0.9194612052082188,
          0.13767551508349066,
          -1.474381924958377,
          -0.8835121299482696,
          0.15730940685310918,
          0.22846581412701608,
          0.7715085536815187,
          -1.1394219297866262,
          0.15117704785432218,
          -0.5729191210052296,
          0.8201939049808525,
          0.1915501286014221,
          -0.6403217290879047,
          0.6696931832935046,
          0.5515620084580015,
          -0.44800211781238813,
          0.5496148064169799,
          -0.33023177959341304,
          -0.3405279676130839,
          1.9117164440223209,
          0.27499941131265915,
          0.48223764210266046,
          0.6010465347356609,
          0.3359623795070407,
          0.8393356310861901,
          -1.1715806085723153,
          0.3231670247779722,
          0.23374619998387358,
          1.206861746979094,
          -0.6443967282087286,
          1.9062966496430345,
          2.189933048739878,
          -0.01675318476017029,
          -0.014711562140090341,
          0.7294260989680877,
          -1.4051167130267577,
          1.7692353305949258
         ],
         "yaxis": "y5"
        },
        {
         "histfunc": "count",
         "histnorm": "",
         "marker": {
          "color": "rgba(55, 128, 191, 1.0)",
          "line": {
           "color": "#4D5663",
           "width": 1.3
          }
         },
         "name": "B",
         "nbinsx": 10,
         "opacity": 0.8,
         "orientation": "v",
         "type": "histogram",
         "x": [
          0.17890934769892103,
          -0.033123808583366866,
          -1.7822064108916256,
          -0.5373491252336633,
          -1.4571186682282393,
          -1.4078878238560042,
          -1.2674356310721624,
          2.019550830934474,
          -0.4888330588658283,
          0.13141884905230608,
          -0.9312556526036885,
          -0.007754038998178534,
          2.435535100927038,
          0.7079881733133355,
          0.31467573359242035,
          1.1926023566358455,
          -0.06993966578389549,
          1.3105124782278086,
          -1.791805838390315,
          0.786940457459193,
          1.392374807377714,
          0.18685037333581317,
          0.5159651139015339,
          -1.3788427841040845,
          0.4481570242827706,
          -0.23192149556047384,
          -1.793900944752704,
          -0.6503177928618666,
          -1.2523592184401433,
          0.9397745472901148,
          -1.2140853902232587,
          1.3536707221874327,
          -2.2065900699338212,
          -0.2597360149080525,
          -1.4231111759501243,
          1.3997148101941983,
          -0.8711159875276375,
          0.1535439165088105,
          0.6223667974799626,
          -0.5428449527751454,
          -0.40790956932452943,
          -0.74095035588002,
          1.180243228006508,
          -1.2246704095828187,
          0.5104837648637698,
          0.45166433234461617,
          0.021824417646521932,
          -0.1199772823884989,
          -0.6313062350478947,
          0.8962458311228109,
          0.8459257422214808,
          0.40390475120466934,
          -0.7075908392741708,
          1.6564340845542072,
          0.5361952772128227,
          -0.07758458280582371,
          1.2853799260053234,
          -0.7655843186082435,
          -0.47497301247656126,
          -1.1259800726037426,
          0.19101899430261973,
          -1.827357574298033,
          -2.2013084050446086,
          0.9194612052082188,
          0.13767551508349066,
          -1.474381924958377,
          -0.8835121299482696,
          0.15730940685310918,
          0.22846581412701608,
          0.7715085536815187,
          -1.1394219297866262,
          0.15117704785432218,
          -0.5729191210052296,
          0.8201939049808525,
          0.1915501286014221,
          -0.6403217290879047,
          0.6696931832935046,
          0.5515620084580015,
          -0.44800211781238813,
          0.5496148064169799,
          -0.33023177959341304,
          -0.3405279676130839,
          1.9117164440223209,
          0.27499941131265915,
          0.48223764210266046,
          0.6010465347356609,
          0.3359623795070407,
          0.8393356310861901,
          -1.1715806085723153,
          0.3231670247779722,
          0.23374619998387358,
          1.206861746979094,
          -0.6443967282087286,
          1.9062966496430345,
          2.189933048739878,
          -0.01675318476017029,
          -0.014711562140090341,
          0.7294260989680877,
          -1.4051167130267577,
          1.7692353305949258
         ],
         "xaxis": "x6",
         "yaxis": "y6"
        },
        {
         "line": {
          "color": "rgba(128, 128, 128, 1.0)",
          "dash": "solid",
          "shape": "linear",
          "width": 1.3
         },
         "marker": {
          "size": 2,
          "symbol": "circle"
         },
         "mode": "markers",
         "name": "B",
         "text": "",
         "type": "scatter",
         "x": [
          -1.6637658403871858,
          -0.657694686649294,
          1.3059715178359503,
          -0.3149914691862647,
          -0.19740147661311008,
          -0.7262569294732033,
          -0.3723489729197542,
          -0.6218029304938382,
          1.2635332476692993,
          0.33355540120598637,
          0.8648963919743383,
          0.3866360975707411,
          0.3155953078310076,
          0.18153871384542808,
          0.38243747455230664,
          1.3018507017779704,
          -1.6493392399381743,
          0.1435498441794928,
          -0.33487382215636274,
          0.5974699883650271,
          -1.121250409459856,
          -0.3299784112379456,
          0.6300607469165224,
          -0.021874398113414493,
          -1.140421242973153,
          -0.8342853458804352,
          -0.46687658894650796,
          -0.12006718098128669,
          0.001794795971967873,
          2.2334745742355744,
          -0.45532941432740776,
          0.45369589492365353,
          0.5715742551648502,
          0.12999205451536372,
          0.9798427403913135,
          -1.1013854499947524,
          0.7451227517265764,
          -0.16558731642780355,
          -0.7578513959831613,
          0.23148677932941697,
          0.05291433736418039,
          0.14120620024153313,
          -0.890361671499394,
          -0.5828256100210454,
          -0.26662291596413,
          0.12680816802050154,
          -0.7996736330653782,
          0.2829032455605437,
          0.38365787558487613,
          0.722823574532583,
          0.9864283730373686,
          0.7167756493371129,
          0.7986176751538434,
          -0.26357220490136485,
          0.5832744365822795,
          -0.39725346676339407,
          -0.2848428532723495,
          -1.062948231189015,
          0.10343690022589565,
          -0.5260241153573986,
          -0.04513586070032704,
          0.1568763359759615,
          -2.4793109380293026,
          -1.7262919520054156,
          -0.28309215653608133,
          -1.4292441498466897,
          -0.49299508967169486,
          1.4690306914515092,
          -0.3720244126792224,
          0.8530079426187204,
          0.23232697689398335,
          0.2232915630510586,
          1.333059407449093,
          0.4204088652819113,
          0.2728601828302727,
          -1.5002908429312536,
          -0.03679699218171279,
          1.03150319088492,
          -0.5333704521533563,
          -0.2241921679973938,
          -0.1348245531798344,
          1.4790065301549309,
          -0.21286254648898834,
          -1.1138480435184028,
          -0.2871485553416153,
          -0.38214607242128873,
          0.03953002115077242,
          -0.8995192117977602,
          0.5898544614973151,
          -1.1280270782243411,
          -1.0017202034219947,
          1.334528050829268,
          0.2302117795420704,
          2.2917553919395877,
          0.38535825261604134,
          0.4409141875158465,
          -0.8982601958634147,
          1.456441925363782,
          -0.7066633678271631,
          0.491245841413864
         ],
         "xaxis": "x7",
         "y": [
          0.17890934769892103,
          -0.033123808583366866,
          -1.7822064108916256,
          -0.5373491252336633,
          -1.4571186682282393,
          -1.4078878238560042,
          -1.2674356310721624,
          2.019550830934474,
          -0.4888330588658283,
          0.13141884905230608,
          -0.9312556526036885,
          -0.007754038998178534,
          2.435535100927038,
          0.7079881733133355,
          0.31467573359242035,
          1.1926023566358455,
          -0.06993966578389549,
          1.3105124782278086,
          -1.791805838390315,
          0.786940457459193,
          1.392374807377714,
          0.18685037333581317,
          0.5159651139015339,
          -1.3788427841040845,
          0.4481570242827706,
          -0.23192149556047384,
          -1.793900944752704,
          -0.6503177928618666,
          -1.2523592184401433,
          0.9397745472901148,
          -1.2140853902232587,
          1.3536707221874327,
          -2.2065900699338212,
          -0.2597360149080525,
          -1.4231111759501243,
          1.3997148101941983,
          -0.8711159875276375,
          0.1535439165088105,
          0.6223667974799626,
          -0.5428449527751454,
          -0.40790956932452943,
          -0.74095035588002,
          1.180243228006508,
          -1.2246704095828187,
          0.5104837648637698,
          0.45166433234461617,
          0.021824417646521932,
          -0.1199772823884989,
          -0.6313062350478947,
          0.8962458311228109,
          0.8459257422214808,
          0.40390475120466934,
          -0.7075908392741708,
          1.6564340845542072,
          0.5361952772128227,
          -0.07758458280582371,
          1.2853799260053234,
          -0.7655843186082435,
          -0.47497301247656126,
          -1.1259800726037426,
          0.19101899430261973,
          -1.827357574298033,
          -2.2013084050446086,
          0.9194612052082188,
          0.13767551508349066,
          -1.474381924958377,
          -0.8835121299482696,
          0.15730940685310918,
          0.22846581412701608,
          0.7715085536815187,
          -1.1394219297866262,
          0.15117704785432218,
          -0.5729191210052296,
          0.8201939049808525,
          0.1915501286014221,
          -0.6403217290879047,
          0.6696931832935046,
          0.5515620084580015,
          -0.44800211781238813,
          0.5496148064169799,
          -0.33023177959341304,
          -0.3405279676130839,
          1.9117164440223209,
          0.27499941131265915,
          0.48223764210266046,
          0.6010465347356609,
          0.3359623795070407,
          0.8393356310861901,
          -1.1715806085723153,
          0.3231670247779722,
          0.23374619998387358,
          1.206861746979094,
          -0.6443967282087286,
          1.9062966496430345,
          2.189933048739878,
          -0.01675318476017029,
          -0.014711562140090341,
          0.7294260989680877,
          -1.4051167130267577,
          1.7692353305949258
         ],
         "yaxis": "y7"
        },
        {
         "line": {
          "color": "rgba(128, 128, 128, 1.0)",
          "dash": "solid",
          "shape": "linear",
          "width": 1.3
         },
         "marker": {
          "size": 2,
          "symbol": "circle"
         },
         "mode": "markers",
         "name": "B",
         "text": "",
         "type": "scatter",
         "x": [
          0.36658334448611524,
          0.19845076220323576,
          -0.5651712027994558,
          2.193577866173761,
          1.5149948785886453,
          1.6733520741671735,
          -1.1725004239501247,
          -1.1707014405700813,
          1.2359990662291649,
          0.19842120481922254,
          0.7330485339994786,
          -0.8693083595099061,
          -0.5270413468799706,
          -1.354218913431506,
          -1.7685244077435833,
          -0.260314589462929,
          0.30282326692474354,
          -0.2717067829910568,
          -1.2150409383619503,
          -0.2555709607571646,
          -0.05124075636918029,
          1.8852519764268754,
          -1.601286850490827,
          1.54072258436688,
          0.3571339450518127,
          0.10175361194820905,
          1.7010011270831262,
          -0.8075249021394392,
          0.9985264405480407,
          2.3909015128456126,
          -1.818944665442849,
          1.0942605179660203,
          0.5607010732335282,
          1.3624184981034404,
          1.780995774836401,
          1.7423040886955967,
          0.39364260342716445,
          -1.2904760393544574,
          0.45070832653871207,
          -0.10771508015659297,
          -0.2943301168013902,
          0.3932242030301506,
          1.0848668371554122,
          0.1368611776492048,
          0.8202827429670868,
          -0.2923089363193607,
          -1.4450748380215312,
          -1.4431674879988077,
          0.9415490019443867,
          -0.48920417409841094,
          -0.6914636868574582,
          -0.3481772958397043,
          1.0403129130513384,
          1.5073119731677258,
          -0.04448455581151121,
          -1.4162702853379443,
          1.6775212313123686,
          0.9680065391411762,
          -1.059446987989666,
          -0.3633843198121292,
          0.10456297098003199,
          1.0742443032168776,
          0.14146271989491305,
          0.29668491474159064,
          0.16422150420802972,
          -0.7101348857676307,
          -0.33599711095820306,
          -1.1118327374975754,
          -1.5426044057465307,
          -1.0698524813724384,
          -1.6008550676497943,
          0.4258535835859018,
          -0.8565382307789904,
          -0.3344250668125585,
          -0.3245812261322852,
          0.869651399432386,
          1.5324236508167144,
          -1.0979129972793518,
          0.8837655330739056,
          -1.4834538691705255,
          0.2984133034622976,
          0.9226592844372362,
          0.4472688467531478,
          -0.19016849747466189,
          -0.40828103650485137,
          2.521920124778835,
          -0.5723942629924068,
          0.36807494520995543,
          -0.9663822982751383,
          -0.5784278949305642,
          -0.9298529129033023,
          -2.1240941747407684,
          0.23853420572339354,
          1.0258151572359666,
          0.9330593686088765,
          0.09828079449549484,
          0.19886478752367762,
          -0.5353917624257729,
          0.47265665142232643,
          -1.3887969384841345
         ],
         "xaxis": "x8",
         "y": [
          0.17890934769892103,
          -0.033123808583366866,
          -1.7822064108916256,
          -0.5373491252336633,
          -1.4571186682282393,
          -1.4078878238560042,
          -1.2674356310721624,
          2.019550830934474,
          -0.4888330588658283,
          0.13141884905230608,
          -0.9312556526036885,
          -0.007754038998178534,
          2.435535100927038,
          0.7079881733133355,
          0.31467573359242035,
          1.1926023566358455,
          -0.06993966578389549,
          1.3105124782278086,
          -1.791805838390315,
          0.786940457459193,
          1.392374807377714,
          0.18685037333581317,
          0.5159651139015339,
          -1.3788427841040845,
          0.4481570242827706,
          -0.23192149556047384,
          -1.793900944752704,
          -0.6503177928618666,
          -1.2523592184401433,
          0.9397745472901148,
          -1.2140853902232587,
          1.3536707221874327,
          -2.2065900699338212,
          -0.2597360149080525,
          -1.4231111759501243,
          1.3997148101941983,
          -0.8711159875276375,
          0.1535439165088105,
          0.6223667974799626,
          -0.5428449527751454,
          -0.40790956932452943,
          -0.74095035588002,
          1.180243228006508,
          -1.2246704095828187,
          0.5104837648637698,
          0.45166433234461617,
          0.021824417646521932,
          -0.1199772823884989,
          -0.6313062350478947,
          0.8962458311228109,
          0.8459257422214808,
          0.40390475120466934,
          -0.7075908392741708,
          1.6564340845542072,
          0.5361952772128227,
          -0.07758458280582371,
          1.2853799260053234,
          -0.7655843186082435,
          -0.47497301247656126,
          -1.1259800726037426,
          0.19101899430261973,
          -1.827357574298033,
          -2.2013084050446086,
          0.9194612052082188,
          0.13767551508349066,
          -1.474381924958377,
          -0.8835121299482696,
          0.15730940685310918,
          0.22846581412701608,
          0.7715085536815187,
          -1.1394219297866262,
          0.15117704785432218,
          -0.5729191210052296,
          0.8201939049808525,
          0.1915501286014221,
          -0.6403217290879047,
          0.6696931832935046,
          0.5515620084580015,
          -0.44800211781238813,
          0.5496148064169799,
          -0.33023177959341304,
          -0.3405279676130839,
          1.9117164440223209,
          0.27499941131265915,
          0.48223764210266046,
          0.6010465347356609,
          0.3359623795070407,
          0.8393356310861901,
          -1.1715806085723153,
          0.3231670247779722,
          0.23374619998387358,
          1.206861746979094,
          -0.6443967282087286,
          1.9062966496430345,
          2.189933048739878,
          -0.01675318476017029,
          -0.014711562140090341,
          0.7294260989680877,
          -1.4051167130267577,
          1.7692353305949258
         ],
         "yaxis": "y8"
        },
        {
         "line": {
          "color": "rgba(128, 128, 128, 1.0)",
          "dash": "solid",
          "shape": "linear",
          "width": 1.3
         },
         "marker": {
          "size": 2,
          "symbol": "circle"
         },
         "mode": "markers",
         "name": "C",
         "text": "",
         "type": "scatter",
         "x": [
          0.24588717410753003,
          -1.5443326651682237,
          -0.7892940576313485,
          -0.7521408949768861,
          -0.4796778753536114,
          -0.038090741190589895,
          -1.2936477357446499,
          -2.723420833634864,
          1.9086517655499613,
          0.4087252992968224,
          -2.5161479197724548,
          0.5467932638969071,
          0.7522566966657753,
          -0.5375211691145616,
          -0.5575175182237166,
          0.6909421933307822,
          1.4178037665917353,
          -1.3189638698222304,
          0.38135037719477854,
          -0.8975045777020152,
          1.5990034926885215,
          0.7513798196549333,
          -2.7246607309103466,
          0.009181632602803554,
          -0.7199645224339926,
          1.0159431349247343,
          0.35555691751734403,
          0.5133793537990036,
          -0.7898146830454974,
          0.145975409251844,
          0.7290500746987666,
          -0.03207417260027835,
          0.5758332689076748,
          -0.7309258513953879,
          -1.3488321998603487,
          0.9348030875542376,
          -0.5530946341539287,
          0.708339786978607,
          1.3589273059294322,
          0.6042100092089738,
          -0.018519711780514307,
          -0.8497345423017969,
          0.25930721389934425,
          0.6570749338815411,
          0.12722479020271082,
          0.5981116642723051,
          1.1087139573109894,
          0.4335456958746609,
          -0.4986020130951775,
          0.16019426329620462,
          1.0956079098556886,
          2.1781844015324,
          0.38743513688648556,
          0.23232445913149288,
          -0.02225732068587582,
          1.240721487888421,
          0.8348794737172368,
          0.49131381569131605,
          -2.465460913038345,
          -1.4128691396273751,
          0.45471027773277545,
          0.2366496229800066,
          -0.8443631136799993,
          -1.5050581382231454,
          -0.3489519058130828,
          -0.09252638339915405,
          0.4622723828835006,
          -1.0832375330785835,
          -0.172975234005294,
          1.0525870174915173,
          -0.0605350567014285,
          0.7431366307343629,
          -0.32259824462116854,
          0.46655615372559767,
          -0.8766531102031185,
          -0.25067319773196817,
          1.9220011649797581,
          -0.8995754398187623,
          -0.09723736864284754,
          0.13632410802735093,
          -0.2645397703087663,
          0.5956787521414239,
          -0.16086207093244567,
          0.3919638756805205,
          1.6431864559841054,
          0.500292502469693,
          -2.2982921012198525,
          0.7040176660035111,
          0.5779821463206176,
          0.37819996172214365,
          0.2468873010137249,
          0.7112664646179129,
          -1.8315612256428866,
          -0.8926722024059833,
          -2.2000637729889774,
          -0.1347498116867438,
          0.418059595878196,
          -0.21752058196722435,
          0.25604934393242434,
          1.0349299221152255
         ],
         "xaxis": "x9",
         "y": [
          -1.6637658403871858,
          -0.657694686649294,
          1.3059715178359503,
          -0.3149914691862647,
          -0.19740147661311008,
          -0.7262569294732033,
          -0.3723489729197542,
          -0.6218029304938382,
          1.2635332476692993,
          0.33355540120598637,
          0.8648963919743383,
          0.3866360975707411,
          0.3155953078310076,
          0.18153871384542808,
          0.38243747455230664,
          1.3018507017779704,
          -1.6493392399381743,
          0.1435498441794928,
          -0.33487382215636274,
          0.5974699883650271,
          -1.121250409459856,
          -0.3299784112379456,
          0.6300607469165224,
          -0.021874398113414493,
          -1.140421242973153,
          -0.8342853458804352,
          -0.46687658894650796,
          -0.12006718098128669,
          0.001794795971967873,
          2.2334745742355744,
          -0.45532941432740776,
          0.45369589492365353,
          0.5715742551648502,
          0.12999205451536372,
          0.9798427403913135,
          -1.1013854499947524,
          0.7451227517265764,
          -0.16558731642780355,
          -0.7578513959831613,
          0.23148677932941697,
          0.05291433736418039,
          0.14120620024153313,
          -0.890361671499394,
          -0.5828256100210454,
          -0.26662291596413,
          0.12680816802050154,
          -0.7996736330653782,
          0.2829032455605437,
          0.38365787558487613,
          0.722823574532583,
          0.9864283730373686,
          0.7167756493371129,
          0.7986176751538434,
          -0.26357220490136485,
          0.5832744365822795,
          -0.39725346676339407,
          -0.2848428532723495,
          -1.062948231189015,
          0.10343690022589565,
          -0.5260241153573986,
          -0.04513586070032704,
          0.1568763359759615,
          -2.4793109380293026,
          -1.7262919520054156,
          -0.28309215653608133,
          -1.4292441498466897,
          -0.49299508967169486,
          1.4690306914515092,
          -0.3720244126792224,
          0.8530079426187204,
          0.23232697689398335,
          0.2232915630510586,
          1.333059407449093,
          0.4204088652819113,
          0.2728601828302727,
          -1.5002908429312536,
          -0.03679699218171279,
          1.03150319088492,
          -0.5333704521533563,
          -0.2241921679973938,
          -0.1348245531798344,
          1.4790065301549309,
          -0.21286254648898834,
          -1.1138480435184028,
          -0.2871485553416153,
          -0.38214607242128873,
          0.03953002115077242,
          -0.8995192117977602,
          0.5898544614973151,
          -1.1280270782243411,
          -1.0017202034219947,
          1.334528050829268,
          0.2302117795420704,
          2.2917553919395877,
          0.38535825261604134,
          0.4409141875158465,
          -0.8982601958634147,
          1.456441925363782,
          -0.7066633678271631,
          0.491245841413864
         ],
         "yaxis": "y9"
        },
        {
         "line": {
          "color": "rgba(128, 128, 128, 1.0)",
          "dash": "solid",
          "shape": "linear",
          "width": 1.3
         },
         "marker": {
          "size": 2,
          "symbol": "circle"
         },
         "mode": "markers",
         "name": "C",
         "text": "",
         "type": "scatter",
         "x": [
          0.17890934769892103,
          -0.033123808583366866,
          -1.7822064108916256,
          -0.5373491252336633,
          -1.4571186682282393,
          -1.4078878238560042,
          -1.2674356310721624,
          2.019550830934474,
          -0.4888330588658283,
          0.13141884905230608,
          -0.9312556526036885,
          -0.007754038998178534,
          2.435535100927038,
          0.7079881733133355,
          0.31467573359242035,
          1.1926023566358455,
          -0.06993966578389549,
          1.3105124782278086,
          -1.791805838390315,
          0.786940457459193,
          1.392374807377714,
          0.18685037333581317,
          0.5159651139015339,
          -1.3788427841040845,
          0.4481570242827706,
          -0.23192149556047384,
          -1.793900944752704,
          -0.6503177928618666,
          -1.2523592184401433,
          0.9397745472901148,
          -1.2140853902232587,
          1.3536707221874327,
          -2.2065900699338212,
          -0.2597360149080525,
          -1.4231111759501243,
          1.3997148101941983,
          -0.8711159875276375,
          0.1535439165088105,
          0.6223667974799626,
          -0.5428449527751454,
          -0.40790956932452943,
          -0.74095035588002,
          1.180243228006508,
          -1.2246704095828187,
          0.5104837648637698,
          0.45166433234461617,
          0.021824417646521932,
          -0.1199772823884989,
          -0.6313062350478947,
          0.8962458311228109,
          0.8459257422214808,
          0.40390475120466934,
          -0.7075908392741708,
          1.6564340845542072,
          0.5361952772128227,
          -0.07758458280582371,
          1.2853799260053234,
          -0.7655843186082435,
          -0.47497301247656126,
          -1.1259800726037426,
          0.19101899430261973,
          -1.827357574298033,
          -2.2013084050446086,
          0.9194612052082188,
          0.13767551508349066,
          -1.474381924958377,
          -0.8835121299482696,
          0.15730940685310918,
          0.22846581412701608,
          0.7715085536815187,
          -1.1394219297866262,
          0.15117704785432218,
          -0.5729191210052296,
          0.8201939049808525,
          0.1915501286014221,
          -0.6403217290879047,
          0.6696931832935046,
          0.5515620084580015,
          -0.44800211781238813,
          0.5496148064169799,
          -0.33023177959341304,
          -0.3405279676130839,
          1.9117164440223209,
          0.27499941131265915,
          0.48223764210266046,
          0.6010465347356609,
          0.3359623795070407,
          0.8393356310861901,
          -1.1715806085723153,
          0.3231670247779722,
          0.23374619998387358,
          1.206861746979094,
          -0.6443967282087286,
          1.9062966496430345,
          2.189933048739878,
          -0.01675318476017029,
          -0.014711562140090341,
          0.7294260989680877,
          -1.4051167130267577,
          1.7692353305949258
         ],
         "xaxis": "x10",
         "y": [
          -1.6637658403871858,
          -0.657694686649294,
          1.3059715178359503,
          -0.3149914691862647,
          -0.19740147661311008,
          -0.7262569294732033,
          -0.3723489729197542,
          -0.6218029304938382,
          1.2635332476692993,
          0.33355540120598637,
          0.8648963919743383,
          0.3866360975707411,
          0.3155953078310076,
          0.18153871384542808,
          0.38243747455230664,
          1.3018507017779704,
          -1.6493392399381743,
          0.1435498441794928,
          -0.33487382215636274,
          0.5974699883650271,
          -1.121250409459856,
          -0.3299784112379456,
          0.6300607469165224,
          -0.021874398113414493,
          -1.140421242973153,
          -0.8342853458804352,
          -0.46687658894650796,
          -0.12006718098128669,
          0.001794795971967873,
          2.2334745742355744,
          -0.45532941432740776,
          0.45369589492365353,
          0.5715742551648502,
          0.12999205451536372,
          0.9798427403913135,
          -1.1013854499947524,
          0.7451227517265764,
          -0.16558731642780355,
          -0.7578513959831613,
          0.23148677932941697,
          0.05291433736418039,
          0.14120620024153313,
          -0.890361671499394,
          -0.5828256100210454,
          -0.26662291596413,
          0.12680816802050154,
          -0.7996736330653782,
          0.2829032455605437,
          0.38365787558487613,
          0.722823574532583,
          0.9864283730373686,
          0.7167756493371129,
          0.7986176751538434,
          -0.26357220490136485,
          0.5832744365822795,
          -0.39725346676339407,
          -0.2848428532723495,
          -1.062948231189015,
          0.10343690022589565,
          -0.5260241153573986,
          -0.04513586070032704,
          0.1568763359759615,
          -2.4793109380293026,
          -1.7262919520054156,
          -0.28309215653608133,
          -1.4292441498466897,
          -0.49299508967169486,
          1.4690306914515092,
          -0.3720244126792224,
          0.8530079426187204,
          0.23232697689398335,
          0.2232915630510586,
          1.333059407449093,
          0.4204088652819113,
          0.2728601828302727,
          -1.5002908429312536,
          -0.03679699218171279,
          1.03150319088492,
          -0.5333704521533563,
          -0.2241921679973938,
          -0.1348245531798344,
          1.4790065301549309,
          -0.21286254648898834,
          -1.1138480435184028,
          -0.2871485553416153,
          -0.38214607242128873,
          0.03953002115077242,
          -0.8995192117977602,
          0.5898544614973151,
          -1.1280270782243411,
          -1.0017202034219947,
          1.334528050829268,
          0.2302117795420704,
          2.2917553919395877,
          0.38535825261604134,
          0.4409141875158465,
          -0.8982601958634147,
          1.456441925363782,
          -0.7066633678271631,
          0.491245841413864
         ],
         "yaxis": "y10"
        },
        {
         "histfunc": "count",
         "histnorm": "",
         "marker": {
          "color": "rgba(50, 171, 96, 1.0)",
          "line": {
           "color": "#4D5663",
           "width": 1.3
          }
         },
         "name": "C",
         "nbinsx": 10,
         "opacity": 0.8,
         "orientation": "v",
         "type": "histogram",
         "x": [
          -1.6637658403871858,
          -0.657694686649294,
          1.3059715178359503,
          -0.3149914691862647,
          -0.19740147661311008,
          -0.7262569294732033,
          -0.3723489729197542,
          -0.6218029304938382,
          1.2635332476692993,
          0.33355540120598637,
          0.8648963919743383,
          0.3866360975707411,
          0.3155953078310076,
          0.18153871384542808,
          0.38243747455230664,
          1.3018507017779704,
          -1.6493392399381743,
          0.1435498441794928,
          -0.33487382215636274,
          0.5974699883650271,
          -1.121250409459856,
          -0.3299784112379456,
          0.6300607469165224,
          -0.021874398113414493,
          -1.140421242973153,
          -0.8342853458804352,
          -0.46687658894650796,
          -0.12006718098128669,
          0.001794795971967873,
          2.2334745742355744,
          -0.45532941432740776,
          0.45369589492365353,
          0.5715742551648502,
          0.12999205451536372,
          0.9798427403913135,
          -1.1013854499947524,
          0.7451227517265764,
          -0.16558731642780355,
          -0.7578513959831613,
          0.23148677932941697,
          0.05291433736418039,
          0.14120620024153313,
          -0.890361671499394,
          -0.5828256100210454,
          -0.26662291596413,
          0.12680816802050154,
          -0.7996736330653782,
          0.2829032455605437,
          0.38365787558487613,
          0.722823574532583,
          0.9864283730373686,
          0.7167756493371129,
          0.7986176751538434,
          -0.26357220490136485,
          0.5832744365822795,
          -0.39725346676339407,
          -0.2848428532723495,
          -1.062948231189015,
          0.10343690022589565,
          -0.5260241153573986,
          -0.04513586070032704,
          0.1568763359759615,
          -2.4793109380293026,
          -1.7262919520054156,
          -0.28309215653608133,
          -1.4292441498466897,
          -0.49299508967169486,
          1.4690306914515092,
          -0.3720244126792224,
          0.8530079426187204,
          0.23232697689398335,
          0.2232915630510586,
          1.333059407449093,
          0.4204088652819113,
          0.2728601828302727,
          -1.5002908429312536,
          -0.03679699218171279,
          1.03150319088492,
          -0.5333704521533563,
          -0.2241921679973938,
          -0.1348245531798344,
          1.4790065301549309,
          -0.21286254648898834,
          -1.1138480435184028,
          -0.2871485553416153,
          -0.38214607242128873,
          0.03953002115077242,
          -0.8995192117977602,
          0.5898544614973151,
          -1.1280270782243411,
          -1.0017202034219947,
          1.334528050829268,
          0.2302117795420704,
          2.2917553919395877,
          0.38535825261604134,
          0.4409141875158465,
          -0.8982601958634147,
          1.456441925363782,
          -0.7066633678271631,
          0.491245841413864
         ],
         "xaxis": "x11",
         "yaxis": "y11"
        },
        {
         "line": {
          "color": "rgba(128, 128, 128, 1.0)",
          "dash": "solid",
          "shape": "linear",
          "width": 1.3
         },
         "marker": {
          "size": 2,
          "symbol": "circle"
         },
         "mode": "markers",
         "name": "C",
         "text": "",
         "type": "scatter",
         "x": [
          0.36658334448611524,
          0.19845076220323576,
          -0.5651712027994558,
          2.193577866173761,
          1.5149948785886453,
          1.6733520741671735,
          -1.1725004239501247,
          -1.1707014405700813,
          1.2359990662291649,
          0.19842120481922254,
          0.7330485339994786,
          -0.8693083595099061,
          -0.5270413468799706,
          -1.354218913431506,
          -1.7685244077435833,
          -0.260314589462929,
          0.30282326692474354,
          -0.2717067829910568,
          -1.2150409383619503,
          -0.2555709607571646,
          -0.05124075636918029,
          1.8852519764268754,
          -1.601286850490827,
          1.54072258436688,
          0.3571339450518127,
          0.10175361194820905,
          1.7010011270831262,
          -0.8075249021394392,
          0.9985264405480407,
          2.3909015128456126,
          -1.818944665442849,
          1.0942605179660203,
          0.5607010732335282,
          1.3624184981034404,
          1.780995774836401,
          1.7423040886955967,
          0.39364260342716445,
          -1.2904760393544574,
          0.45070832653871207,
          -0.10771508015659297,
          -0.2943301168013902,
          0.3932242030301506,
          1.0848668371554122,
          0.1368611776492048,
          0.8202827429670868,
          -0.2923089363193607,
          -1.4450748380215312,
          -1.4431674879988077,
          0.9415490019443867,
          -0.48920417409841094,
          -0.6914636868574582,
          -0.3481772958397043,
          1.0403129130513384,
          1.5073119731677258,
          -0.04448455581151121,
          -1.4162702853379443,
          1.6775212313123686,
          0.9680065391411762,
          -1.059446987989666,
          -0.3633843198121292,
          0.10456297098003199,
          1.0742443032168776,
          0.14146271989491305,
          0.29668491474159064,
          0.16422150420802972,
          -0.7101348857676307,
          -0.33599711095820306,
          -1.1118327374975754,
          -1.5426044057465307,
          -1.0698524813724384,
          -1.6008550676497943,
          0.4258535835859018,
          -0.8565382307789904,
          -0.3344250668125585,
          -0.3245812261322852,
          0.869651399432386,
          1.5324236508167144,
          -1.0979129972793518,
          0.8837655330739056,
          -1.4834538691705255,
          0.2984133034622976,
          0.9226592844372362,
          0.4472688467531478,
          -0.19016849747466189,
          -0.40828103650485137,
          2.521920124778835,
          -0.5723942629924068,
          0.36807494520995543,
          -0.9663822982751383,
          -0.5784278949305642,
          -0.9298529129033023,
          -2.1240941747407684,
          0.23853420572339354,
          1.0258151572359666,
          0.9330593686088765,
          0.09828079449549484,
          0.19886478752367762,
          -0.5353917624257729,
          0.47265665142232643,
          -1.3887969384841345
         ],
         "xaxis": "x12",
         "y": [
          -1.6637658403871858,
          -0.657694686649294,
          1.3059715178359503,
          -0.3149914691862647,
          -0.19740147661311008,
          -0.7262569294732033,
          -0.3723489729197542,
          -0.6218029304938382,
          1.2635332476692993,
          0.33355540120598637,
          0.8648963919743383,
          0.3866360975707411,
          0.3155953078310076,
          0.18153871384542808,
          0.38243747455230664,
          1.3018507017779704,
          -1.6493392399381743,
          0.1435498441794928,
          -0.33487382215636274,
          0.5974699883650271,
          -1.121250409459856,
          -0.3299784112379456,
          0.6300607469165224,
          -0.021874398113414493,
          -1.140421242973153,
          -0.8342853458804352,
          -0.46687658894650796,
          -0.12006718098128669,
          0.001794795971967873,
          2.2334745742355744,
          -0.45532941432740776,
          0.45369589492365353,
          0.5715742551648502,
          0.12999205451536372,
          0.9798427403913135,
          -1.1013854499947524,
          0.7451227517265764,
          -0.16558731642780355,
          -0.7578513959831613,
          0.23148677932941697,
          0.05291433736418039,
          0.14120620024153313,
          -0.890361671499394,
          -0.5828256100210454,
          -0.26662291596413,
          0.12680816802050154,
          -0.7996736330653782,
          0.2829032455605437,
          0.38365787558487613,
          0.722823574532583,
          0.9864283730373686,
          0.7167756493371129,
          0.7986176751538434,
          -0.26357220490136485,
          0.5832744365822795,
          -0.39725346676339407,
          -0.2848428532723495,
          -1.062948231189015,
          0.10343690022589565,
          -0.5260241153573986,
          -0.04513586070032704,
          0.1568763359759615,
          -2.4793109380293026,
          -1.7262919520054156,
          -0.28309215653608133,
          -1.4292441498466897,
          -0.49299508967169486,
          1.4690306914515092,
          -0.3720244126792224,
          0.8530079426187204,
          0.23232697689398335,
          0.2232915630510586,
          1.333059407449093,
          0.4204088652819113,
          0.2728601828302727,
          -1.5002908429312536,
          -0.03679699218171279,
          1.03150319088492,
          -0.5333704521533563,
          -0.2241921679973938,
          -0.1348245531798344,
          1.4790065301549309,
          -0.21286254648898834,
          -1.1138480435184028,
          -0.2871485553416153,
          -0.38214607242128873,
          0.03953002115077242,
          -0.8995192117977602,
          0.5898544614973151,
          -1.1280270782243411,
          -1.0017202034219947,
          1.334528050829268,
          0.2302117795420704,
          2.2917553919395877,
          0.38535825261604134,
          0.4409141875158465,
          -0.8982601958634147,
          1.456441925363782,
          -0.7066633678271631,
          0.491245841413864
         ],
         "yaxis": "y12"
        },
        {
         "line": {
          "color": "rgba(128, 128, 128, 1.0)",
          "dash": "solid",
          "shape": "linear",
          "width": 1.3
         },
         "marker": {
          "size": 2,
          "symbol": "circle"
         },
         "mode": "markers",
         "name": "D",
         "text": "",
         "type": "scatter",
         "x": [
          0.24588717410753003,
          -1.5443326651682237,
          -0.7892940576313485,
          -0.7521408949768861,
          -0.4796778753536114,
          -0.038090741190589895,
          -1.2936477357446499,
          -2.723420833634864,
          1.9086517655499613,
          0.4087252992968224,
          -2.5161479197724548,
          0.5467932638969071,
          0.7522566966657753,
          -0.5375211691145616,
          -0.5575175182237166,
          0.6909421933307822,
          1.4178037665917353,
          -1.3189638698222304,
          0.38135037719477854,
          -0.8975045777020152,
          1.5990034926885215,
          0.7513798196549333,
          -2.7246607309103466,
          0.009181632602803554,
          -0.7199645224339926,
          1.0159431349247343,
          0.35555691751734403,
          0.5133793537990036,
          -0.7898146830454974,
          0.145975409251844,
          0.7290500746987666,
          -0.03207417260027835,
          0.5758332689076748,
          -0.7309258513953879,
          -1.3488321998603487,
          0.9348030875542376,
          -0.5530946341539287,
          0.708339786978607,
          1.3589273059294322,
          0.6042100092089738,
          -0.018519711780514307,
          -0.8497345423017969,
          0.25930721389934425,
          0.6570749338815411,
          0.12722479020271082,
          0.5981116642723051,
          1.1087139573109894,
          0.4335456958746609,
          -0.4986020130951775,
          0.16019426329620462,
          1.0956079098556886,
          2.1781844015324,
          0.38743513688648556,
          0.23232445913149288,
          -0.02225732068587582,
          1.240721487888421,
          0.8348794737172368,
          0.49131381569131605,
          -2.465460913038345,
          -1.4128691396273751,
          0.45471027773277545,
          0.2366496229800066,
          -0.8443631136799993,
          -1.5050581382231454,
          -0.3489519058130828,
          -0.09252638339915405,
          0.4622723828835006,
          -1.0832375330785835,
          -0.172975234005294,
          1.0525870174915173,
          -0.0605350567014285,
          0.7431366307343629,
          -0.32259824462116854,
          0.46655615372559767,
          -0.8766531102031185,
          -0.25067319773196817,
          1.9220011649797581,
          -0.8995754398187623,
          -0.09723736864284754,
          0.13632410802735093,
          -0.2645397703087663,
          0.5956787521414239,
          -0.16086207093244567,
          0.3919638756805205,
          1.6431864559841054,
          0.500292502469693,
          -2.2982921012198525,
          0.7040176660035111,
          0.5779821463206176,
          0.37819996172214365,
          0.2468873010137249,
          0.7112664646179129,
          -1.8315612256428866,
          -0.8926722024059833,
          -2.2000637729889774,
          -0.1347498116867438,
          0.418059595878196,
          -0.21752058196722435,
          0.25604934393242434,
          1.0349299221152255
         ],
         "xaxis": "x13",
         "y": [
          0.36658334448611524,
          0.19845076220323576,
          -0.5651712027994558,
          2.193577866173761,
          1.5149948785886453,
          1.6733520741671735,
          -1.1725004239501247,
          -1.1707014405700813,
          1.2359990662291649,
          0.19842120481922254,
          0.7330485339994786,
          -0.8693083595099061,
          -0.5270413468799706,
          -1.354218913431506,
          -1.7685244077435833,
          -0.260314589462929,
          0.30282326692474354,
          -0.2717067829910568,
          -1.2150409383619503,
          -0.2555709607571646,
          -0.05124075636918029,
          1.8852519764268754,
          -1.601286850490827,
          1.54072258436688,
          0.3571339450518127,
          0.10175361194820905,
          1.7010011270831262,
          -0.8075249021394392,
          0.9985264405480407,
          2.3909015128456126,
          -1.818944665442849,
          1.0942605179660203,
          0.5607010732335282,
          1.3624184981034404,
          1.780995774836401,
          1.7423040886955967,
          0.39364260342716445,
          -1.2904760393544574,
          0.45070832653871207,
          -0.10771508015659297,
          -0.2943301168013902,
          0.3932242030301506,
          1.0848668371554122,
          0.1368611776492048,
          0.8202827429670868,
          -0.2923089363193607,
          -1.4450748380215312,
          -1.4431674879988077,
          0.9415490019443867,
          -0.48920417409841094,
          -0.6914636868574582,
          -0.3481772958397043,
          1.0403129130513384,
          1.5073119731677258,
          -0.04448455581151121,
          -1.4162702853379443,
          1.6775212313123686,
          0.9680065391411762,
          -1.059446987989666,
          -0.3633843198121292,
          0.10456297098003199,
          1.0742443032168776,
          0.14146271989491305,
          0.29668491474159064,
          0.16422150420802972,
          -0.7101348857676307,
          -0.33599711095820306,
          -1.1118327374975754,
          -1.5426044057465307,
          -1.0698524813724384,
          -1.6008550676497943,
          0.4258535835859018,
          -0.8565382307789904,
          -0.3344250668125585,
          -0.3245812261322852,
          0.869651399432386,
          1.5324236508167144,
          -1.0979129972793518,
          0.8837655330739056,
          -1.4834538691705255,
          0.2984133034622976,
          0.9226592844372362,
          0.4472688467531478,
          -0.19016849747466189,
          -0.40828103650485137,
          2.521920124778835,
          -0.5723942629924068,
          0.36807494520995543,
          -0.9663822982751383,
          -0.5784278949305642,
          -0.9298529129033023,
          -2.1240941747407684,
          0.23853420572339354,
          1.0258151572359666,
          0.9330593686088765,
          0.09828079449549484,
          0.19886478752367762,
          -0.5353917624257729,
          0.47265665142232643,
          -1.3887969384841345
         ],
         "yaxis": "y13"
        },
        {
         "line": {
          "color": "rgba(128, 128, 128, 1.0)",
          "dash": "solid",
          "shape": "linear",
          "width": 1.3
         },
         "marker": {
          "size": 2,
          "symbol": "circle"
         },
         "mode": "markers",
         "name": "D",
         "text": "",
         "type": "scatter",
         "x": [
          0.17890934769892103,
          -0.033123808583366866,
          -1.7822064108916256,
          -0.5373491252336633,
          -1.4571186682282393,
          -1.4078878238560042,
          -1.2674356310721624,
          2.019550830934474,
          -0.4888330588658283,
          0.13141884905230608,
          -0.9312556526036885,
          -0.007754038998178534,
          2.435535100927038,
          0.7079881733133355,
          0.31467573359242035,
          1.1926023566358455,
          -0.06993966578389549,
          1.3105124782278086,
          -1.791805838390315,
          0.786940457459193,
          1.392374807377714,
          0.18685037333581317,
          0.5159651139015339,
          -1.3788427841040845,
          0.4481570242827706,
          -0.23192149556047384,
          -1.793900944752704,
          -0.6503177928618666,
          -1.2523592184401433,
          0.9397745472901148,
          -1.2140853902232587,
          1.3536707221874327,
          -2.2065900699338212,
          -0.2597360149080525,
          -1.4231111759501243,
          1.3997148101941983,
          -0.8711159875276375,
          0.1535439165088105,
          0.6223667974799626,
          -0.5428449527751454,
          -0.40790956932452943,
          -0.74095035588002,
          1.180243228006508,
          -1.2246704095828187,
          0.5104837648637698,
          0.45166433234461617,
          0.021824417646521932,
          -0.1199772823884989,
          -0.6313062350478947,
          0.8962458311228109,
          0.8459257422214808,
          0.40390475120466934,
          -0.7075908392741708,
          1.6564340845542072,
          0.5361952772128227,
          -0.07758458280582371,
          1.2853799260053234,
          -0.7655843186082435,
          -0.47497301247656126,
          -1.1259800726037426,
          0.19101899430261973,
          -1.827357574298033,
          -2.2013084050446086,
          0.9194612052082188,
          0.13767551508349066,
          -1.474381924958377,
          -0.8835121299482696,
          0.15730940685310918,
          0.22846581412701608,
          0.7715085536815187,
          -1.1394219297866262,
          0.15117704785432218,
          -0.5729191210052296,
          0.8201939049808525,
          0.1915501286014221,
          -0.6403217290879047,
          0.6696931832935046,
          0.5515620084580015,
          -0.44800211781238813,
          0.5496148064169799,
          -0.33023177959341304,
          -0.3405279676130839,
          1.9117164440223209,
          0.27499941131265915,
          0.48223764210266046,
          0.6010465347356609,
          0.3359623795070407,
          0.8393356310861901,
          -1.1715806085723153,
          0.3231670247779722,
          0.23374619998387358,
          1.206861746979094,
          -0.6443967282087286,
          1.9062966496430345,
          2.189933048739878,
          -0.01675318476017029,
          -0.014711562140090341,
          0.7294260989680877,
          -1.4051167130267577,
          1.7692353305949258
         ],
         "xaxis": "x14",
         "y": [
          0.36658334448611524,
          0.19845076220323576,
          -0.5651712027994558,
          2.193577866173761,
          1.5149948785886453,
          1.6733520741671735,
          -1.1725004239501247,
          -1.1707014405700813,
          1.2359990662291649,
          0.19842120481922254,
          0.7330485339994786,
          -0.8693083595099061,
          -0.5270413468799706,
          -1.354218913431506,
          -1.7685244077435833,
          -0.260314589462929,
          0.30282326692474354,
          -0.2717067829910568,
          -1.2150409383619503,
          -0.2555709607571646,
          -0.05124075636918029,
          1.8852519764268754,
          -1.601286850490827,
          1.54072258436688,
          0.3571339450518127,
          0.10175361194820905,
          1.7010011270831262,
          -0.8075249021394392,
          0.9985264405480407,
          2.3909015128456126,
          -1.818944665442849,
          1.0942605179660203,
          0.5607010732335282,
          1.3624184981034404,
          1.780995774836401,
          1.7423040886955967,
          0.39364260342716445,
          -1.2904760393544574,
          0.45070832653871207,
          -0.10771508015659297,
          -0.2943301168013902,
          0.3932242030301506,
          1.0848668371554122,
          0.1368611776492048,
          0.8202827429670868,
          -0.2923089363193607,
          -1.4450748380215312,
          -1.4431674879988077,
          0.9415490019443867,
          -0.48920417409841094,
          -0.6914636868574582,
          -0.3481772958397043,
          1.0403129130513384,
          1.5073119731677258,
          -0.04448455581151121,
          -1.4162702853379443,
          1.6775212313123686,
          0.9680065391411762,
          -1.059446987989666,
          -0.3633843198121292,
          0.10456297098003199,
          1.0742443032168776,
          0.14146271989491305,
          0.29668491474159064,
          0.16422150420802972,
          -0.7101348857676307,
          -0.33599711095820306,
          -1.1118327374975754,
          -1.5426044057465307,
          -1.0698524813724384,
          -1.6008550676497943,
          0.4258535835859018,
          -0.8565382307789904,
          -0.3344250668125585,
          -0.3245812261322852,
          0.869651399432386,
          1.5324236508167144,
          -1.0979129972793518,
          0.8837655330739056,
          -1.4834538691705255,
          0.2984133034622976,
          0.9226592844372362,
          0.4472688467531478,
          -0.19016849747466189,
          -0.40828103650485137,
          2.521920124778835,
          -0.5723942629924068,
          0.36807494520995543,
          -0.9663822982751383,
          -0.5784278949305642,
          -0.9298529129033023,
          -2.1240941747407684,
          0.23853420572339354,
          1.0258151572359666,
          0.9330593686088765,
          0.09828079449549484,
          0.19886478752367762,
          -0.5353917624257729,
          0.47265665142232643,
          -1.3887969384841345
         ],
         "yaxis": "y14"
        },
        {
         "line": {
          "color": "rgba(128, 128, 128, 1.0)",
          "dash": "solid",
          "shape": "linear",
          "width": 1.3
         },
         "marker": {
          "size": 2,
          "symbol": "circle"
         },
         "mode": "markers",
         "name": "D",
         "text": "",
         "type": "scatter",
         "x": [
          -1.6637658403871858,
          -0.657694686649294,
          1.3059715178359503,
          -0.3149914691862647,
          -0.19740147661311008,
          -0.7262569294732033,
          -0.3723489729197542,
          -0.6218029304938382,
          1.2635332476692993,
          0.33355540120598637,
          0.8648963919743383,
          0.3866360975707411,
          0.3155953078310076,
          0.18153871384542808,
          0.38243747455230664,
          1.3018507017779704,
          -1.6493392399381743,
          0.1435498441794928,
          -0.33487382215636274,
          0.5974699883650271,
          -1.121250409459856,
          -0.3299784112379456,
          0.6300607469165224,
          -0.021874398113414493,
          -1.140421242973153,
          -0.8342853458804352,
          -0.46687658894650796,
          -0.12006718098128669,
          0.001794795971967873,
          2.2334745742355744,
          -0.45532941432740776,
          0.45369589492365353,
          0.5715742551648502,
          0.12999205451536372,
          0.9798427403913135,
          -1.1013854499947524,
          0.7451227517265764,
          -0.16558731642780355,
          -0.7578513959831613,
          0.23148677932941697,
          0.05291433736418039,
          0.14120620024153313,
          -0.890361671499394,
          -0.5828256100210454,
          -0.26662291596413,
          0.12680816802050154,
          -0.7996736330653782,
          0.2829032455605437,
          0.38365787558487613,
          0.722823574532583,
          0.9864283730373686,
          0.7167756493371129,
          0.7986176751538434,
          -0.26357220490136485,
          0.5832744365822795,
          -0.39725346676339407,
          -0.2848428532723495,
          -1.062948231189015,
          0.10343690022589565,
          -0.5260241153573986,
          -0.04513586070032704,
          0.1568763359759615,
          -2.4793109380293026,
          -1.7262919520054156,
          -0.28309215653608133,
          -1.4292441498466897,
          -0.49299508967169486,
          1.4690306914515092,
          -0.3720244126792224,
          0.8530079426187204,
          0.23232697689398335,
          0.2232915630510586,
          1.333059407449093,
          0.4204088652819113,
          0.2728601828302727,
          -1.5002908429312536,
          -0.03679699218171279,
          1.03150319088492,
          -0.5333704521533563,
          -0.2241921679973938,
          -0.1348245531798344,
          1.4790065301549309,
          -0.21286254648898834,
          -1.1138480435184028,
          -0.2871485553416153,
          -0.38214607242128873,
          0.03953002115077242,
          -0.8995192117977602,
          0.5898544614973151,
          -1.1280270782243411,
          -1.0017202034219947,
          1.334528050829268,
          0.2302117795420704,
          2.2917553919395877,
          0.38535825261604134,
          0.4409141875158465,
          -0.8982601958634147,
          1.456441925363782,
          -0.7066633678271631,
          0.491245841413864
         ],
         "xaxis": "x15",
         "y": [
          0.36658334448611524,
          0.19845076220323576,
          -0.5651712027994558,
          2.193577866173761,
          1.5149948785886453,
          1.6733520741671735,
          -1.1725004239501247,
          -1.1707014405700813,
          1.2359990662291649,
          0.19842120481922254,
          0.7330485339994786,
          -0.8693083595099061,
          -0.5270413468799706,
          -1.354218913431506,
          -1.7685244077435833,
          -0.260314589462929,
          0.30282326692474354,
          -0.2717067829910568,
          -1.2150409383619503,
          -0.2555709607571646,
          -0.05124075636918029,
          1.8852519764268754,
          -1.601286850490827,
          1.54072258436688,
          0.3571339450518127,
          0.10175361194820905,
          1.7010011270831262,
          -0.8075249021394392,
          0.9985264405480407,
          2.3909015128456126,
          -1.818944665442849,
          1.0942605179660203,
          0.5607010732335282,
          1.3624184981034404,
          1.780995774836401,
          1.7423040886955967,
          0.39364260342716445,
          -1.2904760393544574,
          0.45070832653871207,
          -0.10771508015659297,
          -0.2943301168013902,
          0.3932242030301506,
          1.0848668371554122,
          0.1368611776492048,
          0.8202827429670868,
          -0.2923089363193607,
          -1.4450748380215312,
          -1.4431674879988077,
          0.9415490019443867,
          -0.48920417409841094,
          -0.6914636868574582,
          -0.3481772958397043,
          1.0403129130513384,
          1.5073119731677258,
          -0.04448455581151121,
          -1.4162702853379443,
          1.6775212313123686,
          0.9680065391411762,
          -1.059446987989666,
          -0.3633843198121292,
          0.10456297098003199,
          1.0742443032168776,
          0.14146271989491305,
          0.29668491474159064,
          0.16422150420802972,
          -0.7101348857676307,
          -0.33599711095820306,
          -1.1118327374975754,
          -1.5426044057465307,
          -1.0698524813724384,
          -1.6008550676497943,
          0.4258535835859018,
          -0.8565382307789904,
          -0.3344250668125585,
          -0.3245812261322852,
          0.869651399432386,
          1.5324236508167144,
          -1.0979129972793518,
          0.8837655330739056,
          -1.4834538691705255,
          0.2984133034622976,
          0.9226592844372362,
          0.4472688467531478,
          -0.19016849747466189,
          -0.40828103650485137,
          2.521920124778835,
          -0.5723942629924068,
          0.36807494520995543,
          -0.9663822982751383,
          -0.5784278949305642,
          -0.9298529129033023,
          -2.1240941747407684,
          0.23853420572339354,
          1.0258151572359666,
          0.9330593686088765,
          0.09828079449549484,
          0.19886478752367762,
          -0.5353917624257729,
          0.47265665142232643,
          -1.3887969384841345
         ],
         "yaxis": "y15"
        },
        {
         "histfunc": "count",
         "histnorm": "",
         "marker": {
          "color": "rgba(128, 0, 128, 1.0)",
          "line": {
           "color": "#4D5663",
           "width": 1.3
          }
         },
         "name": "D",
         "nbinsx": 10,
         "opacity": 0.8,
         "orientation": "v",
         "type": "histogram",
         "x": [
          0.36658334448611524,
          0.19845076220323576,
          -0.5651712027994558,
          2.193577866173761,
          1.5149948785886453,
          1.6733520741671735,
          -1.1725004239501247,
          -1.1707014405700813,
          1.2359990662291649,
          0.19842120481922254,
          0.7330485339994786,
          -0.8693083595099061,
          -0.5270413468799706,
          -1.354218913431506,
          -1.7685244077435833,
          -0.260314589462929,
          0.30282326692474354,
          -0.2717067829910568,
          -1.2150409383619503,
          -0.2555709607571646,
          -0.05124075636918029,
          1.8852519764268754,
          -1.601286850490827,
          1.54072258436688,
          0.3571339450518127,
          0.10175361194820905,
          1.7010011270831262,
          -0.8075249021394392,
          0.9985264405480407,
          2.3909015128456126,
          -1.818944665442849,
          1.0942605179660203,
          0.5607010732335282,
          1.3624184981034404,
          1.780995774836401,
          1.7423040886955967,
          0.39364260342716445,
          -1.2904760393544574,
          0.45070832653871207,
          -0.10771508015659297,
          -0.2943301168013902,
          0.3932242030301506,
          1.0848668371554122,
          0.1368611776492048,
          0.8202827429670868,
          -0.2923089363193607,
          -1.4450748380215312,
          -1.4431674879988077,
          0.9415490019443867,
          -0.48920417409841094,
          -0.6914636868574582,
          -0.3481772958397043,
          1.0403129130513384,
          1.5073119731677258,
          -0.04448455581151121,
          -1.4162702853379443,
          1.6775212313123686,
          0.9680065391411762,
          -1.059446987989666,
          -0.3633843198121292,
          0.10456297098003199,
          1.0742443032168776,
          0.14146271989491305,
          0.29668491474159064,
          0.16422150420802972,
          -0.7101348857676307,
          -0.33599711095820306,
          -1.1118327374975754,
          -1.5426044057465307,
          -1.0698524813724384,
          -1.6008550676497943,
          0.4258535835859018,
          -0.8565382307789904,
          -0.3344250668125585,
          -0.3245812261322852,
          0.869651399432386,
          1.5324236508167144,
          -1.0979129972793518,
          0.8837655330739056,
          -1.4834538691705255,
          0.2984133034622976,
          0.9226592844372362,
          0.4472688467531478,
          -0.19016849747466189,
          -0.40828103650485137,
          2.521920124778835,
          -0.5723942629924068,
          0.36807494520995543,
          -0.9663822982751383,
          -0.5784278949305642,
          -0.9298529129033023,
          -2.1240941747407684,
          0.23853420572339354,
          1.0258151572359666,
          0.9330593686088765,
          0.09828079449549484,
          0.19886478752367762,
          -0.5353917624257729,
          0.47265665142232643,
          -1.3887969384841345
         ],
         "xaxis": "x16",
         "yaxis": "y16"
        }
       ],
       "layout": {
        "bargap": 0.02,
        "legend": {
         "bgcolor": "#F5F6F9",
         "font": {
          "color": "#4D5663"
         }
        },
        "paper_bgcolor": "#F5F6F9",
        "plot_bgcolor": "#F5F6F9",
        "showlegend": false,
        "template": {
         "data": {
          "bar": [
           {
            "error_x": {
             "color": "#2a3f5f"
            },
            "error_y": {
             "color": "#2a3f5f"
            },
            "marker": {
             "line": {
              "color": "#E5ECF6",
              "width": 0.5
             }
            },
            "type": "bar"
           }
          ],
          "barpolar": [
           {
            "marker": {
             "line": {
              "color": "#E5ECF6",
              "width": 0.5
             }
            },
            "type": "barpolar"
           }
          ],
          "carpet": [
           {
            "aaxis": {
             "endlinecolor": "#2a3f5f",
             "gridcolor": "white",
             "linecolor": "white",
             "minorgridcolor": "white",
             "startlinecolor": "#2a3f5f"
            },
            "baxis": {
             "endlinecolor": "#2a3f5f",
             "gridcolor": "white",
             "linecolor": "white",
             "minorgridcolor": "white",
             "startlinecolor": "#2a3f5f"
            },
            "type": "carpet"
           }
          ],
          "choropleth": [
           {
            "colorbar": {
             "outlinewidth": 0,
             "ticks": ""
            },
            "type": "choropleth"
           }
          ],
          "contour": [
           {
            "colorbar": {
             "outlinewidth": 0,
             "ticks": ""
            },
            "colorscale": [
             [
              0,
              "#0d0887"
             ],
             [
              0.1111111111111111,
              "#46039f"
             ],
             [
              0.2222222222222222,
              "#7201a8"
             ],
             [
              0.3333333333333333,
              "#9c179e"
             ],
             [
              0.4444444444444444,
              "#bd3786"
             ],
             [
              0.5555555555555556,
              "#d8576b"
             ],
             [
              0.6666666666666666,
              "#ed7953"
             ],
             [
              0.7777777777777778,
              "#fb9f3a"
             ],
             [
              0.8888888888888888,
              "#fdca26"
             ],
             [
              1,
              "#f0f921"
             ]
            ],
            "type": "contour"
           }
          ],
          "contourcarpet": [
           {
            "colorbar": {
             "outlinewidth": 0,
             "ticks": ""
            },
            "type": "contourcarpet"
           }
          ],
          "heatmap": [
           {
            "colorbar": {
             "outlinewidth": 0,
             "ticks": ""
            },
            "colorscale": [
             [
              0,
              "#0d0887"
             ],
             [
              0.1111111111111111,
              "#46039f"
             ],
             [
              0.2222222222222222,
              "#7201a8"
             ],
             [
              0.3333333333333333,
              "#9c179e"
             ],
             [
              0.4444444444444444,
              "#bd3786"
             ],
             [
              0.5555555555555556,
              "#d8576b"
             ],
             [
              0.6666666666666666,
              "#ed7953"
             ],
             [
              0.7777777777777778,
              "#fb9f3a"
             ],
             [
              0.8888888888888888,
              "#fdca26"
             ],
             [
              1,
              "#f0f921"
             ]
            ],
            "type": "heatmap"
           }
          ],
          "heatmapgl": [
           {
            "colorbar": {
             "outlinewidth": 0,
             "ticks": ""
            },
            "colorscale": [
             [
              0,
              "#0d0887"
             ],
             [
              0.1111111111111111,
              "#46039f"
             ],
             [
              0.2222222222222222,
              "#7201a8"
             ],
             [
              0.3333333333333333,
              "#9c179e"
             ],
             [
              0.4444444444444444,
              "#bd3786"
             ],
             [
              0.5555555555555556,
              "#d8576b"
             ],
             [
              0.6666666666666666,
              "#ed7953"
             ],
             [
              0.7777777777777778,
              "#fb9f3a"
             ],
             [
              0.8888888888888888,
              "#fdca26"
             ],
             [
              1,
              "#f0f921"
             ]
            ],
            "type": "heatmapgl"
           }
          ],
          "histogram": [
           {
            "marker": {
             "colorbar": {
              "outlinewidth": 0,
              "ticks": ""
             }
            },
            "type": "histogram"
           }
          ],
          "histogram2d": [
           {
            "colorbar": {
             "outlinewidth": 0,
             "ticks": ""
            },
            "colorscale": [
             [
              0,
              "#0d0887"
             ],
             [
              0.1111111111111111,
              "#46039f"
             ],
             [
              0.2222222222222222,
              "#7201a8"
             ],
             [
              0.3333333333333333,
              "#9c179e"
             ],
             [
              0.4444444444444444,
              "#bd3786"
             ],
             [
              0.5555555555555556,
              "#d8576b"
             ],
             [
              0.6666666666666666,
              "#ed7953"
             ],
             [
              0.7777777777777778,
              "#fb9f3a"
             ],
             [
              0.8888888888888888,
              "#fdca26"
             ],
             [
              1,
              "#f0f921"
             ]
            ],
            "type": "histogram2d"
           }
          ],
          "histogram2dcontour": [
           {
            "colorbar": {
             "outlinewidth": 0,
             "ticks": ""
            },
            "colorscale": [
             [
              0,
              "#0d0887"
             ],
             [
              0.1111111111111111,
              "#46039f"
             ],
             [
              0.2222222222222222,
              "#7201a8"
             ],
             [
              0.3333333333333333,
              "#9c179e"
             ],
             [
              0.4444444444444444,
              "#bd3786"
             ],
             [
              0.5555555555555556,
              "#d8576b"
             ],
             [
              0.6666666666666666,
              "#ed7953"
             ],
             [
              0.7777777777777778,
              "#fb9f3a"
             ],
             [
              0.8888888888888888,
              "#fdca26"
             ],
             [
              1,
              "#f0f921"
             ]
            ],
            "type": "histogram2dcontour"
           }
          ],
          "mesh3d": [
           {
            "colorbar": {
             "outlinewidth": 0,
             "ticks": ""
            },
            "type": "mesh3d"
           }
          ],
          "parcoords": [
           {
            "line": {
             "colorbar": {
              "outlinewidth": 0,
              "ticks": ""
             }
            },
            "type": "parcoords"
           }
          ],
          "pie": [
           {
            "automargin": true,
            "type": "pie"
           }
          ],
          "scatter": [
           {
            "marker": {
             "colorbar": {
              "outlinewidth": 0,
              "ticks": ""
             }
            },
            "type": "scatter"
           }
          ],
          "scatter3d": [
           {
            "line": {
             "colorbar": {
              "outlinewidth": 0,
              "ticks": ""
             }
            },
            "marker": {
             "colorbar": {
              "outlinewidth": 0,
              "ticks": ""
             }
            },
            "type": "scatter3d"
           }
          ],
          "scattercarpet": [
           {
            "marker": {
             "colorbar": {
              "outlinewidth": 0,
              "ticks": ""
             }
            },
            "type": "scattercarpet"
           }
          ],
          "scattergeo": [
           {
            "marker": {
             "colorbar": {
              "outlinewidth": 0,
              "ticks": ""
             }
            },
            "type": "scattergeo"
           }
          ],
          "scattergl": [
           {
            "marker": {
             "colorbar": {
              "outlinewidth": 0,
              "ticks": ""
             }
            },
            "type": "scattergl"
           }
          ],
          "scattermapbox": [
           {
            "marker": {
             "colorbar": {
              "outlinewidth": 0,
              "ticks": ""
             }
            },
            "type": "scattermapbox"
           }
          ],
          "scatterpolar": [
           {
            "marker": {
             "colorbar": {
              "outlinewidth": 0,
              "ticks": ""
             }
            },
            "type": "scatterpolar"
           }
          ],
          "scatterpolargl": [
           {
            "marker": {
             "colorbar": {
              "outlinewidth": 0,
              "ticks": ""
             }
            },
            "type": "scatterpolargl"
           }
          ],
          "scatterternary": [
           {
            "marker": {
             "colorbar": {
              "outlinewidth": 0,
              "ticks": ""
             }
            },
            "type": "scatterternary"
           }
          ],
          "surface": [
           {
            "colorbar": {
             "outlinewidth": 0,
             "ticks": ""
            },
            "colorscale": [
             [
              0,
              "#0d0887"
             ],
             [
              0.1111111111111111,
              "#46039f"
             ],
             [
              0.2222222222222222,
              "#7201a8"
             ],
             [
              0.3333333333333333,
              "#9c179e"
             ],
             [
              0.4444444444444444,
              "#bd3786"
             ],
             [
              0.5555555555555556,
              "#d8576b"
             ],
             [
              0.6666666666666666,
              "#ed7953"
             ],
             [
              0.7777777777777778,
              "#fb9f3a"
             ],
             [
              0.8888888888888888,
              "#fdca26"
             ],
             [
              1,
              "#f0f921"
             ]
            ],
            "type": "surface"
           }
          ],
          "table": [
           {
            "cells": {
             "fill": {
              "color": "#EBF0F8"
             },
             "line": {
              "color": "white"
             }
            },
            "header": {
             "fill": {
              "color": "#C8D4E3"
             },
             "line": {
              "color": "white"
             }
            },
            "type": "table"
           }
          ]
         },
         "layout": {
          "annotationdefaults": {
           "arrowcolor": "#2a3f5f",
           "arrowhead": 0,
           "arrowwidth": 1
          },
          "coloraxis": {
           "colorbar": {
            "outlinewidth": 0,
            "ticks": ""
           }
          },
          "colorscale": {
           "diverging": [
            [
             0,
             "#8e0152"
            ],
            [
             0.1,
             "#c51b7d"
            ],
            [
             0.2,
             "#de77ae"
            ],
            [
             0.3,
             "#f1b6da"
            ],
            [
             0.4,
             "#fde0ef"
            ],
            [
             0.5,
             "#f7f7f7"
            ],
            [
             0.6,
             "#e6f5d0"
            ],
            [
             0.7,
             "#b8e186"
            ],
            [
             0.8,
             "#7fbc41"
            ],
            [
             0.9,
             "#4d9221"
            ],
            [
             1,
             "#276419"
            ]
           ],
           "sequential": [
            [
             0,
             "#0d0887"
            ],
            [
             0.1111111111111111,
             "#46039f"
            ],
            [
             0.2222222222222222,
             "#7201a8"
            ],
            [
             0.3333333333333333,
             "#9c179e"
            ],
            [
             0.4444444444444444,
             "#bd3786"
            ],
            [
             0.5555555555555556,
             "#d8576b"
            ],
            [
             0.6666666666666666,
             "#ed7953"
            ],
            [
             0.7777777777777778,
             "#fb9f3a"
            ],
            [
             0.8888888888888888,
             "#fdca26"
            ],
            [
             1,
             "#f0f921"
            ]
           ],
           "sequentialminus": [
            [
             0,
             "#0d0887"
            ],
            [
             0.1111111111111111,
             "#46039f"
            ],
            [
             0.2222222222222222,
             "#7201a8"
            ],
            [
             0.3333333333333333,
             "#9c179e"
            ],
            [
             0.4444444444444444,
             "#bd3786"
            ],
            [
             0.5555555555555556,
             "#d8576b"
            ],
            [
             0.6666666666666666,
             "#ed7953"
            ],
            [
             0.7777777777777778,
             "#fb9f3a"
            ],
            [
             0.8888888888888888,
             "#fdca26"
            ],
            [
             1,
             "#f0f921"
            ]
           ]
          },
          "colorway": [
           "#636efa",
           "#EF553B",
           "#00cc96",
           "#ab63fa",
           "#FFA15A",
           "#19d3f3",
           "#FF6692",
           "#B6E880",
           "#FF97FF",
           "#FECB52"
          ],
          "font": {
           "color": "#2a3f5f"
          },
          "geo": {
           "bgcolor": "white",
           "lakecolor": "white",
           "landcolor": "#E5ECF6",
           "showlakes": true,
           "showland": true,
           "subunitcolor": "white"
          },
          "hoverlabel": {
           "align": "left"
          },
          "hovermode": "closest",
          "mapbox": {
           "style": "light"
          },
          "paper_bgcolor": "white",
          "plot_bgcolor": "#E5ECF6",
          "polar": {
           "angularaxis": {
            "gridcolor": "white",
            "linecolor": "white",
            "ticks": ""
           },
           "bgcolor": "#E5ECF6",
           "radialaxis": {
            "gridcolor": "white",
            "linecolor": "white",
            "ticks": ""
           }
          },
          "scene": {
           "xaxis": {
            "backgroundcolor": "#E5ECF6",
            "gridcolor": "white",
            "gridwidth": 2,
            "linecolor": "white",
            "showbackground": true,
            "ticks": "",
            "zerolinecolor": "white"
           },
           "yaxis": {
            "backgroundcolor": "#E5ECF6",
            "gridcolor": "white",
            "gridwidth": 2,
            "linecolor": "white",
            "showbackground": true,
            "ticks": "",
            "zerolinecolor": "white"
           },
           "zaxis": {
            "backgroundcolor": "#E5ECF6",
            "gridcolor": "white",
            "gridwidth": 2,
            "linecolor": "white",
            "showbackground": true,
            "ticks": "",
            "zerolinecolor": "white"
           }
          },
          "shapedefaults": {
           "line": {
            "color": "#2a3f5f"
           }
          },
          "ternary": {
           "aaxis": {
            "gridcolor": "white",
            "linecolor": "white",
            "ticks": ""
           },
           "baxis": {
            "gridcolor": "white",
            "linecolor": "white",
            "ticks": ""
           },
           "bgcolor": "#E5ECF6",
           "caxis": {
            "gridcolor": "white",
            "linecolor": "white",
            "ticks": ""
           }
          },
          "title": {
           "x": 0.05
          },
          "xaxis": {
           "automargin": true,
           "gridcolor": "white",
           "linecolor": "white",
           "ticks": "",
           "title": {
            "standoff": 15
           },
           "zerolinecolor": "white",
           "zerolinewidth": 2
          },
          "yaxis": {
           "automargin": true,
           "gridcolor": "white",
           "linecolor": "white",
           "ticks": "",
           "title": {
            "standoff": 15
           },
           "zerolinecolor": "white",
           "zerolinewidth": 2
          }
         }
        },
        "title": {
         "font": {
          "color": "#4D5663"
         }
        },
        "xaxis": {
         "anchor": "y",
         "domain": [
          0,
          0.2125
         ],
         "gridcolor": "#E1E5ED",
         "showgrid": false,
         "tickfont": {
          "color": "#4D5663"
         },
         "title": {
          "font": {
           "color": "#4D5663"
          },
          "text": ""
         },
         "zerolinecolor": "#E1E5ED"
        },
        "xaxis10": {
         "anchor": "y10",
         "domain": [
          0.2625,
          0.475
         ],
         "gridcolor": "#E1E5ED",
         "showgrid": false,
         "tickfont": {
          "color": "#4D5663"
         },
         "title": {
          "font": {
           "color": "#4D5663"
          },
          "text": ""
         },
         "zerolinecolor": "#E1E5ED"
        },
        "xaxis11": {
         "anchor": "y11",
         "domain": [
          0.525,
          0.7375
         ],
         "gridcolor": "#E1E5ED",
         "showgrid": false,
         "tickfont": {
          "color": "#4D5663"
         },
         "title": {
          "font": {
           "color": "#4D5663"
          },
          "text": ""
         },
         "zerolinecolor": "#E1E5ED"
        },
        "xaxis12": {
         "anchor": "y12",
         "domain": [
          0.7875,
          1
         ],
         "gridcolor": "#E1E5ED",
         "showgrid": false,
         "tickfont": {
          "color": "#4D5663"
         },
         "title": {
          "font": {
           "color": "#4D5663"
          },
          "text": ""
         },
         "zerolinecolor": "#E1E5ED"
        },
        "xaxis13": {
         "anchor": "y13",
         "domain": [
          0,
          0.2125
         ],
         "gridcolor": "#E1E5ED",
         "showgrid": false,
         "tickfont": {
          "color": "#4D5663"
         },
         "title": {
          "font": {
           "color": "#4D5663"
          },
          "text": ""
         },
         "zerolinecolor": "#E1E5ED"
        },
        "xaxis14": {
         "anchor": "y14",
         "domain": [
          0.2625,
          0.475
         ],
         "gridcolor": "#E1E5ED",
         "showgrid": false,
         "tickfont": {
          "color": "#4D5663"
         },
         "title": {
          "font": {
           "color": "#4D5663"
          },
          "text": ""
         },
         "zerolinecolor": "#E1E5ED"
        },
        "xaxis15": {
         "anchor": "y15",
         "domain": [
          0.525,
          0.7375
         ],
         "gridcolor": "#E1E5ED",
         "showgrid": false,
         "tickfont": {
          "color": "#4D5663"
         },
         "title": {
          "font": {
           "color": "#4D5663"
          },
          "text": ""
         },
         "zerolinecolor": "#E1E5ED"
        },
        "xaxis16": {
         "anchor": "y16",
         "domain": [
          0.7875,
          1
         ],
         "gridcolor": "#E1E5ED",
         "showgrid": false,
         "tickfont": {
          "color": "#4D5663"
         },
         "title": {
          "font": {
           "color": "#4D5663"
          },
          "text": ""
         },
         "zerolinecolor": "#E1E5ED"
        },
        "xaxis2": {
         "anchor": "y2",
         "domain": [
          0.2625,
          0.475
         ],
         "gridcolor": "#E1E5ED",
         "showgrid": false,
         "tickfont": {
          "color": "#4D5663"
         },
         "title": {
          "font": {
           "color": "#4D5663"
          },
          "text": ""
         },
         "zerolinecolor": "#E1E5ED"
        },
        "xaxis3": {
         "anchor": "y3",
         "domain": [
          0.525,
          0.7375
         ],
         "gridcolor": "#E1E5ED",
         "showgrid": false,
         "tickfont": {
          "color": "#4D5663"
         },
         "title": {
          "font": {
           "color": "#4D5663"
          },
          "text": ""
         },
         "zerolinecolor": "#E1E5ED"
        },
        "xaxis4": {
         "anchor": "y4",
         "domain": [
          0.7875,
          1
         ],
         "gridcolor": "#E1E5ED",
         "showgrid": false,
         "tickfont": {
          "color": "#4D5663"
         },
         "title": {
          "font": {
           "color": "#4D5663"
          },
          "text": ""
         },
         "zerolinecolor": "#E1E5ED"
        },
        "xaxis5": {
         "anchor": "y5",
         "domain": [
          0,
          0.2125
         ],
         "gridcolor": "#E1E5ED",
         "showgrid": false,
         "tickfont": {
          "color": "#4D5663"
         },
         "title": {
          "font": {
           "color": "#4D5663"
          },
          "text": ""
         },
         "zerolinecolor": "#E1E5ED"
        },
        "xaxis6": {
         "anchor": "y6",
         "domain": [
          0.2625,
          0.475
         ],
         "gridcolor": "#E1E5ED",
         "showgrid": false,
         "tickfont": {
          "color": "#4D5663"
         },
         "title": {
          "font": {
           "color": "#4D5663"
          },
          "text": ""
         },
         "zerolinecolor": "#E1E5ED"
        },
        "xaxis7": {
         "anchor": "y7",
         "domain": [
          0.525,
          0.7375
         ],
         "gridcolor": "#E1E5ED",
         "showgrid": false,
         "tickfont": {
          "color": "#4D5663"
         },
         "title": {
          "font": {
           "color": "#4D5663"
          },
          "text": ""
         },
         "zerolinecolor": "#E1E5ED"
        },
        "xaxis8": {
         "anchor": "y8",
         "domain": [
          0.7875,
          1
         ],
         "gridcolor": "#E1E5ED",
         "showgrid": false,
         "tickfont": {
          "color": "#4D5663"
         },
         "title": {
          "font": {
           "color": "#4D5663"
          },
          "text": ""
         },
         "zerolinecolor": "#E1E5ED"
        },
        "xaxis9": {
         "anchor": "y9",
         "domain": [
          0,
          0.2125
         ],
         "gridcolor": "#E1E5ED",
         "showgrid": false,
         "tickfont": {
          "color": "#4D5663"
         },
         "title": {
          "font": {
           "color": "#4D5663"
          },
          "text": ""
         },
         "zerolinecolor": "#E1E5ED"
        },
        "yaxis": {
         "anchor": "x",
         "domain": [
          0.8025,
          1
         ],
         "gridcolor": "#E1E5ED",
         "showgrid": false,
         "tickfont": {
          "color": "#4D5663"
         },
         "title": {
          "font": {
           "color": "#4D5663"
          },
          "text": ""
         },
         "zerolinecolor": "#E1E5ED"
        },
        "yaxis10": {
         "anchor": "x10",
         "domain": [
          0.2675,
          0.465
         ],
         "gridcolor": "#E1E5ED",
         "showgrid": false,
         "tickfont": {
          "color": "#4D5663"
         },
         "title": {
          "font": {
           "color": "#4D5663"
          },
          "text": ""
         },
         "zerolinecolor": "#E1E5ED"
        },
        "yaxis11": {
         "anchor": "x11",
         "domain": [
          0.2675,
          0.465
         ],
         "gridcolor": "#E1E5ED",
         "showgrid": false,
         "tickfont": {
          "color": "#4D5663"
         },
         "title": {
          "font": {
           "color": "#4D5663"
          },
          "text": ""
         },
         "zerolinecolor": "#E1E5ED"
        },
        "yaxis12": {
         "anchor": "x12",
         "domain": [
          0.2675,
          0.465
         ],
         "gridcolor": "#E1E5ED",
         "showgrid": false,
         "tickfont": {
          "color": "#4D5663"
         },
         "title": {
          "font": {
           "color": "#4D5663"
          },
          "text": ""
         },
         "zerolinecolor": "#E1E5ED"
        },
        "yaxis13": {
         "anchor": "x13",
         "domain": [
          0,
          0.1975
         ],
         "gridcolor": "#E1E5ED",
         "showgrid": false,
         "tickfont": {
          "color": "#4D5663"
         },
         "title": {
          "font": {
           "color": "#4D5663"
          },
          "text": ""
         },
         "zerolinecolor": "#E1E5ED"
        },
        "yaxis14": {
         "anchor": "x14",
         "domain": [
          0,
          0.1975
         ],
         "gridcolor": "#E1E5ED",
         "showgrid": false,
         "tickfont": {
          "color": "#4D5663"
         },
         "title": {
          "font": {
           "color": "#4D5663"
          },
          "text": ""
         },
         "zerolinecolor": "#E1E5ED"
        },
        "yaxis15": {
         "anchor": "x15",
         "domain": [
          0,
          0.1975
         ],
         "gridcolor": "#E1E5ED",
         "showgrid": false,
         "tickfont": {
          "color": "#4D5663"
         },
         "title": {
          "font": {
           "color": "#4D5663"
          },
          "text": ""
         },
         "zerolinecolor": "#E1E5ED"
        },
        "yaxis16": {
         "anchor": "x16",
         "domain": [
          0,
          0.1975
         ],
         "gridcolor": "#E1E5ED",
         "showgrid": false,
         "tickfont": {
          "color": "#4D5663"
         },
         "title": {
          "font": {
           "color": "#4D5663"
          },
          "text": ""
         },
         "zerolinecolor": "#E1E5ED"
        },
        "yaxis2": {
         "anchor": "x2",
         "domain": [
          0.8025,
          1
         ],
         "gridcolor": "#E1E5ED",
         "showgrid": false,
         "tickfont": {
          "color": "#4D5663"
         },
         "title": {
          "font": {
           "color": "#4D5663"
          },
          "text": ""
         },
         "zerolinecolor": "#E1E5ED"
        },
        "yaxis3": {
         "anchor": "x3",
         "domain": [
          0.8025,
          1
         ],
         "gridcolor": "#E1E5ED",
         "showgrid": false,
         "tickfont": {
          "color": "#4D5663"
         },
         "title": {
          "font": {
           "color": "#4D5663"
          },
          "text": ""
         },
         "zerolinecolor": "#E1E5ED"
        },
        "yaxis4": {
         "anchor": "x4",
         "domain": [
          0.8025,
          1
         ],
         "gridcolor": "#E1E5ED",
         "showgrid": false,
         "tickfont": {
          "color": "#4D5663"
         },
         "title": {
          "font": {
           "color": "#4D5663"
          },
          "text": ""
         },
         "zerolinecolor": "#E1E5ED"
        },
        "yaxis5": {
         "anchor": "x5",
         "domain": [
          0.535,
          0.7325
         ],
         "gridcolor": "#E1E5ED",
         "showgrid": false,
         "tickfont": {
          "color": "#4D5663"
         },
         "title": {
          "font": {
           "color": "#4D5663"
          },
          "text": ""
         },
         "zerolinecolor": "#E1E5ED"
        },
        "yaxis6": {
         "anchor": "x6",
         "domain": [
          0.535,
          0.7325
         ],
         "gridcolor": "#E1E5ED",
         "showgrid": false,
         "tickfont": {
          "color": "#4D5663"
         },
         "title": {
          "font": {
           "color": "#4D5663"
          },
          "text": ""
         },
         "zerolinecolor": "#E1E5ED"
        },
        "yaxis7": {
         "anchor": "x7",
         "domain": [
          0.535,
          0.7325
         ],
         "gridcolor": "#E1E5ED",
         "showgrid": false,
         "tickfont": {
          "color": "#4D5663"
         },
         "title": {
          "font": {
           "color": "#4D5663"
          },
          "text": ""
         },
         "zerolinecolor": "#E1E5ED"
        },
        "yaxis8": {
         "anchor": "x8",
         "domain": [
          0.535,
          0.7325
         ],
         "gridcolor": "#E1E5ED",
         "showgrid": false,
         "tickfont": {
          "color": "#4D5663"
         },
         "title": {
          "font": {
           "color": "#4D5663"
          },
          "text": ""
         },
         "zerolinecolor": "#E1E5ED"
        },
        "yaxis9": {
         "anchor": "x9",
         "domain": [
          0.2675,
          0.465
         ],
         "gridcolor": "#E1E5ED",
         "showgrid": false,
         "tickfont": {
          "color": "#4D5663"
         },
         "title": {
          "font": {
           "color": "#4D5663"
          },
          "text": ""
         },
         "zerolinecolor": "#E1E5ED"
        }
       }
      },
      "text/html": [
       "<div>                            <div id=\"4878c9c9-508d-4218-806d-edbcb1825bd0\" class=\"plotly-graph-div\" style=\"height:525px; width:100%;\"></div>            <script type=\"text/javascript\">                require([\"plotly\"], function(Plotly) {                    window.PLOTLYENV=window.PLOTLYENV || {};\n",
       "                    window.PLOTLYENV.BASE_URL='https://plot.ly';                                    if (document.getElementById(\"4878c9c9-508d-4218-806d-edbcb1825bd0\")) {                    Plotly.newPlot(                        \"4878c9c9-508d-4218-806d-edbcb1825bd0\",                        [{\"histfunc\": \"count\", \"histnorm\": \"\", \"marker\": {\"color\": \"rgba(255, 153, 51, 1.0)\", \"line\": {\"color\": \"#4D5663\", \"width\": 1.3}}, \"name\": \"A\", \"nbinsx\": 10, \"opacity\": 0.8, \"orientation\": \"v\", \"type\": \"histogram\", \"x\": [0.24588717410753003, -1.5443326651682237, -0.7892940576313485, -0.7521408949768861, -0.4796778753536114, -0.038090741190589895, -1.2936477357446499, -2.723420833634864, 1.9086517655499613, 0.4087252992968224, -2.5161479197724548, 0.5467932638969071, 0.7522566966657753, -0.5375211691145616, -0.5575175182237166, 0.6909421933307822, 1.4178037665917353, -1.3189638698222304, 0.38135037719477854, -0.8975045777020152, 1.5990034926885215, 0.7513798196549333, -2.7246607309103466, 0.009181632602803554, -0.7199645224339926, 1.0159431349247343, 0.35555691751734403, 0.5133793537990036, -0.7898146830454974, 0.145975409251844, 0.7290500746987666, -0.03207417260027835, 0.5758332689076748, -0.7309258513953879, -1.3488321998603487, 0.9348030875542376, -0.5530946341539287, 0.708339786978607, 1.3589273059294322, 0.6042100092089738, -0.018519711780514307, -0.8497345423017969, 0.25930721389934425, 0.6570749338815411, 0.12722479020271082, 0.5981116642723051, 1.1087139573109894, 0.4335456958746609, -0.4986020130951775, 0.16019426329620462, 1.0956079098556886, 2.1781844015324, 0.38743513688648556, 0.23232445913149288, -0.02225732068587582, 1.240721487888421, 0.8348794737172368, 0.49131381569131605, -2.465460913038345, -1.4128691396273751, 0.45471027773277545, 0.2366496229800066, -0.8443631136799993, -1.5050581382231454, -0.3489519058130828, -0.09252638339915405, 0.4622723828835006, -1.0832375330785835, -0.172975234005294, 1.0525870174915173, -0.0605350567014285, 0.7431366307343629, -0.32259824462116854, 0.46655615372559767, -0.8766531102031185, -0.25067319773196817, 1.9220011649797581, -0.8995754398187623, -0.09723736864284754, 0.13632410802735093, -0.2645397703087663, 0.5956787521414239, -0.16086207093244567, 0.3919638756805205, 1.6431864559841054, 0.500292502469693, -2.2982921012198525, 0.7040176660035111, 0.5779821463206176, 0.37819996172214365, 0.2468873010137249, 0.7112664646179129, -1.8315612256428866, -0.8926722024059833, -2.2000637729889774, -0.1347498116867438, 0.418059595878196, -0.21752058196722435, 0.25604934393242434, 1.0349299221152255], \"xaxis\": \"x\", \"yaxis\": \"y\"}, {\"line\": {\"color\": \"rgba(128, 128, 128, 1.0)\", \"dash\": \"solid\", \"shape\": \"linear\", \"width\": 1.3}, \"marker\": {\"size\": 2, \"symbol\": \"circle\"}, \"mode\": \"markers\", \"name\": \"A\", \"text\": \"\", \"type\": \"scatter\", \"x\": [0.17890934769892103, -0.033123808583366866, -1.7822064108916256, -0.5373491252336633, -1.4571186682282393, -1.4078878238560042, -1.2674356310721624, 2.019550830934474, -0.4888330588658283, 0.13141884905230608, -0.9312556526036885, -0.007754038998178534, 2.435535100927038, 0.7079881733133355, 0.31467573359242035, 1.1926023566358455, -0.06993966578389549, 1.3105124782278086, -1.791805838390315, 0.786940457459193, 1.392374807377714, 0.18685037333581317, 0.5159651139015339, -1.3788427841040845, 0.4481570242827706, -0.23192149556047384, -1.793900944752704, -0.6503177928618666, -1.2523592184401433, 0.9397745472901148, -1.2140853902232587, 1.3536707221874327, -2.2065900699338212, -0.2597360149080525, -1.4231111759501243, 1.3997148101941983, -0.8711159875276375, 0.1535439165088105, 0.6223667974799626, -0.5428449527751454, -0.40790956932452943, -0.74095035588002, 1.180243228006508, -1.2246704095828187, 0.5104837648637698, 0.45166433234461617, 0.021824417646521932, -0.1199772823884989, -0.6313062350478947, 0.8962458311228109, 0.8459257422214808, 0.40390475120466934, -0.7075908392741708, 1.6564340845542072, 0.5361952772128227, -0.07758458280582371, 1.2853799260053234, -0.7655843186082435, -0.47497301247656126, -1.1259800726037426, 0.19101899430261973, -1.827357574298033, -2.2013084050446086, 0.9194612052082188, 0.13767551508349066, -1.474381924958377, -0.8835121299482696, 0.15730940685310918, 0.22846581412701608, 0.7715085536815187, -1.1394219297866262, 0.15117704785432218, -0.5729191210052296, 0.8201939049808525, 0.1915501286014221, -0.6403217290879047, 0.6696931832935046, 0.5515620084580015, -0.44800211781238813, 0.5496148064169799, -0.33023177959341304, -0.3405279676130839, 1.9117164440223209, 0.27499941131265915, 0.48223764210266046, 0.6010465347356609, 0.3359623795070407, 0.8393356310861901, -1.1715806085723153, 0.3231670247779722, 0.23374619998387358, 1.206861746979094, -0.6443967282087286, 1.9062966496430345, 2.189933048739878, -0.01675318476017029, -0.014711562140090341, 0.7294260989680877, -1.4051167130267577, 1.7692353305949258], \"xaxis\": \"x2\", \"y\": [0.24588717410753003, -1.5443326651682237, -0.7892940576313485, -0.7521408949768861, -0.4796778753536114, -0.038090741190589895, -1.2936477357446499, -2.723420833634864, 1.9086517655499613, 0.4087252992968224, -2.5161479197724548, 0.5467932638969071, 0.7522566966657753, -0.5375211691145616, -0.5575175182237166, 0.6909421933307822, 1.4178037665917353, -1.3189638698222304, 0.38135037719477854, -0.8975045777020152, 1.5990034926885215, 0.7513798196549333, -2.7246607309103466, 0.009181632602803554, -0.7199645224339926, 1.0159431349247343, 0.35555691751734403, 0.5133793537990036, -0.7898146830454974, 0.145975409251844, 0.7290500746987666, -0.03207417260027835, 0.5758332689076748, -0.7309258513953879, -1.3488321998603487, 0.9348030875542376, -0.5530946341539287, 0.708339786978607, 1.3589273059294322, 0.6042100092089738, -0.018519711780514307, -0.8497345423017969, 0.25930721389934425, 0.6570749338815411, 0.12722479020271082, 0.5981116642723051, 1.1087139573109894, 0.4335456958746609, -0.4986020130951775, 0.16019426329620462, 1.0956079098556886, 2.1781844015324, 0.38743513688648556, 0.23232445913149288, -0.02225732068587582, 1.240721487888421, 0.8348794737172368, 0.49131381569131605, -2.465460913038345, -1.4128691396273751, 0.45471027773277545, 0.2366496229800066, -0.8443631136799993, -1.5050581382231454, -0.3489519058130828, -0.09252638339915405, 0.4622723828835006, -1.0832375330785835, -0.172975234005294, 1.0525870174915173, -0.0605350567014285, 0.7431366307343629, -0.32259824462116854, 0.46655615372559767, -0.8766531102031185, -0.25067319773196817, 1.9220011649797581, -0.8995754398187623, -0.09723736864284754, 0.13632410802735093, -0.2645397703087663, 0.5956787521414239, -0.16086207093244567, 0.3919638756805205, 1.6431864559841054, 0.500292502469693, -2.2982921012198525, 0.7040176660035111, 0.5779821463206176, 0.37819996172214365, 0.2468873010137249, 0.7112664646179129, -1.8315612256428866, -0.8926722024059833, -2.2000637729889774, -0.1347498116867438, 0.418059595878196, -0.21752058196722435, 0.25604934393242434, 1.0349299221152255], \"yaxis\": \"y2\"}, {\"line\": {\"color\": \"rgba(128, 128, 128, 1.0)\", \"dash\": \"solid\", \"shape\": \"linear\", \"width\": 1.3}, \"marker\": {\"size\": 2, \"symbol\": \"circle\"}, \"mode\": \"markers\", \"name\": \"A\", \"text\": \"\", \"type\": \"scatter\", \"x\": [-1.6637658403871858, -0.657694686649294, 1.3059715178359503, -0.3149914691862647, -0.19740147661311008, -0.7262569294732033, -0.3723489729197542, -0.6218029304938382, 1.2635332476692993, 0.33355540120598637, 0.8648963919743383, 0.3866360975707411, 0.3155953078310076, 0.18153871384542808, 0.38243747455230664, 1.3018507017779704, -1.6493392399381743, 0.1435498441794928, -0.33487382215636274, 0.5974699883650271, -1.121250409459856, -0.3299784112379456, 0.6300607469165224, -0.021874398113414493, -1.140421242973153, -0.8342853458804352, -0.46687658894650796, -0.12006718098128669, 0.001794795971967873, 2.2334745742355744, -0.45532941432740776, 0.45369589492365353, 0.5715742551648502, 0.12999205451536372, 0.9798427403913135, -1.1013854499947524, 0.7451227517265764, -0.16558731642780355, -0.7578513959831613, 0.23148677932941697, 0.05291433736418039, 0.14120620024153313, -0.890361671499394, -0.5828256100210454, -0.26662291596413, 0.12680816802050154, -0.7996736330653782, 0.2829032455605437, 0.38365787558487613, 0.722823574532583, 0.9864283730373686, 0.7167756493371129, 0.7986176751538434, -0.26357220490136485, 0.5832744365822795, -0.39725346676339407, -0.2848428532723495, -1.062948231189015, 0.10343690022589565, -0.5260241153573986, -0.04513586070032704, 0.1568763359759615, -2.4793109380293026, -1.7262919520054156, -0.28309215653608133, -1.4292441498466897, -0.49299508967169486, 1.4690306914515092, -0.3720244126792224, 0.8530079426187204, 0.23232697689398335, 0.2232915630510586, 1.333059407449093, 0.4204088652819113, 0.2728601828302727, -1.5002908429312536, -0.03679699218171279, 1.03150319088492, -0.5333704521533563, -0.2241921679973938, -0.1348245531798344, 1.4790065301549309, -0.21286254648898834, -1.1138480435184028, -0.2871485553416153, -0.38214607242128873, 0.03953002115077242, -0.8995192117977602, 0.5898544614973151, -1.1280270782243411, -1.0017202034219947, 1.334528050829268, 0.2302117795420704, 2.2917553919395877, 0.38535825261604134, 0.4409141875158465, -0.8982601958634147, 1.456441925363782, -0.7066633678271631, 0.491245841413864], \"xaxis\": \"x3\", \"y\": [0.24588717410753003, -1.5443326651682237, -0.7892940576313485, -0.7521408949768861, -0.4796778753536114, -0.038090741190589895, -1.2936477357446499, -2.723420833634864, 1.9086517655499613, 0.4087252992968224, -2.5161479197724548, 0.5467932638969071, 0.7522566966657753, -0.5375211691145616, -0.5575175182237166, 0.6909421933307822, 1.4178037665917353, -1.3189638698222304, 0.38135037719477854, -0.8975045777020152, 1.5990034926885215, 0.7513798196549333, -2.7246607309103466, 0.009181632602803554, -0.7199645224339926, 1.0159431349247343, 0.35555691751734403, 0.5133793537990036, -0.7898146830454974, 0.145975409251844, 0.7290500746987666, -0.03207417260027835, 0.5758332689076748, -0.7309258513953879, -1.3488321998603487, 0.9348030875542376, -0.5530946341539287, 0.708339786978607, 1.3589273059294322, 0.6042100092089738, -0.018519711780514307, -0.8497345423017969, 0.25930721389934425, 0.6570749338815411, 0.12722479020271082, 0.5981116642723051, 1.1087139573109894, 0.4335456958746609, -0.4986020130951775, 0.16019426329620462, 1.0956079098556886, 2.1781844015324, 0.38743513688648556, 0.23232445913149288, -0.02225732068587582, 1.240721487888421, 0.8348794737172368, 0.49131381569131605, -2.465460913038345, -1.4128691396273751, 0.45471027773277545, 0.2366496229800066, -0.8443631136799993, -1.5050581382231454, -0.3489519058130828, -0.09252638339915405, 0.4622723828835006, -1.0832375330785835, -0.172975234005294, 1.0525870174915173, -0.0605350567014285, 0.7431366307343629, -0.32259824462116854, 0.46655615372559767, -0.8766531102031185, -0.25067319773196817, 1.9220011649797581, -0.8995754398187623, -0.09723736864284754, 0.13632410802735093, -0.2645397703087663, 0.5956787521414239, -0.16086207093244567, 0.3919638756805205, 1.6431864559841054, 0.500292502469693, -2.2982921012198525, 0.7040176660035111, 0.5779821463206176, 0.37819996172214365, 0.2468873010137249, 0.7112664646179129, -1.8315612256428866, -0.8926722024059833, -2.2000637729889774, -0.1347498116867438, 0.418059595878196, -0.21752058196722435, 0.25604934393242434, 1.0349299221152255], \"yaxis\": \"y3\"}, {\"line\": {\"color\": \"rgba(128, 128, 128, 1.0)\", \"dash\": \"solid\", \"shape\": \"linear\", \"width\": 1.3}, \"marker\": {\"size\": 2, \"symbol\": \"circle\"}, \"mode\": \"markers\", \"name\": \"A\", \"text\": \"\", \"type\": \"scatter\", \"x\": [0.36658334448611524, 0.19845076220323576, -0.5651712027994558, 2.193577866173761, 1.5149948785886453, 1.6733520741671735, -1.1725004239501247, -1.1707014405700813, 1.2359990662291649, 0.19842120481922254, 0.7330485339994786, -0.8693083595099061, -0.5270413468799706, -1.354218913431506, -1.7685244077435833, -0.260314589462929, 0.30282326692474354, -0.2717067829910568, -1.2150409383619503, -0.2555709607571646, -0.05124075636918029, 1.8852519764268754, -1.601286850490827, 1.54072258436688, 0.3571339450518127, 0.10175361194820905, 1.7010011270831262, -0.8075249021394392, 0.9985264405480407, 2.3909015128456126, -1.818944665442849, 1.0942605179660203, 0.5607010732335282, 1.3624184981034404, 1.780995774836401, 1.7423040886955967, 0.39364260342716445, -1.2904760393544574, 0.45070832653871207, -0.10771508015659297, -0.2943301168013902, 0.3932242030301506, 1.0848668371554122, 0.1368611776492048, 0.8202827429670868, -0.2923089363193607, -1.4450748380215312, -1.4431674879988077, 0.9415490019443867, -0.48920417409841094, -0.6914636868574582, -0.3481772958397043, 1.0403129130513384, 1.5073119731677258, -0.04448455581151121, -1.4162702853379443, 1.6775212313123686, 0.9680065391411762, -1.059446987989666, -0.3633843198121292, 0.10456297098003199, 1.0742443032168776, 0.14146271989491305, 0.29668491474159064, 0.16422150420802972, -0.7101348857676307, -0.33599711095820306, -1.1118327374975754, -1.5426044057465307, -1.0698524813724384, -1.6008550676497943, 0.4258535835859018, -0.8565382307789904, -0.3344250668125585, -0.3245812261322852, 0.869651399432386, 1.5324236508167144, -1.0979129972793518, 0.8837655330739056, -1.4834538691705255, 0.2984133034622976, 0.9226592844372362, 0.4472688467531478, -0.19016849747466189, -0.40828103650485137, 2.521920124778835, -0.5723942629924068, 0.36807494520995543, -0.9663822982751383, -0.5784278949305642, -0.9298529129033023, -2.1240941747407684, 0.23853420572339354, 1.0258151572359666, 0.9330593686088765, 0.09828079449549484, 0.19886478752367762, -0.5353917624257729, 0.47265665142232643, -1.3887969384841345], \"xaxis\": \"x4\", \"y\": [0.24588717410753003, -1.5443326651682237, -0.7892940576313485, -0.7521408949768861, -0.4796778753536114, -0.038090741190589895, -1.2936477357446499, -2.723420833634864, 1.9086517655499613, 0.4087252992968224, -2.5161479197724548, 0.5467932638969071, 0.7522566966657753, -0.5375211691145616, -0.5575175182237166, 0.6909421933307822, 1.4178037665917353, -1.3189638698222304, 0.38135037719477854, -0.8975045777020152, 1.5990034926885215, 0.7513798196549333, -2.7246607309103466, 0.009181632602803554, -0.7199645224339926, 1.0159431349247343, 0.35555691751734403, 0.5133793537990036, -0.7898146830454974, 0.145975409251844, 0.7290500746987666, -0.03207417260027835, 0.5758332689076748, -0.7309258513953879, -1.3488321998603487, 0.9348030875542376, -0.5530946341539287, 0.708339786978607, 1.3589273059294322, 0.6042100092089738, -0.018519711780514307, -0.8497345423017969, 0.25930721389934425, 0.6570749338815411, 0.12722479020271082, 0.5981116642723051, 1.1087139573109894, 0.4335456958746609, -0.4986020130951775, 0.16019426329620462, 1.0956079098556886, 2.1781844015324, 0.38743513688648556, 0.23232445913149288, -0.02225732068587582, 1.240721487888421, 0.8348794737172368, 0.49131381569131605, -2.465460913038345, -1.4128691396273751, 0.45471027773277545, 0.2366496229800066, -0.8443631136799993, -1.5050581382231454, -0.3489519058130828, -0.09252638339915405, 0.4622723828835006, -1.0832375330785835, -0.172975234005294, 1.0525870174915173, -0.0605350567014285, 0.7431366307343629, -0.32259824462116854, 0.46655615372559767, -0.8766531102031185, -0.25067319773196817, 1.9220011649797581, -0.8995754398187623, -0.09723736864284754, 0.13632410802735093, -0.2645397703087663, 0.5956787521414239, -0.16086207093244567, 0.3919638756805205, 1.6431864559841054, 0.500292502469693, -2.2982921012198525, 0.7040176660035111, 0.5779821463206176, 0.37819996172214365, 0.2468873010137249, 0.7112664646179129, -1.8315612256428866, -0.8926722024059833, -2.2000637729889774, -0.1347498116867438, 0.418059595878196, -0.21752058196722435, 0.25604934393242434, 1.0349299221152255], \"yaxis\": \"y4\"}, {\"line\": {\"color\": \"rgba(128, 128, 128, 1.0)\", \"dash\": \"solid\", \"shape\": \"linear\", \"width\": 1.3}, \"marker\": {\"size\": 2, \"symbol\": \"circle\"}, \"mode\": \"markers\", \"name\": \"B\", \"text\": \"\", \"type\": \"scatter\", \"x\": [0.24588717410753003, -1.5443326651682237, -0.7892940576313485, -0.7521408949768861, -0.4796778753536114, -0.038090741190589895, -1.2936477357446499, -2.723420833634864, 1.9086517655499613, 0.4087252992968224, -2.5161479197724548, 0.5467932638969071, 0.7522566966657753, -0.5375211691145616, -0.5575175182237166, 0.6909421933307822, 1.4178037665917353, -1.3189638698222304, 0.38135037719477854, -0.8975045777020152, 1.5990034926885215, 0.7513798196549333, -2.7246607309103466, 0.009181632602803554, -0.7199645224339926, 1.0159431349247343, 0.35555691751734403, 0.5133793537990036, -0.7898146830454974, 0.145975409251844, 0.7290500746987666, -0.03207417260027835, 0.5758332689076748, -0.7309258513953879, -1.3488321998603487, 0.9348030875542376, -0.5530946341539287, 0.708339786978607, 1.3589273059294322, 0.6042100092089738, -0.018519711780514307, -0.8497345423017969, 0.25930721389934425, 0.6570749338815411, 0.12722479020271082, 0.5981116642723051, 1.1087139573109894, 0.4335456958746609, -0.4986020130951775, 0.16019426329620462, 1.0956079098556886, 2.1781844015324, 0.38743513688648556, 0.23232445913149288, -0.02225732068587582, 1.240721487888421, 0.8348794737172368, 0.49131381569131605, -2.465460913038345, -1.4128691396273751, 0.45471027773277545, 0.2366496229800066, -0.8443631136799993, -1.5050581382231454, -0.3489519058130828, -0.09252638339915405, 0.4622723828835006, -1.0832375330785835, -0.172975234005294, 1.0525870174915173, -0.0605350567014285, 0.7431366307343629, -0.32259824462116854, 0.46655615372559767, -0.8766531102031185, -0.25067319773196817, 1.9220011649797581, -0.8995754398187623, -0.09723736864284754, 0.13632410802735093, -0.2645397703087663, 0.5956787521414239, -0.16086207093244567, 0.3919638756805205, 1.6431864559841054, 0.500292502469693, -2.2982921012198525, 0.7040176660035111, 0.5779821463206176, 0.37819996172214365, 0.2468873010137249, 0.7112664646179129, -1.8315612256428866, -0.8926722024059833, -2.2000637729889774, -0.1347498116867438, 0.418059595878196, -0.21752058196722435, 0.25604934393242434, 1.0349299221152255], \"xaxis\": \"x5\", \"y\": [0.17890934769892103, -0.033123808583366866, -1.7822064108916256, -0.5373491252336633, -1.4571186682282393, -1.4078878238560042, -1.2674356310721624, 2.019550830934474, -0.4888330588658283, 0.13141884905230608, -0.9312556526036885, -0.007754038998178534, 2.435535100927038, 0.7079881733133355, 0.31467573359242035, 1.1926023566358455, -0.06993966578389549, 1.3105124782278086, -1.791805838390315, 0.786940457459193, 1.392374807377714, 0.18685037333581317, 0.5159651139015339, -1.3788427841040845, 0.4481570242827706, -0.23192149556047384, -1.793900944752704, -0.6503177928618666, -1.2523592184401433, 0.9397745472901148, -1.2140853902232587, 1.3536707221874327, -2.2065900699338212, -0.2597360149080525, -1.4231111759501243, 1.3997148101941983, -0.8711159875276375, 0.1535439165088105, 0.6223667974799626, -0.5428449527751454, -0.40790956932452943, -0.74095035588002, 1.180243228006508, -1.2246704095828187, 0.5104837648637698, 0.45166433234461617, 0.021824417646521932, -0.1199772823884989, -0.6313062350478947, 0.8962458311228109, 0.8459257422214808, 0.40390475120466934, -0.7075908392741708, 1.6564340845542072, 0.5361952772128227, -0.07758458280582371, 1.2853799260053234, -0.7655843186082435, -0.47497301247656126, -1.1259800726037426, 0.19101899430261973, -1.827357574298033, -2.2013084050446086, 0.9194612052082188, 0.13767551508349066, -1.474381924958377, -0.8835121299482696, 0.15730940685310918, 0.22846581412701608, 0.7715085536815187, -1.1394219297866262, 0.15117704785432218, -0.5729191210052296, 0.8201939049808525, 0.1915501286014221, -0.6403217290879047, 0.6696931832935046, 0.5515620084580015, -0.44800211781238813, 0.5496148064169799, -0.33023177959341304, -0.3405279676130839, 1.9117164440223209, 0.27499941131265915, 0.48223764210266046, 0.6010465347356609, 0.3359623795070407, 0.8393356310861901, -1.1715806085723153, 0.3231670247779722, 0.23374619998387358, 1.206861746979094, -0.6443967282087286, 1.9062966496430345, 2.189933048739878, -0.01675318476017029, -0.014711562140090341, 0.7294260989680877, -1.4051167130267577, 1.7692353305949258], \"yaxis\": \"y5\"}, {\"histfunc\": \"count\", \"histnorm\": \"\", \"marker\": {\"color\": \"rgba(55, 128, 191, 1.0)\", \"line\": {\"color\": \"#4D5663\", \"width\": 1.3}}, \"name\": \"B\", \"nbinsx\": 10, \"opacity\": 0.8, \"orientation\": \"v\", \"type\": \"histogram\", \"x\": [0.17890934769892103, -0.033123808583366866, -1.7822064108916256, -0.5373491252336633, -1.4571186682282393, -1.4078878238560042, -1.2674356310721624, 2.019550830934474, -0.4888330588658283, 0.13141884905230608, -0.9312556526036885, -0.007754038998178534, 2.435535100927038, 0.7079881733133355, 0.31467573359242035, 1.1926023566358455, -0.06993966578389549, 1.3105124782278086, -1.791805838390315, 0.786940457459193, 1.392374807377714, 0.18685037333581317, 0.5159651139015339, -1.3788427841040845, 0.4481570242827706, -0.23192149556047384, -1.793900944752704, -0.6503177928618666, -1.2523592184401433, 0.9397745472901148, -1.2140853902232587, 1.3536707221874327, -2.2065900699338212, -0.2597360149080525, -1.4231111759501243, 1.3997148101941983, -0.8711159875276375, 0.1535439165088105, 0.6223667974799626, -0.5428449527751454, -0.40790956932452943, -0.74095035588002, 1.180243228006508, -1.2246704095828187, 0.5104837648637698, 0.45166433234461617, 0.021824417646521932, -0.1199772823884989, -0.6313062350478947, 0.8962458311228109, 0.8459257422214808, 0.40390475120466934, -0.7075908392741708, 1.6564340845542072, 0.5361952772128227, -0.07758458280582371, 1.2853799260053234, -0.7655843186082435, -0.47497301247656126, -1.1259800726037426, 0.19101899430261973, -1.827357574298033, -2.2013084050446086, 0.9194612052082188, 0.13767551508349066, -1.474381924958377, -0.8835121299482696, 0.15730940685310918, 0.22846581412701608, 0.7715085536815187, -1.1394219297866262, 0.15117704785432218, -0.5729191210052296, 0.8201939049808525, 0.1915501286014221, -0.6403217290879047, 0.6696931832935046, 0.5515620084580015, -0.44800211781238813, 0.5496148064169799, -0.33023177959341304, -0.3405279676130839, 1.9117164440223209, 0.27499941131265915, 0.48223764210266046, 0.6010465347356609, 0.3359623795070407, 0.8393356310861901, -1.1715806085723153, 0.3231670247779722, 0.23374619998387358, 1.206861746979094, -0.6443967282087286, 1.9062966496430345, 2.189933048739878, -0.01675318476017029, -0.014711562140090341, 0.7294260989680877, -1.4051167130267577, 1.7692353305949258], \"xaxis\": \"x6\", \"yaxis\": \"y6\"}, {\"line\": {\"color\": \"rgba(128, 128, 128, 1.0)\", \"dash\": \"solid\", \"shape\": \"linear\", \"width\": 1.3}, \"marker\": {\"size\": 2, \"symbol\": \"circle\"}, \"mode\": \"markers\", \"name\": \"B\", \"text\": \"\", \"type\": \"scatter\", \"x\": [-1.6637658403871858, -0.657694686649294, 1.3059715178359503, -0.3149914691862647, -0.19740147661311008, -0.7262569294732033, -0.3723489729197542, -0.6218029304938382, 1.2635332476692993, 0.33355540120598637, 0.8648963919743383, 0.3866360975707411, 0.3155953078310076, 0.18153871384542808, 0.38243747455230664, 1.3018507017779704, -1.6493392399381743, 0.1435498441794928, -0.33487382215636274, 0.5974699883650271, -1.121250409459856, -0.3299784112379456, 0.6300607469165224, -0.021874398113414493, -1.140421242973153, -0.8342853458804352, -0.46687658894650796, -0.12006718098128669, 0.001794795971967873, 2.2334745742355744, -0.45532941432740776, 0.45369589492365353, 0.5715742551648502, 0.12999205451536372, 0.9798427403913135, -1.1013854499947524, 0.7451227517265764, -0.16558731642780355, -0.7578513959831613, 0.23148677932941697, 0.05291433736418039, 0.14120620024153313, -0.890361671499394, -0.5828256100210454, -0.26662291596413, 0.12680816802050154, -0.7996736330653782, 0.2829032455605437, 0.38365787558487613, 0.722823574532583, 0.9864283730373686, 0.7167756493371129, 0.7986176751538434, -0.26357220490136485, 0.5832744365822795, -0.39725346676339407, -0.2848428532723495, -1.062948231189015, 0.10343690022589565, -0.5260241153573986, -0.04513586070032704, 0.1568763359759615, -2.4793109380293026, -1.7262919520054156, -0.28309215653608133, -1.4292441498466897, -0.49299508967169486, 1.4690306914515092, -0.3720244126792224, 0.8530079426187204, 0.23232697689398335, 0.2232915630510586, 1.333059407449093, 0.4204088652819113, 0.2728601828302727, -1.5002908429312536, -0.03679699218171279, 1.03150319088492, -0.5333704521533563, -0.2241921679973938, -0.1348245531798344, 1.4790065301549309, -0.21286254648898834, -1.1138480435184028, -0.2871485553416153, -0.38214607242128873, 0.03953002115077242, -0.8995192117977602, 0.5898544614973151, -1.1280270782243411, -1.0017202034219947, 1.334528050829268, 0.2302117795420704, 2.2917553919395877, 0.38535825261604134, 0.4409141875158465, -0.8982601958634147, 1.456441925363782, -0.7066633678271631, 0.491245841413864], \"xaxis\": \"x7\", \"y\": [0.17890934769892103, -0.033123808583366866, -1.7822064108916256, -0.5373491252336633, -1.4571186682282393, -1.4078878238560042, -1.2674356310721624, 2.019550830934474, -0.4888330588658283, 0.13141884905230608, -0.9312556526036885, -0.007754038998178534, 2.435535100927038, 0.7079881733133355, 0.31467573359242035, 1.1926023566358455, -0.06993966578389549, 1.3105124782278086, -1.791805838390315, 0.786940457459193, 1.392374807377714, 0.18685037333581317, 0.5159651139015339, -1.3788427841040845, 0.4481570242827706, -0.23192149556047384, -1.793900944752704, -0.6503177928618666, -1.2523592184401433, 0.9397745472901148, -1.2140853902232587, 1.3536707221874327, -2.2065900699338212, -0.2597360149080525, -1.4231111759501243, 1.3997148101941983, -0.8711159875276375, 0.1535439165088105, 0.6223667974799626, -0.5428449527751454, -0.40790956932452943, -0.74095035588002, 1.180243228006508, -1.2246704095828187, 0.5104837648637698, 0.45166433234461617, 0.021824417646521932, -0.1199772823884989, -0.6313062350478947, 0.8962458311228109, 0.8459257422214808, 0.40390475120466934, -0.7075908392741708, 1.6564340845542072, 0.5361952772128227, -0.07758458280582371, 1.2853799260053234, -0.7655843186082435, -0.47497301247656126, -1.1259800726037426, 0.19101899430261973, -1.827357574298033, -2.2013084050446086, 0.9194612052082188, 0.13767551508349066, -1.474381924958377, -0.8835121299482696, 0.15730940685310918, 0.22846581412701608, 0.7715085536815187, -1.1394219297866262, 0.15117704785432218, -0.5729191210052296, 0.8201939049808525, 0.1915501286014221, -0.6403217290879047, 0.6696931832935046, 0.5515620084580015, -0.44800211781238813, 0.5496148064169799, -0.33023177959341304, -0.3405279676130839, 1.9117164440223209, 0.27499941131265915, 0.48223764210266046, 0.6010465347356609, 0.3359623795070407, 0.8393356310861901, -1.1715806085723153, 0.3231670247779722, 0.23374619998387358, 1.206861746979094, -0.6443967282087286, 1.9062966496430345, 2.189933048739878, -0.01675318476017029, -0.014711562140090341, 0.7294260989680877, -1.4051167130267577, 1.7692353305949258], \"yaxis\": \"y7\"}, {\"line\": {\"color\": \"rgba(128, 128, 128, 1.0)\", \"dash\": \"solid\", \"shape\": \"linear\", \"width\": 1.3}, \"marker\": {\"size\": 2, \"symbol\": \"circle\"}, \"mode\": \"markers\", \"name\": \"B\", \"text\": \"\", \"type\": \"scatter\", \"x\": [0.36658334448611524, 0.19845076220323576, -0.5651712027994558, 2.193577866173761, 1.5149948785886453, 1.6733520741671735, -1.1725004239501247, -1.1707014405700813, 1.2359990662291649, 0.19842120481922254, 0.7330485339994786, -0.8693083595099061, -0.5270413468799706, -1.354218913431506, -1.7685244077435833, -0.260314589462929, 0.30282326692474354, -0.2717067829910568, -1.2150409383619503, -0.2555709607571646, -0.05124075636918029, 1.8852519764268754, -1.601286850490827, 1.54072258436688, 0.3571339450518127, 0.10175361194820905, 1.7010011270831262, -0.8075249021394392, 0.9985264405480407, 2.3909015128456126, -1.818944665442849, 1.0942605179660203, 0.5607010732335282, 1.3624184981034404, 1.780995774836401, 1.7423040886955967, 0.39364260342716445, -1.2904760393544574, 0.45070832653871207, -0.10771508015659297, -0.2943301168013902, 0.3932242030301506, 1.0848668371554122, 0.1368611776492048, 0.8202827429670868, -0.2923089363193607, -1.4450748380215312, -1.4431674879988077, 0.9415490019443867, -0.48920417409841094, -0.6914636868574582, -0.3481772958397043, 1.0403129130513384, 1.5073119731677258, -0.04448455581151121, -1.4162702853379443, 1.6775212313123686, 0.9680065391411762, -1.059446987989666, -0.3633843198121292, 0.10456297098003199, 1.0742443032168776, 0.14146271989491305, 0.29668491474159064, 0.16422150420802972, -0.7101348857676307, -0.33599711095820306, -1.1118327374975754, -1.5426044057465307, -1.0698524813724384, -1.6008550676497943, 0.4258535835859018, -0.8565382307789904, -0.3344250668125585, -0.3245812261322852, 0.869651399432386, 1.5324236508167144, -1.0979129972793518, 0.8837655330739056, -1.4834538691705255, 0.2984133034622976, 0.9226592844372362, 0.4472688467531478, -0.19016849747466189, -0.40828103650485137, 2.521920124778835, -0.5723942629924068, 0.36807494520995543, -0.9663822982751383, -0.5784278949305642, -0.9298529129033023, -2.1240941747407684, 0.23853420572339354, 1.0258151572359666, 0.9330593686088765, 0.09828079449549484, 0.19886478752367762, -0.5353917624257729, 0.47265665142232643, -1.3887969384841345], \"xaxis\": \"x8\", \"y\": [0.17890934769892103, -0.033123808583366866, -1.7822064108916256, -0.5373491252336633, -1.4571186682282393, -1.4078878238560042, -1.2674356310721624, 2.019550830934474, -0.4888330588658283, 0.13141884905230608, -0.9312556526036885, -0.007754038998178534, 2.435535100927038, 0.7079881733133355, 0.31467573359242035, 1.1926023566358455, -0.06993966578389549, 1.3105124782278086, -1.791805838390315, 0.786940457459193, 1.392374807377714, 0.18685037333581317, 0.5159651139015339, -1.3788427841040845, 0.4481570242827706, -0.23192149556047384, -1.793900944752704, -0.6503177928618666, -1.2523592184401433, 0.9397745472901148, -1.2140853902232587, 1.3536707221874327, -2.2065900699338212, -0.2597360149080525, -1.4231111759501243, 1.3997148101941983, -0.8711159875276375, 0.1535439165088105, 0.6223667974799626, -0.5428449527751454, -0.40790956932452943, -0.74095035588002, 1.180243228006508, -1.2246704095828187, 0.5104837648637698, 0.45166433234461617, 0.021824417646521932, -0.1199772823884989, -0.6313062350478947, 0.8962458311228109, 0.8459257422214808, 0.40390475120466934, -0.7075908392741708, 1.6564340845542072, 0.5361952772128227, -0.07758458280582371, 1.2853799260053234, -0.7655843186082435, -0.47497301247656126, -1.1259800726037426, 0.19101899430261973, -1.827357574298033, -2.2013084050446086, 0.9194612052082188, 0.13767551508349066, -1.474381924958377, -0.8835121299482696, 0.15730940685310918, 0.22846581412701608, 0.7715085536815187, -1.1394219297866262, 0.15117704785432218, -0.5729191210052296, 0.8201939049808525, 0.1915501286014221, -0.6403217290879047, 0.6696931832935046, 0.5515620084580015, -0.44800211781238813, 0.5496148064169799, -0.33023177959341304, -0.3405279676130839, 1.9117164440223209, 0.27499941131265915, 0.48223764210266046, 0.6010465347356609, 0.3359623795070407, 0.8393356310861901, -1.1715806085723153, 0.3231670247779722, 0.23374619998387358, 1.206861746979094, -0.6443967282087286, 1.9062966496430345, 2.189933048739878, -0.01675318476017029, -0.014711562140090341, 0.7294260989680877, -1.4051167130267577, 1.7692353305949258], \"yaxis\": \"y8\"}, {\"line\": {\"color\": \"rgba(128, 128, 128, 1.0)\", \"dash\": \"solid\", \"shape\": \"linear\", \"width\": 1.3}, \"marker\": {\"size\": 2, \"symbol\": \"circle\"}, \"mode\": \"markers\", \"name\": \"C\", \"text\": \"\", \"type\": \"scatter\", \"x\": [0.24588717410753003, -1.5443326651682237, -0.7892940576313485, -0.7521408949768861, -0.4796778753536114, -0.038090741190589895, -1.2936477357446499, -2.723420833634864, 1.9086517655499613, 0.4087252992968224, -2.5161479197724548, 0.5467932638969071, 0.7522566966657753, -0.5375211691145616, -0.5575175182237166, 0.6909421933307822, 1.4178037665917353, -1.3189638698222304, 0.38135037719477854, -0.8975045777020152, 1.5990034926885215, 0.7513798196549333, -2.7246607309103466, 0.009181632602803554, -0.7199645224339926, 1.0159431349247343, 0.35555691751734403, 0.5133793537990036, -0.7898146830454974, 0.145975409251844, 0.7290500746987666, -0.03207417260027835, 0.5758332689076748, -0.7309258513953879, -1.3488321998603487, 0.9348030875542376, -0.5530946341539287, 0.708339786978607, 1.3589273059294322, 0.6042100092089738, -0.018519711780514307, -0.8497345423017969, 0.25930721389934425, 0.6570749338815411, 0.12722479020271082, 0.5981116642723051, 1.1087139573109894, 0.4335456958746609, -0.4986020130951775, 0.16019426329620462, 1.0956079098556886, 2.1781844015324, 0.38743513688648556, 0.23232445913149288, -0.02225732068587582, 1.240721487888421, 0.8348794737172368, 0.49131381569131605, -2.465460913038345, -1.4128691396273751, 0.45471027773277545, 0.2366496229800066, -0.8443631136799993, -1.5050581382231454, -0.3489519058130828, -0.09252638339915405, 0.4622723828835006, -1.0832375330785835, -0.172975234005294, 1.0525870174915173, -0.0605350567014285, 0.7431366307343629, -0.32259824462116854, 0.46655615372559767, -0.8766531102031185, -0.25067319773196817, 1.9220011649797581, -0.8995754398187623, -0.09723736864284754, 0.13632410802735093, -0.2645397703087663, 0.5956787521414239, -0.16086207093244567, 0.3919638756805205, 1.6431864559841054, 0.500292502469693, -2.2982921012198525, 0.7040176660035111, 0.5779821463206176, 0.37819996172214365, 0.2468873010137249, 0.7112664646179129, -1.8315612256428866, -0.8926722024059833, -2.2000637729889774, -0.1347498116867438, 0.418059595878196, -0.21752058196722435, 0.25604934393242434, 1.0349299221152255], \"xaxis\": \"x9\", \"y\": [-1.6637658403871858, -0.657694686649294, 1.3059715178359503, -0.3149914691862647, -0.19740147661311008, -0.7262569294732033, -0.3723489729197542, -0.6218029304938382, 1.2635332476692993, 0.33355540120598637, 0.8648963919743383, 0.3866360975707411, 0.3155953078310076, 0.18153871384542808, 0.38243747455230664, 1.3018507017779704, -1.6493392399381743, 0.1435498441794928, -0.33487382215636274, 0.5974699883650271, -1.121250409459856, -0.3299784112379456, 0.6300607469165224, -0.021874398113414493, -1.140421242973153, -0.8342853458804352, -0.46687658894650796, -0.12006718098128669, 0.001794795971967873, 2.2334745742355744, -0.45532941432740776, 0.45369589492365353, 0.5715742551648502, 0.12999205451536372, 0.9798427403913135, -1.1013854499947524, 0.7451227517265764, -0.16558731642780355, -0.7578513959831613, 0.23148677932941697, 0.05291433736418039, 0.14120620024153313, -0.890361671499394, -0.5828256100210454, -0.26662291596413, 0.12680816802050154, -0.7996736330653782, 0.2829032455605437, 0.38365787558487613, 0.722823574532583, 0.9864283730373686, 0.7167756493371129, 0.7986176751538434, -0.26357220490136485, 0.5832744365822795, -0.39725346676339407, -0.2848428532723495, -1.062948231189015, 0.10343690022589565, -0.5260241153573986, -0.04513586070032704, 0.1568763359759615, -2.4793109380293026, -1.7262919520054156, -0.28309215653608133, -1.4292441498466897, -0.49299508967169486, 1.4690306914515092, -0.3720244126792224, 0.8530079426187204, 0.23232697689398335, 0.2232915630510586, 1.333059407449093, 0.4204088652819113, 0.2728601828302727, -1.5002908429312536, -0.03679699218171279, 1.03150319088492, -0.5333704521533563, -0.2241921679973938, -0.1348245531798344, 1.4790065301549309, -0.21286254648898834, -1.1138480435184028, -0.2871485553416153, -0.38214607242128873, 0.03953002115077242, -0.8995192117977602, 0.5898544614973151, -1.1280270782243411, -1.0017202034219947, 1.334528050829268, 0.2302117795420704, 2.2917553919395877, 0.38535825261604134, 0.4409141875158465, -0.8982601958634147, 1.456441925363782, -0.7066633678271631, 0.491245841413864], \"yaxis\": \"y9\"}, {\"line\": {\"color\": \"rgba(128, 128, 128, 1.0)\", \"dash\": \"solid\", \"shape\": \"linear\", \"width\": 1.3}, \"marker\": {\"size\": 2, \"symbol\": \"circle\"}, \"mode\": \"markers\", \"name\": \"C\", \"text\": \"\", \"type\": \"scatter\", \"x\": [0.17890934769892103, -0.033123808583366866, -1.7822064108916256, -0.5373491252336633, -1.4571186682282393, -1.4078878238560042, -1.2674356310721624, 2.019550830934474, -0.4888330588658283, 0.13141884905230608, -0.9312556526036885, -0.007754038998178534, 2.435535100927038, 0.7079881733133355, 0.31467573359242035, 1.1926023566358455, -0.06993966578389549, 1.3105124782278086, -1.791805838390315, 0.786940457459193, 1.392374807377714, 0.18685037333581317, 0.5159651139015339, -1.3788427841040845, 0.4481570242827706, -0.23192149556047384, -1.793900944752704, -0.6503177928618666, -1.2523592184401433, 0.9397745472901148, -1.2140853902232587, 1.3536707221874327, -2.2065900699338212, -0.2597360149080525, -1.4231111759501243, 1.3997148101941983, -0.8711159875276375, 0.1535439165088105, 0.6223667974799626, -0.5428449527751454, -0.40790956932452943, -0.74095035588002, 1.180243228006508, -1.2246704095828187, 0.5104837648637698, 0.45166433234461617, 0.021824417646521932, -0.1199772823884989, -0.6313062350478947, 0.8962458311228109, 0.8459257422214808, 0.40390475120466934, -0.7075908392741708, 1.6564340845542072, 0.5361952772128227, -0.07758458280582371, 1.2853799260053234, -0.7655843186082435, -0.47497301247656126, -1.1259800726037426, 0.19101899430261973, -1.827357574298033, -2.2013084050446086, 0.9194612052082188, 0.13767551508349066, -1.474381924958377, -0.8835121299482696, 0.15730940685310918, 0.22846581412701608, 0.7715085536815187, -1.1394219297866262, 0.15117704785432218, -0.5729191210052296, 0.8201939049808525, 0.1915501286014221, -0.6403217290879047, 0.6696931832935046, 0.5515620084580015, -0.44800211781238813, 0.5496148064169799, -0.33023177959341304, -0.3405279676130839, 1.9117164440223209, 0.27499941131265915, 0.48223764210266046, 0.6010465347356609, 0.3359623795070407, 0.8393356310861901, -1.1715806085723153, 0.3231670247779722, 0.23374619998387358, 1.206861746979094, -0.6443967282087286, 1.9062966496430345, 2.189933048739878, -0.01675318476017029, -0.014711562140090341, 0.7294260989680877, -1.4051167130267577, 1.7692353305949258], \"xaxis\": \"x10\", \"y\": [-1.6637658403871858, -0.657694686649294, 1.3059715178359503, -0.3149914691862647, -0.19740147661311008, -0.7262569294732033, -0.3723489729197542, -0.6218029304938382, 1.2635332476692993, 0.33355540120598637, 0.8648963919743383, 0.3866360975707411, 0.3155953078310076, 0.18153871384542808, 0.38243747455230664, 1.3018507017779704, -1.6493392399381743, 0.1435498441794928, -0.33487382215636274, 0.5974699883650271, -1.121250409459856, -0.3299784112379456, 0.6300607469165224, -0.021874398113414493, -1.140421242973153, -0.8342853458804352, -0.46687658894650796, -0.12006718098128669, 0.001794795971967873, 2.2334745742355744, -0.45532941432740776, 0.45369589492365353, 0.5715742551648502, 0.12999205451536372, 0.9798427403913135, -1.1013854499947524, 0.7451227517265764, -0.16558731642780355, -0.7578513959831613, 0.23148677932941697, 0.05291433736418039, 0.14120620024153313, -0.890361671499394, -0.5828256100210454, -0.26662291596413, 0.12680816802050154, -0.7996736330653782, 0.2829032455605437, 0.38365787558487613, 0.722823574532583, 0.9864283730373686, 0.7167756493371129, 0.7986176751538434, -0.26357220490136485, 0.5832744365822795, -0.39725346676339407, -0.2848428532723495, -1.062948231189015, 0.10343690022589565, -0.5260241153573986, -0.04513586070032704, 0.1568763359759615, -2.4793109380293026, -1.7262919520054156, -0.28309215653608133, -1.4292441498466897, -0.49299508967169486, 1.4690306914515092, -0.3720244126792224, 0.8530079426187204, 0.23232697689398335, 0.2232915630510586, 1.333059407449093, 0.4204088652819113, 0.2728601828302727, -1.5002908429312536, -0.03679699218171279, 1.03150319088492, -0.5333704521533563, -0.2241921679973938, -0.1348245531798344, 1.4790065301549309, -0.21286254648898834, -1.1138480435184028, -0.2871485553416153, -0.38214607242128873, 0.03953002115077242, -0.8995192117977602, 0.5898544614973151, -1.1280270782243411, -1.0017202034219947, 1.334528050829268, 0.2302117795420704, 2.2917553919395877, 0.38535825261604134, 0.4409141875158465, -0.8982601958634147, 1.456441925363782, -0.7066633678271631, 0.491245841413864], \"yaxis\": \"y10\"}, {\"histfunc\": \"count\", \"histnorm\": \"\", \"marker\": {\"color\": \"rgba(50, 171, 96, 1.0)\", \"line\": {\"color\": \"#4D5663\", \"width\": 1.3}}, \"name\": \"C\", \"nbinsx\": 10, \"opacity\": 0.8, \"orientation\": \"v\", \"type\": \"histogram\", \"x\": [-1.6637658403871858, -0.657694686649294, 1.3059715178359503, -0.3149914691862647, -0.19740147661311008, -0.7262569294732033, -0.3723489729197542, -0.6218029304938382, 1.2635332476692993, 0.33355540120598637, 0.8648963919743383, 0.3866360975707411, 0.3155953078310076, 0.18153871384542808, 0.38243747455230664, 1.3018507017779704, -1.6493392399381743, 0.1435498441794928, -0.33487382215636274, 0.5974699883650271, -1.121250409459856, -0.3299784112379456, 0.6300607469165224, -0.021874398113414493, -1.140421242973153, -0.8342853458804352, -0.46687658894650796, -0.12006718098128669, 0.001794795971967873, 2.2334745742355744, -0.45532941432740776, 0.45369589492365353, 0.5715742551648502, 0.12999205451536372, 0.9798427403913135, -1.1013854499947524, 0.7451227517265764, -0.16558731642780355, -0.7578513959831613, 0.23148677932941697, 0.05291433736418039, 0.14120620024153313, -0.890361671499394, -0.5828256100210454, -0.26662291596413, 0.12680816802050154, -0.7996736330653782, 0.2829032455605437, 0.38365787558487613, 0.722823574532583, 0.9864283730373686, 0.7167756493371129, 0.7986176751538434, -0.26357220490136485, 0.5832744365822795, -0.39725346676339407, -0.2848428532723495, -1.062948231189015, 0.10343690022589565, -0.5260241153573986, -0.04513586070032704, 0.1568763359759615, -2.4793109380293026, -1.7262919520054156, -0.28309215653608133, -1.4292441498466897, -0.49299508967169486, 1.4690306914515092, -0.3720244126792224, 0.8530079426187204, 0.23232697689398335, 0.2232915630510586, 1.333059407449093, 0.4204088652819113, 0.2728601828302727, -1.5002908429312536, -0.03679699218171279, 1.03150319088492, -0.5333704521533563, -0.2241921679973938, -0.1348245531798344, 1.4790065301549309, -0.21286254648898834, -1.1138480435184028, -0.2871485553416153, -0.38214607242128873, 0.03953002115077242, -0.8995192117977602, 0.5898544614973151, -1.1280270782243411, -1.0017202034219947, 1.334528050829268, 0.2302117795420704, 2.2917553919395877, 0.38535825261604134, 0.4409141875158465, -0.8982601958634147, 1.456441925363782, -0.7066633678271631, 0.491245841413864], \"xaxis\": \"x11\", \"yaxis\": \"y11\"}, {\"line\": {\"color\": \"rgba(128, 128, 128, 1.0)\", \"dash\": \"solid\", \"shape\": \"linear\", \"width\": 1.3}, \"marker\": {\"size\": 2, \"symbol\": \"circle\"}, \"mode\": \"markers\", \"name\": \"C\", \"text\": \"\", \"type\": \"scatter\", \"x\": [0.36658334448611524, 0.19845076220323576, -0.5651712027994558, 2.193577866173761, 1.5149948785886453, 1.6733520741671735, -1.1725004239501247, -1.1707014405700813, 1.2359990662291649, 0.19842120481922254, 0.7330485339994786, -0.8693083595099061, -0.5270413468799706, -1.354218913431506, -1.7685244077435833, -0.260314589462929, 0.30282326692474354, -0.2717067829910568, -1.2150409383619503, -0.2555709607571646, -0.05124075636918029, 1.8852519764268754, -1.601286850490827, 1.54072258436688, 0.3571339450518127, 0.10175361194820905, 1.7010011270831262, -0.8075249021394392, 0.9985264405480407, 2.3909015128456126, -1.818944665442849, 1.0942605179660203, 0.5607010732335282, 1.3624184981034404, 1.780995774836401, 1.7423040886955967, 0.39364260342716445, -1.2904760393544574, 0.45070832653871207, -0.10771508015659297, -0.2943301168013902, 0.3932242030301506, 1.0848668371554122, 0.1368611776492048, 0.8202827429670868, -0.2923089363193607, -1.4450748380215312, -1.4431674879988077, 0.9415490019443867, -0.48920417409841094, -0.6914636868574582, -0.3481772958397043, 1.0403129130513384, 1.5073119731677258, -0.04448455581151121, -1.4162702853379443, 1.6775212313123686, 0.9680065391411762, -1.059446987989666, -0.3633843198121292, 0.10456297098003199, 1.0742443032168776, 0.14146271989491305, 0.29668491474159064, 0.16422150420802972, -0.7101348857676307, -0.33599711095820306, -1.1118327374975754, -1.5426044057465307, -1.0698524813724384, -1.6008550676497943, 0.4258535835859018, -0.8565382307789904, -0.3344250668125585, -0.3245812261322852, 0.869651399432386, 1.5324236508167144, -1.0979129972793518, 0.8837655330739056, -1.4834538691705255, 0.2984133034622976, 0.9226592844372362, 0.4472688467531478, -0.19016849747466189, -0.40828103650485137, 2.521920124778835, -0.5723942629924068, 0.36807494520995543, -0.9663822982751383, -0.5784278949305642, -0.9298529129033023, -2.1240941747407684, 0.23853420572339354, 1.0258151572359666, 0.9330593686088765, 0.09828079449549484, 0.19886478752367762, -0.5353917624257729, 0.47265665142232643, -1.3887969384841345], \"xaxis\": \"x12\", \"y\": [-1.6637658403871858, -0.657694686649294, 1.3059715178359503, -0.3149914691862647, -0.19740147661311008, -0.7262569294732033, -0.3723489729197542, -0.6218029304938382, 1.2635332476692993, 0.33355540120598637, 0.8648963919743383, 0.3866360975707411, 0.3155953078310076, 0.18153871384542808, 0.38243747455230664, 1.3018507017779704, -1.6493392399381743, 0.1435498441794928, -0.33487382215636274, 0.5974699883650271, -1.121250409459856, -0.3299784112379456, 0.6300607469165224, -0.021874398113414493, -1.140421242973153, -0.8342853458804352, -0.46687658894650796, -0.12006718098128669, 0.001794795971967873, 2.2334745742355744, -0.45532941432740776, 0.45369589492365353, 0.5715742551648502, 0.12999205451536372, 0.9798427403913135, -1.1013854499947524, 0.7451227517265764, -0.16558731642780355, -0.7578513959831613, 0.23148677932941697, 0.05291433736418039, 0.14120620024153313, -0.890361671499394, -0.5828256100210454, -0.26662291596413, 0.12680816802050154, -0.7996736330653782, 0.2829032455605437, 0.38365787558487613, 0.722823574532583, 0.9864283730373686, 0.7167756493371129, 0.7986176751538434, -0.26357220490136485, 0.5832744365822795, -0.39725346676339407, -0.2848428532723495, -1.062948231189015, 0.10343690022589565, -0.5260241153573986, -0.04513586070032704, 0.1568763359759615, -2.4793109380293026, -1.7262919520054156, -0.28309215653608133, -1.4292441498466897, -0.49299508967169486, 1.4690306914515092, -0.3720244126792224, 0.8530079426187204, 0.23232697689398335, 0.2232915630510586, 1.333059407449093, 0.4204088652819113, 0.2728601828302727, -1.5002908429312536, -0.03679699218171279, 1.03150319088492, -0.5333704521533563, -0.2241921679973938, -0.1348245531798344, 1.4790065301549309, -0.21286254648898834, -1.1138480435184028, -0.2871485553416153, -0.38214607242128873, 0.03953002115077242, -0.8995192117977602, 0.5898544614973151, -1.1280270782243411, -1.0017202034219947, 1.334528050829268, 0.2302117795420704, 2.2917553919395877, 0.38535825261604134, 0.4409141875158465, -0.8982601958634147, 1.456441925363782, -0.7066633678271631, 0.491245841413864], \"yaxis\": \"y12\"}, {\"line\": {\"color\": \"rgba(128, 128, 128, 1.0)\", \"dash\": \"solid\", \"shape\": \"linear\", \"width\": 1.3}, \"marker\": {\"size\": 2, \"symbol\": \"circle\"}, \"mode\": \"markers\", \"name\": \"D\", \"text\": \"\", \"type\": \"scatter\", \"x\": [0.24588717410753003, -1.5443326651682237, -0.7892940576313485, -0.7521408949768861, -0.4796778753536114, -0.038090741190589895, -1.2936477357446499, -2.723420833634864, 1.9086517655499613, 0.4087252992968224, -2.5161479197724548, 0.5467932638969071, 0.7522566966657753, -0.5375211691145616, -0.5575175182237166, 0.6909421933307822, 1.4178037665917353, -1.3189638698222304, 0.38135037719477854, -0.8975045777020152, 1.5990034926885215, 0.7513798196549333, -2.7246607309103466, 0.009181632602803554, -0.7199645224339926, 1.0159431349247343, 0.35555691751734403, 0.5133793537990036, -0.7898146830454974, 0.145975409251844, 0.7290500746987666, -0.03207417260027835, 0.5758332689076748, -0.7309258513953879, -1.3488321998603487, 0.9348030875542376, -0.5530946341539287, 0.708339786978607, 1.3589273059294322, 0.6042100092089738, -0.018519711780514307, -0.8497345423017969, 0.25930721389934425, 0.6570749338815411, 0.12722479020271082, 0.5981116642723051, 1.1087139573109894, 0.4335456958746609, -0.4986020130951775, 0.16019426329620462, 1.0956079098556886, 2.1781844015324, 0.38743513688648556, 0.23232445913149288, -0.02225732068587582, 1.240721487888421, 0.8348794737172368, 0.49131381569131605, -2.465460913038345, -1.4128691396273751, 0.45471027773277545, 0.2366496229800066, -0.8443631136799993, -1.5050581382231454, -0.3489519058130828, -0.09252638339915405, 0.4622723828835006, -1.0832375330785835, -0.172975234005294, 1.0525870174915173, -0.0605350567014285, 0.7431366307343629, -0.32259824462116854, 0.46655615372559767, -0.8766531102031185, -0.25067319773196817, 1.9220011649797581, -0.8995754398187623, -0.09723736864284754, 0.13632410802735093, -0.2645397703087663, 0.5956787521414239, -0.16086207093244567, 0.3919638756805205, 1.6431864559841054, 0.500292502469693, -2.2982921012198525, 0.7040176660035111, 0.5779821463206176, 0.37819996172214365, 0.2468873010137249, 0.7112664646179129, -1.8315612256428866, -0.8926722024059833, -2.2000637729889774, -0.1347498116867438, 0.418059595878196, -0.21752058196722435, 0.25604934393242434, 1.0349299221152255], \"xaxis\": \"x13\", \"y\": [0.36658334448611524, 0.19845076220323576, -0.5651712027994558, 2.193577866173761, 1.5149948785886453, 1.6733520741671735, -1.1725004239501247, -1.1707014405700813, 1.2359990662291649, 0.19842120481922254, 0.7330485339994786, -0.8693083595099061, -0.5270413468799706, -1.354218913431506, -1.7685244077435833, -0.260314589462929, 0.30282326692474354, -0.2717067829910568, -1.2150409383619503, -0.2555709607571646, -0.05124075636918029, 1.8852519764268754, -1.601286850490827, 1.54072258436688, 0.3571339450518127, 0.10175361194820905, 1.7010011270831262, -0.8075249021394392, 0.9985264405480407, 2.3909015128456126, -1.818944665442849, 1.0942605179660203, 0.5607010732335282, 1.3624184981034404, 1.780995774836401, 1.7423040886955967, 0.39364260342716445, -1.2904760393544574, 0.45070832653871207, -0.10771508015659297, -0.2943301168013902, 0.3932242030301506, 1.0848668371554122, 0.1368611776492048, 0.8202827429670868, -0.2923089363193607, -1.4450748380215312, -1.4431674879988077, 0.9415490019443867, -0.48920417409841094, -0.6914636868574582, -0.3481772958397043, 1.0403129130513384, 1.5073119731677258, -0.04448455581151121, -1.4162702853379443, 1.6775212313123686, 0.9680065391411762, -1.059446987989666, -0.3633843198121292, 0.10456297098003199, 1.0742443032168776, 0.14146271989491305, 0.29668491474159064, 0.16422150420802972, -0.7101348857676307, -0.33599711095820306, -1.1118327374975754, -1.5426044057465307, -1.0698524813724384, -1.6008550676497943, 0.4258535835859018, -0.8565382307789904, -0.3344250668125585, -0.3245812261322852, 0.869651399432386, 1.5324236508167144, -1.0979129972793518, 0.8837655330739056, -1.4834538691705255, 0.2984133034622976, 0.9226592844372362, 0.4472688467531478, -0.19016849747466189, -0.40828103650485137, 2.521920124778835, -0.5723942629924068, 0.36807494520995543, -0.9663822982751383, -0.5784278949305642, -0.9298529129033023, -2.1240941747407684, 0.23853420572339354, 1.0258151572359666, 0.9330593686088765, 0.09828079449549484, 0.19886478752367762, -0.5353917624257729, 0.47265665142232643, -1.3887969384841345], \"yaxis\": \"y13\"}, {\"line\": {\"color\": \"rgba(128, 128, 128, 1.0)\", \"dash\": \"solid\", \"shape\": \"linear\", \"width\": 1.3}, \"marker\": {\"size\": 2, \"symbol\": \"circle\"}, \"mode\": \"markers\", \"name\": \"D\", \"text\": \"\", \"type\": \"scatter\", \"x\": [0.17890934769892103, -0.033123808583366866, -1.7822064108916256, -0.5373491252336633, -1.4571186682282393, -1.4078878238560042, -1.2674356310721624, 2.019550830934474, -0.4888330588658283, 0.13141884905230608, -0.9312556526036885, -0.007754038998178534, 2.435535100927038, 0.7079881733133355, 0.31467573359242035, 1.1926023566358455, -0.06993966578389549, 1.3105124782278086, -1.791805838390315, 0.786940457459193, 1.392374807377714, 0.18685037333581317, 0.5159651139015339, -1.3788427841040845, 0.4481570242827706, -0.23192149556047384, -1.793900944752704, -0.6503177928618666, -1.2523592184401433, 0.9397745472901148, -1.2140853902232587, 1.3536707221874327, -2.2065900699338212, -0.2597360149080525, -1.4231111759501243, 1.3997148101941983, -0.8711159875276375, 0.1535439165088105, 0.6223667974799626, -0.5428449527751454, -0.40790956932452943, -0.74095035588002, 1.180243228006508, -1.2246704095828187, 0.5104837648637698, 0.45166433234461617, 0.021824417646521932, -0.1199772823884989, -0.6313062350478947, 0.8962458311228109, 0.8459257422214808, 0.40390475120466934, -0.7075908392741708, 1.6564340845542072, 0.5361952772128227, -0.07758458280582371, 1.2853799260053234, -0.7655843186082435, -0.47497301247656126, -1.1259800726037426, 0.19101899430261973, -1.827357574298033, -2.2013084050446086, 0.9194612052082188, 0.13767551508349066, -1.474381924958377, -0.8835121299482696, 0.15730940685310918, 0.22846581412701608, 0.7715085536815187, -1.1394219297866262, 0.15117704785432218, -0.5729191210052296, 0.8201939049808525, 0.1915501286014221, -0.6403217290879047, 0.6696931832935046, 0.5515620084580015, -0.44800211781238813, 0.5496148064169799, -0.33023177959341304, -0.3405279676130839, 1.9117164440223209, 0.27499941131265915, 0.48223764210266046, 0.6010465347356609, 0.3359623795070407, 0.8393356310861901, -1.1715806085723153, 0.3231670247779722, 0.23374619998387358, 1.206861746979094, -0.6443967282087286, 1.9062966496430345, 2.189933048739878, -0.01675318476017029, -0.014711562140090341, 0.7294260989680877, -1.4051167130267577, 1.7692353305949258], \"xaxis\": \"x14\", \"y\": [0.36658334448611524, 0.19845076220323576, -0.5651712027994558, 2.193577866173761, 1.5149948785886453, 1.6733520741671735, -1.1725004239501247, -1.1707014405700813, 1.2359990662291649, 0.19842120481922254, 0.7330485339994786, -0.8693083595099061, -0.5270413468799706, -1.354218913431506, -1.7685244077435833, -0.260314589462929, 0.30282326692474354, -0.2717067829910568, -1.2150409383619503, -0.2555709607571646, -0.05124075636918029, 1.8852519764268754, -1.601286850490827, 1.54072258436688, 0.3571339450518127, 0.10175361194820905, 1.7010011270831262, -0.8075249021394392, 0.9985264405480407, 2.3909015128456126, -1.818944665442849, 1.0942605179660203, 0.5607010732335282, 1.3624184981034404, 1.780995774836401, 1.7423040886955967, 0.39364260342716445, -1.2904760393544574, 0.45070832653871207, -0.10771508015659297, -0.2943301168013902, 0.3932242030301506, 1.0848668371554122, 0.1368611776492048, 0.8202827429670868, -0.2923089363193607, -1.4450748380215312, -1.4431674879988077, 0.9415490019443867, -0.48920417409841094, -0.6914636868574582, -0.3481772958397043, 1.0403129130513384, 1.5073119731677258, -0.04448455581151121, -1.4162702853379443, 1.6775212313123686, 0.9680065391411762, -1.059446987989666, -0.3633843198121292, 0.10456297098003199, 1.0742443032168776, 0.14146271989491305, 0.29668491474159064, 0.16422150420802972, -0.7101348857676307, -0.33599711095820306, -1.1118327374975754, -1.5426044057465307, -1.0698524813724384, -1.6008550676497943, 0.4258535835859018, -0.8565382307789904, -0.3344250668125585, -0.3245812261322852, 0.869651399432386, 1.5324236508167144, -1.0979129972793518, 0.8837655330739056, -1.4834538691705255, 0.2984133034622976, 0.9226592844372362, 0.4472688467531478, -0.19016849747466189, -0.40828103650485137, 2.521920124778835, -0.5723942629924068, 0.36807494520995543, -0.9663822982751383, -0.5784278949305642, -0.9298529129033023, -2.1240941747407684, 0.23853420572339354, 1.0258151572359666, 0.9330593686088765, 0.09828079449549484, 0.19886478752367762, -0.5353917624257729, 0.47265665142232643, -1.3887969384841345], \"yaxis\": \"y14\"}, {\"line\": {\"color\": \"rgba(128, 128, 128, 1.0)\", \"dash\": \"solid\", \"shape\": \"linear\", \"width\": 1.3}, \"marker\": {\"size\": 2, \"symbol\": \"circle\"}, \"mode\": \"markers\", \"name\": \"D\", \"text\": \"\", \"type\": \"scatter\", \"x\": [-1.6637658403871858, -0.657694686649294, 1.3059715178359503, -0.3149914691862647, -0.19740147661311008, -0.7262569294732033, -0.3723489729197542, -0.6218029304938382, 1.2635332476692993, 0.33355540120598637, 0.8648963919743383, 0.3866360975707411, 0.3155953078310076, 0.18153871384542808, 0.38243747455230664, 1.3018507017779704, -1.6493392399381743, 0.1435498441794928, -0.33487382215636274, 0.5974699883650271, -1.121250409459856, -0.3299784112379456, 0.6300607469165224, -0.021874398113414493, -1.140421242973153, -0.8342853458804352, -0.46687658894650796, -0.12006718098128669, 0.001794795971967873, 2.2334745742355744, -0.45532941432740776, 0.45369589492365353, 0.5715742551648502, 0.12999205451536372, 0.9798427403913135, -1.1013854499947524, 0.7451227517265764, -0.16558731642780355, -0.7578513959831613, 0.23148677932941697, 0.05291433736418039, 0.14120620024153313, -0.890361671499394, -0.5828256100210454, -0.26662291596413, 0.12680816802050154, -0.7996736330653782, 0.2829032455605437, 0.38365787558487613, 0.722823574532583, 0.9864283730373686, 0.7167756493371129, 0.7986176751538434, -0.26357220490136485, 0.5832744365822795, -0.39725346676339407, -0.2848428532723495, -1.062948231189015, 0.10343690022589565, -0.5260241153573986, -0.04513586070032704, 0.1568763359759615, -2.4793109380293026, -1.7262919520054156, -0.28309215653608133, -1.4292441498466897, -0.49299508967169486, 1.4690306914515092, -0.3720244126792224, 0.8530079426187204, 0.23232697689398335, 0.2232915630510586, 1.333059407449093, 0.4204088652819113, 0.2728601828302727, -1.5002908429312536, -0.03679699218171279, 1.03150319088492, -0.5333704521533563, -0.2241921679973938, -0.1348245531798344, 1.4790065301549309, -0.21286254648898834, -1.1138480435184028, -0.2871485553416153, -0.38214607242128873, 0.03953002115077242, -0.8995192117977602, 0.5898544614973151, -1.1280270782243411, -1.0017202034219947, 1.334528050829268, 0.2302117795420704, 2.2917553919395877, 0.38535825261604134, 0.4409141875158465, -0.8982601958634147, 1.456441925363782, -0.7066633678271631, 0.491245841413864], \"xaxis\": \"x15\", \"y\": [0.36658334448611524, 0.19845076220323576, -0.5651712027994558, 2.193577866173761, 1.5149948785886453, 1.6733520741671735, -1.1725004239501247, -1.1707014405700813, 1.2359990662291649, 0.19842120481922254, 0.7330485339994786, -0.8693083595099061, -0.5270413468799706, -1.354218913431506, -1.7685244077435833, -0.260314589462929, 0.30282326692474354, -0.2717067829910568, -1.2150409383619503, -0.2555709607571646, -0.05124075636918029, 1.8852519764268754, -1.601286850490827, 1.54072258436688, 0.3571339450518127, 0.10175361194820905, 1.7010011270831262, -0.8075249021394392, 0.9985264405480407, 2.3909015128456126, -1.818944665442849, 1.0942605179660203, 0.5607010732335282, 1.3624184981034404, 1.780995774836401, 1.7423040886955967, 0.39364260342716445, -1.2904760393544574, 0.45070832653871207, -0.10771508015659297, -0.2943301168013902, 0.3932242030301506, 1.0848668371554122, 0.1368611776492048, 0.8202827429670868, -0.2923089363193607, -1.4450748380215312, -1.4431674879988077, 0.9415490019443867, -0.48920417409841094, -0.6914636868574582, -0.3481772958397043, 1.0403129130513384, 1.5073119731677258, -0.04448455581151121, -1.4162702853379443, 1.6775212313123686, 0.9680065391411762, -1.059446987989666, -0.3633843198121292, 0.10456297098003199, 1.0742443032168776, 0.14146271989491305, 0.29668491474159064, 0.16422150420802972, -0.7101348857676307, -0.33599711095820306, -1.1118327374975754, -1.5426044057465307, -1.0698524813724384, -1.6008550676497943, 0.4258535835859018, -0.8565382307789904, -0.3344250668125585, -0.3245812261322852, 0.869651399432386, 1.5324236508167144, -1.0979129972793518, 0.8837655330739056, -1.4834538691705255, 0.2984133034622976, 0.9226592844372362, 0.4472688467531478, -0.19016849747466189, -0.40828103650485137, 2.521920124778835, -0.5723942629924068, 0.36807494520995543, -0.9663822982751383, -0.5784278949305642, -0.9298529129033023, -2.1240941747407684, 0.23853420572339354, 1.0258151572359666, 0.9330593686088765, 0.09828079449549484, 0.19886478752367762, -0.5353917624257729, 0.47265665142232643, -1.3887969384841345], \"yaxis\": \"y15\"}, {\"histfunc\": \"count\", \"histnorm\": \"\", \"marker\": {\"color\": \"rgba(128, 0, 128, 1.0)\", \"line\": {\"color\": \"#4D5663\", \"width\": 1.3}}, \"name\": \"D\", \"nbinsx\": 10, \"opacity\": 0.8, \"orientation\": \"v\", \"type\": \"histogram\", \"x\": [0.36658334448611524, 0.19845076220323576, -0.5651712027994558, 2.193577866173761, 1.5149948785886453, 1.6733520741671735, -1.1725004239501247, -1.1707014405700813, 1.2359990662291649, 0.19842120481922254, 0.7330485339994786, -0.8693083595099061, -0.5270413468799706, -1.354218913431506, -1.7685244077435833, -0.260314589462929, 0.30282326692474354, -0.2717067829910568, -1.2150409383619503, -0.2555709607571646, -0.05124075636918029, 1.8852519764268754, -1.601286850490827, 1.54072258436688, 0.3571339450518127, 0.10175361194820905, 1.7010011270831262, -0.8075249021394392, 0.9985264405480407, 2.3909015128456126, -1.818944665442849, 1.0942605179660203, 0.5607010732335282, 1.3624184981034404, 1.780995774836401, 1.7423040886955967, 0.39364260342716445, -1.2904760393544574, 0.45070832653871207, -0.10771508015659297, -0.2943301168013902, 0.3932242030301506, 1.0848668371554122, 0.1368611776492048, 0.8202827429670868, -0.2923089363193607, -1.4450748380215312, -1.4431674879988077, 0.9415490019443867, -0.48920417409841094, -0.6914636868574582, -0.3481772958397043, 1.0403129130513384, 1.5073119731677258, -0.04448455581151121, -1.4162702853379443, 1.6775212313123686, 0.9680065391411762, -1.059446987989666, -0.3633843198121292, 0.10456297098003199, 1.0742443032168776, 0.14146271989491305, 0.29668491474159064, 0.16422150420802972, -0.7101348857676307, -0.33599711095820306, -1.1118327374975754, -1.5426044057465307, -1.0698524813724384, -1.6008550676497943, 0.4258535835859018, -0.8565382307789904, -0.3344250668125585, -0.3245812261322852, 0.869651399432386, 1.5324236508167144, -1.0979129972793518, 0.8837655330739056, -1.4834538691705255, 0.2984133034622976, 0.9226592844372362, 0.4472688467531478, -0.19016849747466189, -0.40828103650485137, 2.521920124778835, -0.5723942629924068, 0.36807494520995543, -0.9663822982751383, -0.5784278949305642, -0.9298529129033023, -2.1240941747407684, 0.23853420572339354, 1.0258151572359666, 0.9330593686088765, 0.09828079449549484, 0.19886478752367762, -0.5353917624257729, 0.47265665142232643, -1.3887969384841345], \"xaxis\": \"x16\", \"yaxis\": \"y16\"}],                        {\"bargap\": 0.02, \"legend\": {\"bgcolor\": \"#F5F6F9\", \"font\": {\"color\": \"#4D5663\"}}, \"paper_bgcolor\": \"#F5F6F9\", \"plot_bgcolor\": \"#F5F6F9\", \"showlegend\": false, \"template\": {\"data\": {\"bar\": [{\"error_x\": {\"color\": \"#2a3f5f\"}, \"error_y\": {\"color\": \"#2a3f5f\"}, \"marker\": {\"line\": {\"color\": \"#E5ECF6\", \"width\": 0.5}}, \"type\": \"bar\"}], \"barpolar\": [{\"marker\": {\"line\": {\"color\": \"#E5ECF6\", \"width\": 0.5}}, \"type\": \"barpolar\"}], \"carpet\": [{\"aaxis\": {\"endlinecolor\": \"#2a3f5f\", \"gridcolor\": \"white\", \"linecolor\": \"white\", \"minorgridcolor\": \"white\", \"startlinecolor\": \"#2a3f5f\"}, \"baxis\": {\"endlinecolor\": \"#2a3f5f\", \"gridcolor\": \"white\", \"linecolor\": \"white\", \"minorgridcolor\": \"white\", \"startlinecolor\": \"#2a3f5f\"}, \"type\": \"carpet\"}], \"choropleth\": [{\"colorbar\": {\"outlinewidth\": 0, \"ticks\": \"\"}, \"type\": \"choropleth\"}], \"contour\": [{\"colorbar\": {\"outlinewidth\": 0, \"ticks\": \"\"}, \"colorscale\": [[0.0, \"#0d0887\"], [0.1111111111111111, \"#46039f\"], [0.2222222222222222, \"#7201a8\"], [0.3333333333333333, \"#9c179e\"], [0.4444444444444444, \"#bd3786\"], [0.5555555555555556, \"#d8576b\"], [0.6666666666666666, \"#ed7953\"], [0.7777777777777778, \"#fb9f3a\"], [0.8888888888888888, \"#fdca26\"], [1.0, \"#f0f921\"]], \"type\": \"contour\"}], \"contourcarpet\": [{\"colorbar\": {\"outlinewidth\": 0, \"ticks\": \"\"}, \"type\": \"contourcarpet\"}], \"heatmap\": [{\"colorbar\": {\"outlinewidth\": 0, \"ticks\": \"\"}, \"colorscale\": [[0.0, \"#0d0887\"], [0.1111111111111111, \"#46039f\"], [0.2222222222222222, \"#7201a8\"], [0.3333333333333333, \"#9c179e\"], [0.4444444444444444, \"#bd3786\"], [0.5555555555555556, \"#d8576b\"], [0.6666666666666666, \"#ed7953\"], [0.7777777777777778, \"#fb9f3a\"], [0.8888888888888888, \"#fdca26\"], [1.0, \"#f0f921\"]], \"type\": \"heatmap\"}], \"heatmapgl\": [{\"colorbar\": {\"outlinewidth\": 0, \"ticks\": \"\"}, \"colorscale\": [[0.0, \"#0d0887\"], [0.1111111111111111, \"#46039f\"], [0.2222222222222222, \"#7201a8\"], [0.3333333333333333, \"#9c179e\"], [0.4444444444444444, \"#bd3786\"], [0.5555555555555556, \"#d8576b\"], [0.6666666666666666, \"#ed7953\"], [0.7777777777777778, \"#fb9f3a\"], [0.8888888888888888, \"#fdca26\"], [1.0, \"#f0f921\"]], \"type\": \"heatmapgl\"}], \"histogram\": [{\"marker\": {\"colorbar\": {\"outlinewidth\": 0, \"ticks\": \"\"}}, \"type\": \"histogram\"}], \"histogram2d\": [{\"colorbar\": {\"outlinewidth\": 0, \"ticks\": \"\"}, \"colorscale\": [[0.0, \"#0d0887\"], [0.1111111111111111, \"#46039f\"], [0.2222222222222222, \"#7201a8\"], [0.3333333333333333, \"#9c179e\"], [0.4444444444444444, \"#bd3786\"], [0.5555555555555556, \"#d8576b\"], [0.6666666666666666, \"#ed7953\"], [0.7777777777777778, \"#fb9f3a\"], [0.8888888888888888, \"#fdca26\"], [1.0, \"#f0f921\"]], \"type\": \"histogram2d\"}], \"histogram2dcontour\": [{\"colorbar\": {\"outlinewidth\": 0, \"ticks\": \"\"}, \"colorscale\": [[0.0, \"#0d0887\"], [0.1111111111111111, \"#46039f\"], [0.2222222222222222, \"#7201a8\"], [0.3333333333333333, \"#9c179e\"], [0.4444444444444444, \"#bd3786\"], [0.5555555555555556, \"#d8576b\"], [0.6666666666666666, \"#ed7953\"], [0.7777777777777778, \"#fb9f3a\"], [0.8888888888888888, \"#fdca26\"], [1.0, \"#f0f921\"]], \"type\": \"histogram2dcontour\"}], \"mesh3d\": [{\"colorbar\": {\"outlinewidth\": 0, \"ticks\": \"\"}, \"type\": \"mesh3d\"}], \"parcoords\": [{\"line\": {\"colorbar\": {\"outlinewidth\": 0, \"ticks\": \"\"}}, \"type\": \"parcoords\"}], \"pie\": [{\"automargin\": true, \"type\": \"pie\"}], \"scatter\": [{\"marker\": {\"colorbar\": {\"outlinewidth\": 0, \"ticks\": \"\"}}, \"type\": \"scatter\"}], \"scatter3d\": [{\"line\": {\"colorbar\": {\"outlinewidth\": 0, \"ticks\": \"\"}}, \"marker\": {\"colorbar\": {\"outlinewidth\": 0, \"ticks\": \"\"}}, \"type\": \"scatter3d\"}], \"scattercarpet\": [{\"marker\": {\"colorbar\": {\"outlinewidth\": 0, \"ticks\": \"\"}}, \"type\": \"scattercarpet\"}], \"scattergeo\": [{\"marker\": {\"colorbar\": {\"outlinewidth\": 0, \"ticks\": \"\"}}, \"type\": \"scattergeo\"}], \"scattergl\": [{\"marker\": {\"colorbar\": {\"outlinewidth\": 0, \"ticks\": \"\"}}, \"type\": \"scattergl\"}], \"scattermapbox\": [{\"marker\": {\"colorbar\": {\"outlinewidth\": 0, \"ticks\": \"\"}}, \"type\": \"scattermapbox\"}], \"scatterpolar\": [{\"marker\": {\"colorbar\": {\"outlinewidth\": 0, \"ticks\": \"\"}}, \"type\": \"scatterpolar\"}], \"scatterpolargl\": [{\"marker\": {\"colorbar\": {\"outlinewidth\": 0, \"ticks\": \"\"}}, \"type\": \"scatterpolargl\"}], \"scatterternary\": [{\"marker\": {\"colorbar\": {\"outlinewidth\": 0, \"ticks\": \"\"}}, \"type\": \"scatterternary\"}], \"surface\": [{\"colorbar\": {\"outlinewidth\": 0, \"ticks\": \"\"}, \"colorscale\": [[0.0, \"#0d0887\"], [0.1111111111111111, \"#46039f\"], [0.2222222222222222, \"#7201a8\"], [0.3333333333333333, \"#9c179e\"], [0.4444444444444444, \"#bd3786\"], [0.5555555555555556, \"#d8576b\"], [0.6666666666666666, \"#ed7953\"], [0.7777777777777778, \"#fb9f3a\"], [0.8888888888888888, \"#fdca26\"], [1.0, \"#f0f921\"]], \"type\": \"surface\"}], \"table\": [{\"cells\": {\"fill\": {\"color\": \"#EBF0F8\"}, \"line\": {\"color\": \"white\"}}, \"header\": {\"fill\": {\"color\": \"#C8D4E3\"}, \"line\": {\"color\": \"white\"}}, \"type\": \"table\"}]}, \"layout\": {\"annotationdefaults\": {\"arrowcolor\": \"#2a3f5f\", \"arrowhead\": 0, \"arrowwidth\": 1}, \"coloraxis\": {\"colorbar\": {\"outlinewidth\": 0, \"ticks\": \"\"}}, \"colorscale\": {\"diverging\": [[0, \"#8e0152\"], [0.1, \"#c51b7d\"], [0.2, \"#de77ae\"], [0.3, \"#f1b6da\"], [0.4, \"#fde0ef\"], [0.5, \"#f7f7f7\"], [0.6, \"#e6f5d0\"], [0.7, \"#b8e186\"], [0.8, \"#7fbc41\"], [0.9, \"#4d9221\"], [1, \"#276419\"]], \"sequential\": [[0.0, \"#0d0887\"], [0.1111111111111111, \"#46039f\"], [0.2222222222222222, \"#7201a8\"], [0.3333333333333333, \"#9c179e\"], [0.4444444444444444, \"#bd3786\"], [0.5555555555555556, \"#d8576b\"], [0.6666666666666666, \"#ed7953\"], [0.7777777777777778, \"#fb9f3a\"], [0.8888888888888888, \"#fdca26\"], [1.0, \"#f0f921\"]], \"sequentialminus\": [[0.0, \"#0d0887\"], [0.1111111111111111, \"#46039f\"], [0.2222222222222222, \"#7201a8\"], [0.3333333333333333, \"#9c179e\"], [0.4444444444444444, \"#bd3786\"], [0.5555555555555556, \"#d8576b\"], [0.6666666666666666, \"#ed7953\"], [0.7777777777777778, \"#fb9f3a\"], [0.8888888888888888, \"#fdca26\"], [1.0, \"#f0f921\"]]}, \"colorway\": [\"#636efa\", \"#EF553B\", \"#00cc96\", \"#ab63fa\", \"#FFA15A\", \"#19d3f3\", \"#FF6692\", \"#B6E880\", \"#FF97FF\", \"#FECB52\"], \"font\": {\"color\": \"#2a3f5f\"}, \"geo\": {\"bgcolor\": \"white\", \"lakecolor\": \"white\", \"landcolor\": \"#E5ECF6\", \"showlakes\": true, \"showland\": true, \"subunitcolor\": \"white\"}, \"hoverlabel\": {\"align\": \"left\"}, \"hovermode\": \"closest\", \"mapbox\": {\"style\": \"light\"}, \"paper_bgcolor\": \"white\", \"plot_bgcolor\": \"#E5ECF6\", \"polar\": {\"angularaxis\": {\"gridcolor\": \"white\", \"linecolor\": \"white\", \"ticks\": \"\"}, \"bgcolor\": \"#E5ECF6\", \"radialaxis\": {\"gridcolor\": \"white\", \"linecolor\": \"white\", \"ticks\": \"\"}}, \"scene\": {\"xaxis\": {\"backgroundcolor\": \"#E5ECF6\", \"gridcolor\": \"white\", \"gridwidth\": 2, \"linecolor\": \"white\", \"showbackground\": true, \"ticks\": \"\", \"zerolinecolor\": \"white\"}, \"yaxis\": {\"backgroundcolor\": \"#E5ECF6\", \"gridcolor\": \"white\", \"gridwidth\": 2, \"linecolor\": \"white\", \"showbackground\": true, \"ticks\": \"\", \"zerolinecolor\": \"white\"}, \"zaxis\": {\"backgroundcolor\": \"#E5ECF6\", \"gridcolor\": \"white\", \"gridwidth\": 2, \"linecolor\": \"white\", \"showbackground\": true, \"ticks\": \"\", \"zerolinecolor\": \"white\"}}, \"shapedefaults\": {\"line\": {\"color\": \"#2a3f5f\"}}, \"ternary\": {\"aaxis\": {\"gridcolor\": \"white\", \"linecolor\": \"white\", \"ticks\": \"\"}, \"baxis\": {\"gridcolor\": \"white\", \"linecolor\": \"white\", \"ticks\": \"\"}, \"bgcolor\": \"#E5ECF6\", \"caxis\": {\"gridcolor\": \"white\", \"linecolor\": \"white\", \"ticks\": \"\"}}, \"title\": {\"x\": 0.05}, \"xaxis\": {\"automargin\": true, \"gridcolor\": \"white\", \"linecolor\": \"white\", \"ticks\": \"\", \"title\": {\"standoff\": 15}, \"zerolinecolor\": \"white\", \"zerolinewidth\": 2}, \"yaxis\": {\"automargin\": true, \"gridcolor\": \"white\", \"linecolor\": \"white\", \"ticks\": \"\", \"title\": {\"standoff\": 15}, \"zerolinecolor\": \"white\", \"zerolinewidth\": 2}}}, \"title\": {\"font\": {\"color\": \"#4D5663\"}}, \"xaxis\": {\"anchor\": \"y\", \"domain\": [0.0, 0.2125], \"gridcolor\": \"#E1E5ED\", \"showgrid\": false, \"tickfont\": {\"color\": \"#4D5663\"}, \"title\": {\"font\": {\"color\": \"#4D5663\"}, \"text\": \"\"}, \"zerolinecolor\": \"#E1E5ED\"}, \"xaxis10\": {\"anchor\": \"y10\", \"domain\": [0.2625, 0.475], \"gridcolor\": \"#E1E5ED\", \"showgrid\": false, \"tickfont\": {\"color\": \"#4D5663\"}, \"title\": {\"font\": {\"color\": \"#4D5663\"}, \"text\": \"\"}, \"zerolinecolor\": \"#E1E5ED\"}, \"xaxis11\": {\"anchor\": \"y11\", \"domain\": [0.525, 0.7375], \"gridcolor\": \"#E1E5ED\", \"showgrid\": false, \"tickfont\": {\"color\": \"#4D5663\"}, \"title\": {\"font\": {\"color\": \"#4D5663\"}, \"text\": \"\"}, \"zerolinecolor\": \"#E1E5ED\"}, \"xaxis12\": {\"anchor\": \"y12\", \"domain\": [0.7875, 1.0], \"gridcolor\": \"#E1E5ED\", \"showgrid\": false, \"tickfont\": {\"color\": \"#4D5663\"}, \"title\": {\"font\": {\"color\": \"#4D5663\"}, \"text\": \"\"}, \"zerolinecolor\": \"#E1E5ED\"}, \"xaxis13\": {\"anchor\": \"y13\", \"domain\": [0.0, 0.2125], \"gridcolor\": \"#E1E5ED\", \"showgrid\": false, \"tickfont\": {\"color\": \"#4D5663\"}, \"title\": {\"font\": {\"color\": \"#4D5663\"}, \"text\": \"\"}, \"zerolinecolor\": \"#E1E5ED\"}, \"xaxis14\": {\"anchor\": \"y14\", \"domain\": [0.2625, 0.475], \"gridcolor\": \"#E1E5ED\", \"showgrid\": false, \"tickfont\": {\"color\": \"#4D5663\"}, \"title\": {\"font\": {\"color\": \"#4D5663\"}, \"text\": \"\"}, \"zerolinecolor\": \"#E1E5ED\"}, \"xaxis15\": {\"anchor\": \"y15\", \"domain\": [0.525, 0.7375], \"gridcolor\": \"#E1E5ED\", \"showgrid\": false, \"tickfont\": {\"color\": \"#4D5663\"}, \"title\": {\"font\": {\"color\": \"#4D5663\"}, \"text\": \"\"}, \"zerolinecolor\": \"#E1E5ED\"}, \"xaxis16\": {\"anchor\": \"y16\", \"domain\": [0.7875, 1.0], \"gridcolor\": \"#E1E5ED\", \"showgrid\": false, \"tickfont\": {\"color\": \"#4D5663\"}, \"title\": {\"font\": {\"color\": \"#4D5663\"}, \"text\": \"\"}, \"zerolinecolor\": \"#E1E5ED\"}, \"xaxis2\": {\"anchor\": \"y2\", \"domain\": [0.2625, 0.475], \"gridcolor\": \"#E1E5ED\", \"showgrid\": false, \"tickfont\": {\"color\": \"#4D5663\"}, \"title\": {\"font\": {\"color\": \"#4D5663\"}, \"text\": \"\"}, \"zerolinecolor\": \"#E1E5ED\"}, \"xaxis3\": {\"anchor\": \"y3\", \"domain\": [0.525, 0.7375], \"gridcolor\": \"#E1E5ED\", \"showgrid\": false, \"tickfont\": {\"color\": \"#4D5663\"}, \"title\": {\"font\": {\"color\": \"#4D5663\"}, \"text\": \"\"}, \"zerolinecolor\": \"#E1E5ED\"}, \"xaxis4\": {\"anchor\": \"y4\", \"domain\": [0.7875, 1.0], \"gridcolor\": \"#E1E5ED\", \"showgrid\": false, \"tickfont\": {\"color\": \"#4D5663\"}, \"title\": {\"font\": {\"color\": \"#4D5663\"}, \"text\": \"\"}, \"zerolinecolor\": \"#E1E5ED\"}, \"xaxis5\": {\"anchor\": \"y5\", \"domain\": [0.0, 0.2125], \"gridcolor\": \"#E1E5ED\", \"showgrid\": false, \"tickfont\": {\"color\": \"#4D5663\"}, \"title\": {\"font\": {\"color\": \"#4D5663\"}, \"text\": \"\"}, \"zerolinecolor\": \"#E1E5ED\"}, \"xaxis6\": {\"anchor\": \"y6\", \"domain\": [0.2625, 0.475], \"gridcolor\": \"#E1E5ED\", \"showgrid\": false, \"tickfont\": {\"color\": \"#4D5663\"}, \"title\": {\"font\": {\"color\": \"#4D5663\"}, \"text\": \"\"}, \"zerolinecolor\": \"#E1E5ED\"}, \"xaxis7\": {\"anchor\": \"y7\", \"domain\": [0.525, 0.7375], \"gridcolor\": \"#E1E5ED\", \"showgrid\": false, \"tickfont\": {\"color\": \"#4D5663\"}, \"title\": {\"font\": {\"color\": \"#4D5663\"}, \"text\": \"\"}, \"zerolinecolor\": \"#E1E5ED\"}, \"xaxis8\": {\"anchor\": \"y8\", \"domain\": [0.7875, 1.0], \"gridcolor\": \"#E1E5ED\", \"showgrid\": false, \"tickfont\": {\"color\": \"#4D5663\"}, \"title\": {\"font\": {\"color\": \"#4D5663\"}, \"text\": \"\"}, \"zerolinecolor\": \"#E1E5ED\"}, \"xaxis9\": {\"anchor\": \"y9\", \"domain\": [0.0, 0.2125], \"gridcolor\": \"#E1E5ED\", \"showgrid\": false, \"tickfont\": {\"color\": \"#4D5663\"}, \"title\": {\"font\": {\"color\": \"#4D5663\"}, \"text\": \"\"}, \"zerolinecolor\": \"#E1E5ED\"}, \"yaxis\": {\"anchor\": \"x\", \"domain\": [0.8025, 1.0], \"gridcolor\": \"#E1E5ED\", \"showgrid\": false, \"tickfont\": {\"color\": \"#4D5663\"}, \"title\": {\"font\": {\"color\": \"#4D5663\"}, \"text\": \"\"}, \"zerolinecolor\": \"#E1E5ED\"}, \"yaxis10\": {\"anchor\": \"x10\", \"domain\": [0.2675, 0.465], \"gridcolor\": \"#E1E5ED\", \"showgrid\": false, \"tickfont\": {\"color\": \"#4D5663\"}, \"title\": {\"font\": {\"color\": \"#4D5663\"}, \"text\": \"\"}, \"zerolinecolor\": \"#E1E5ED\"}, \"yaxis11\": {\"anchor\": \"x11\", \"domain\": [0.2675, 0.465], \"gridcolor\": \"#E1E5ED\", \"showgrid\": false, \"tickfont\": {\"color\": \"#4D5663\"}, \"title\": {\"font\": {\"color\": \"#4D5663\"}, \"text\": \"\"}, \"zerolinecolor\": \"#E1E5ED\"}, \"yaxis12\": {\"anchor\": \"x12\", \"domain\": [0.2675, 0.465], \"gridcolor\": \"#E1E5ED\", \"showgrid\": false, \"tickfont\": {\"color\": \"#4D5663\"}, \"title\": {\"font\": {\"color\": \"#4D5663\"}, \"text\": \"\"}, \"zerolinecolor\": \"#E1E5ED\"}, \"yaxis13\": {\"anchor\": \"x13\", \"domain\": [0.0, 0.1975], \"gridcolor\": \"#E1E5ED\", \"showgrid\": false, \"tickfont\": {\"color\": \"#4D5663\"}, \"title\": {\"font\": {\"color\": \"#4D5663\"}, \"text\": \"\"}, \"zerolinecolor\": \"#E1E5ED\"}, \"yaxis14\": {\"anchor\": \"x14\", \"domain\": [0.0, 0.1975], \"gridcolor\": \"#E1E5ED\", \"showgrid\": false, \"tickfont\": {\"color\": \"#4D5663\"}, \"title\": {\"font\": {\"color\": \"#4D5663\"}, \"text\": \"\"}, \"zerolinecolor\": \"#E1E5ED\"}, \"yaxis15\": {\"anchor\": \"x15\", \"domain\": [0.0, 0.1975], \"gridcolor\": \"#E1E5ED\", \"showgrid\": false, \"tickfont\": {\"color\": \"#4D5663\"}, \"title\": {\"font\": {\"color\": \"#4D5663\"}, \"text\": \"\"}, \"zerolinecolor\": \"#E1E5ED\"}, \"yaxis16\": {\"anchor\": \"x16\", \"domain\": [0.0, 0.1975], \"gridcolor\": \"#E1E5ED\", \"showgrid\": false, \"tickfont\": {\"color\": \"#4D5663\"}, \"title\": {\"font\": {\"color\": \"#4D5663\"}, \"text\": \"\"}, \"zerolinecolor\": \"#E1E5ED\"}, \"yaxis2\": {\"anchor\": \"x2\", \"domain\": [0.8025, 1.0], \"gridcolor\": \"#E1E5ED\", \"showgrid\": false, \"tickfont\": {\"color\": \"#4D5663\"}, \"title\": {\"font\": {\"color\": \"#4D5663\"}, \"text\": \"\"}, \"zerolinecolor\": \"#E1E5ED\"}, \"yaxis3\": {\"anchor\": \"x3\", \"domain\": [0.8025, 1.0], \"gridcolor\": \"#E1E5ED\", \"showgrid\": false, \"tickfont\": {\"color\": \"#4D5663\"}, \"title\": {\"font\": {\"color\": \"#4D5663\"}, \"text\": \"\"}, \"zerolinecolor\": \"#E1E5ED\"}, \"yaxis4\": {\"anchor\": \"x4\", \"domain\": [0.8025, 1.0], \"gridcolor\": \"#E1E5ED\", \"showgrid\": false, \"tickfont\": {\"color\": \"#4D5663\"}, \"title\": {\"font\": {\"color\": \"#4D5663\"}, \"text\": \"\"}, \"zerolinecolor\": \"#E1E5ED\"}, \"yaxis5\": {\"anchor\": \"x5\", \"domain\": [0.535, 0.7325], \"gridcolor\": \"#E1E5ED\", \"showgrid\": false, \"tickfont\": {\"color\": \"#4D5663\"}, \"title\": {\"font\": {\"color\": \"#4D5663\"}, \"text\": \"\"}, \"zerolinecolor\": \"#E1E5ED\"}, \"yaxis6\": {\"anchor\": \"x6\", \"domain\": [0.535, 0.7325], \"gridcolor\": \"#E1E5ED\", \"showgrid\": false, \"tickfont\": {\"color\": \"#4D5663\"}, \"title\": {\"font\": {\"color\": \"#4D5663\"}, \"text\": \"\"}, \"zerolinecolor\": \"#E1E5ED\"}, \"yaxis7\": {\"anchor\": \"x7\", \"domain\": [0.535, 0.7325], \"gridcolor\": \"#E1E5ED\", \"showgrid\": false, \"tickfont\": {\"color\": \"#4D5663\"}, \"title\": {\"font\": {\"color\": \"#4D5663\"}, \"text\": \"\"}, \"zerolinecolor\": \"#E1E5ED\"}, \"yaxis8\": {\"anchor\": \"x8\", \"domain\": [0.535, 0.7325], \"gridcolor\": \"#E1E5ED\", \"showgrid\": false, \"tickfont\": {\"color\": \"#4D5663\"}, \"title\": {\"font\": {\"color\": \"#4D5663\"}, \"text\": \"\"}, \"zerolinecolor\": \"#E1E5ED\"}, \"yaxis9\": {\"anchor\": \"x9\", \"domain\": [0.2675, 0.465], \"gridcolor\": \"#E1E5ED\", \"showgrid\": false, \"tickfont\": {\"color\": \"#4D5663\"}, \"title\": {\"font\": {\"color\": \"#4D5663\"}, \"text\": \"\"}, \"zerolinecolor\": \"#E1E5ED\"}},                        {\"showLink\": true, \"linkText\": \"Export to plot.ly\", \"plotlyServerURL\": \"https://plot.ly\", \"responsive\": true}                    ).then(function(){\n",
       "                            \n",
       "var gd = document.getElementById('4878c9c9-508d-4218-806d-edbcb1825bd0');\n",
       "var x = new MutationObserver(function (mutations, observer) {{\n",
       "        var display = window.getComputedStyle(gd).display;\n",
       "        if (!display || display === 'none') {{\n",
       "            console.log([gd, 'removed!']);\n",
       "            Plotly.purge(gd);\n",
       "            observer.disconnect();\n",
       "        }}\n",
       "}});\n",
       "\n",
       "// Listen for the removal of the full notebook cells\n",
       "var notebookContainer = gd.closest('#notebook-container');\n",
       "if (notebookContainer) {{\n",
       "    x.observe(notebookContainer, {childList: true});\n",
       "}}\n",
       "\n",
       "// Listen for the clearing of the current output cell\n",
       "var outputEl = gd.closest('.output');\n",
       "if (outputEl) {{\n",
       "    x.observe(outputEl, {childList: true});\n",
       "}}\n",
       "\n",
       "                        })                };                });            </script>        </div>"
      ]
     },
     "metadata": {},
     "output_type": "display_data"
    }
   ],
   "source": [
    "df.scatter_matrix()"
   ]
  },
  {
   "cell_type": "markdown",
   "metadata": {
    "collapsed": true
   },
   "source": [
    "# Great Job!"
   ]
  }
 ],
 "metadata": {
  "kernelspec": {
   "display_name": "Python 3",
   "language": "python",
   "name": "python3"
  },
  "language_info": {
   "codemirror_mode": {
    "name": "ipython",
    "version": 3
   },
   "file_extension": ".py",
   "mimetype": "text/x-python",
   "name": "python",
   "nbconvert_exporter": "python",
   "pygments_lexer": "ipython3",
   "version": "3.8.3"
  }
 },
 "nbformat": 4,
 "nbformat_minor": 1
}
